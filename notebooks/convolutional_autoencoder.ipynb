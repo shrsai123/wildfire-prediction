{
 "metadata": {
  "kernelspec": {
   "name": "python3",
   "display_name": "Python 3",
   "language": "python"
  },
  "language_info": {
   "name": "python",
   "version": "3.11.11",
   "mimetype": "text/x-python",
   "codemirror_mode": {
    "name": "ipython",
    "version": 3
   },
   "pygments_lexer": "ipython3",
   "nbconvert_exporter": "python",
   "file_extension": ".py"
  },
  "colab": {
   "provenance": [],
   "gpuType": "T4"
  },
  "accelerator": "GPU",
  "kaggle": {
   "accelerator": "nvidiaTeslaT4",
   "dataSources": [],
   "dockerImageVersionId": 31011,
   "isInternetEnabled": true,
   "language": "python",
   "sourceType": "notebook",
   "isGpuEnabled": true
  }
 },
 "nbformat_minor": 4,
 "nbformat": 4,
 "cells": [
  {
   "cell_type": "markdown",
   "source": "## Load Data",
   "metadata": {}
  },
  {
   "cell_type": "code",
   "source": [
    "import re\n",
    "from typing import Dict, List, Text, Tuple\n",
    "\n",
    "import matplotlib.pyplot as plt\n",
    "from matplotlib import colors\n",
    "\n",
    "from tqdm import tqdm\n",
    "\n",
    "import numpy as np\n",
    "import tensorflow as tf\n",
    "\n",
    "from tensorflow.keras.layers import Conv2D, Conv2DTranspose, Concatenate, Input, BatchNormalization\n",
    "import torch\n",
    "from torch.utils.data import Dataset, DataLoader"
   ],
   "metadata": {
    "id": "6aELcsMKMAxl",
    "trusted": true,
    "execution": {
     "iopub.status.busy": "2025-04-22T14:54:28.538181Z",
     "iopub.execute_input": "2025-04-22T14:54:28.538714Z",
     "iopub.status.idle": "2025-04-22T14:54:45.764445Z",
     "shell.execute_reply.started": "2025-04-22T14:54:28.538689Z",
     "shell.execute_reply": "2025-04-22T14:54:45.763829Z"
    },
    "ExecuteTime": {
     "end_time": "2025-04-24T20:01:34.344559Z",
     "start_time": "2025-04-24T20:01:27.700786Z"
    }
   },
   "outputs": [],
   "execution_count": 1
  },
  {
   "cell_type": "code",
   "source": "INPUT_FEATURES = ['elevation', 'th', 'vs',  'tmmn', 'tmmx', 'sph',\n                  'pr', 'pdsi', 'NDVI', 'population', 'erc', 'PrevFireMask']\nOUTPUT_FEATURES = ['FireMask']\n",
   "metadata": {
    "id": "ShGF_tfqMHt3",
    "trusted": true,
    "execution": {
     "iopub.status.busy": "2025-04-22T14:54:50.474589Z",
     "iopub.execute_input": "2025-04-22T14:54:50.475222Z",
     "iopub.status.idle": "2025-04-22T14:54:50.479350Z",
     "shell.execute_reply.started": "2025-04-22T14:54:50.475195Z",
     "shell.execute_reply": "2025-04-22T14:54:50.478572Z"
    }
   },
   "outputs": [],
   "execution_count": 6
  },
  {
   "cell_type": "code",
   "source": "train_file = '../data/next_day_wildfire_spread_train*'\nvalidation_file = '../data/next_day_wildfire_spread_eval*'\ntest_file = '../data/next_day_wildfire_spread_test*'",
   "metadata": {
    "trusted": true
   },
   "outputs": [],
   "execution_count": null
  },
  {
   "cell_type": "code",
   "source": "def normalize_feature(feature, feature_name):\n    \"\"\" Normalize features except 'PrevFireMask'. \"\"\"\n    if feature_name == 'PrevFireMask':\n        return feature\n    else:\n        return (feature - tf.reduce_mean(feature)) / (tf.math.reduce_std(feature) + 1e-6)\n\ndef _parse_function(example_proto):\n    \"\"\" Parses TFRecord into tensors and normalizes features. \"\"\"\n    feature_description = {feat: tf.io.FixedLenFeature([64, 64], tf.float32) for feat in INPUT_FEATURES + OUTPUT_FEATURES}\n\n    parsed_example = tf.io.parse_single_example(example_proto, feature_description)\n\n    inputs_list = [normalize_feature(tf.expand_dims(parsed_example[feat], -1), feat) for feat in INPUT_FEATURES]\n    inputs = tf.concat(inputs_list, axis=-1)  # Convert to NumPy\n\n    label = tf.expand_dims(parsed_example['FireMask'], -1)  # Shape: [64, 64, 1]\n    label = tf.where(label < 0, 0.0, label)\n    label = tf.where(label > 0, 1.0, label)\n\n    return inputs, label",
   "metadata": {
    "id": "Z61fEJa6MQMZ",
    "trusted": true,
    "execution": {
     "iopub.status.busy": "2025-04-22T14:54:58.779101Z",
     "iopub.execute_input": "2025-04-22T14:54:58.779751Z",
     "iopub.status.idle": "2025-04-22T14:54:58.784999Z",
     "shell.execute_reply.started": "2025-04-22T14:54:58.779728Z",
     "shell.execute_reply": "2025-04-22T14:54:58.784320Z"
    }
   },
   "outputs": [],
   "execution_count": 10
  },
  {
   "cell_type": "code",
   "source": "class WildfireDataset(Dataset):\n    def __init__(self, tf_dataset):\n        self.data = list(tf_dataset.as_numpy_iterator()) # Correctly iterate over the dataset\n\n\n    def __len__(self):\n        \"\"\" Return dataset size. \"\"\"\n        return len(self.data)\n\n    def __getitem__(self, idx):\n        \"\"\" Get a single sample. \"\"\"\n        inputs, label = self.data[idx]\n        # inputs = torch.tensor(inputs, dtype=torch.float32)  # Convert to PyTorch tensor\n        # label = torch.tensor(label, dtype=torch.float32)\n        inputs = torch.tensor(inputs, dtype=torch.float32).permute(2, 0, 1)  # [H, W, C] → [C, H, W]\n        label = torch.tensor(label, dtype=torch.float32).permute(2, 0, 1)       # [H, W, 1] → [1, H, W] if needed\n\n        return inputs, label\n",
   "metadata": {
    "id": "LuOqMgyqMYjf",
    "trusted": true,
    "execution": {
     "iopub.status.busy": "2025-04-22T14:55:01.751202Z",
     "iopub.execute_input": "2025-04-22T14:55:01.751486Z",
     "iopub.status.idle": "2025-04-22T14:55:01.756430Z",
     "shell.execute_reply.started": "2025-04-22T14:55:01.751466Z",
     "shell.execute_reply": "2025-04-22T14:55:01.755807Z"
    }
   },
   "outputs": [],
   "execution_count": 11
  },
  {
   "cell_type": "code",
   "source": "def get_tensorflow_dataset(file_pattern):\n    dataset = tf.data.Dataset.list_files(file_pattern)\n    dataset = dataset.interleave(lambda x: tf.data.TFRecordDataset(x), num_parallel_calls=tf.data.AUTOTUNE)\n    dataset = dataset.map(_parse_function, num_parallel_calls=tf.data.AUTOTUNE)\n    return dataset\n\n# Convert train, validation, and test datasets\ntrain_numpy = get_tensorflow_dataset(train_file)\nval_numpy = get_tensorflow_dataset(validation_file)\ntest_numpy = get_tensorflow_dataset(test_file)\n\n# Create PyTorch datasets\ntrain_dataset = WildfireDataset(train_numpy)\nval_dataset = WildfireDataset(val_numpy)\ntest_dataset = WildfireDataset(test_numpy)",
   "metadata": {
    "id": "k-gAaqIWMhFS",
    "trusted": true,
    "execution": {
     "iopub.status.busy": "2025-04-22T14:55:04.554922Z",
     "iopub.execute_input": "2025-04-22T14:55:04.555187Z",
     "iopub.status.idle": "2025-04-22T14:55:16.981909Z",
     "shell.execute_reply.started": "2025-04-22T14:55:04.555167Z",
     "shell.execute_reply": "2025-04-22T14:55:16.981104Z"
    }
   },
   "outputs": [
    {
     "name": "stderr",
     "text": "I0000 00:00:1745333704.954020      31 gpu_device.cc:2022] Created device /job:localhost/replica:0/task:0/device:GPU:0 with 13942 MB memory:  -> device: 0, name: Tesla T4, pci bus id: 0000:00:04.0, compute capability: 7.5\nI0000 00:00:1745333704.954758      31 gpu_device.cc:2022] Created device /job:localhost/replica:0/task:0/device:GPU:1 with 13942 MB memory:  -> device: 1, name: Tesla T4, pci bus id: 0000:00:05.0, compute capability: 7.5\n",
     "output_type": "stream"
    }
   ],
   "execution_count": 12
  },
  {
   "cell_type": "code",
   "source": "BATCH_SIZE = 32\n\ntrain_loader = DataLoader(train_dataset, batch_size=BATCH_SIZE, shuffle=True)\nval_loader = DataLoader(val_dataset, batch_size=BATCH_SIZE, shuffle=False)\ntest_loader = DataLoader(test_dataset, batch_size=BATCH_SIZE, shuffle=False)\n\n# Example batch\nfor inputs, labels in test_loader:\n    print(inputs.shape, labels.shape)  # Expected: [batch_size, 64, 64, num_features], [batch_size, 64, 64, 1]\n    break",
   "metadata": {
    "colab": {
     "base_uri": "https://localhost:8080/"
    },
    "id": "plzmolrBZsWO",
    "outputId": "0994f25d-0a2c-493c-bf0e-66fa3fd9c956",
    "trusted": true,
    "execution": {
     "iopub.status.busy": "2025-04-22T14:55:56.291797Z",
     "iopub.execute_input": "2025-04-22T14:55:56.292143Z",
     "iopub.status.idle": "2025-04-22T14:55:56.367988Z",
     "shell.execute_reply.started": "2025-04-22T14:55:56.292121Z",
     "shell.execute_reply": "2025-04-22T14:55:56.367273Z"
    }
   },
   "outputs": [
    {
     "name": "stdout",
     "text": "torch.Size([32, 12, 64, 64]) torch.Size([32, 1, 64, 64])\n",
     "output_type": "stream"
    }
   ],
   "execution_count": 13
  },
  {
   "cell_type": "markdown",
   "source": "## CNN-based encoder decoder",
   "metadata": {
    "id": "Jv-fMVyCus_B"
   }
  },
  {
   "cell_type": "markdown",
   "source": "#### Simple Unet Implementation",
   "metadata": {}
  },
  {
   "cell_type": "code",
   "source": "import torch\nimport torch.nn as nn\nimport torch.nn.functional as F\nfrom tqdm import tqdm",
   "metadata": {
    "id": "4DoCBhMXkYoo",
    "trusted": true,
    "execution": {
     "iopub.status.busy": "2025-04-22T14:56:01.834593Z",
     "iopub.execute_input": "2025-04-22T14:56:01.834885Z",
     "iopub.status.idle": "2025-04-22T14:56:01.838739Z",
     "shell.execute_reply.started": "2025-04-22T14:56:01.834863Z",
     "shell.execute_reply": "2025-04-22T14:56:01.837802Z"
    }
   },
   "outputs": [],
   "execution_count": 14
  },
  {
   "cell_type": "code",
   "source": "class ResBlock(nn.Module):\n  def __init__(self, in_c, out_c, is_res = False, kernel_size=3, padding=1):\n    super(ResBlock, self).__init__()\n    self.same_c = in_c == out_c\n    self.is_res = is_res\n    self.conv1 = nn.Sequential(\n        nn.Conv2d(in_c, out_c, kernel_size, padding=padding),\n        nn.BatchNorm2d(out_c),\n        nn.ReLU()\n    )\n    self.conv2 = nn.Sequential(\n        nn.Conv2d(out_c, out_c, kernel_size, padding=padding),\n        nn.BatchNorm2d(out_c),\n        nn.ReLU()\n    )\n\n  def forward(self,x):\n    x1 = self.conv1(x)\n    x2 = self.conv2(x1)\n    if self.is_res:\n      if self.same_c:\n        out = x + x2\n      else:\n        out = x1 + x2\n    else:\n      out = x2\n    return out\n\n",
   "metadata": {
    "id": "xYgS3aOpb6mS"
   },
   "outputs": [],
   "execution_count": null
  },
  {
   "cell_type": "code",
   "source": "class ResBlock2(nn.Module):\n  def __init__(self, in_c, out_c, downsample='conv', dropout= 0.1,is_res = False, kernel_size=3, padding=1):\n    super(ResBlock2, self).__init__()\n    self.same_c = in_c == out_c\n    self.is_res = is_res\n    self.in_c = in_c\n    self.out_c = out_c\n\n    layers = [\n        nn.LeakyReLU(),\n        nn.Dropout2d(dropout)\n        ]\n    if downsample == 'conv':\n      layers.append(nn.Conv2d(in_c, out_c, kernel_size, padding=padding))\n    else:\n      layers.append(\n          nn.MaxPool2d(2)\n          )\n      if self.in_c != self.out_c:\n        layers.append(nn.Conv2d(in_c, out_c, 1))\n    layers.extend([\n        nn.LeakyReLU(),\n        nn.Dropout2d(dropout),\n        nn.Conv2d(out_c, out_c, kernel_size, padding=padding),\n        nn.Dropout2d(dropout)\n    ])\n    self.net = nn.Sequential(*layers)\n    self.shortcut = nn.Sequential(\n        nn.Conv2d(in_c, out_c, kernel_size=1),\n        nn.Dropout(dropout)\n    ) if is_res else nn.Identity()\n\n  def forward(self,x):\n    #print(f\"ResBlock2 input shape: {x.shape}\")\n    x1 = self.net(x)\n    x2 = self.shortcut(x) if self.is_res else 0\n    out = x1 + x2\n    return out\n\n\n",
   "metadata": {
    "id": "BVdXyg4zHbWQ"
   },
   "outputs": [],
   "execution_count": null
  },
  {
   "cell_type": "code",
   "source": "class SimpleUNet(nn.Module):\n  def __init__(self, in_c, encoder_dims, decoder_dims,out_c=1):\n    super(SimpleUNet, self).__init__()\n\n    self.in_c = in_c\n    self.encoder_dims = encoder_dims\n    self.decoder_dims = decoder_dims\n    self.out_c = out_c\n\n    self.input_conv = nn.Sequential(\n            nn.Conv2d(in_c, encoder_dims[0], kernel_size=3, padding=1),\n            nn.LeakyReLU(),\n            nn.Dropout2d(dropout),\n            nn.Conv2d(encoder_dims[0], encoder_dims[0], kernel_size=3, padding=1),\n            nn.Dropout2d(dropout)\n        )\n    self.input_shortcut = nn.Sequential(\n        nn.Conv2d(in_c, encoder_dims[0], kernel_size=1, padding=1),\n        nn.Dropout2d(dropout)\n    )\n    self.down_blocks = nn.ModuleList()\n    for i in range(len(encoder_dims) - 1):\n      self.down_blocks.append(ResBlock2(encoder_dims[i], encoder_dims[i+1],downsample='maxpool', dropout=dropout))\n      #print(\"down_block\", i, \":\",encoder_dims[i+1],\",\", encoder_dims[i+1])\n    self.bottleneck = ResBlock2(encoder_dims[-1], encoder_dims[-1], is_res=True)\n\n    self.up_blocks = nn.ModuleList()\n    for i in range(len(decoder_dims[:-1])):\n      skip_c = encoder_dims[-(i + 1)]\n      up_c = decoder_dims[i]\n      mid_c = decoder_dims[i+1]\n      #in_c = decoder_dims[i]\n      #out_c = decoder_dims[i + 1]\n      self.up_blocks.append(\n          nn.Sequential(\n              nn.ConvTranspose2d(skip_c+up_c, mid_c, kernel_size=2, stride=2),\n              nn.BatchNorm2d(mid_c),\n              nn.LeakyReLU(),\n              ResBlock2(mid_c, mid_c, downsample='conv')\n          )\n      )\n      #print(\"up_block\", i,\":\", skip_c+up_c,\",\", mid_c, \"skip_c\", skip_c)\n    self.output_conv = nn.Conv2d(decoder_dims[-1], self.out_c, kernel_size=1)\n\n  def forward(self,x):\n    x = self.input_conv(x)\n    skip_connections = []\n    for down_block in self.down_blocks:\n      #print(f\"[DownBlock] x.shape: {x.shape}, expects in_c={down_block.in_c}, out_c={down_block.out_c}\")\n      x = down_block(x)\n      skip_connections.append(x)\n\n    x = self.bottleneck(x)\n    skip_connections = skip_connections[::-1]\n    for i in range(len(self.up_blocks)):\n      #print(f\"[UpBlock {i}] skip: {skip_connections[i].shape}, x before: {x.shape}\")\n      x = torch.cat((skip_connections[i], x), dim=1)\n      #print(f\"up_block {i} input shape: {x.shape}\")\n      x = self.up_blocks[i](x)\n\n    x = self.output_conv(x)\n    return x\n",
   "metadata": {
    "id": "X_WDqY6WLBjC"
   },
   "outputs": [],
   "execution_count": null
  },
  {
   "cell_type": "code",
   "source": "def train_model(model, optimizer, criterion, train_loader, val_loader, epochs=10, device=None):\n    device = device or ('cuda' if torch.cuda.is_available() else 'cpu')\n    model = model.to(device)\n\n    # Loss and optimizer\n    #criterion = nn.BCEWithLogitsLoss(pos_weight=torch.tensor([pos_weight]).to(device))\n    criterion = criterion.to(device)\n    #optimizer = torch.optim.Adam(model.parameters(), lr=lr)\n\n    for epoch in range(epochs):\n        model.train()\n        train_loss = 0.0\n\n        for inputs, targets in tqdm(train_loader, desc=f\"[Epoch {epoch+1}/{epochs}] Training\"):\n            inputs, targets = inputs.to(device), targets.to(device)\n\n            optimizer.zero_grad()\n            outputs = model(inputs)\n            loss = criterion(outputs, targets)\n            loss.backward()\n            optimizer.step()\n\n            train_loss += loss.item() * inputs.size(0)\n\n        avg_train_loss = train_loss / len(train_loader.dataset)\n\n        # Validation phase\n        model.eval()\n        val_loss = 0.0\n        dice_score = 0.0\n\n        with torch.no_grad():\n            for inputs, targets in tqdm(val_loader, desc=f\"[Epoch {epoch+1}/{epochs}] Validation\"):\n                inputs, targets = inputs.to(device), targets.to(device)\n                outputs = model(inputs)\n                loss = criterion(outputs, targets)\n                val_loss += loss.item() * inputs.size(0)\n                #dice_score += dice_coefficient(outputs, targets).item() * inputs.size(0)\n\n        avg_val_loss = val_loss / len(val_loader.dataset)\n        #avg_dice = dice_score / len(val_loader.dataset)\n\n        print(f\"Epoch [{epoch+1}/{epochs}] \"\n              f\"Train Loss: {avg_train_loss:.4f} \"\n              f\"Val Loss: {avg_val_loss:.4f} \"\n              )\n",
   "metadata": {
    "id": "xazIW6d2P86N"
   },
   "outputs": [],
   "execution_count": null
  },
  {
   "cell_type": "code",
   "source": "lr = 0.0001\npos_weight = 3.0\nnum_epochs = 100\ndropout = 0.1\nencoder_dims = [16,16,32]\ndecoder_dims = [32,16,16]",
   "metadata": {
    "id": "iPUj2pSlQyPz",
    "trusted": true,
    "execution": {
     "iopub.status.busy": "2025-04-22T14:56:10.166785Z",
     "iopub.execute_input": "2025-04-22T14:56:10.167590Z",
     "iopub.status.idle": "2025-04-22T14:56:10.171373Z",
     "shell.execute_reply.started": "2025-04-22T14:56:10.167567Z",
     "shell.execute_reply": "2025-04-22T14:56:10.170565Z"
    }
   },
   "outputs": [],
   "execution_count": 15
  },
  {
   "cell_type": "code",
   "source": "model = SimpleUNet(in_c=12, encoder_dims=encoder_dims, decoder_dims=decoder_dims)\noptimizer = torch.optim.Adam(model.parameters(), lr=lr)\ncriterion = nn.BCEWithLogitsLoss(pos_weight=torch.tensor([pos_weight]))",
   "metadata": {
    "id": "30JNdDJ6QikY"
   },
   "outputs": [],
   "execution_count": null
  },
  {
   "cell_type": "code",
   "source": "train_model(model, optimizer, criterion, train_loader, val_loader, epochs=num_epochs)",
   "metadata": {
    "colab": {
     "base_uri": "https://localhost:8080/"
    },
    "id": "0hbIXk_NQ8Ug",
    "outputId": "26673d74-75a5-44b8-d9b6-e0317fcd008b"
   },
   "outputs": [
    {
     "output_type": "stream",
     "name": "stderr",
     "text": [
      "[Epoch 1/100] Training: 100%|██████████| 469/469 [00:09<00:00, 50.64it/s]\n",
      "[Epoch 1/100] Validation: 100%|██████████| 59/59 [00:00<00:00, 112.40it/s]\n"
     ]
    },
    {
     "output_type": "stream",
     "name": "stdout",
     "text": [
      "Epoch [1/100] Train Loss: 0.0862 Val Loss: 0.1170 \n"
     ]
    },
    {
     "output_type": "stream",
     "name": "stderr",
     "text": [
      "[Epoch 2/100] Training: 100%|██████████| 469/469 [00:08<00:00, 53.02it/s]\n",
      "[Epoch 2/100] Validation: 100%|██████████| 59/59 [00:00<00:00, 102.10it/s]\n"
     ]
    },
    {
     "output_type": "stream",
     "name": "stdout",
     "text": [
      "Epoch [2/100] Train Loss: 0.0858 Val Loss: 0.1166 \n"
     ]
    },
    {
     "output_type": "stream",
     "name": "stderr",
     "text": [
      "[Epoch 3/100] Training: 100%|██████████| 469/469 [00:08<00:00, 52.37it/s]\n",
      "[Epoch 3/100] Validation: 100%|██████████| 59/59 [00:00<00:00, 117.11it/s]\n"
     ]
    },
    {
     "output_type": "stream",
     "name": "stdout",
     "text": [
      "Epoch [3/100] Train Loss: 0.0855 Val Loss: 0.1148 \n"
     ]
    },
    {
     "output_type": "stream",
     "name": "stderr",
     "text": [
      "[Epoch 4/100] Training: 100%|██████████| 469/469 [00:08<00:00, 52.14it/s]\n",
      "[Epoch 4/100] Validation: 100%|██████████| 59/59 [00:00<00:00, 114.26it/s]\n"
     ]
    },
    {
     "output_type": "stream",
     "name": "stdout",
     "text": [
      "Epoch [4/100] Train Loss: 0.0854 Val Loss: 0.1155 \n"
     ]
    },
    {
     "output_type": "stream",
     "name": "stderr",
     "text": [
      "[Epoch 5/100] Training: 100%|██████████| 469/469 [00:09<00:00, 52.07it/s]\n",
      "[Epoch 5/100] Validation: 100%|██████████| 59/59 [00:00<00:00, 111.59it/s]\n"
     ]
    },
    {
     "output_type": "stream",
     "name": "stdout",
     "text": [
      "Epoch [5/100] Train Loss: 0.0848 Val Loss: 0.1166 \n"
     ]
    },
    {
     "output_type": "stream",
     "name": "stderr",
     "text": [
      "[Epoch 6/100] Training: 100%|██████████| 469/469 [00:08<00:00, 54.50it/s]\n",
      "[Epoch 6/100] Validation: 100%|██████████| 59/59 [00:00<00:00, 115.01it/s]\n"
     ]
    },
    {
     "output_type": "stream",
     "name": "stdout",
     "text": [
      "Epoch [6/100] Train Loss: 0.0847 Val Loss: 0.1168 \n"
     ]
    },
    {
     "output_type": "stream",
     "name": "stderr",
     "text": [
      "[Epoch 7/100] Training: 100%|██████████| 469/469 [00:09<00:00, 51.61it/s]\n",
      "[Epoch 7/100] Validation: 100%|██████████| 59/59 [00:00<00:00, 115.65it/s]\n"
     ]
    },
    {
     "output_type": "stream",
     "name": "stdout",
     "text": [
      "Epoch [7/100] Train Loss: 0.0845 Val Loss: 0.1159 \n"
     ]
    },
    {
     "output_type": "stream",
     "name": "stderr",
     "text": [
      "[Epoch 8/100] Training: 100%|██████████| 469/469 [00:09<00:00, 51.61it/s]\n",
      "[Epoch 8/100] Validation: 100%|██████████| 59/59 [00:00<00:00, 113.78it/s]\n"
     ]
    },
    {
     "output_type": "stream",
     "name": "stdout",
     "text": [
      "Epoch [8/100] Train Loss: 0.0841 Val Loss: 0.1157 \n"
     ]
    },
    {
     "output_type": "stream",
     "name": "stderr",
     "text": [
      "[Epoch 9/100] Training: 100%|██████████| 469/469 [00:08<00:00, 52.64it/s]\n",
      "[Epoch 9/100] Validation: 100%|██████████| 59/59 [00:00<00:00, 89.09it/s]\n"
     ]
    },
    {
     "output_type": "stream",
     "name": "stdout",
     "text": [
      "Epoch [9/100] Train Loss: 0.0839 Val Loss: 0.1161 \n"
     ]
    },
    {
     "output_type": "stream",
     "name": "stderr",
     "text": [
      "[Epoch 10/100] Training: 100%|██████████| 469/469 [00:08<00:00, 53.02it/s]\n",
      "[Epoch 10/100] Validation: 100%|██████████| 59/59 [00:00<00:00, 112.09it/s]\n"
     ]
    },
    {
     "output_type": "stream",
     "name": "stdout",
     "text": [
      "Epoch [10/100] Train Loss: 0.0838 Val Loss: 0.1145 \n"
     ]
    },
    {
     "output_type": "stream",
     "name": "stderr",
     "text": [
      "[Epoch 11/100] Training: 100%|██████████| 469/469 [00:09<00:00, 50.63it/s]\n",
      "[Epoch 11/100] Validation: 100%|██████████| 59/59 [00:00<00:00, 111.13it/s]\n"
     ]
    },
    {
     "output_type": "stream",
     "name": "stdout",
     "text": [
      "Epoch [11/100] Train Loss: 0.0840 Val Loss: 0.1153 \n"
     ]
    },
    {
     "output_type": "stream",
     "name": "stderr",
     "text": [
      "[Epoch 12/100] Training: 100%|██████████| 469/469 [00:09<00:00, 50.79it/s]\n",
      "[Epoch 12/100] Validation: 100%|██████████| 59/59 [00:00<00:00, 109.29it/s]\n"
     ]
    },
    {
     "output_type": "stream",
     "name": "stdout",
     "text": [
      "Epoch [12/100] Train Loss: 0.0836 Val Loss: 0.1157 \n"
     ]
    },
    {
     "output_type": "stream",
     "name": "stderr",
     "text": [
      "[Epoch 13/100] Training: 100%|██████████| 469/469 [00:08<00:00, 52.37it/s]\n",
      "[Epoch 13/100] Validation: 100%|██████████| 59/59 [00:00<00:00, 96.80it/s]\n"
     ]
    },
    {
     "output_type": "stream",
     "name": "stdout",
     "text": [
      "Epoch [13/100] Train Loss: 0.0832 Val Loss: 0.1148 \n"
     ]
    },
    {
     "output_type": "stream",
     "name": "stderr",
     "text": [
      "[Epoch 14/100] Training: 100%|██████████| 469/469 [00:08<00:00, 53.03it/s]\n",
      "[Epoch 14/100] Validation: 100%|██████████| 59/59 [00:00<00:00, 113.97it/s]\n"
     ]
    },
    {
     "output_type": "stream",
     "name": "stdout",
     "text": [
      "Epoch [14/100] Train Loss: 0.0831 Val Loss: 0.1149 \n"
     ]
    },
    {
     "output_type": "stream",
     "name": "stderr",
     "text": [
      "[Epoch 15/100] Training: 100%|██████████| 469/469 [00:09<00:00, 51.91it/s]\n",
      "[Epoch 15/100] Validation: 100%|██████████| 59/59 [00:00<00:00, 115.12it/s]\n"
     ]
    },
    {
     "output_type": "stream",
     "name": "stdout",
     "text": [
      "Epoch [15/100] Train Loss: 0.0832 Val Loss: 0.1157 \n"
     ]
    },
    {
     "output_type": "stream",
     "name": "stderr",
     "text": [
      "[Epoch 16/100] Training: 100%|██████████| 469/469 [00:09<00:00, 51.92it/s]\n",
      "[Epoch 16/100] Validation: 100%|██████████| 59/59 [00:00<00:00, 116.33it/s]\n"
     ]
    },
    {
     "output_type": "stream",
     "name": "stdout",
     "text": [
      "Epoch [16/100] Train Loss: 0.0828 Val Loss: 0.1151 \n"
     ]
    },
    {
     "output_type": "stream",
     "name": "stderr",
     "text": [
      "[Epoch 17/100] Training: 100%|██████████| 469/469 [00:08<00:00, 54.34it/s]\n",
      "[Epoch 17/100] Validation: 100%|██████████| 59/59 [00:00<00:00, 97.51it/s]\n"
     ]
    },
    {
     "output_type": "stream",
     "name": "stdout",
     "text": [
      "Epoch [17/100] Train Loss: 0.0828 Val Loss: 0.1152 \n"
     ]
    },
    {
     "output_type": "stream",
     "name": "stderr",
     "text": [
      "[Epoch 18/100] Training: 100%|██████████| 469/469 [00:08<00:00, 52.43it/s]\n",
      "[Epoch 18/100] Validation: 100%|██████████| 59/59 [00:00<00:00, 115.43it/s]\n"
     ]
    },
    {
     "output_type": "stream",
     "name": "stdout",
     "text": [
      "Epoch [18/100] Train Loss: 0.0823 Val Loss: 0.1142 \n"
     ]
    },
    {
     "output_type": "stream",
     "name": "stderr",
     "text": [
      "[Epoch 19/100] Training: 100%|██████████| 469/469 [00:09<00:00, 51.65it/s]\n",
      "[Epoch 19/100] Validation: 100%|██████████| 59/59 [00:00<00:00, 113.43it/s]\n"
     ]
    },
    {
     "output_type": "stream",
     "name": "stdout",
     "text": [
      "Epoch [19/100] Train Loss: 0.0820 Val Loss: 0.1138 \n"
     ]
    },
    {
     "output_type": "stream",
     "name": "stderr",
     "text": [
      "[Epoch 20/100] Training: 100%|██████████| 469/469 [00:08<00:00, 52.78it/s]\n",
      "[Epoch 20/100] Validation: 100%|██████████| 59/59 [00:00<00:00, 85.74it/s]\n"
     ]
    },
    {
     "output_type": "stream",
     "name": "stdout",
     "text": [
      "Epoch [20/100] Train Loss: 0.0820 Val Loss: 0.1133 \n"
     ]
    },
    {
     "output_type": "stream",
     "name": "stderr",
     "text": [
      "[Epoch 21/100] Training: 100%|██████████| 469/469 [00:08<00:00, 53.77it/s]\n",
      "[Epoch 21/100] Validation: 100%|██████████| 59/59 [00:00<00:00, 113.20it/s]\n"
     ]
    },
    {
     "output_type": "stream",
     "name": "stdout",
     "text": [
      "Epoch [21/100] Train Loss: 0.0817 Val Loss: 0.1135 \n"
     ]
    },
    {
     "output_type": "stream",
     "name": "stderr",
     "text": [
      "[Epoch 22/100] Training: 100%|██████████| 469/469 [00:09<00:00, 50.90it/s]\n",
      "[Epoch 22/100] Validation: 100%|██████████| 59/59 [00:00<00:00, 113.27it/s]\n"
     ]
    },
    {
     "output_type": "stream",
     "name": "stdout",
     "text": [
      "Epoch [22/100] Train Loss: 0.0814 Val Loss: 0.1139 \n"
     ]
    },
    {
     "output_type": "stream",
     "name": "stderr",
     "text": [
      "[Epoch 23/100] Training: 100%|██████████| 469/469 [00:09<00:00, 51.36it/s]\n",
      "[Epoch 23/100] Validation: 100%|██████████| 59/59 [00:00<00:00, 113.09it/s]\n"
     ]
    },
    {
     "output_type": "stream",
     "name": "stdout",
     "text": [
      "Epoch [23/100] Train Loss: 0.0818 Val Loss: 0.1135 \n"
     ]
    },
    {
     "output_type": "stream",
     "name": "stderr",
     "text": [
      "[Epoch 24/100] Training: 100%|██████████| 469/469 [00:08<00:00, 52.94it/s]\n",
      "[Epoch 24/100] Validation: 100%|██████████| 59/59 [00:00<00:00, 90.86it/s]\n"
     ]
    },
    {
     "output_type": "stream",
     "name": "stdout",
     "text": [
      "Epoch [24/100] Train Loss: 0.0816 Val Loss: 0.1133 \n"
     ]
    },
    {
     "output_type": "stream",
     "name": "stderr",
     "text": [
      "[Epoch 25/100] Training: 100%|██████████| 469/469 [00:09<00:00, 52.10it/s]\n",
      "[Epoch 25/100] Validation: 100%|██████████| 59/59 [00:00<00:00, 115.21it/s]\n"
     ]
    },
    {
     "output_type": "stream",
     "name": "stdout",
     "text": [
      "Epoch [25/100] Train Loss: 0.0810 Val Loss: 0.1133 \n"
     ]
    },
    {
     "output_type": "stream",
     "name": "stderr",
     "text": [
      "[Epoch 26/100] Training: 100%|██████████| 469/469 [00:09<00:00, 51.06it/s]\n",
      "[Epoch 26/100] Validation: 100%|██████████| 59/59 [00:00<00:00, 110.92it/s]\n"
     ]
    },
    {
     "output_type": "stream",
     "name": "stdout",
     "text": [
      "Epoch [26/100] Train Loss: 0.0812 Val Loss: 0.1139 \n"
     ]
    },
    {
     "output_type": "stream",
     "name": "stderr",
     "text": [
      "[Epoch 27/100] Training: 100%|██████████| 469/469 [00:09<00:00, 50.77it/s]\n",
      "[Epoch 27/100] Validation: 100%|██████████| 59/59 [00:00<00:00, 111.54it/s]\n"
     ]
    },
    {
     "output_type": "stream",
     "name": "stdout",
     "text": [
      "Epoch [27/100] Train Loss: 0.0809 Val Loss: 0.1123 \n"
     ]
    },
    {
     "output_type": "stream",
     "name": "stderr",
     "text": [
      "[Epoch 28/100] Training: 100%|██████████| 469/469 [00:08<00:00, 53.23it/s]\n",
      "[Epoch 28/100] Validation: 100%|██████████| 59/59 [00:00<00:00, 95.53it/s]\n"
     ]
    },
    {
     "output_type": "stream",
     "name": "stdout",
     "text": [
      "Epoch [28/100] Train Loss: 0.0811 Val Loss: 0.1136 \n"
     ]
    },
    {
     "output_type": "stream",
     "name": "stderr",
     "text": [
      "[Epoch 29/100] Training: 100%|██████████| 469/469 [00:09<00:00, 52.06it/s]\n",
      "[Epoch 29/100] Validation: 100%|██████████| 59/59 [00:00<00:00, 111.86it/s]\n"
     ]
    },
    {
     "output_type": "stream",
     "name": "stdout",
     "text": [
      "Epoch [29/100] Train Loss: 0.0809 Val Loss: 0.1126 \n"
     ]
    },
    {
     "output_type": "stream",
     "name": "stderr",
     "text": [
      "[Epoch 30/100] Training: 100%|██████████| 469/469 [00:09<00:00, 51.29it/s]\n",
      "[Epoch 30/100] Validation: 100%|██████████| 59/59 [00:00<00:00, 114.55it/s]\n"
     ]
    },
    {
     "output_type": "stream",
     "name": "stdout",
     "text": [
      "Epoch [30/100] Train Loss: 0.0808 Val Loss: 0.1128 \n"
     ]
    },
    {
     "output_type": "stream",
     "name": "stderr",
     "text": [
      "[Epoch 31/100] Training: 100%|██████████| 469/469 [00:09<00:00, 51.57it/s]\n",
      "[Epoch 31/100] Validation: 100%|██████████| 59/59 [00:00<00:00, 110.49it/s]\n"
     ]
    },
    {
     "output_type": "stream",
     "name": "stdout",
     "text": [
      "Epoch [31/100] Train Loss: 0.0806 Val Loss: 0.1128 \n"
     ]
    },
    {
     "output_type": "stream",
     "name": "stderr",
     "text": [
      "[Epoch 32/100] Training: 100%|██████████| 469/469 [00:08<00:00, 54.08it/s]\n",
      "[Epoch 32/100] Validation: 100%|██████████| 59/59 [00:00<00:00, 117.19it/s]\n"
     ]
    },
    {
     "output_type": "stream",
     "name": "stdout",
     "text": [
      "Epoch [32/100] Train Loss: 0.0809 Val Loss: 0.1132 \n"
     ]
    },
    {
     "output_type": "stream",
     "name": "stderr",
     "text": [
      "[Epoch 33/100] Training: 100%|██████████| 469/469 [00:09<00:00, 51.67it/s]\n",
      "[Epoch 33/100] Validation: 100%|██████████| 59/59 [00:00<00:00, 113.94it/s]\n"
     ]
    },
    {
     "output_type": "stream",
     "name": "stdout",
     "text": [
      "Epoch [33/100] Train Loss: 0.0804 Val Loss: 0.1135 \n"
     ]
    },
    {
     "output_type": "stream",
     "name": "stderr",
     "text": [
      "[Epoch 34/100] Training: 100%|██████████| 469/469 [00:09<00:00, 51.24it/s]\n",
      "[Epoch 34/100] Validation: 100%|██████████| 59/59 [00:00<00:00, 108.23it/s]\n"
     ]
    },
    {
     "output_type": "stream",
     "name": "stdout",
     "text": [
      "Epoch [34/100] Train Loss: 0.0803 Val Loss: 0.1129 \n"
     ]
    },
    {
     "output_type": "stream",
     "name": "stderr",
     "text": [
      "[Epoch 35/100] Training: 100%|██████████| 469/469 [00:08<00:00, 53.16it/s]\n",
      "[Epoch 35/100] Validation: 100%|██████████| 59/59 [00:00<00:00, 93.10it/s]\n"
     ]
    },
    {
     "output_type": "stream",
     "name": "stdout",
     "text": [
      "Epoch [35/100] Train Loss: 0.0803 Val Loss: 0.1126 \n"
     ]
    },
    {
     "output_type": "stream",
     "name": "stderr",
     "text": [
      "[Epoch 36/100] Training: 100%|██████████| 469/469 [00:08<00:00, 52.97it/s]\n",
      "[Epoch 36/100] Validation: 100%|██████████| 59/59 [00:00<00:00, 113.01it/s]\n"
     ]
    },
    {
     "output_type": "stream",
     "name": "stdout",
     "text": [
      "Epoch [36/100] Train Loss: 0.0802 Val Loss: 0.1120 \n"
     ]
    },
    {
     "output_type": "stream",
     "name": "stderr",
     "text": [
      "[Epoch 37/100] Training: 100%|██████████| 469/469 [00:09<00:00, 51.64it/s]\n",
      "[Epoch 37/100] Validation: 100%|██████████| 59/59 [00:00<00:00, 113.71it/s]\n"
     ]
    },
    {
     "output_type": "stream",
     "name": "stdout",
     "text": [
      "Epoch [37/100] Train Loss: 0.0799 Val Loss: 0.1129 \n"
     ]
    },
    {
     "output_type": "stream",
     "name": "stderr",
     "text": [
      "[Epoch 38/100] Training: 100%|██████████| 469/469 [00:09<00:00, 51.45it/s]\n",
      "[Epoch 38/100] Validation: 100%|██████████| 59/59 [00:00<00:00, 112.07it/s]\n"
     ]
    },
    {
     "output_type": "stream",
     "name": "stdout",
     "text": [
      "Epoch [38/100] Train Loss: 0.0800 Val Loss: 0.1122 \n"
     ]
    },
    {
     "output_type": "stream",
     "name": "stderr",
     "text": [
      "[Epoch 39/100] Training: 100%|██████████| 469/469 [00:08<00:00, 53.63it/s]\n",
      "[Epoch 39/100] Validation: 100%|██████████| 59/59 [00:00<00:00, 95.97it/s]\n"
     ]
    },
    {
     "output_type": "stream",
     "name": "stdout",
     "text": [
      "Epoch [39/100] Train Loss: 0.0798 Val Loss: 0.1130 \n"
     ]
    },
    {
     "output_type": "stream",
     "name": "stderr",
     "text": [
      "[Epoch 40/100] Training: 100%|██████████| 469/469 [00:09<00:00, 51.69it/s]\n",
      "[Epoch 40/100] Validation: 100%|██████████| 59/59 [00:00<00:00, 114.18it/s]\n"
     ]
    },
    {
     "output_type": "stream",
     "name": "stdout",
     "text": [
      "Epoch [40/100] Train Loss: 0.0797 Val Loss: 0.1128 \n"
     ]
    },
    {
     "output_type": "stream",
     "name": "stderr",
     "text": [
      "[Epoch 41/100] Training: 100%|██████████| 469/469 [00:09<00:00, 51.23it/s]\n",
      "[Epoch 41/100] Validation: 100%|██████████| 59/59 [00:00<00:00, 115.72it/s]\n"
     ]
    },
    {
     "output_type": "stream",
     "name": "stdout",
     "text": [
      "Epoch [41/100] Train Loss: 0.0796 Val Loss: 0.1123 \n"
     ]
    },
    {
     "output_type": "stream",
     "name": "stderr",
     "text": [
      "[Epoch 42/100] Training: 100%|██████████| 469/469 [00:09<00:00, 51.57it/s]\n",
      "[Epoch 42/100] Validation: 100%|██████████| 59/59 [00:00<00:00, 114.18it/s]\n"
     ]
    },
    {
     "output_type": "stream",
     "name": "stdout",
     "text": [
      "Epoch [42/100] Train Loss: 0.0796 Val Loss: 0.1121 \n"
     ]
    },
    {
     "output_type": "stream",
     "name": "stderr",
     "text": [
      "[Epoch 43/100] Training: 100%|██████████| 469/469 [00:08<00:00, 54.05it/s]\n",
      "[Epoch 43/100] Validation: 100%|██████████| 59/59 [00:00<00:00, 109.74it/s]\n"
     ]
    },
    {
     "output_type": "stream",
     "name": "stdout",
     "text": [
      "Epoch [43/100] Train Loss: 0.0796 Val Loss: 0.1124 \n"
     ]
    },
    {
     "output_type": "stream",
     "name": "stderr",
     "text": [
      "[Epoch 44/100] Training: 100%|██████████| 469/469 [00:09<00:00, 51.50it/s]\n",
      "[Epoch 44/100] Validation: 100%|██████████| 59/59 [00:00<00:00, 113.39it/s]\n"
     ]
    },
    {
     "output_type": "stream",
     "name": "stdout",
     "text": [
      "Epoch [44/100] Train Loss: 0.0796 Val Loss: 0.1121 \n"
     ]
    },
    {
     "output_type": "stream",
     "name": "stderr",
     "text": [
      "[Epoch 45/100] Training: 100%|██████████| 469/469 [00:09<00:00, 51.39it/s]\n",
      "[Epoch 45/100] Validation: 100%|██████████| 59/59 [00:00<00:00, 114.50it/s]\n"
     ]
    },
    {
     "output_type": "stream",
     "name": "stdout",
     "text": [
      "Epoch [45/100] Train Loss: 0.0795 Val Loss: 0.1127 \n"
     ]
    },
    {
     "output_type": "stream",
     "name": "stderr",
     "text": [
      "[Epoch 46/100] Training: 100%|██████████| 469/469 [00:08<00:00, 52.61it/s]\n",
      "[Epoch 46/100] Validation: 100%|██████████| 59/59 [00:00<00:00, 92.62it/s]\n"
     ]
    },
    {
     "output_type": "stream",
     "name": "stdout",
     "text": [
      "Epoch [46/100] Train Loss: 0.0792 Val Loss: 0.1122 \n"
     ]
    },
    {
     "output_type": "stream",
     "name": "stderr",
     "text": [
      "[Epoch 47/100] Training: 100%|██████████| 469/469 [00:08<00:00, 52.81it/s]\n",
      "[Epoch 47/100] Validation: 100%|██████████| 59/59 [00:00<00:00, 110.92it/s]\n"
     ]
    },
    {
     "output_type": "stream",
     "name": "stdout",
     "text": [
      "Epoch [47/100] Train Loss: 0.0792 Val Loss: 0.1126 \n"
     ]
    },
    {
     "output_type": "stream",
     "name": "stderr",
     "text": [
      "[Epoch 48/100] Training: 100%|██████████| 469/469 [00:09<00:00, 51.51it/s]\n",
      "[Epoch 48/100] Validation: 100%|██████████| 59/59 [00:00<00:00, 113.99it/s]\n"
     ]
    },
    {
     "output_type": "stream",
     "name": "stdout",
     "text": [
      "Epoch [48/100] Train Loss: 0.0791 Val Loss: 0.1122 \n"
     ]
    },
    {
     "output_type": "stream",
     "name": "stderr",
     "text": [
      "[Epoch 49/100] Training: 100%|██████████| 469/469 [00:09<00:00, 51.39it/s]\n",
      "[Epoch 49/100] Validation: 100%|██████████| 59/59 [00:00<00:00, 112.81it/s]\n"
     ]
    },
    {
     "output_type": "stream",
     "name": "stdout",
     "text": [
      "Epoch [49/100] Train Loss: 0.0794 Val Loss: 0.1118 \n"
     ]
    },
    {
     "output_type": "stream",
     "name": "stderr",
     "text": [
      "[Epoch 50/100] Training: 100%|██████████| 469/469 [00:08<00:00, 53.31it/s]\n",
      "[Epoch 50/100] Validation: 100%|██████████| 59/59 [00:00<00:00, 98.09it/s] \n"
     ]
    },
    {
     "output_type": "stream",
     "name": "stdout",
     "text": [
      "Epoch [50/100] Train Loss: 0.0793 Val Loss: 0.1126 \n"
     ]
    },
    {
     "output_type": "stream",
     "name": "stderr",
     "text": [
      "[Epoch 51/100] Training: 100%|██████████| 469/469 [00:08<00:00, 52.15it/s]\n",
      "[Epoch 51/100] Validation: 100%|██████████| 59/59 [00:00<00:00, 113.36it/s]\n"
     ]
    },
    {
     "output_type": "stream",
     "name": "stdout",
     "text": [
      "Epoch [51/100] Train Loss: 0.0794 Val Loss: 0.1121 \n"
     ]
    },
    {
     "output_type": "stream",
     "name": "stderr",
     "text": [
      "[Epoch 52/100] Training: 100%|██████████| 469/469 [00:09<00:00, 51.54it/s]\n",
      "[Epoch 52/100] Validation: 100%|██████████| 59/59 [00:00<00:00, 115.42it/s]\n"
     ]
    },
    {
     "output_type": "stream",
     "name": "stdout",
     "text": [
      "Epoch [52/100] Train Loss: 0.0789 Val Loss: 0.1127 \n"
     ]
    },
    {
     "output_type": "stream",
     "name": "stderr",
     "text": [
      "[Epoch 53/100] Training: 100%|██████████| 469/469 [00:09<00:00, 51.18it/s]\n",
      "[Epoch 53/100] Validation: 100%|██████████| 59/59 [00:00<00:00, 108.81it/s]\n"
     ]
    },
    {
     "output_type": "stream",
     "name": "stdout",
     "text": [
      "Epoch [53/100] Train Loss: 0.0790 Val Loss: 0.1126 \n"
     ]
    },
    {
     "output_type": "stream",
     "name": "stderr",
     "text": [
      "[Epoch 54/100] Training: 100%|██████████| 469/469 [00:08<00:00, 53.77it/s]\n",
      "[Epoch 54/100] Validation: 100%|██████████| 59/59 [00:00<00:00, 113.38it/s]\n"
     ]
    },
    {
     "output_type": "stream",
     "name": "stdout",
     "text": [
      "Epoch [54/100] Train Loss: 0.0789 Val Loss: 0.1125 \n"
     ]
    },
    {
     "output_type": "stream",
     "name": "stderr",
     "text": [
      "[Epoch 55/100] Training: 100%|██████████| 469/469 [00:09<00:00, 51.55it/s]\n",
      "[Epoch 55/100] Validation: 100%|██████████| 59/59 [00:00<00:00, 113.57it/s]\n"
     ]
    },
    {
     "output_type": "stream",
     "name": "stdout",
     "text": [
      "Epoch [55/100] Train Loss: 0.0790 Val Loss: 0.1129 \n"
     ]
    },
    {
     "output_type": "stream",
     "name": "stderr",
     "text": [
      "[Epoch 56/100] Training: 100%|██████████| 469/469 [00:09<00:00, 51.13it/s]\n",
      "[Epoch 56/100] Validation: 100%|██████████| 59/59 [00:00<00:00, 111.29it/s]\n"
     ]
    },
    {
     "output_type": "stream",
     "name": "stdout",
     "text": [
      "Epoch [56/100] Train Loss: 0.0791 Val Loss: 0.1120 \n"
     ]
    },
    {
     "output_type": "stream",
     "name": "stderr",
     "text": [
      "[Epoch 57/100] Training: 100%|██████████| 469/469 [00:09<00:00, 52.03it/s]\n",
      "[Epoch 57/100] Validation: 100%|██████████| 59/59 [00:00<00:00, 81.81it/s]\n"
     ]
    },
    {
     "output_type": "stream",
     "name": "stdout",
     "text": [
      "Epoch [57/100] Train Loss: 0.0787 Val Loss: 0.1122 \n"
     ]
    },
    {
     "output_type": "stream",
     "name": "stderr",
     "text": [
      "[Epoch 58/100] Training: 100%|██████████| 469/469 [00:08<00:00, 53.25it/s]\n",
      "[Epoch 58/100] Validation: 100%|██████████| 59/59 [00:00<00:00, 97.30it/s]\n"
     ]
    },
    {
     "output_type": "stream",
     "name": "stdout",
     "text": [
      "Epoch [58/100] Train Loss: 0.0788 Val Loss: 0.1131 \n"
     ]
    },
    {
     "output_type": "stream",
     "name": "stderr",
     "text": [
      "[Epoch 59/100] Training: 100%|██████████| 469/469 [00:09<00:00, 50.70it/s]\n",
      "[Epoch 59/100] Validation: 100%|██████████| 59/59 [00:00<00:00, 109.07it/s]\n"
     ]
    },
    {
     "output_type": "stream",
     "name": "stdout",
     "text": [
      "Epoch [59/100] Train Loss: 0.0786 Val Loss: 0.1136 \n"
     ]
    },
    {
     "output_type": "stream",
     "name": "stderr",
     "text": [
      "[Epoch 60/100] Training: 100%|██████████| 469/469 [00:09<00:00, 50.33it/s]\n",
      "[Epoch 60/100] Validation: 100%|██████████| 59/59 [00:00<00:00, 111.01it/s]\n"
     ]
    },
    {
     "output_type": "stream",
     "name": "stdout",
     "text": [
      "Epoch [60/100] Train Loss: 0.0786 Val Loss: 0.1115 \n"
     ]
    },
    {
     "output_type": "stream",
     "name": "stderr",
     "text": [
      "[Epoch 61/100] Training: 100%|██████████| 469/469 [00:09<00:00, 51.76it/s]\n",
      "[Epoch 61/100] Validation: 100%|██████████| 59/59 [00:00<00:00, 84.49it/s]\n"
     ]
    },
    {
     "output_type": "stream",
     "name": "stdout",
     "text": [
      "Epoch [61/100] Train Loss: 0.0786 Val Loss: 0.1121 \n"
     ]
    },
    {
     "output_type": "stream",
     "name": "stderr",
     "text": [
      "[Epoch 62/100] Training: 100%|██████████| 469/469 [00:09<00:00, 52.04it/s]\n",
      "[Epoch 62/100] Validation: 100%|██████████| 59/59 [00:00<00:00, 107.12it/s]\n"
     ]
    },
    {
     "output_type": "stream",
     "name": "stdout",
     "text": [
      "Epoch [62/100] Train Loss: 0.0788 Val Loss: 0.1122 \n"
     ]
    },
    {
     "output_type": "stream",
     "name": "stderr",
     "text": [
      "[Epoch 63/100] Training: 100%|██████████| 469/469 [00:09<00:00, 49.98it/s]\n",
      "[Epoch 63/100] Validation: 100%|██████████| 59/59 [00:00<00:00, 107.20it/s]\n"
     ]
    },
    {
     "output_type": "stream",
     "name": "stdout",
     "text": [
      "Epoch [63/100] Train Loss: 0.0784 Val Loss: 0.1124 \n"
     ]
    },
    {
     "output_type": "stream",
     "name": "stderr",
     "text": [
      "[Epoch 64/100] Training: 100%|██████████| 469/469 [00:09<00:00, 50.26it/s]\n",
      "[Epoch 64/100] Validation: 100%|██████████| 59/59 [00:00<00:00, 111.92it/s]\n"
     ]
    },
    {
     "output_type": "stream",
     "name": "stdout",
     "text": [
      "Epoch [64/100] Train Loss: 0.0783 Val Loss: 0.1120 \n"
     ]
    },
    {
     "output_type": "stream",
     "name": "stderr",
     "text": [
      "[Epoch 65/100] Training: 100%|██████████| 469/469 [00:09<00:00, 51.35it/s]\n",
      "[Epoch 65/100] Validation: 100%|██████████| 59/59 [00:00<00:00, 89.22it/s]\n"
     ]
    },
    {
     "output_type": "stream",
     "name": "stdout",
     "text": [
      "Epoch [65/100] Train Loss: 0.0780 Val Loss: 0.1119 \n"
     ]
    },
    {
     "output_type": "stream",
     "name": "stderr",
     "text": [
      "[Epoch 66/100] Training: 100%|██████████| 469/469 [00:08<00:00, 52.31it/s]\n",
      "[Epoch 66/100] Validation: 100%|██████████| 59/59 [00:00<00:00, 113.31it/s]\n"
     ]
    },
    {
     "output_type": "stream",
     "name": "stdout",
     "text": [
      "Epoch [66/100] Train Loss: 0.0779 Val Loss: 0.1115 \n"
     ]
    },
    {
     "output_type": "stream",
     "name": "stderr",
     "text": [
      "[Epoch 67/100] Training: 100%|██████████| 469/469 [00:09<00:00, 51.15it/s]\n",
      "[Epoch 67/100] Validation: 100%|██████████| 59/59 [00:00<00:00, 115.96it/s]\n"
     ]
    },
    {
     "output_type": "stream",
     "name": "stdout",
     "text": [
      "Epoch [67/100] Train Loss: 0.0783 Val Loss: 0.1131 \n"
     ]
    },
    {
     "output_type": "stream",
     "name": "stderr",
     "text": [
      "[Epoch 68/100] Training: 100%|██████████| 469/469 [00:09<00:00, 51.25it/s]\n",
      "[Epoch 68/100] Validation: 100%|██████████| 59/59 [00:00<00:00, 112.04it/s]\n"
     ]
    },
    {
     "output_type": "stream",
     "name": "stdout",
     "text": [
      "Epoch [68/100] Train Loss: 0.0782 Val Loss: 0.1118 \n"
     ]
    },
    {
     "output_type": "stream",
     "name": "stderr",
     "text": [
      "[Epoch 69/100] Training: 100%|██████████| 469/469 [00:08<00:00, 52.74it/s]\n",
      "[Epoch 69/100] Validation: 100%|██████████| 59/59 [00:00<00:00, 93.44it/s]\n"
     ]
    },
    {
     "output_type": "stream",
     "name": "stdout",
     "text": [
      "Epoch [69/100] Train Loss: 0.0778 Val Loss: 0.1119 \n"
     ]
    },
    {
     "output_type": "stream",
     "name": "stderr",
     "text": [
      "[Epoch 70/100] Training: 100%|██████████| 469/469 [00:09<00:00, 51.95it/s]\n",
      "[Epoch 70/100] Validation: 100%|██████████| 59/59 [00:00<00:00, 113.31it/s]\n"
     ]
    },
    {
     "output_type": "stream",
     "name": "stdout",
     "text": [
      "Epoch [70/100] Train Loss: 0.0781 Val Loss: 0.1113 \n"
     ]
    },
    {
     "output_type": "stream",
     "name": "stderr",
     "text": [
      "[Epoch 71/100] Training: 100%|██████████| 469/469 [00:09<00:00, 51.18it/s]\n",
      "[Epoch 71/100] Validation: 100%|██████████| 59/59 [00:00<00:00, 113.52it/s]\n"
     ]
    },
    {
     "output_type": "stream",
     "name": "stdout",
     "text": [
      "Epoch [71/100] Train Loss: 0.0780 Val Loss: 0.1123 \n"
     ]
    },
    {
     "output_type": "stream",
     "name": "stderr",
     "text": [
      "[Epoch 72/100] Training: 100%|██████████| 469/469 [00:09<00:00, 51.18it/s]\n",
      "[Epoch 72/100] Validation: 100%|██████████| 59/59 [00:00<00:00, 108.65it/s]\n"
     ]
    },
    {
     "output_type": "stream",
     "name": "stdout",
     "text": [
      "Epoch [72/100] Train Loss: 0.0779 Val Loss: 0.1116 \n"
     ]
    },
    {
     "output_type": "stream",
     "name": "stderr",
     "text": [
      "[Epoch 73/100] Training: 100%|██████████| 469/469 [00:08<00:00, 53.85it/s]\n",
      "[Epoch 73/100] Validation: 100%|██████████| 59/59 [00:00<00:00, 94.60it/s]\n"
     ]
    },
    {
     "output_type": "stream",
     "name": "stdout",
     "text": [
      "Epoch [73/100] Train Loss: 0.0778 Val Loss: 0.1126 \n"
     ]
    },
    {
     "output_type": "stream",
     "name": "stderr",
     "text": [
      "[Epoch 74/100] Training: 100%|██████████| 469/469 [00:09<00:00, 51.01it/s]\n",
      "[Epoch 74/100] Validation: 100%|██████████| 59/59 [00:00<00:00, 112.44it/s]\n"
     ]
    },
    {
     "output_type": "stream",
     "name": "stdout",
     "text": [
      "Epoch [74/100] Train Loss: 0.0778 Val Loss: 0.1120 \n"
     ]
    },
    {
     "output_type": "stream",
     "name": "stderr",
     "text": [
      "[Epoch 75/100] Training: 100%|██████████| 469/469 [00:09<00:00, 51.46it/s]\n",
      "[Epoch 75/100] Validation: 100%|██████████| 59/59 [00:00<00:00, 114.55it/s]\n"
     ]
    },
    {
     "output_type": "stream",
     "name": "stdout",
     "text": [
      "Epoch [75/100] Train Loss: 0.0781 Val Loss: 0.1124 \n"
     ]
    },
    {
     "output_type": "stream",
     "name": "stderr",
     "text": [
      "[Epoch 76/100] Training: 100%|██████████| 469/469 [00:09<00:00, 51.67it/s]\n",
      "[Epoch 76/100] Validation: 100%|██████████| 59/59 [00:00<00:00, 97.09it/s] \n"
     ]
    },
    {
     "output_type": "stream",
     "name": "stdout",
     "text": [
      "Epoch [76/100] Train Loss: 0.0779 Val Loss: 0.1126 \n"
     ]
    },
    {
     "output_type": "stream",
     "name": "stderr",
     "text": [
      "[Epoch 77/100] Training: 100%|██████████| 469/469 [00:08<00:00, 53.49it/s]\n",
      "[Epoch 77/100] Validation: 100%|██████████| 59/59 [00:00<00:00, 114.56it/s]\n"
     ]
    },
    {
     "output_type": "stream",
     "name": "stdout",
     "text": [
      "Epoch [77/100] Train Loss: 0.0777 Val Loss: 0.1115 \n"
     ]
    },
    {
     "output_type": "stream",
     "name": "stderr",
     "text": [
      "[Epoch 78/100] Training: 100%|██████████| 469/469 [00:09<00:00, 51.22it/s]\n",
      "[Epoch 78/100] Validation: 100%|██████████| 59/59 [00:00<00:00, 113.08it/s]\n"
     ]
    },
    {
     "output_type": "stream",
     "name": "stdout",
     "text": [
      "Epoch [78/100] Train Loss: 0.0774 Val Loss: 0.1117 \n"
     ]
    },
    {
     "output_type": "stream",
     "name": "stderr",
     "text": [
      "[Epoch 79/100] Training: 100%|██████████| 469/469 [00:09<00:00, 51.71it/s]\n",
      "[Epoch 79/100] Validation: 100%|██████████| 59/59 [00:00<00:00, 112.01it/s]\n"
     ]
    },
    {
     "output_type": "stream",
     "name": "stdout",
     "text": [
      "Epoch [79/100] Train Loss: 0.0778 Val Loss: 0.1119 \n"
     ]
    },
    {
     "output_type": "stream",
     "name": "stderr",
     "text": [
      "[Epoch 80/100] Training: 100%|██████████| 469/469 [00:08<00:00, 53.37it/s]\n",
      "[Epoch 80/100] Validation: 100%|██████████| 59/59 [00:00<00:00, 99.52it/s] \n"
     ]
    },
    {
     "output_type": "stream",
     "name": "stdout",
     "text": [
      "Epoch [80/100] Train Loss: 0.0777 Val Loss: 0.1122 \n"
     ]
    },
    {
     "output_type": "stream",
     "name": "stderr",
     "text": [
      "[Epoch 81/100] Training: 100%|██████████| 469/469 [00:08<00:00, 53.28it/s]\n",
      "[Epoch 81/100] Validation: 100%|██████████| 59/59 [00:00<00:00, 112.51it/s]\n"
     ]
    },
    {
     "output_type": "stream",
     "name": "stdout",
     "text": [
      "Epoch [81/100] Train Loss: 0.0776 Val Loss: 0.1114 \n"
     ]
    },
    {
     "output_type": "stream",
     "name": "stderr",
     "text": [
      "[Epoch 82/100] Training: 100%|██████████| 469/469 [00:09<00:00, 52.02it/s]\n",
      "[Epoch 82/100] Validation: 100%|██████████| 59/59 [00:00<00:00, 116.43it/s]\n"
     ]
    },
    {
     "output_type": "stream",
     "name": "stdout",
     "text": [
      "Epoch [82/100] Train Loss: 0.0774 Val Loss: 0.1115 \n"
     ]
    },
    {
     "output_type": "stream",
     "name": "stderr",
     "text": [
      "[Epoch 83/100] Training: 100%|██████████| 469/469 [00:09<00:00, 51.60it/s]\n",
      "[Epoch 83/100] Validation: 100%|██████████| 59/59 [00:00<00:00, 116.45it/s]\n"
     ]
    },
    {
     "output_type": "stream",
     "name": "stdout",
     "text": [
      "Epoch [83/100] Train Loss: 0.0775 Val Loss: 0.1126 \n"
     ]
    },
    {
     "output_type": "stream",
     "name": "stderr",
     "text": [
      "[Epoch 84/100] Training: 100%|██████████| 469/469 [00:08<00:00, 54.07it/s]\n",
      "[Epoch 84/100] Validation: 100%|██████████| 59/59 [00:00<00:00, 90.97it/s]\n"
     ]
    },
    {
     "output_type": "stream",
     "name": "stdout",
     "text": [
      "Epoch [84/100] Train Loss: 0.0776 Val Loss: 0.1116 \n"
     ]
    },
    {
     "output_type": "stream",
     "name": "stderr",
     "text": [
      "[Epoch 85/100] Training: 100%|██████████| 469/469 [00:09<00:00, 52.07it/s]\n",
      "[Epoch 85/100] Validation: 100%|██████████| 59/59 [00:00<00:00, 114.63it/s]\n"
     ]
    },
    {
     "output_type": "stream",
     "name": "stdout",
     "text": [
      "Epoch [85/100] Train Loss: 0.0774 Val Loss: 0.1112 \n"
     ]
    },
    {
     "output_type": "stream",
     "name": "stderr",
     "text": [
      "[Epoch 86/100] Training: 100%|██████████| 469/469 [00:09<00:00, 51.85it/s]\n",
      "[Epoch 86/100] Validation: 100%|██████████| 59/59 [00:00<00:00, 112.32it/s]\n"
     ]
    },
    {
     "output_type": "stream",
     "name": "stdout",
     "text": [
      "Epoch [86/100] Train Loss: 0.0774 Val Loss: 0.1116 \n"
     ]
    },
    {
     "output_type": "stream",
     "name": "stderr",
     "text": [
      "[Epoch 87/100] Training: 100%|██████████| 469/469 [00:09<00:00, 51.93it/s]\n",
      "[Epoch 87/100] Validation: 100%|██████████| 59/59 [00:00<00:00, 96.07it/s]\n"
     ]
    },
    {
     "output_type": "stream",
     "name": "stdout",
     "text": [
      "Epoch [87/100] Train Loss: 0.0771 Val Loss: 0.1114 \n"
     ]
    },
    {
     "output_type": "stream",
     "name": "stderr",
     "text": [
      "[Epoch 88/100] Training: 100%|██████████| 469/469 [00:08<00:00, 54.28it/s]\n",
      "[Epoch 88/100] Validation: 100%|██████████| 59/59 [00:00<00:00, 112.70it/s]\n"
     ]
    },
    {
     "output_type": "stream",
     "name": "stdout",
     "text": [
      "Epoch [88/100] Train Loss: 0.0771 Val Loss: 0.1112 \n"
     ]
    },
    {
     "output_type": "stream",
     "name": "stderr",
     "text": [
      "[Epoch 89/100] Training: 100%|██████████| 469/469 [00:09<00:00, 51.90it/s]\n",
      "[Epoch 89/100] Validation: 100%|██████████| 59/59 [00:00<00:00, 115.17it/s]\n"
     ]
    },
    {
     "output_type": "stream",
     "name": "stdout",
     "text": [
      "Epoch [89/100] Train Loss: 0.0772 Val Loss: 0.1114 \n"
     ]
    },
    {
     "output_type": "stream",
     "name": "stderr",
     "text": [
      "[Epoch 90/100] Training: 100%|██████████| 469/469 [00:09<00:00, 51.72it/s]\n",
      "[Epoch 90/100] Validation: 100%|██████████| 59/59 [00:00<00:00, 112.61it/s]\n"
     ]
    },
    {
     "output_type": "stream",
     "name": "stdout",
     "text": [
      "Epoch [90/100] Train Loss: 0.0772 Val Loss: 0.1122 \n"
     ]
    },
    {
     "output_type": "stream",
     "name": "stderr",
     "text": [
      "[Epoch 91/100] Training: 100%|██████████| 469/469 [00:08<00:00, 53.01it/s]\n",
      "[Epoch 91/100] Validation: 100%|██████████| 59/59 [00:00<00:00, 95.99it/s]\n"
     ]
    },
    {
     "output_type": "stream",
     "name": "stdout",
     "text": [
      "Epoch [91/100] Train Loss: 0.0768 Val Loss: 0.1118 \n"
     ]
    },
    {
     "output_type": "stream",
     "name": "stderr",
     "text": [
      "[Epoch 92/100] Training: 100%|██████████| 469/469 [00:08<00:00, 53.12it/s]\n",
      "[Epoch 92/100] Validation: 100%|██████████| 59/59 [00:00<00:00, 112.25it/s]\n"
     ]
    },
    {
     "output_type": "stream",
     "name": "stdout",
     "text": [
      "Epoch [92/100] Train Loss: 0.0768 Val Loss: 0.1110 \n"
     ]
    },
    {
     "output_type": "stream",
     "name": "stderr",
     "text": [
      "[Epoch 93/100] Training: 100%|██████████| 469/469 [00:09<00:00, 51.48it/s]\n",
      "[Epoch 93/100] Validation: 100%|██████████| 59/59 [00:00<00:00, 113.52it/s]\n"
     ]
    },
    {
     "output_type": "stream",
     "name": "stdout",
     "text": [
      "Epoch [93/100] Train Loss: 0.0770 Val Loss: 0.1117 \n"
     ]
    },
    {
     "output_type": "stream",
     "name": "stderr",
     "text": [
      "[Epoch 94/100] Training: 100%|██████████| 469/469 [00:09<00:00, 50.89it/s]\n",
      "[Epoch 94/100] Validation: 100%|██████████| 59/59 [00:00<00:00, 112.53it/s]\n"
     ]
    },
    {
     "output_type": "stream",
     "name": "stdout",
     "text": [
      "Epoch [94/100] Train Loss: 0.0769 Val Loss: 0.1121 \n"
     ]
    },
    {
     "output_type": "stream",
     "name": "stderr",
     "text": [
      "[Epoch 95/100] Training: 100%|██████████| 469/469 [00:08<00:00, 53.60it/s]\n",
      "[Epoch 95/100] Validation: 100%|██████████| 59/59 [00:00<00:00, 89.41it/s]\n"
     ]
    },
    {
     "output_type": "stream",
     "name": "stdout",
     "text": [
      "Epoch [95/100] Train Loss: 0.0769 Val Loss: 0.1121 \n"
     ]
    },
    {
     "output_type": "stream",
     "name": "stderr",
     "text": [
      "[Epoch 96/100] Training: 100%|██████████| 469/469 [00:09<00:00, 51.93it/s]\n",
      "[Epoch 96/100] Validation: 100%|██████████| 59/59 [00:00<00:00, 115.73it/s]\n"
     ]
    },
    {
     "output_type": "stream",
     "name": "stdout",
     "text": [
      "Epoch [96/100] Train Loss: 0.0767 Val Loss: 0.1115 \n"
     ]
    },
    {
     "output_type": "stream",
     "name": "stderr",
     "text": [
      "[Epoch 97/100] Training: 100%|██████████| 469/469 [00:09<00:00, 51.34it/s]\n",
      "[Epoch 97/100] Validation: 100%|██████████| 59/59 [00:00<00:00, 112.58it/s]\n"
     ]
    },
    {
     "output_type": "stream",
     "name": "stdout",
     "text": [
      "Epoch [97/100] Train Loss: 0.0764 Val Loss: 0.1114 \n"
     ]
    },
    {
     "output_type": "stream",
     "name": "stderr",
     "text": [
      "[Epoch 98/100] Training: 100%|██████████| 469/469 [00:09<00:00, 51.39it/s]\n",
      "[Epoch 98/100] Validation: 100%|██████████| 59/59 [00:00<00:00, 102.73it/s]\n"
     ]
    },
    {
     "output_type": "stream",
     "name": "stdout",
     "text": [
      "Epoch [98/100] Train Loss: 0.0766 Val Loss: 0.1113 \n"
     ]
    },
    {
     "output_type": "stream",
     "name": "stderr",
     "text": [
      "[Epoch 99/100] Training: 100%|██████████| 469/469 [00:08<00:00, 53.32it/s]\n",
      "[Epoch 99/100] Validation: 100%|██████████| 59/59 [00:00<00:00, 111.42it/s]\n"
     ]
    },
    {
     "output_type": "stream",
     "name": "stdout",
     "text": [
      "Epoch [99/100] Train Loss: 0.0766 Val Loss: 0.1123 \n"
     ]
    },
    {
     "output_type": "stream",
     "name": "stderr",
     "text": [
      "[Epoch 100/100] Training: 100%|██████████| 469/469 [00:09<00:00, 51.71it/s]\n",
      "[Epoch 100/100] Validation: 100%|██████████| 59/59 [00:00<00:00, 110.79it/s]"
     ]
    },
    {
     "output_type": "stream",
     "name": "stdout",
     "text": [
      "Epoch [100/100] Train Loss: 0.0765 Val Loss: 0.1117 \n"
     ]
    },
    {
     "output_type": "stream",
     "name": "stderr",
     "text": [
      "\n"
     ]
    }
   ],
   "execution_count": null
  },
  {
   "cell_type": "markdown",
   "source": "## AutoEncoder",
   "metadata": {
    "id": "24XmDdFYtmRz"
   }
  },
  {
   "cell_type": "markdown",
   "source": "#### Each resnet block has at most 2 conv2d blocks",
   "metadata": {
    "id": "IKqMd1-axni1"
   }
  },
  {
   "cell_type": "code",
   "source": "class ResBlock3(nn.Module):\n  def __init__(self, in_c, mid_c, out_c,\n               dropout= 0.1, batch_norm=True, pool_size=2,\n               kernel_size=3, strides=(1,1), padding=1):\n    super(ResBlock3, self).__init__()\n\n    self.same_c = in_c == out_c\n    self.in_c = in_c\n    self.mid_c = mid_c\n    self.out_c = out_c\n    layers = []\n    if batch_norm:\n      layers.append(nn.BatchNorm2d(in_c))\n\n      layers.extend([\n        nn.LeakyReLU(),\n        nn.Dropout2d(dropout)\n        ]\n    )\n\n    if strides[0] ==1:\n      # by default, no downsampling needed. and the stride normally is 1\n      layers.append(nn.Conv2d(in_c, out_c, kernel_size=kernel_size,\n                              padding=padding, stride=strides[0]))\n    else:\n      layers.append(\n          nn.MaxPool2d(pool_size, strides[0])\n          )\n      if self.in_c != self.mid_c:\n        layers.append(nn.Conv2d(in_c, mid_c, kernel_size=1))\n\n    if batch_norm:\n       layers.append(nn.BatchNorm2d(mid_c))\n\n    layers.extend([\n        nn.LeakyReLU(),\n        nn.Dropout2d(dropout),\n        nn.Conv2d(mid_c, out_c, kernel_size=kernel_size, stride=strides[1],\n                  padding=padding),\n        nn.Dropout2d(dropout)\n    ])\n    self.net = nn.Sequential(*layers)\n\n    self.shortcut = nn.Sequential(\n        nn.Conv2d(in_c, out_c, kernel_size=1,padding=0,stride=strides[0]),\n        nn.BatchNorm2d(out_c) if batch_norm else nn.Identity(),\n        nn.Dropout(dropout)\n    )\n\n\n  def forward(self,x):\n    #print(f\"ResBlock3 input shape: {x.shape}\")\n    x1 = self.net(x)\n    x2 = self.shortcut(x)\n    out = x1 + x2\n    return out\n",
   "metadata": {
    "id": "RrIbYOzmtqLI",
    "trusted": true,
    "execution": {
     "iopub.status.busy": "2025-04-22T16:40:54.872068Z",
     "iopub.execute_input": "2025-04-22T16:40:54.872559Z",
     "iopub.status.idle": "2025-04-22T16:40:54.880123Z",
     "shell.execute_reply.started": "2025-04-22T16:40:54.872535Z",
     "shell.execute_reply": "2025-04-22T16:40:54.879516Z"
    }
   },
   "outputs": [],
   "execution_count": 41
  },
  {
   "cell_type": "markdown",
   "source": "#### The encoder decoder model",
   "metadata": {
    "id": "idZXOvMiJIR0"
   }
  },
  {
   "cell_type": "code",
   "source": "class Autoencoder(nn.Module):\n  def __init__(self,\n               in_channels, out_channels,\n               encoder_layers, encoder_pools,\n               decoder_layers, decoder_pools,\n               dropout=0.1, batch_norm=True,\n               ):\n    super(Autoencoder, self).__init__()\n\n    self.in_channels = in_channels\n    self.out_channels = out_channels\n    self.encoder_layers = encoder_layers\n    self.decoder_layers = decoder_layers\n    self.encoder_pools = encoder_pools\n    self.decoder_pools = decoder_pools\n    self.dropout = dropout\n    self.batch_norm = batch_norm\n\n    self.input_conv = nn.Sequential(\n            nn.Conv2d(in_channels, encoder_layers[0], kernel_size=3, padding=1),\n            nn.BatchNorm2d(encoder_layers[0]) if batch_norm else nn.Identity(),\n            nn.LeakyReLU(),\n            nn.Dropout2d(dropout),\n            nn.Conv2d(encoder_layers[0], encoder_layers[0], kernel_size=3, padding=1),\n            nn.Dropout2d(dropout)\n        )\n    self.input_shortcut = nn.Sequential(\n        nn.Conv2d(in_channels, encoder_layers[0], kernel_size=1, padding=0),\n        nn.BatchNorm2d(encoder_layers[0]) if batch_norm else nn.Identity(),\n        nn.Dropout2d(dropout)\n    )\n\n    self.encoder_blocks = nn.ModuleList()\n    for i in range(len(encoder_layers) - 1):\n      self.encoder_blocks.append(\n          ResBlock3(encoder_layers[i], encoder_layers[i+1],encoder_layers[i+1],\n                    dropout=dropout, batch_norm=batch_norm,\n                    pool_size=encoder_pools[i+1],\n                    strides=(encoder_pools[i+1],1)\n          )\n      )\n\n    self.bottleneck = ResBlock3(\n       in_c=encoder_layers[-1],\n       mid_c=encoder_layers[-1],\n       out_c=encoder_layers[-1],\n       dropout=dropout,\n       batch_norm=batch_norm\n    )\n\n\n    self.decoder_blocks = nn.ModuleList()\n    for i in range(len(decoder_layers)):\n      self.decoder_blocks.append(\n          nn.Sequential(\n              nn.Upsample(scale_factor=decoder_pools[i], mode='nearest'),\n              ResBlock3(\n                  in_c = encoder_layers[-1] if i==0 else decoder_layers[i-1],\n                  mid_c= decoder_layers[i], out_c=decoder_layers[i],\n                  dropout=dropout, batch_norm=batch_norm\n                  )\n          )\n      )\n\n    # Output convolution (explicitly using out_channels)\n    self.output_conv = nn.Conv2d(decoder_layers[-1],\n                                 self.out_channels, kernel_size=1)\n\n  def forward(self,x):\n    x1 = self.input_conv(x)\n    shortcut = self.input_shortcut(x)\n\n    x2 = x1 + shortcut\n    for encoder_block in self.encoder_blocks:\n      x2 = encoder_block(x2)\n\n    x2 = self.bottleneck(x2)\n\n    for decoder_block in self.decoder_blocks:\n      x2 = decoder_block(x2)\n\n    x2 = self.output_conv(x2)\n    return x2\n",
   "metadata": {
    "id": "xcGD4B8D5fJq",
    "trusted": true,
    "execution": {
     "iopub.status.busy": "2025-04-22T16:40:58.179913Z",
     "iopub.execute_input": "2025-04-22T16:40:58.180391Z",
     "iopub.status.idle": "2025-04-22T16:40:58.190243Z",
     "shell.execute_reply.started": "2025-04-22T16:40:58.180368Z",
     "shell.execute_reply": "2025-04-22T16:40:58.189434Z"
    }
   },
   "outputs": [],
   "execution_count": 42
  },
  {
   "cell_type": "markdown",
   "source": "#### Model parameters",
   "metadata": {
    "id": "OJPMmCFKQbc2"
   }
  },
  {
   "cell_type": "code",
   "source": "params_config = {\n    'in_channels': 12,\n    'out_channels': 1,\n    'encoder_layers': [16, 16, 32],\n    'decoder_layers': [32, 16],\n    'encoder_pools': [1, 2, 2],\n    'decoder_pools': [2, 2],\n    'dropout': 0.1,\n    'batch_norm': True\n}",
   "metadata": {
    "id": "9PBdsWc0QaqP",
    "trusted": true,
    "execution": {
     "iopub.status.busy": "2025-04-22T16:41:03.319194Z",
     "iopub.execute_input": "2025-04-22T16:41:03.319480Z",
     "iopub.status.idle": "2025-04-22T16:41:03.323640Z",
     "shell.execute_reply.started": "2025-04-22T16:41:03.319458Z",
     "shell.execute_reply": "2025-04-22T16:41:03.322707Z"
    }
   },
   "outputs": [],
   "execution_count": 43
  },
  {
   "cell_type": "code",
   "source": "model1 = Autoencoder(**params_config)\n#print(model1)",
   "metadata": {
    "id": "HWgRJeUQQesV",
    "trusted": true
   },
   "outputs": [],
   "execution_count": null
  },
  {
   "cell_type": "markdown",
   "source": "## Metrics: AUC(PR), Precision, Recall",
   "metadata": {
    "id": "QCZlkZWZNmg6"
   }
  },
  {
   "cell_type": "code",
   "source": "from sklearn.metrics import average_precision_score, precision_score, recall_score, f1_score\nimport numpy as np",
   "metadata": {
    "id": "Nj1slvlONsKx",
    "trusted": true,
    "execution": {
     "iopub.status.busy": "2025-04-22T14:57:00.663367Z",
     "iopub.execute_input": "2025-04-22T14:57:00.663680Z",
     "iopub.status.idle": "2025-04-22T14:57:01.083874Z",
     "shell.execute_reply.started": "2025-04-22T14:57:00.663654Z",
     "shell.execute_reply": "2025-04-22T14:57:01.083296Z"
    }
   },
   "outputs": [],
   "execution_count": 18
  },
  {
   "cell_type": "code",
   "source": "def evaluate_model_metrics(model, data_loader, threshold=0.5, device=None):\n    \"\"\"\n    Evaluate model using multiple metrics: AUC PR, Precision, Recall, and F1-score.\n\n    Args:\n        model: The trained model to evaluate\n        data_loader: Data loader for evaluation\n        threshold: Classification threshold (default 0.5)\n        device: Device to use for evaluation\n\n    Returns:\n        metrics: Dictionary containing AUC PR, precision, recall, and F1-score\n    \"\"\"\n\n    model.eval()\n\n    all_targets = []\n    all_predictions = []\n    all_binary_predictions = []\n\n    with torch.no_grad():\n        for inputs, targets in data_loader:\n            inputs, targets = inputs.to(device), targets.to(device)\n            outputs = model(inputs)\n\n            # Apply sigmoid to convert logits to probabilities\n            probs = torch.sigmoid(outputs)\n\n            # Binary predictions using threshold\n            binary_preds = (probs > threshold).float()\n\n            # Collect all predictions and targets\n            all_targets.append(targets.cpu().numpy())\n            all_predictions.append(probs.cpu().numpy())\n            all_binary_predictions.append(binary_preds.cpu().numpy())\n\n    # Concatenate all batches\n    all_targets = np.concatenate(all_targets).flatten()\n    all_predictions = np.concatenate(all_predictions).flatten()\n    all_binary_predictions = np.concatenate(all_binary_predictions).flatten()\n\n    # Calculate metrics\n    auc_pr = average_precision_score(all_targets, all_predictions)\n    precision = precision_score(all_targets, all_binary_predictions, zero_division=0)\n    recall = recall_score(all_targets, all_binary_predictions, zero_division=0)\n    f1 = f1_score(all_targets, all_binary_predictions, zero_division=0)\n\n    metrics = {\n        'auc_pr': auc_pr,\n        'precision': precision,\n        'recall': recall,\n        'f1_score': f1\n    }\n\n    return metrics",
   "metadata": {
    "id": "QOR_jhXdN0EZ",
    "trusted": true,
    "execution": {
     "iopub.status.busy": "2025-04-22T14:57:04.499220Z",
     "iopub.execute_input": "2025-04-22T14:57:04.499759Z",
     "iopub.status.idle": "2025-04-22T14:57:04.506551Z",
     "shell.execute_reply.started": "2025-04-22T14:57:04.499736Z",
     "shell.execute_reply": "2025-04-22T14:57:04.505859Z"
    }
   },
   "outputs": [],
   "execution_count": 19
  },
  {
   "cell_type": "markdown",
   "source": "## Training model",
   "metadata": {
    "id": "JPdykGz5ONWa"
   }
  },
  {
   "cell_type": "code",
   "source": "lr = 0.0001\npos_weight = 3.0\nnum_epochs = 100",
   "metadata": {
    "id": "_Oot5iNcQx-k",
    "trusted": true,
    "execution": {
     "iopub.status.busy": "2025-04-22T16:41:13.307430Z",
     "iopub.execute_input": "2025-04-22T16:41:13.307711Z",
     "iopub.status.idle": "2025-04-22T16:41:13.311551Z",
     "shell.execute_reply.started": "2025-04-22T16:41:13.307690Z",
     "shell.execute_reply": "2025-04-22T16:41:13.310858Z"
    }
   },
   "outputs": [],
   "execution_count": 45
  },
  {
   "cell_type": "code",
   "source": "def train_model(model, train_loader, val_loader, lr=0.001,pos_weight=3.0, num_epochs=10, device=None):\n    \"\"\"Train the wildfire segmentation model with comprehensive metrics.\"\"\"\n    # Set device\n    device = device or ('cuda' if torch.cuda.is_available() else 'cpu')\n    model = model.to(device)\n\n    # Loss function\n    criterion = nn.BCEWithLogitsLoss(\n        pos_weight=torch.tensor([pos_weight], device=device)\n    )\n\n    # Optimizer\n    optimizer = torch.optim.Adam(\n        model.parameters(),\n        lr=lr\n    )\n\n    # Training history\n    history = {\n        'train_loss': [],\n        'val_loss': [],\n        'train_reg_loss': [],\n        'val_reg_loss': [],\n        'val_auc_pr': [],\n        'val_precision': [],\n        'val_recall': [],\n        'val_f1_score': []\n    }\n\n    # Best model tracking\n    best_auc_pr = 0\n    best_model_state = None\n\n    # Training loop\n    for epoch in range(num_epochs):\n        # Training phase\n        model.train()\n        train_loss = 0.0\n        train_reg_loss = 0.0\n\n        for inputs, targets in tqdm(train_loader, desc=f\"[Epoch {epoch+1}/{num_epochs}] Training\"):\n            inputs, targets = inputs.to(device), targets.to(device)\n\n            optimizer.zero_grad()\n            outputs = model(inputs)\n\n            # Calculate losses\n            bce_loss = criterion(outputs, targets)\n            #reg_loss = model.get_regularization_loss()\n            #total_loss = bce_loss + reg_loss\n            total_loss = bce_loss\n\n            total_loss.backward()\n            optimizer.step()\n\n            train_loss += bce_loss.item() * inputs.size(0)\n            #train_reg_loss += reg_loss.item() * inputs.size(0)\n\n        avg_train_loss = train_loss / len(train_loader.dataset)\n        #avg_train_reg_loss = train_reg_loss / len(train_loader.dataset)\n        history['train_loss'].append(avg_train_loss)\n        #history['train_reg_loss'].append(avg_train_reg_loss)\n\n        # Validation phase\n        model.eval()\n        val_loss = 0.0\n        #val_reg_loss = 0.0\n\n        with torch.no_grad():\n            for inputs, targets in tqdm(val_loader, desc=f\"[Epoch {epoch+1}/{num_epochs}] Validation\"):\n                inputs, targets = inputs.to(device), targets.to(device)\n                outputs = model(inputs)\n\n                # Calculate losses\n                bce_loss = criterion(outputs, targets)\n                #reg_loss = model.get_regularization_loss()\n\n                val_loss += bce_loss.item() * inputs.size(0)\n                #val_reg_loss += reg_loss.item() * inputs.size(0)\n\n        avg_val_loss = val_loss / len(val_loader.dataset)\n        #avg_val_reg_loss = val_reg_loss / len(val_loader.dataset)\n        history['val_loss'].append(avg_val_loss)\n        #history['val_reg_loss'].append(avg_val_reg_loss)\n\n        # Calculate metrics\n        metrics = evaluate_model_metrics(model, val_loader, device=device)\n\n        # Store metrics in history\n        for metric_name, metric_value in metrics.items():\n            history[f'val_{metric_name}'].append(metric_value)\n\n        # Save best model based on AUC PR\n        auc_pr = metrics['auc_pr']\n        if auc_pr > best_auc_pr:\n            best_auc_pr = auc_pr\n            best_model_state = model.state_dict().copy()\n            print(f\"New best model with AUC PR: {best_auc_pr:.4f}\")\n\n        print(f\"Epoch [{epoch+1}/{num_epochs}] \"\n              f\"Train Loss: {avg_train_loss:.4f} \"\n              f\"Val Loss: {avg_val_loss:.4f} \"\n              f\"AUC PR: {metrics['auc_pr']:.4f} \"\n              f\"Precision: {metrics['precision']:.4f} \"\n              f\"Recall: {metrics['recall']:.4f} \"\n              f\"F1: {metrics['f1_score']:.4f}\")\n\n    # Restore best model\n    if best_model_state is not None:\n        model.load_state_dict(best_model_state)\n\n    # Final evaluation\n    final_metrics = evaluate_model_metrics(model, val_loader, device=device)\n    print(\"\\nFinal Model Performance:\")\n    print(f\"AUC PR: {final_metrics['auc_pr']:.4f}\")\n    print(f\"Precision: {final_metrics['precision']:.4f}\")\n    print(f\"Recall: {final_metrics['recall']:.4f}\")\n    print(f\"F1 Score: {final_metrics['f1_score']:.4f}\")\n\n    return model, history, final_metrics",
   "metadata": {
    "id": "ekJQhLi_OX7f",
    "trusted": true,
    "execution": {
     "iopub.status.busy": "2025-04-22T16:41:15.445269Z",
     "iopub.execute_input": "2025-04-22T16:41:15.445940Z",
     "iopub.status.idle": "2025-04-22T16:41:15.456267Z",
     "shell.execute_reply.started": "2025-04-22T16:41:15.445915Z",
     "shell.execute_reply": "2025-04-22T16:41:15.455561Z"
    }
   },
   "outputs": [],
   "execution_count": 46
  },
  {
   "cell_type": "code",
   "source": "import torch\nimport os\n\ndef save_model(model, path='model_state.pth', full_model=False):\n    \"\"\"\n    Saves a PyTorch model to disk.\n\n    Parameters:\n    - model: the PyTorch model to save\n    - path: file path to save the model (default: 'model_state.pth')\n    - full_model: if True, saves the full model; otherwise, saves only state_dict\n    \"\"\"\n    directory = 'models'\n    os.makedirs(directory, exist_ok=True)  # Ensure 'models/' exists\n    path = os.path.join(directory, path)\n\n    if full_model:\n        torch.save(model, path)\n        print(f\"Full model saved to {path}\")\n    else:\n        torch.save(model.state_dict(), path)\n        print(f\"Model state_dict saved to {path}\")\n",
   "metadata": {
    "trusted": true,
    "execution": {
     "iopub.status.busy": "2025-04-22T16:09:26.587038Z",
     "iopub.execute_input": "2025-04-22T16:09:26.587597Z",
     "iopub.status.idle": "2025-04-22T16:09:26.592088Z",
     "shell.execute_reply.started": "2025-04-22T16:09:26.587575Z",
     "shell.execute_reply": "2025-04-22T16:09:26.591339Z"
    }
   },
   "outputs": [],
   "execution_count": 34
  },
  {
   "cell_type": "code",
   "source": "device = 'cuda' if torch.cuda.is_available() else 'cpu'\nmodel1_trained, history, final_metrics = train_model(model1, train_loader, val_loader, lr=lr, pos_weight=pos_weight, num_epochs=num_epochs, device=device)\n",
   "metadata": {
    "colab": {
     "base_uri": "https://localhost:8080/"
    },
    "id": "dv70HIMCN7Oc",
    "outputId": "63f37eec-41bf-4eaf-b7cf-73ffd407404d",
    "trusted": true,
    "execution": {
     "iopub.status.busy": "2025-04-22T16:41:23.595927Z",
     "iopub.execute_input": "2025-04-22T16:41:23.596694Z",
     "iopub.status.idle": "2025-04-22T17:38:57.665352Z",
     "shell.execute_reply.started": "2025-04-22T16:41:23.596669Z",
     "shell.execute_reply": "2025-04-22T17:38:57.664550Z"
    }
   },
   "outputs": [
    {
     "name": "stderr",
     "text": "[Epoch 1/100] Training: 100%|██████████| 469/469 [00:11<00:00, 41.25it/s]\n[Epoch 1/100] Validation: 100%|██████████| 59/59 [00:00<00:00, 113.96it/s]\n",
     "output_type": "stream"
    },
    {
     "name": "stdout",
     "text": "New best model with AUC PR: 0.1161\nEpoch [1/100] Train Loss: 0.2283 Val Loss: 0.1384 AUC PR: 0.1161 Precision: 0.2314 Recall: 0.0850 F1: 0.1244\n",
     "output_type": "stream"
    },
    {
     "name": "stderr",
     "text": "[Epoch 2/100] Training: 100%|██████████| 469/469 [00:11<00:00, 41.77it/s]\n[Epoch 2/100] Validation: 100%|██████████| 59/59 [00:00<00:00, 99.27it/s] \n",
     "output_type": "stream"
    },
    {
     "name": "stdout",
     "text": "New best model with AUC PR: 0.1403\nEpoch [2/100] Train Loss: 0.1049 Val Loss: 0.1265 AUC PR: 0.1403 Precision: 0.2383 Recall: 0.2195 F1: 0.2285\n",
     "output_type": "stream"
    },
    {
     "name": "stderr",
     "text": "[Epoch 3/100] Training: 100%|██████████| 469/469 [00:11<00:00, 41.50it/s]\n[Epoch 3/100] Validation: 100%|██████████| 59/59 [00:00<00:00, 117.00it/s]\n",
     "output_type": "stream"
    },
    {
     "name": "stdout",
     "text": "New best model with AUC PR: 0.1483\nEpoch [3/100] Train Loss: 0.0944 Val Loss: 0.1242 AUC PR: 0.1483 Precision: 0.2500 Recall: 0.1803 F1: 0.2095\n",
     "output_type": "stream"
    },
    {
     "name": "stderr",
     "text": "[Epoch 4/100] Training: 100%|██████████| 469/469 [00:11<00:00, 41.39it/s]\n[Epoch 4/100] Validation: 100%|██████████| 59/59 [00:00<00:00, 117.21it/s]\n",
     "output_type": "stream"
    },
    {
     "name": "stdout",
     "text": "New best model with AUC PR: 0.1496\nEpoch [4/100] Train Loss: 0.0918 Val Loss: 0.1225 AUC PR: 0.1496 Precision: 0.2502 Recall: 0.1789 F1: 0.2086\n",
     "output_type": "stream"
    },
    {
     "name": "stderr",
     "text": "[Epoch 5/100] Training: 100%|██████████| 469/469 [00:11<00:00, 41.65it/s]\n[Epoch 5/100] Validation: 100%|██████████| 59/59 [00:00<00:00, 116.99it/s]\n",
     "output_type": "stream"
    },
    {
     "name": "stdout",
     "text": "New best model with AUC PR: 0.1516\nEpoch [5/100] Train Loss: 0.0902 Val Loss: 0.1226 AUC PR: 0.1516 Precision: 0.2528 Recall: 0.1759 F1: 0.2074\n",
     "output_type": "stream"
    },
    {
     "name": "stderr",
     "text": "[Epoch 6/100] Training: 100%|██████████| 469/469 [00:11<00:00, 41.61it/s]\n[Epoch 6/100] Validation: 100%|██████████| 59/59 [00:00<00:00, 111.65it/s]\n",
     "output_type": "stream"
    },
    {
     "name": "stdout",
     "text": "New best model with AUC PR: 0.1529\nEpoch [6/100] Train Loss: 0.0891 Val Loss: 0.1224 AUC PR: 0.1529 Precision: 0.2530 Recall: 0.1895 F1: 0.2167\n",
     "output_type": "stream"
    },
    {
     "name": "stderr",
     "text": "[Epoch 7/100] Training: 100%|██████████| 469/469 [00:11<00:00, 41.78it/s]\n[Epoch 7/100] Validation: 100%|██████████| 59/59 [00:00<00:00, 118.06it/s]\n",
     "output_type": "stream"
    },
    {
     "name": "stdout",
     "text": "New best model with AUC PR: 0.1558\nEpoch [7/100] Train Loss: 0.0886 Val Loss: 0.1216 AUC PR: 0.1558 Precision: 0.2591 Recall: 0.1242 F1: 0.1679\n",
     "output_type": "stream"
    },
    {
     "name": "stderr",
     "text": "[Epoch 8/100] Training: 100%|██████████| 469/469 [00:11<00:00, 42.06it/s]\n[Epoch 8/100] Validation: 100%|██████████| 59/59 [00:00<00:00, 117.02it/s]\n[Epoch 11/100] Training: 100%|██████████| 469/469 [00:11<00:00, 41.71it/s]\n[Epoch 11/100] Validation: 100%|██████████| 59/59 [00:00<00:00, 117.55it/s]\n",
     "output_type": "stream"
    },
    {
     "name": "stdout",
     "text": "New best model with AUC PR: 0.1588\nEpoch [11/100] Train Loss: 0.0862 Val Loss: 0.1195 AUC PR: 0.1588 Precision: 0.2577 Recall: 0.1936 F1: 0.2211\n",
     "output_type": "stream"
    },
    {
     "name": "stderr",
     "text": "[Epoch 12/100] Training: 100%|██████████| 469/469 [00:11<00:00, 41.84it/s]\n[Epoch 12/100] Validation: 100%|██████████| 59/59 [00:00<00:00, 117.84it/s]\n",
     "output_type": "stream"
    },
    {
     "name": "stdout",
     "text": "New best model with AUC PR: 0.1598\nEpoch [12/100] Train Loss: 0.0859 Val Loss: 0.1187 AUC PR: 0.1598 Precision: 0.2574 Recall: 0.2151 F1: 0.2344\n",
     "output_type": "stream"
    },
    {
     "name": "stderr",
     "text": "[Epoch 13/100] Training: 100%|██████████| 469/469 [00:11<00:00, 41.80it/s]\n[Epoch 13/100] Validation: 100%|██████████| 59/59 [00:00<00:00, 112.01it/s]\n",
     "output_type": "stream"
    },
    {
     "name": "stdout",
     "text": "Epoch [13/100] Train Loss: 0.0856 Val Loss: 0.1199 AUC PR: 0.1598 Precision: 0.2603 Recall: 0.1617 F1: 0.1995\n",
     "output_type": "stream"
    },
    {
     "name": "stderr",
     "text": "[Epoch 14/100] Training: 100%|██████████| 469/469 [00:11<00:00, 41.73it/s]\n[Epoch 14/100] Validation: 100%|██████████| 59/59 [00:00<00:00, 117.04it/s]\n",
     "output_type": "stream"
    },
    {
     "name": "stdout",
     "text": "New best model with AUC PR: 0.1613\nEpoch [14/100] Train Loss: 0.0847 Val Loss: 0.1187 AUC PR: 0.1613 Precision: 0.2561 Recall: 0.2261 F1: 0.2402\n",
     "output_type": "stream"
    },
    {
     "name": "stderr",
     "text": "[Epoch 15/100] Training: 100%|██████████| 469/469 [00:11<00:00, 41.85it/s]\n[Epoch 15/100] Validation: 100%|██████████| 59/59 [00:00<00:00, 117.39it/s]\n",
     "output_type": "stream"
    },
    {
     "name": "stdout",
     "text": "New best model with AUC PR: 0.1615\nEpoch [15/100] Train Loss: 0.0847 Val Loss: 0.1193 AUC PR: 0.1615 Precision: 0.2597 Recall: 0.2033 F1: 0.2280\n",
     "output_type": "stream"
    },
    {
     "name": "stderr",
     "text": "[Epoch 16/100] Training: 100%|██████████| 469/469 [00:11<00:00, 41.70it/s]\n[Epoch 16/100] Validation: 100%|██████████| 59/59 [00:00<00:00, 117.12it/s]\n",
     "output_type": "stream"
    },
    {
     "name": "stdout",
     "text": "New best model with AUC PR: 0.1622\nEpoch [16/100] Train Loss: 0.0843 Val Loss: 0.1193 AUC PR: 0.1622 Precision: 0.2608 Recall: 0.1999 F1: 0.2263\n",
     "output_type": "stream"
    },
    {
     "name": "stderr",
     "text": "[Epoch 17/100] Training: 100%|██████████| 469/469 [00:11<00:00, 41.86it/s]\n[Epoch 17/100] Validation: 100%|██████████| 59/59 [00:00<00:00, 117.40it/s]\n",
     "output_type": "stream"
    },
    {
     "name": "stdout",
     "text": "New best model with AUC PR: 0.1637\nEpoch [17/100] Train Loss: 0.0839 Val Loss: 0.1184 AUC PR: 0.1637 Precision: 0.2588 Recall: 0.2255 F1: 0.2410\n",
     "output_type": "stream"
    },
    {
     "name": "stderr",
     "text": "[Epoch 18/100] Training: 100%|██████████| 469/469 [00:11<00:00, 41.93it/s]\n[Epoch 18/100] Validation: 100%|██████████| 59/59 [00:00<00:00, 116.60it/s]\n",
     "output_type": "stream"
    },
    {
     "name": "stdout",
     "text": "New best model with AUC PR: 0.1641\nEpoch [18/100] Train Loss: 0.0837 Val Loss: 0.1178 AUC PR: 0.1641 Precision: 0.2617 Recall: 0.2120 F1: 0.2343\n",
     "output_type": "stream"
    },
    {
     "name": "stderr",
     "text": "[Epoch 19/100] Training: 100%|██████████| 469/469 [00:11<00:00, 42.00it/s]\n[Epoch 19/100] Validation: 100%|██████████| 59/59 [00:00<00:00, 115.38it/s]\n",
     "output_type": "stream"
    },
    {
     "name": "stdout",
     "text": "New best model with AUC PR: 0.1652\nEpoch [19/100] Train Loss: 0.0835 Val Loss: 0.1207 AUC PR: 0.1652 Precision: 0.2660 Recall: 0.1671 F1: 0.2053\n",
     "output_type": "stream"
    },
    {
     "name": "stderr",
     "text": "[Epoch 20/100] Training: 100%|██████████| 469/469 [00:11<00:00, 41.81it/s]\n[Epoch 20/100] Validation: 100%|██████████| 59/59 [00:00<00:00, 117.51it/s]\n",
     "output_type": "stream"
    },
    {
     "name": "stdout",
     "text": "Epoch [20/100] Train Loss: 0.0830 Val Loss: 0.1191 AUC PR: 0.1645 Precision: 0.2637 Recall: 0.2043 F1: 0.2302\n",
     "output_type": "stream"
    },
    {
     "name": "stderr",
     "text": "[Epoch 21/100] Training: 100%|██████████| 469/469 [00:11<00:00, 41.85it/s]\n[Epoch 21/100] Validation: 100%|██████████| 59/59 [00:00<00:00, 118.19it/s]\n",
     "output_type": "stream"
    },
    {
     "name": "stdout",
     "text": "New best model with AUC PR: 0.1661\nEpoch [21/100] Train Loss: 0.0831 Val Loss: 0.1185 AUC PR: 0.1661 Precision: 0.2669 Recall: 0.1864 F1: 0.2195\n",
     "output_type": "stream"
    },
    {
     "name": "stderr",
     "text": "[Epoch 22/100] Training: 100%|██████████| 469/469 [00:11<00:00, 42.02it/s]\n[Epoch 22/100] Validation: 100%|██████████| 59/59 [00:00<00:00, 116.73it/s]\n",
     "output_type": "stream"
    },
    {
     "name": "stdout",
     "text": "Epoch [22/100] Train Loss: 0.0828 Val Loss: 0.1190 AUC PR: 0.1660 Precision: 0.2667 Recall: 0.1989 F1: 0.2278\n",
     "output_type": "stream"
    },
    {
     "name": "stderr",
     "text": "[Epoch 23/100] Training: 100%|██████████| 469/469 [00:11<00:00, 41.07it/s]\n[Epoch 23/100] Validation: 100%|██████████| 59/59 [00:00<00:00, 115.43it/s]\n",
     "output_type": "stream"
    },
    {
     "name": "stdout",
     "text": "Epoch [23/100] Train Loss: 0.0829 Val Loss: 0.1181 AUC PR: 0.1655 Precision: 0.2667 Recall: 0.1845 F1: 0.2181\n",
     "output_type": "stream"
    },
    {
     "name": "stderr",
     "text": "[Epoch 24/100] Training: 100%|██████████| 469/469 [00:11<00:00, 41.11it/s]\n[Epoch 24/100] Validation: 100%|██████████| 59/59 [00:00<00:00, 108.62it/s]\n",
     "output_type": "stream"
    },
    {
     "name": "stdout",
     "text": "New best model with AUC PR: 0.1664\nEpoch [24/100] Train Loss: 0.0826 Val Loss: 0.1189 AUC PR: 0.1664 Precision: 0.2634 Recall: 0.2220 F1: 0.2409\n",
     "output_type": "stream"
    },
    {
     "name": "stderr",
     "text": "[Epoch 25/100] Training: 100%|██████████| 469/469 [00:11<00:00, 40.31it/s]\n[Epoch 25/100] Validation: 100%|██████████| 59/59 [00:00<00:00, 113.88it/s]\n",
     "output_type": "stream"
    },
    {
     "name": "stdout",
     "text": "New best model with AUC PR: 0.1687\nEpoch [25/100] Train Loss: 0.0820 Val Loss: 0.1193 AUC PR: 0.1687 Precision: 0.2768 Recall: 0.1344 F1: 0.1809\n",
     "output_type": "stream"
    },
    {
     "name": "stderr",
     "text": "[Epoch 26/100] Training: 100%|██████████| 469/469 [00:11<00:00, 40.52it/s]\n[Epoch 26/100] Validation: 100%|██████████| 59/59 [00:00<00:00, 115.55it/s]\n",
     "output_type": "stream"
    },
    {
     "name": "stdout",
     "text": "New best model with AUC PR: 0.1688\nEpoch [26/100] Train Loss: 0.0821 Val Loss: 0.1180 AUC PR: 0.1688 Precision: 0.2656 Recall: 0.2221 F1: 0.2419\n",
     "output_type": "stream"
    },
    {
     "name": "stderr",
     "text": "[Epoch 27/100] Training:  96%|█████████▌| 450/469 [00:10<00:00, 41.94it/s]",
     "output_type": "stream"
    },
    {
     "name": "stdout",
     "text": "New best model with AUC PR: 0.1702\nEpoch [29/100] Train Loss: 0.0814 Val Loss: 0.1177 AUC PR: 0.1702 Precision: 0.2661 Recall: 0.2288 F1: 0.2460\n",
     "output_type": "stream"
    },
    {
     "name": "stderr",
     "text": "[Epoch 30/100] Training: 100%|██████████| 469/469 [00:11<00:00, 42.00it/s]\n[Epoch 30/100] Validation: 100%|██████████| 59/59 [00:00<00:00, 117.93it/s]\n",
     "output_type": "stream"
    },
    {
     "name": "stdout",
     "text": "New best model with AUC PR: 0.1708\nEpoch [30/100] Train Loss: 0.0813 Val Loss: 0.1171 AUC PR: 0.1708 Precision: 0.2676 Recall: 0.2229 F1: 0.2432\n",
     "output_type": "stream"
    },
    {
     "name": "stderr",
     "text": "[Epoch 31/100] Training: 100%|██████████| 469/469 [00:11<00:00, 41.92it/s]\n[Epoch 31/100] Validation: 100%|██████████| 59/59 [00:00<00:00, 118.96it/s]\n",
     "output_type": "stream"
    },
    {
     "name": "stdout",
     "text": "New best model with AUC PR: 0.1719\nEpoch [31/100] Train Loss: 0.0813 Val Loss: 0.1165 AUC PR: 0.1719 Precision: 0.2686 Recall: 0.2186 F1: 0.2410\n",
     "output_type": "stream"
    },
    {
     "name": "stderr",
     "text": "[Epoch 32/100] Training: 100%|██████████| 469/469 [00:11<00:00, 41.88it/s]\n[Epoch 32/100] Validation: 100%|██████████| 59/59 [00:00<00:00, 117.15it/s]\n",
     "output_type": "stream"
    },
    {
     "name": "stdout",
     "text": "Epoch [32/100] Train Loss: 0.0809 Val Loss: 0.1188 AUC PR: 0.1711 Precision: 0.2685 Recall: 0.2215 F1: 0.2428\n",
     "output_type": "stream"
    },
    {
     "name": "stderr",
     "text": "[Epoch 33/100] Training: 100%|██████████| 469/469 [00:11<00:00, 41.94it/s]\n[Epoch 33/100] Validation: 100%|██████████| 59/59 [00:00<00:00, 118.51it/s]\n",
     "output_type": "stream"
    },
    {
     "name": "stdout",
     "text": "Epoch [33/100] Train Loss: 0.0807 Val Loss: 0.1176 AUC PR: 0.1710 Precision: 0.2666 Recall: 0.2304 F1: 0.2472\n",
     "output_type": "stream"
    },
    {
     "name": "stderr",
     "text": "[Epoch 34/100] Training: 100%|██████████| 469/469 [00:11<00:00, 41.73it/s]\n[Epoch 34/100] Validation: 100%|██████████| 59/59 [00:00<00:00, 117.98it/s]\n",
     "output_type": "stream"
    },
    {
     "name": "stdout",
     "text": "New best model with AUC PR: 0.1738\nEpoch [34/100] Train Loss: 0.0807 Val Loss: 0.1162 AUC PR: 0.1738 Precision: 0.2586 Recall: 0.2644 F1: 0.2615\n",
     "output_type": "stream"
    },
    {
     "name": "stderr",
     "text": "[Epoch 35/100] Training: 100%|██████████| 469/469 [00:11<00:00, 41.75it/s]\n[Epoch 35/100] Validation: 100%|██████████| 59/59 [00:00<00:00, 116.54it/s]\n",
     "output_type": "stream"
    },
    {
     "name": "stdout",
     "text": "New best model with AUC PR: 0.1744\nEpoch [35/100] Train Loss: 0.0806 Val Loss: 0.1154 AUC PR: 0.1744 Precision: 0.2615 Recall: 0.2557 F1: 0.2586\n",
     "output_type": "stream"
    },
    {
     "name": "stderr",
     "text": "[Epoch 36/100] Training: 100%|██████████| 469/469 [00:11<00:00, 41.38it/s]\n[Epoch 36/100] Validation: 100%|██████████| 59/59 [00:00<00:00, 117.24it/s]\n",
     "output_type": "stream"
    },
    {
     "name": "stdout",
     "text": "New best model with AUC PR: 0.1752\nEpoch [36/100] Train Loss: 0.0807 Val Loss: 0.1149 AUC PR: 0.1752 Precision: 0.2717 Recall: 0.2153 F1: 0.2402\n",
     "output_type": "stream"
    },
    {
     "name": "stderr",
     "text": "[Epoch 37/100] Training: 100%|██████████| 469/469 [00:11<00:00, 41.64it/s]\n[Epoch 37/100] Validation: 100%|██████████| 59/59 [00:00<00:00, 119.11it/s]\n",
     "output_type": "stream"
    },
    {
     "name": "stdout",
     "text": "New best model with AUC PR: 0.1756\nEpoch [37/100] Train Loss: 0.0802 Val Loss: 0.1175 AUC PR: 0.1756 Precision: 0.2678 Recall: 0.2375 F1: 0.2517\n",
     "output_type": "stream"
    },
    {
     "name": "stderr",
     "text": "[Epoch 38/100] Training: 100%|██████████| 469/469 [00:11<00:00, 41.93it/s]\n[Epoch 38/100] Validation: 100%|██████████| 59/59 [00:00<00:00, 116.53it/s]\n",
     "output_type": "stream"
    },
    {
     "name": "stdout",
     "text": "Epoch [38/100] Train Loss: 0.0800 Val Loss: 0.1160 AUC PR: 0.1749 Precision: 0.2565 Recall: 0.2736 F1: 0.2648\n",
     "output_type": "stream"
    },
    {
     "name": "stderr",
     "text": "[Epoch 39/100] Training: 100%|██████████| 469/469 [00:11<00:00, 41.96it/s]\n[Epoch 39/100] Validation: 100%|██████████| 59/59 [00:00<00:00, 118.09it/s]\n",
     "output_type": "stream"
    },
    {
     "name": "stdout",
     "text": "Epoch [39/100] Train Loss: 0.0800 Val Loss: 0.1171 AUC PR: 0.1747 Precision: 0.2639 Recall: 0.2505 F1: 0.2571\n",
     "output_type": "stream"
    },
    {
     "name": "stderr",
     "text": "[Epoch 40/100] Training: 100%|██████████| 469/469 [00:11<00:00, 42.07it/s]\n[Epoch 40/100] Validation: 100%|██████████| 59/59 [00:00<00:00, 118.48it/s]\n",
     "output_type": "stream"
    },
    {
     "name": "stdout",
     "text": "New best model with AUC PR: 0.1765\nEpoch [40/100] Train Loss: 0.0799 Val Loss: 0.1171 AUC PR: 0.1765 Precision: 0.2605 Recall: 0.2643 F1: 0.2624\n",
     "output_type": "stream"
    },
    {
     "name": "stderr",
     "text": "[Epoch 41/100] Training: 100%|██████████| 469/469 [00:11<00:00, 41.85it/s]\n[Epoch 41/100] Validation: 100%|██████████| 59/59 [00:00<00:00, 118.11it/s]\n",
     "output_type": "stream"
    },
    {
     "name": "stdout",
     "text": "Epoch [41/100] Train Loss: 0.0796 Val Loss: 0.1175 AUC PR: 0.1749 Precision: 0.2685 Recall: 0.2359 F1: 0.2512\n",
     "output_type": "stream"
    },
    {
     "name": "stderr",
     "text": "[Epoch 42/100] Training: 100%|██████████| 469/469 [00:11<00:00, 41.92it/s]\n[Epoch 42/100] Validation: 100%|██████████| 59/59 [00:00<00:00, 118.01it/s]\n",
     "output_type": "stream"
    },
    {
     "name": "stdout",
     "text": "Epoch [45/100] Train Loss: 0.0793 Val Loss: 0.1162 AUC PR: 0.1774 Precision: 0.2720 Recall: 0.2376 F1: 0.2536\n",
     "output_type": "stream"
    },
    {
     "name": "stderr",
     "text": "[Epoch 46/100] Training: 100%|██████████| 469/469 [00:11<00:00, 41.54it/s]\n[Epoch 46/100] Validation: 100%|██████████| 59/59 [00:00<00:00, 113.81it/s]\n",
     "output_type": "stream"
    },
    {
     "name": "stdout",
     "text": "Epoch [46/100] Train Loss: 0.0790 Val Loss: 0.1172 AUC PR: 0.1782 Precision: 0.2667 Recall: 0.2546 F1: 0.2605\n",
     "output_type": "stream"
    },
    {
     "name": "stderr",
     "text": "[Epoch 47/100] Training: 100%|██████████| 469/469 [00:11<00:00, 41.30it/s]\n[Epoch 47/100] Validation: 100%|██████████| 59/59 [00:00<00:00, 114.80it/s]\n",
     "output_type": "stream"
    },
    {
     "name": "stdout",
     "text": "Epoch [47/100] Train Loss: 0.0791 Val Loss: 0.1173 AUC PR: 0.1782 Precision: 0.2773 Recall: 0.2196 F1: 0.2451\n",
     "output_type": "stream"
    },
    {
     "name": "stderr",
     "text": "[Epoch 48/100] Training: 100%|██████████| 469/469 [00:11<00:00, 41.69it/s]\n[Epoch 48/100] Validation: 100%|██████████| 59/59 [00:00<00:00, 116.45it/s]\n",
     "output_type": "stream"
    },
    {
     "name": "stdout",
     "text": "New best model with AUC PR: 0.1799\nEpoch [48/100] Train Loss: 0.0792 Val Loss: 0.1152 AUC PR: 0.1799 Precision: 0.2605 Recall: 0.2803 F1: 0.2700\n",
     "output_type": "stream"
    },
    {
     "name": "stderr",
     "text": "[Epoch 49/100] Training: 100%|██████████| 469/469 [00:11<00:00, 41.67it/s]\n[Epoch 49/100] Validation: 100%|██████████| 59/59 [00:00<00:00, 117.81it/s]\n",
     "output_type": "stream"
    },
    {
     "name": "stdout",
     "text": "Epoch [49/100] Train Loss: 0.0787 Val Loss: 0.1179 AUC PR: 0.1783 Precision: 0.2646 Recall: 0.2598 F1: 0.2622\n",
     "output_type": "stream"
    },
    {
     "name": "stderr",
     "text": "[Epoch 50/100] Training: 100%|██████████| 469/469 [00:11<00:00, 41.42it/s]\n[Epoch 50/100] Validation: 100%|██████████| 59/59 [00:00<00:00, 116.45it/s]\n",
     "output_type": "stream"
    },
    {
     "name": "stdout",
     "text": "New best model with AUC PR: 0.1807\nEpoch [50/100] Train Loss: 0.0784 Val Loss: 0.1153 AUC PR: 0.1807 Precision: 0.2823 Recall: 0.2181 F1: 0.2461\n",
     "output_type": "stream"
    },
    {
     "name": "stderr",
     "text": "[Epoch 51/100] Training: 100%|██████████| 469/469 [00:11<00:00, 42.11it/s]\n[Epoch 51/100] Validation: 100%|██████████| 59/59 [00:00<00:00, 115.64it/s]\n",
     "output_type": "stream"
    },
    {
     "name": "stdout",
     "text": "Epoch [51/100] Train Loss: 0.0784 Val Loss: 0.1169 AUC PR: 0.1802 Precision: 0.2720 Recall: 0.2475 F1: 0.2592\n",
     "output_type": "stream"
    },
    {
     "name": "stderr",
     "text": "[Epoch 52/100] Training: 100%|██████████| 469/469 [00:11<00:00, 41.25it/s]\n[Epoch 52/100] Validation: 100%|██████████| 59/59 [00:00<00:00, 117.82it/s]\n",
     "output_type": "stream"
    },
    {
     "name": "stdout",
     "text": "New best model with AUC PR: 0.1811\nEpoch [52/100] Train Loss: 0.0784 Val Loss: 0.1160 AUC PR: 0.1811 Precision: 0.2650 Recall: 0.2720 F1: 0.2684\n",
     "output_type": "stream"
    },
    {
     "name": "stderr",
     "text": "[Epoch 53/100] Training: 100%|██████████| 469/469 [00:11<00:00, 42.25it/s]\n[Epoch 53/100] Validation: 100%|██████████| 59/59 [00:00<00:00, 117.95it/s]\n",
     "output_type": "stream"
    },
    {
     "name": "stdout",
     "text": "Epoch [53/100] Train Loss: 0.0783 Val Loss: 0.1164 AUC PR: 0.1803 Precision: 0.2765 Recall: 0.2325 F1: 0.2526\n",
     "output_type": "stream"
    },
    {
     "name": "stderr",
     "text": "[Epoch 54/100] Training:  63%|██████▎   | 297/469 [00:07<00:04, 42.10it/s]",
     "output_type": "stream"
    },
    {
     "name": "stdout",
     "text": "Epoch [56/100] Train Loss: 0.0781 Val Loss: 0.1157 AUC PR: 0.1811 Precision: 0.2612 Recall: 0.2800 F1: 0.2702\n",
     "output_type": "stream"
    },
    {
     "name": "stderr",
     "text": "[Epoch 57/100] Training: 100%|██████████| 469/469 [00:11<00:00, 42.09it/s]\n[Epoch 57/100] Validation: 100%|██████████| 59/59 [00:00<00:00, 111.07it/s]\n",
     "output_type": "stream"
    },
    {
     "name": "stdout",
     "text": "Epoch [57/100] Train Loss: 0.0777 Val Loss: 0.1161 AUC PR: 0.1814 Precision: 0.2662 Recall: 0.2686 F1: 0.2674\n",
     "output_type": "stream"
    },
    {
     "name": "stderr",
     "text": "[Epoch 58/100] Training: 100%|██████████| 469/469 [00:11<00:00, 41.98it/s]\n[Epoch 58/100] Validation: 100%|██████████| 59/59 [00:00<00:00, 118.17it/s]\n",
     "output_type": "stream"
    },
    {
     "name": "stdout",
     "text": "New best model with AUC PR: 0.1828\nEpoch [58/100] Train Loss: 0.0779 Val Loss: 0.1157 AUC PR: 0.1828 Precision: 0.2652 Recall: 0.2757 F1: 0.2703\n",
     "output_type": "stream"
    },
    {
     "name": "stderr",
     "text": "[Epoch 59/100] Training: 100%|██████████| 469/469 [00:11<00:00, 41.44it/s]\n[Epoch 59/100] Validation: 100%|██████████| 59/59 [00:00<00:00, 117.76it/s]\n",
     "output_type": "stream"
    },
    {
     "name": "stdout",
     "text": "Epoch [59/100] Train Loss: 0.0775 Val Loss: 0.1180 AUC PR: 0.1818 Precision: 0.2640 Recall: 0.2764 F1: 0.2701\n",
     "output_type": "stream"
    },
    {
     "name": "stderr",
     "text": "[Epoch 60/100] Training: 100%|██████████| 469/469 [00:11<00:00, 41.85it/s]\n[Epoch 60/100] Validation: 100%|██████████| 59/59 [00:00<00:00, 119.08it/s]\n",
     "output_type": "stream"
    },
    {
     "name": "stdout",
     "text": "Epoch [60/100] Train Loss: 0.0778 Val Loss: 0.1161 AUC PR: 0.1826 Precision: 0.2697 Recall: 0.2624 F1: 0.2660\n",
     "output_type": "stream"
    },
    {
     "name": "stderr",
     "text": "[Epoch 61/100] Training: 100%|██████████| 469/469 [00:11<00:00, 41.90it/s]\n[Epoch 61/100] Validation: 100%|██████████| 59/59 [00:00<00:00, 118.65it/s]\n[Epoch 64/100] Training: 100%|██████████| 469/469 [00:11<00:00, 41.84it/s]\n[Epoch 64/100] Validation: 100%|██████████| 59/59 [00:00<00:00, 117.12it/s]\n",
     "output_type": "stream"
    },
    {
     "name": "stdout",
     "text": "Epoch [64/100] Train Loss: 0.0772 Val Loss: 0.1164 AUC PR: 0.1827 Precision: 0.2715 Recall: 0.2543 F1: 0.2626\n",
     "output_type": "stream"
    },
    {
     "name": "stderr",
     "text": "[Epoch 65/100] Training: 100%|██████████| 469/469 [00:11<00:00, 41.24it/s]\n[Epoch 65/100] Validation: 100%|██████████| 59/59 [00:00<00:00, 116.09it/s]\n",
     "output_type": "stream"
    },
    {
     "name": "stdout",
     "text": "Epoch [65/100] Train Loss: 0.0774 Val Loss: 0.1163 AUC PR: 0.1816 Precision: 0.2599 Recall: 0.2872 F1: 0.2729\n",
     "output_type": "stream"
    },
    {
     "name": "stderr",
     "text": "[Epoch 66/100] Training: 100%|██████████| 469/469 [00:11<00:00, 42.21it/s]\n[Epoch 66/100] Validation: 100%|██████████| 59/59 [00:00<00:00, 117.49it/s]\n",
     "output_type": "stream"
    },
    {
     "name": "stdout",
     "text": "Epoch [66/100] Train Loss: 0.0773 Val Loss: 0.1164 AUC PR: 0.1824 Precision: 0.2658 Recall: 0.2720 F1: 0.2688\n",
     "output_type": "stream"
    },
    {
     "name": "stderr",
     "text": "[Epoch 67/100] Training: 100%|██████████| 469/469 [00:11<00:00, 42.27it/s]\n[Epoch 67/100] Validation: 100%|██████████| 59/59 [00:00<00:00, 118.66it/s]\n",
     "output_type": "stream"
    },
    {
     "name": "stdout",
     "text": "New best model with AUC PR: 0.1840\nEpoch [67/100] Train Loss: 0.0772 Val Loss: 0.1154 AUC PR: 0.1840 Precision: 0.2633 Recall: 0.2862 F1: 0.2743\n",
     "output_type": "stream"
    },
    {
     "name": "stderr",
     "text": "[Epoch 68/100] Training: 100%|██████████| 469/469 [00:11<00:00, 42.04it/s]\n[Epoch 68/100] Validation: 100%|██████████| 59/59 [00:00<00:00, 119.24it/s]\n",
     "output_type": "stream"
    },
    {
     "name": "stdout",
     "text": "Epoch [68/100] Train Loss: 0.0770 Val Loss: 0.1160 AUC PR: 0.1826 Precision: 0.2755 Recall: 0.2407 F1: 0.2569\n",
     "output_type": "stream"
    },
    {
     "name": "stderr",
     "text": "[Epoch 69/100] Training: 100%|██████████| 469/469 [00:11<00:00, 42.06it/s]\n[Epoch 69/100] Validation: 100%|██████████| 59/59 [00:00<00:00, 106.31it/s]\n",
     "output_type": "stream"
    },
    {
     "name": "stdout",
     "text": "Epoch [69/100] Train Loss: 0.0770 Val Loss: 0.1179 AUC PR: 0.1830 Precision: 0.2631 Recall: 0.2837 F1: 0.2730\n",
     "output_type": "stream"
    },
    {
     "name": "stderr",
     "text": "[Epoch 70/100] Training: 100%|██████████| 469/469 [00:11<00:00, 41.94it/s]\n[Epoch 70/100] Validation: 100%|██████████| 59/59 [00:00<00:00, 119.09it/s]\n",
     "output_type": "stream"
    },
    {
     "name": "stdout",
     "text": "Epoch [70/100] Train Loss: 0.0766 Val Loss: 0.1163 AUC PR: 0.1837 Precision: 0.2702 Recall: 0.2660 F1: 0.2681\n",
     "output_type": "stream"
    },
    {
     "name": "stderr",
     "text": "[Epoch 71/100] Training: 100%|██████████| 469/469 [00:11<00:00, 41.94it/s]\n[Epoch 71/100] Validation: 100%|██████████| 59/59 [00:00<00:00, 118.12it/s]\n",
     "output_type": "stream"
    },
    {
     "name": "stdout",
     "text": "New best model with AUC PR: 0.1853\nEpoch [71/100] Train Loss: 0.0767 Val Loss: 0.1151 AUC PR: 0.1853 Precision: 0.2631 Recall: 0.2875 F1: 0.2748\n",
     "output_type": "stream"
    },
    {
     "name": "stderr",
     "text": "[Epoch 72/100] Training: 100%|██████████| 469/469 [00:11<00:00, 41.82it/s]\n[Epoch 72/100] Validation: 100%|██████████| 59/59 [00:00<00:00, 117.54it/s]\n",
     "output_type": "stream"
    },
    {
     "name": "stdout",
     "text": "Epoch [72/100] Train Loss: 0.0766 Val Loss: 0.1177 AUC PR: 0.1826 Precision: 0.2621 Recall: 0.2871 F1: 0.2740\n",
     "output_type": "stream"
    },
    {
     "name": "stderr",
     "text": "[Epoch 73/100] Training: 100%|██████████| 469/469 [00:11<00:00, 41.98it/s]\n[Epoch 73/100] Validation: 100%|██████████| 59/59 [00:00<00:00, 117.70it/s]\n",
     "output_type": "stream"
    },
    {
     "name": "stdout",
     "text": "New best model with AUC PR: 0.1863\nEpoch [73/100] Train Loss: 0.0766 Val Loss: 0.1161 AUC PR: 0.1863 Precision: 0.2671 Recall: 0.2761 F1: 0.2715\n",
     "output_type": "stream"
    },
    {
     "name": "stderr",
     "text": "[Epoch 74/100] Training: 100%|██████████| 469/469 [00:11<00:00, 42.14it/s]\n[Epoch 74/100] Validation: 100%|██████████| 59/59 [00:00<00:00, 116.89it/s]\n",
     "output_type": "stream"
    },
    {
     "name": "stdout",
     "text": "Epoch [74/100] Train Loss: 0.0766 Val Loss: 0.1162 AUC PR: 0.1855 Precision: 0.2553 Recall: 0.3078 F1: 0.2791\n",
     "output_type": "stream"
    },
    {
     "name": "stderr",
     "text": "[Epoch 75/100] Training: 100%|██████████| 469/469 [00:11<00:00, 42.08it/s]\n[Epoch 75/100] Validation: 100%|██████████| 59/59 [00:00<00:00, 118.22it/s]\n",
     "output_type": "stream"
    },
    {
     "name": "stdout",
     "text": "Epoch [75/100] Train Loss: 0.0765 Val Loss: 0.1166 AUC PR: 0.1852 Precision: 0.2656 Recall: 0.2830 F1: 0.2740\n",
     "output_type": "stream"
    },
    {
     "name": "stderr",
     "text": "[Epoch 76/100] Training: 100%|██████████| 469/469 [00:11<00:00, 41.77it/s]\n[Epoch 76/100] Validation: 100%|██████████| 59/59 [00:00<00:00, 118.73it/s]\n",
     "output_type": "stream"
    },
    {
     "name": "stdout",
     "text": "Epoch [76/100] Train Loss: 0.0766 Val Loss: 0.1172 AUC PR: 0.1846 Precision: 0.2611 Recall: 0.2923 F1: 0.2758\n",
     "output_type": "stream"
    },
    {
     "name": "stderr",
     "text": "[Epoch 77/100] Training: 100%|██████████| 469/469 [00:11<00:00, 42.08it/s]\n[Epoch 77/100] Validation: 100%|██████████| 59/59 [00:00<00:00, 118.53it/s]\n",
     "output_type": "stream"
    },
    {
     "name": "stdout",
     "text": "New best model with AUC PR: 0.1871\nEpoch [77/100] Train Loss: 0.0763 Val Loss: 0.1153 AUC PR: 0.1871 Precision: 0.2622 Recall: 0.2971 F1: 0.2786\n",
     "output_type": "stream"
    },
    {
     "name": "stderr",
     "text": "[Epoch 78/100] Training: 100%|██████████| 469/469 [00:11<00:00, 42.24it/s]\n[Epoch 78/100] Validation: 100%|██████████| 59/59 [00:00<00:00, 118.68it/s]\n",
     "output_type": "stream"
    },
    {
     "name": "stdout",
     "text": "Epoch [78/100] Train Loss: 0.0762 Val Loss: 0.1169 AUC PR: 0.1844 Precision: 0.2579 Recall: 0.2991 F1: 0.2770\n",
     "output_type": "stream"
    },
    {
     "name": "stderr",
     "text": "[Epoch 79/100] Training: 100%|██████████| 469/469 [00:11<00:00, 42.18it/s]\n[Epoch 79/100] Validation: 100%|██████████| 59/59 [00:00<00:00, 118.71it/s]\n",
     "output_type": "stream"
    },
    {
     "name": "stdout",
     "text": "Epoch [79/100] Train Loss: 0.0762 Val Loss: 0.1177 AUC PR: 0.1861 Precision: 0.2671 Recall: 0.2829 F1: 0.2748\n",
     "output_type": "stream"
    },
    {
     "name": "stderr",
     "text": "[Epoch 80/100] Training: 100%|██████████| 469/469 [00:11<00:00, 41.61it/s]\n[Epoch 80/100] Validation: 100%|██████████| 59/59 [00:00<00:00, 117.25it/s]\n[Epoch 83/100] Validation: 100%|██████████| 59/59 [00:00<00:00, 116.06it/s]\n",
     "output_type": "stream"
    },
    {
     "name": "stdout",
     "text": "Epoch [83/100] Train Loss: 0.0760 Val Loss: 0.1185 AUC PR: 0.1864 Precision: 0.2711 Recall: 0.2649 F1: 0.2680\n",
     "output_type": "stream"
    },
    {
     "name": "stderr",
     "text": "[Epoch 84/100] Training: 100%|██████████| 469/469 [00:11<00:00, 41.98it/s]\n[Epoch 84/100] Validation: 100%|██████████| 59/59 [00:00<00:00, 118.14it/s]\n",
     "output_type": "stream"
    },
    {
     "name": "stdout",
     "text": "Epoch [84/100] Train Loss: 0.0760 Val Loss: 0.1184 AUC PR: 0.1860 Precision: 0.2695 Recall: 0.2739 F1: 0.2717\n",
     "output_type": "stream"
    },
    {
     "name": "stderr",
     "text": "[Epoch 85/100] Training: 100%|██████████| 469/469 [00:11<00:00, 41.52it/s]\n[Epoch 85/100] Validation: 100%|██████████| 59/59 [00:00<00:00, 116.87it/s]\n",
     "output_type": "stream"
    },
    {
     "name": "stdout",
     "text": "Epoch [85/100] Train Loss: 0.0758 Val Loss: 0.1165 AUC PR: 0.1873 Precision: 0.2593 Recall: 0.3044 F1: 0.2801\n",
     "output_type": "stream"
    },
    {
     "name": "stderr",
     "text": "[Epoch 86/100] Training: 100%|██████████| 469/469 [00:11<00:00, 42.42it/s]\n[Epoch 86/100] Validation: 100%|██████████| 59/59 [00:00<00:00, 118.37it/s]\n",
     "output_type": "stream"
    },
    {
     "name": "stdout",
     "text": "Epoch [86/100] Train Loss: 0.0759 Val Loss: 0.1180 AUC PR: 0.1860 Precision: 0.2585 Recall: 0.3001 F1: 0.2777\n",
     "output_type": "stream"
    },
    {
     "name": "stderr",
     "text": "[Epoch 87/100] Training: 100%|██████████| 469/469 [00:11<00:00, 41.91it/s]\n[Epoch 87/100] Validation: 100%|██████████| 59/59 [00:00<00:00, 116.98it/s]\n",
     "output_type": "stream"
    },
    {
     "name": "stdout",
     "text": "Epoch [87/100] Train Loss: 0.0758 Val Loss: 0.1181 AUC PR: 0.1865 Precision: 0.2579 Recall: 0.3043 F1: 0.2792\n",
     "output_type": "stream"
    },
    {
     "name": "stderr",
     "text": "[Epoch 88/100] Training: 100%|██████████| 469/469 [00:11<00:00, 41.80it/s]\n[Epoch 88/100] Validation: 100%|██████████| 59/59 [00:00<00:00, 116.48it/s]\n",
     "output_type": "stream"
    },
    {
     "name": "stdout",
     "text": "Epoch [88/100] Train Loss: 0.0757 Val Loss: 0.1175 AUC PR: 0.1866 Precision: 0.2712 Recall: 0.2661 F1: 0.2686\n",
     "output_type": "stream"
    },
    {
     "name": "stderr",
     "text": "[Epoch 89/100] Training: 100%|██████████| 469/469 [00:11<00:00, 42.13it/s]\n[Epoch 89/100] Validation: 100%|██████████| 59/59 [00:00<00:00, 118.44it/s]\n",
     "output_type": "stream"
    },
    {
     "name": "stdout",
     "text": "Epoch [89/100] Train Loss: 0.0755 Val Loss: 0.1179 AUC PR: 0.1863 Precision: 0.2668 Recall: 0.2799 F1: 0.2732\n",
     "output_type": "stream"
    },
    {
     "name": "stderr",
     "text": "[Epoch 90/100] Training: 100%|██████████| 469/469 [00:11<00:00, 42.24it/s]\n[Epoch 90/100] Validation: 100%|██████████| 59/59 [00:00<00:00, 117.40it/s]\n",
     "output_type": "stream"
    },
    {
     "name": "stdout",
     "text": "Epoch [90/100] Train Loss: 0.0753 Val Loss: 0.1161 AUC PR: 0.1868 Precision: 0.2750 Recall: 0.2580 F1: 0.2662\n",
     "output_type": "stream"
    },
    {
     "name": "stderr",
     "text": "[Epoch 91/100] Training: 100%|██████████| 469/469 [00:11<00:00, 42.26it/s]\n[Epoch 91/100] Validation: 100%|██████████| 59/59 [00:00<00:00, 118.84it/s]\n",
     "output_type": "stream"
    },
    {
     "name": "stdout",
     "text": "Epoch [91/100] Train Loss: 0.0753 Val Loss: 0.1192 AUC PR: 0.1867 Precision: 0.2696 Recall: 0.2683 F1: 0.2690\n",
     "output_type": "stream"
    },
    {
     "name": "stderr",
     "text": "[Epoch 92/100] Training: 100%|██████████| 469/469 [00:11<00:00, 41.86it/s]\n[Epoch 92/100] Validation: 100%|██████████| 59/59 [00:00<00:00, 109.47it/s]\n",
     "output_type": "stream"
    },
    {
     "name": "stdout",
     "text": "Epoch [92/100] Train Loss: 0.0753 Val Loss: 0.1171 AUC PR: 0.1855 Precision: 0.2642 Recall: 0.2832 F1: 0.2733\n",
     "output_type": "stream"
    },
    {
     "name": "stderr",
     "text": "[Epoch 93/100] Training: 100%|██████████| 469/469 [00:11<00:00, 42.33it/s]\n[Epoch 93/100] Validation: 100%|██████████| 59/59 [00:00<00:00, 108.41it/s]\n",
     "output_type": "stream"
    },
    {
     "name": "stdout",
     "text": "Epoch [93/100] Train Loss: 0.0754 Val Loss: 0.1175 AUC PR: 0.1871 Precision: 0.2732 Recall: 0.2687 F1: 0.2710\n",
     "output_type": "stream"
    },
    {
     "name": "stderr",
     "text": "[Epoch 94/100] Training: 100%|██████████| 469/469 [00:11<00:00, 41.80it/s]\n[Epoch 94/100] Validation: 100%|██████████| 59/59 [00:00<00:00, 118.80it/s]\n",
     "output_type": "stream"
    },
    {
     "name": "stdout",
     "text": "New best model with AUC PR: 0.1886\nEpoch [94/100] Train Loss: 0.0751 Val Loss: 0.1171 AUC PR: 0.1886 Precision: 0.2707 Recall: 0.2738 F1: 0.2723\n",
     "output_type": "stream"
    },
    {
     "name": "stderr",
     "text": "[Epoch 95/100] Training: 100%|██████████| 469/469 [00:11<00:00, 42.10it/s]\n[Epoch 95/100] Validation: 100%|██████████| 59/59 [00:00<00:00, 118.48it/s]\n",
     "output_type": "stream"
    },
    {
     "name": "stdout",
     "text": "Epoch [95/100] Train Loss: 0.0752 Val Loss: 0.1177 AUC PR: 0.1863 Precision: 0.2707 Recall: 0.2673 F1: 0.2690\n",
     "output_type": "stream"
    },
    {
     "name": "stderr",
     "text": "[Epoch 96/100] Training: 100%|██████████| 469/469 [00:11<00:00, 41.94it/s]\n[Epoch 96/100] Validation: 100%|██████████| 59/59 [00:00<00:00, 119.15it/s]\n",
     "output_type": "stream"
    },
    {
     "name": "stdout",
     "text": "Epoch [96/100] Train Loss: 0.0755 Val Loss: 0.1170 AUC PR: 0.1851 Precision: 0.2684 Recall: 0.2653 F1: 0.2669\n",
     "output_type": "stream"
    },
    {
     "name": "stderr",
     "text": "[Epoch 97/100] Training: 100%|██████████| 469/469 [00:11<00:00, 41.79it/s]\n[Epoch 97/100] Validation: 100%|██████████| 59/59 [00:00<00:00, 117.52it/s]\n",
     "output_type": "stream"
    },
    {
     "name": "stdout",
     "text": "Epoch [97/100] Train Loss: 0.0752 Val Loss: 0.1164 AUC PR: 0.1882 Precision: 0.2643 Recall: 0.2923 F1: 0.2776\n",
     "output_type": "stream"
    },
    {
     "name": "stderr",
     "text": "[Epoch 98/100] Training: 100%|██████████| 469/469 [00:11<00:00, 41.77it/s]\n[Epoch 98/100] Validation: 100%|██████████| 59/59 [00:00<00:00, 118.05it/s]\n",
     "output_type": "stream"
    },
    {
     "name": "stdout",
     "text": "Epoch [98/100] Train Loss: 0.0749 Val Loss: 0.1169 AUC PR: 0.1883 Precision: 0.2766 Recall: 0.2561 F1: 0.2660\n",
     "output_type": "stream"
    },
    {
     "name": "stderr",
     "text": "[Epoch 99/100] Training: 100%|██████████| 469/469 [00:11<00:00, 41.85it/s]\n[Epoch 99/100] Validation: 100%|██████████| 59/59 [00:00<00:00, 118.19it/s]\n",
     "output_type": "stream"
    },
    {
     "name": "stdout",
     "text": "Epoch [99/100] Train Loss: 0.0750 Val Loss: 0.1177 AUC PR: 0.1872 Precision: 0.2646 Recall: 0.2881 F1: 0.2758\n",
     "output_type": "stream"
    },
    {
     "name": "stderr",
     "text": "[Epoch 100/100] Training: 100%|██████████| 469/469 [00:11<00:00, 41.47it/s]\n[Epoch 100/100] Validation: 100%|██████████| 59/59 [00:00<00:00, 117.60it/s]\n",
     "output_type": "stream"
    },
    {
     "name": "stdout",
     "text": "Epoch [100/100] Train Loss: 0.0749 Val Loss: 0.1186 AUC PR: 0.1862 Precision: 0.2689 Recall: 0.2727 F1: 0.2707\n\nFinal Model Performance:\nAUC PR: 0.1862\nPrecision: 0.2689\nRecall: 0.2727\nF1 Score: 0.2707\n",
     "output_type": "stream"
    }
   ],
   "execution_count": 47
  },
  {
   "cell_type": "code",
   "source": "save_model(model1_trained, 'model_init16_state.pth')",
   "metadata": {
    "trusted": true,
    "execution": {
     "iopub.status.busy": "2025-04-22T17:40:11.315431Z",
     "iopub.execute_input": "2025-04-22T17:40:11.316045Z",
     "iopub.status.idle": "2025-04-22T17:40:11.330136Z",
     "shell.execute_reply.started": "2025-04-22T17:40:11.316025Z",
     "shell.execute_reply": "2025-04-22T17:40:11.329581Z"
    }
   },
   "outputs": [
    {
     "name": "stdout",
     "text": "Model state_dict saved to models/model_init16_state.pth\n",
     "output_type": "stream"
    }
   ],
   "execution_count": 49
  },
  {
   "cell_type": "code",
   "source": "model = Autoencoder(**params_config)\nmodel.load_state_dict(torch.load('models/model_init16_state.pth', weights_only=True))\nmodel.to(device)\nmodel.eval()  # Set to evaluation mode (important for inference)",
   "metadata": {
    "trusted": true,
    "execution": {
     "iopub.status.busy": "2025-04-22T17:41:19.384852Z",
     "iopub.execute_input": "2025-04-22T17:41:19.385250Z",
     "iopub.status.idle": "2025-04-22T17:41:19.440932Z",
     "shell.execute_reply.started": "2025-04-22T17:41:19.385230Z",
     "shell.execute_reply": "2025-04-22T17:41:19.440325Z"
    }
   },
   "outputs": [
    {
     "execution_count": 50,
     "output_type": "execute_result",
     "data": {
      "text/plain": "Autoencoder(\n  (input_conv): Sequential(\n    (0): Conv2d(12, 16, kernel_size=(3, 3), stride=(1, 1), padding=(1, 1))\n    (1): BatchNorm2d(16, eps=1e-05, momentum=0.1, affine=True, track_running_stats=True)\n    (2): LeakyReLU(negative_slope=0.01)\n    (3): Dropout2d(p=0.1, inplace=False)\n    (4): Conv2d(16, 16, kernel_size=(3, 3), stride=(1, 1), padding=(1, 1))\n    (5): Dropout2d(p=0.1, inplace=False)\n  )\n  (input_shortcut): Sequential(\n    (0): Conv2d(12, 16, kernel_size=(1, 1), stride=(1, 1))\n    (1): BatchNorm2d(16, eps=1e-05, momentum=0.1, affine=True, track_running_stats=True)\n    (2): Dropout2d(p=0.1, inplace=False)\n  )\n  (encoder_blocks): ModuleList(\n    (0): ResBlock3(\n      (net): Sequential(\n        (0): BatchNorm2d(16, eps=1e-05, momentum=0.1, affine=True, track_running_stats=True)\n        (1): LeakyReLU(negative_slope=0.01)\n        (2): Dropout2d(p=0.1, inplace=False)\n        (3): MaxPool2d(kernel_size=2, stride=2, padding=0, dilation=1, ceil_mode=False)\n        (4): BatchNorm2d(16, eps=1e-05, momentum=0.1, affine=True, track_running_stats=True)\n        (5): LeakyReLU(negative_slope=0.01)\n        (6): Dropout2d(p=0.1, inplace=False)\n        (7): Conv2d(16, 16, kernel_size=(3, 3), stride=(1, 1), padding=(1, 1))\n        (8): Dropout2d(p=0.1, inplace=False)\n      )\n      (shortcut): Sequential(\n        (0): Conv2d(16, 16, kernel_size=(1, 1), stride=(2, 2))\n        (1): BatchNorm2d(16, eps=1e-05, momentum=0.1, affine=True, track_running_stats=True)\n        (2): Dropout(p=0.1, inplace=False)\n      )\n    )\n    (1): ResBlock3(\n      (net): Sequential(\n        (0): BatchNorm2d(16, eps=1e-05, momentum=0.1, affine=True, track_running_stats=True)\n        (1): LeakyReLU(negative_slope=0.01)\n        (2): Dropout2d(p=0.1, inplace=False)\n        (3): MaxPool2d(kernel_size=2, stride=2, padding=0, dilation=1, ceil_mode=False)\n        (4): Conv2d(16, 32, kernel_size=(1, 1), stride=(1, 1))\n        (5): BatchNorm2d(32, eps=1e-05, momentum=0.1, affine=True, track_running_stats=True)\n        (6): LeakyReLU(negative_slope=0.01)\n        (7): Dropout2d(p=0.1, inplace=False)\n        (8): Conv2d(32, 32, kernel_size=(3, 3), stride=(1, 1), padding=(1, 1))\n        (9): Dropout2d(p=0.1, inplace=False)\n      )\n      (shortcut): Sequential(\n        (0): Conv2d(16, 32, kernel_size=(1, 1), stride=(2, 2))\n        (1): BatchNorm2d(32, eps=1e-05, momentum=0.1, affine=True, track_running_stats=True)\n        (2): Dropout(p=0.1, inplace=False)\n      )\n    )\n  )\n  (bottleneck): ResBlock3(\n    (net): Sequential(\n      (0): BatchNorm2d(32, eps=1e-05, momentum=0.1, affine=True, track_running_stats=True)\n      (1): LeakyReLU(negative_slope=0.01)\n      (2): Dropout2d(p=0.1, inplace=False)\n      (3): Conv2d(32, 32, kernel_size=(3, 3), stride=(1, 1), padding=(1, 1))\n      (4): BatchNorm2d(32, eps=1e-05, momentum=0.1, affine=True, track_running_stats=True)\n      (5): LeakyReLU(negative_slope=0.01)\n      (6): Dropout2d(p=0.1, inplace=False)\n      (7): Conv2d(32, 32, kernel_size=(3, 3), stride=(1, 1), padding=(1, 1))\n      (8): Dropout2d(p=0.1, inplace=False)\n    )\n    (shortcut): Sequential(\n      (0): Conv2d(32, 32, kernel_size=(1, 1), stride=(1, 1))\n      (1): BatchNorm2d(32, eps=1e-05, momentum=0.1, affine=True, track_running_stats=True)\n      (2): Dropout(p=0.1, inplace=False)\n    )\n  )\n  (decoder_blocks): ModuleList(\n    (0): Sequential(\n      (0): Upsample(scale_factor=2.0, mode='nearest')\n      (1): ResBlock3(\n        (net): Sequential(\n          (0): BatchNorm2d(32, eps=1e-05, momentum=0.1, affine=True, track_running_stats=True)\n          (1): LeakyReLU(negative_slope=0.01)\n          (2): Dropout2d(p=0.1, inplace=False)\n          (3): Conv2d(32, 32, kernel_size=(3, 3), stride=(1, 1), padding=(1, 1))\n          (4): BatchNorm2d(32, eps=1e-05, momentum=0.1, affine=True, track_running_stats=True)\n          (5): LeakyReLU(negative_slope=0.01)\n          (6): Dropout2d(p=0.1, inplace=False)\n          (7): Conv2d(32, 32, kernel_size=(3, 3), stride=(1, 1), padding=(1, 1))\n          (8): Dropout2d(p=0.1, inplace=False)\n        )\n        (shortcut): Sequential(\n          (0): Conv2d(32, 32, kernel_size=(1, 1), stride=(1, 1))\n          (1): BatchNorm2d(32, eps=1e-05, momentum=0.1, affine=True, track_running_stats=True)\n          (2): Dropout(p=0.1, inplace=False)\n        )\n      )\n    )\n    (1): Sequential(\n      (0): Upsample(scale_factor=2.0, mode='nearest')\n      (1): ResBlock3(\n        (net): Sequential(\n          (0): BatchNorm2d(32, eps=1e-05, momentum=0.1, affine=True, track_running_stats=True)\n          (1): LeakyReLU(negative_slope=0.01)\n          (2): Dropout2d(p=0.1, inplace=False)\n          (3): Conv2d(32, 16, kernel_size=(3, 3), stride=(1, 1), padding=(1, 1))\n          (4): BatchNorm2d(16, eps=1e-05, momentum=0.1, affine=True, track_running_stats=True)\n          (5): LeakyReLU(negative_slope=0.01)\n          (6): Dropout2d(p=0.1, inplace=False)\n          (7): Conv2d(16, 16, kernel_size=(3, 3), stride=(1, 1), padding=(1, 1))\n          (8): Dropout2d(p=0.1, inplace=False)\n        )\n        (shortcut): Sequential(\n          (0): Conv2d(32, 16, kernel_size=(1, 1), stride=(1, 1))\n          (1): BatchNorm2d(16, eps=1e-05, momentum=0.1, affine=True, track_running_stats=True)\n          (2): Dropout(p=0.1, inplace=False)\n        )\n      )\n    )\n  )\n  (output_conv): Conv2d(16, 1, kernel_size=(1, 1), stride=(1, 1))\n)"
     },
     "metadata": {}
    }
   ],
   "execution_count": 50
  },
  {
   "cell_type": "code",
   "source": "metrics = evaluate_model_metrics(model, test_loader, threshold=0.5, device=device)\nprint(\"Test Metrics:\")\nfor k, v in metrics.items():\n    print(f\"{k}: {v:.4f}\")\n",
   "metadata": {
    "trusted": true,
    "execution": {
     "iopub.status.busy": "2025-04-22T17:42:10.227558Z",
     "iopub.execute_input": "2025-04-22T17:42:10.228311Z",
     "iopub.status.idle": "2025-04-22T17:42:30.928275Z",
     "shell.execute_reply.started": "2025-04-22T17:42:10.228285Z",
     "shell.execute_reply": "2025-04-22T17:42:30.927604Z"
    }
   },
   "outputs": [
    {
     "name": "stdout",
     "text": "Test Metrics:\nauc_pr: 0.2530\nprecision: 0.3327\nrecall: 0.3570\nf1_score: 0.3444\n",
     "output_type": "stream"
    }
   ],
   "execution_count": 51
  },
  {
   "cell_type": "code",
   "source": "import matplotlib.pyplot as plt\n\ndef plot_training_history(history):\n    epochs = range(1, len(history['train_loss']) + 1)\n\n    # Plot loss\n    plt.figure(figsize=(12, 5))\n\n    plt.subplot(1, 2, 1)\n    plt.plot(epochs, history['train_loss'], label='Train Loss')\n    plt.plot(epochs, history['val_loss'], label='Validation Loss')\n    plt.title('Loss Over Epochs')\n    plt.xlabel('Epoch')\n    plt.ylabel('Loss')\n    plt.legend()\n\n    # Plot metrics\n    plt.subplot(1, 2, 2)\n    plt.plot(epochs, history['val_auc_pr'], label='AUC PR')\n    plt.plot(epochs, history['val_precision'], label='Precision')\n    plt.plot(epochs, history['val_recall'], label='Recall')\n    plt.plot(epochs, history['val_f1_score'], label='F1 Score')\n    plt.title('Validation Metrics Over Epochs')\n    plt.xlabel('Epoch')\n    plt.ylabel('Score')\n    plt.legend()\n\n    plt.tight_layout()\n    plt.show()\n",
   "metadata": {
    "id": "Rc08sHKcxiti",
    "trusted": true,
    "execution": {
     "iopub.status.busy": "2025-04-22T14:57:57.568245Z",
     "iopub.execute_input": "2025-04-22T14:57:57.568540Z",
     "iopub.status.idle": "2025-04-22T14:57:57.574544Z",
     "shell.execute_reply.started": "2025-04-22T14:57:57.568521Z",
     "shell.execute_reply": "2025-04-22T14:57:57.573886Z"
    }
   },
   "outputs": [],
   "execution_count": 22
  },
  {
   "cell_type": "code",
   "source": "plot_training_history(history)",
   "metadata": {
    "colab": {
     "base_uri": "https://localhost:8080/",
     "height": 493
    },
    "id": "N8vSYovVxwJU",
    "outputId": "ad76d69c-0220-4053-b364-ca9c85e7ceb2",
    "trusted": true,
    "execution": {
     "iopub.status.busy": "2025-04-22T17:39:07.911467Z",
     "iopub.execute_input": "2025-04-22T17:39:07.912062Z",
     "iopub.status.idle": "2025-04-22T17:39:08.294550Z",
     "shell.execute_reply.started": "2025-04-22T17:39:07.912040Z",
     "shell.execute_reply": "2025-04-22T17:39:08.293747Z"
    }
   },
   "outputs": [
    {
     "output_type": "display_data",
     "data": {
      "text/plain": "<Figure size 1200x500 with 2 Axes>",
      "image/png": "[encoded data removed]"
     },
     "metadata": {}
    }
   ],
   "execution_count": 48
  },
  {
   "cell_type": "code",
   "source": "param_grid = {\n    'initial_filters': [16, 32, 64],               # Try 16, 32, or 64 filters in first layer\n    'n_encoder_blocks': [1, 2, 3, 4],              # Try 1, 2, 3, or 4 encoder blocks\n    'dropout_rate': [0.0, 0.1, 0.2, 0.3],          # Try different dropout rates\n    'learning_rate': [0.01, 0.001, 0.0001, 0.00001], # Try different learning rates\n    'batch_size': [32, 64, 128, 256]               # Try different batch sizes\n}",
   "metadata": {
    "id": "AiYjETqSitaB",
    "trusted": true,
    "execution": {
     "iopub.status.busy": "2025-04-21T17:07:57.656042Z",
     "iopub.execute_input": "2025-04-21T17:07:57.656824Z",
     "iopub.status.idle": "2025-04-21T17:07:57.660823Z",
     "shell.execute_reply.started": "2025-04-21T17:07:57.656799Z",
     "shell.execute_reply": "2025-04-21T17:07:57.660063Z"
    }
   },
   "outputs": [],
   "execution_count": 38
  },
  {
   "cell_type": "markdown",
   "source": "#### Test with different parameters/hyperparameters",
   "metadata": {
    "id": "81tVaVcPvIVw"
   }
  },
  {
   "cell_type": "code",
   "source": "params_config = {\n    'in_channels': 12,\n    'out_channels': 1,\n    'encoder_layers': [16, 16, 32],\n    'decoder_layers': [32, 16],\n    'encoder_pools': [1, 2, 2],\n    'decoder_pools': [2, 2],\n    'dropout': 0.1,\n    'batch_norm': True\n}",
   "metadata": {
    "trusted": true,
    "execution": {
     "iopub.status.busy": "2025-04-21T17:08:00.671871Z",
     "iopub.execute_input": "2025-04-21T17:08:00.672485Z",
     "iopub.status.idle": "2025-04-21T17:08:00.676628Z",
     "shell.execute_reply.started": "2025-04-21T17:08:00.672442Z",
     "shell.execute_reply": "2025-04-21T17:08:00.675846Z"
    }
   },
   "outputs": [],
   "execution_count": 39
  },
  {
   "cell_type": "code",
   "source": "#model_withlr = []\nlr_list = [0.01, 0.001,0.00001]\nhistory_withlr = []\nfinal_metrics_withlr = []\nfor lr in lr_list:\n    print(f\"learning rate: {lr}\")\n    model = Autoencoder(**params_config)\n    device = 'cuda' if torch.cuda.is_available() else 'cpu'\n    model_trained, history, final_metrics = train_model(model, train_loader, val_loader, lr=lr, pos_weight=pos_weight, num_epochs=num_epochs, device=device)\n    #model_withlr.append(model_trained)\n    history_withlr.append(history)\n    final_metrics_withlr.append(final_metrics)",
   "metadata": {
    "id": "pTfnOIYSvNCK",
    "trusted": true,
    "execution": {
     "iopub.status.busy": "2025-04-21T20:07:01.632193Z",
     "iopub.execute_input": "2025-04-21T20:07:01.632533Z",
     "iopub.status.idle": "2025-04-21T23:16:59.754110Z",
     "shell.execute_reply.started": "2025-04-21T20:07:01.632510Z",
     "shell.execute_reply": "2025-04-21T23:16:59.753445Z"
    }
   },
   "outputs": [
    {
     "name": "stdout",
     "text": "learning rate: 0.01\n",
     "output_type": "stream"
    },
    {
     "name": "stderr",
     "text": "[Epoch 1/100] Training: 100%|██████████| 469/469 [00:11<00:00, 40.59it/s]\n[Epoch 1/100] Validation: 100%|██████████| 59/59 [00:00<00:00, 109.45it/s]\n",
     "output_type": "stream"
    },
    {
     "name": "stdout",
     "text": "New best model with AUC PR: 0.1473\nEpoch [1/100] Train Loss: 0.1040 Val Loss: 0.1265 AUC PR: 0.1473 Precision: 0.2065 Recall: 0.0294 F1: 0.0515\n",
     "output_type": "stream"
    },
    {
     "name": "stderr",
     "text": "[Epoch 2/100] Training: 100%|██████████| 469/469 [00:11<00:00, 40.29it/s]\n[Epoch 2/100] Validation: 100%|██████████| 59/59 [00:00<00:00, 109.71it/s]\n",
     "output_type": "stream"
    },
    {
     "name": "stdout",
     "text": "Epoch [2/100] Train Loss: 0.0885 Val Loss: 0.1232 AUC PR: 0.1455 Precision: 0.2363 Recall: 0.1187 F1: 0.1580\n",
     "output_type": "stream"
    },
    {
     "name": "stderr",
     "text": "[Epoch 3/100] Training: 100%|██████████| 469/469 [00:11<00:00, 39.96it/s]\n[Epoch 3/100] Validation: 100%|██████████| 59/59 [00:00<00:00, 104.95it/s]\n",
     "output_type": "stream"
    },
    {
     "name": "stdout",
     "text": "New best model with AUC PR: 0.1508\nEpoch [3/100] Train Loss: 0.0872 Val Loss: 0.1205 AUC PR: 0.1508 Precision: 0.1243 Recall: 0.0002 F1: 0.0004\n",
     "output_type": "stream"
    },
    {
     "name": "stderr",
     "text": "[Epoch 4/100] Training: 100%|██████████| 469/469 [00:11<00:00, 39.68it/s]\n[Epoch 4/100] Validation: 100%|██████████| 59/59 [00:00<00:00, 105.58it/s]\n",
     "output_type": "stream"
    },
    {
     "name": "stdout",
     "text": "New best model with AUC PR: 0.1516\nEpoch [4/100] Train Loss: 0.0870 Val Loss: 0.1174 AUC PR: 0.1516 Precision: 0.2430 Recall: 0.1363 F1: 0.1746\n",
     "output_type": "stream"
    },
    {
     "name": "stderr",
     "text": "[Epoch 5/100] Training: 100%|██████████| 469/469 [00:11<00:00, 39.86it/s]\n[Epoch 5/100] Validation: 100%|██████████| 59/59 [00:00<00:00, 108.80it/s]\n",
     "output_type": "stream"
    },
    {
     "name": "stdout",
     "text": "New best model with AUC PR: 0.1575\nEpoch [5/100] Train Loss: 0.0856 Val Loss: 0.1250 AUC PR: 0.1575 Precision: 0.2522 Recall: 0.1154 F1: 0.1584\n",
     "output_type": "stream"
    },
    {
     "name": "stderr",
     "text": "[Epoch 6/100] Training: 100%|██████████| 469/469 [00:11<00:00, 39.88it/s]\n[Epoch 6/100] Validation: 100%|██████████| 59/59 [00:00<00:00, 106.61it/s]\n",
     "output_type": "stream"
    },
    {
     "name": "stdout",
     "text": "New best model with AUC PR: 0.1635\nEpoch [6/100] Train Loss: 0.0848 Val Loss: 0.1140 AUC PR: 0.1635 Precision: 0.2741 Recall: 0.0871 F1: 0.1322\n",
     "output_type": "stream"
    },
    {
     "name": "stderr",
     "text": "[Epoch 7/100] Training: 100%|██████████| 469/469 [00:11<00:00, 40.31it/s]\n[Epoch 7/100] Validation: 100%|██████████| 59/59 [00:00<00:00, 113.05it/s]\n",
     "output_type": "stream"
    },
    {
     "name": "stdout",
     "text": "New best model with AUC PR: 0.1643\nEpoch [7/100] Train Loss: 0.0843 Val Loss: 0.1238 AUC PR: 0.1643 Precision: 0.2670 Recall: 0.1333 F1: 0.1779\n",
     "output_type": "stream"
    },
    {
     "name": "stderr",
     "text": "[Epoch 8/100] Training: 100%|██████████| 469/469 [00:11<00:00, 39.63it/s]\n[Epoch 8/100] Validation: 100%|██████████| 59/59 [00:00<00:00, 104.56it/s]\n",
     "output_type": "stream"
    },
    {
     "name": "stdout",
     "text": "Epoch [8/100] Train Loss: 0.0835 Val Loss: 0.1182 AUC PR: 0.1582 Precision: 0.2555 Recall: 0.1395 F1: 0.1805\n",
     "output_type": "stream"
    },
    {
     "name": "stderr",
     "text": "[Epoch 9/100] Training: 100%|██████████| 469/469 [00:11<00:00, 39.79it/s]\n[Epoch 9/100] Validation: 100%|██████████| 59/59 [00:00<00:00, 107.06it/s]\n",
     "output_type": "stream"
    },
    {
     "name": "stdout",
     "text": "Epoch [9/100] Train Loss: 0.0829 Val Loss: 0.1207 AUC PR: 0.1641 Precision: 0.2560 Recall: 0.2433 F1: 0.2495\n",
     "output_type": "stream"
    },
    {
     "name": "stderr",
     "text": "[Epoch 10/100] Training: 100%|██████████| 469/469 [00:11<00:00, 39.79it/s]\n[Epoch 10/100] Validation: 100%|██████████| 59/59 [00:00<00:00, 111.67it/s]\n",
     "output_type": "stream"
    },
    {
     "name": "stdout",
     "text": "New best model with AUC PR: 0.1710\nEpoch [10/100] Train Loss: 0.0832 Val Loss: 0.1245 AUC PR: 0.1710 Precision: 0.2831 Recall: 0.1058 F1: 0.1541\n",
     "output_type": "stream"
    },
    {
     "name": "stderr",
     "text": "[Epoch 11/100] Training: 100%|██████████| 469/469 [00:11<00:00, 39.85it/s]\n[Epoch 11/100] Validation: 100%|██████████| 59/59 [00:00<00:00, 110.65it/s]\n",
     "output_type": "stream"
    },
    {
     "name": "stdout",
     "text": "Epoch [11/100] Train Loss: 0.0822 Val Loss: 0.1191 AUC PR: 0.1686 Precision: 0.2841 Recall: 0.1129 F1: 0.1616\n",
     "output_type": "stream"
    },
    {
     "name": "stderr",
     "text": "[Epoch 12/100] Training: 100%|██████████| 469/469 [00:11<00:00, 40.25it/s]\n[Epoch 12/100] Validation: 100%|██████████| 59/59 [00:00<00:00, 100.17it/s]\n",
     "output_type": "stream"
    },
    {
     "name": "stdout",
     "text": "Epoch [12/100] Train Loss: 0.0816 Val Loss: 0.1244 AUC PR: 0.1692 Precision: 0.2862 Recall: 0.0841 F1: 0.1300\n",
     "output_type": "stream"
    },
    {
     "name": "stderr",
     "text": "[Epoch 13/100] Training: 100%|██████████| 469/469 [00:11<00:00, 39.96it/s]\n[Epoch 13/100] Validation: 100%|██████████| 59/59 [00:00<00:00, 109.25it/s]\n",
     "output_type": "stream"
    },
    {
     "name": "stdout",
     "text": "New best model with AUC PR: 0.1737\nEpoch [13/100] Train Loss: 0.0813 Val Loss: 0.1141 AUC PR: 0.1737 Precision: 0.2714 Recall: 0.2033 F1: 0.2324\n",
     "output_type": "stream"
    },
    {
     "name": "stderr",
     "text": "[Epoch 14/100] Training: 100%|██████████| 469/469 [00:11<00:00, 39.53it/s]\n[Epoch 14/100] Validation: 100%|██████████| 59/59 [00:00<00:00, 110.22it/s]\n",
     "output_type": "stream"
    },
    {
     "name": "stdout",
     "text": "New best model with AUC PR: 0.1739\nEpoch [14/100] Train Loss: 0.0813 Val Loss: 0.1174 AUC PR: 0.1739 Precision: 0.3080 Recall: 0.0572 F1: 0.0965\n",
     "output_type": "stream"
    },
    {
     "name": "stderr",
     "text": "[Epoch 15/100] Training: 100%|██████████| 469/469 [00:11<00:00, 39.71it/s]\n[Epoch 15/100] Validation: 100%|██████████| 59/59 [00:00<00:00, 106.61it/s]\n",
     "output_type": "stream"
    },
    {
     "name": "stdout",
     "text": "Epoch [15/100] Train Loss: 0.0813 Val Loss: 0.1160 AUC PR: 0.1737 Precision: 0.3017 Recall: 0.0831 F1: 0.1303\n",
     "output_type": "stream"
    },
    {
     "name": "stderr",
     "text": "[Epoch 16/100] Training: 100%|██████████| 469/469 [00:11<00:00, 39.97it/s]\n[Epoch 16/100] Validation: 100%|██████████| 59/59 [00:00<00:00, 108.74it/s]\n",
     "output_type": "stream"
    },
    {
     "name": "stdout",
     "text": "Epoch [16/100] Train Loss: 0.0806 Val Loss: 0.1199 AUC PR: 0.1725 Precision: 0.2753 Recall: 0.1785 F1: 0.2166\n",
     "output_type": "stream"
    },
    {
     "name": "stderr",
     "text": "[Epoch 17/100] Training: 100%|██████████| 469/469 [00:11<00:00, 39.66it/s]\n[Epoch 17/100] Validation: 100%|██████████| 59/59 [00:00<00:00, 107.12it/s]\n",
     "output_type": "stream"
    },
    {
     "name": "stdout",
     "text": "Epoch [17/100] Train Loss: 0.0809 Val Loss: 0.1178 AUC PR: 0.1730 Precision: 0.2543 Recall: 0.2789 F1: 0.2660\n",
     "output_type": "stream"
    },
    {
     "name": "stderr",
     "text": "[Epoch 18/100] Training: 100%|██████████| 469/469 [00:11<00:00, 39.53it/s]\n[Epoch 18/100] Validation: 100%|██████████| 59/59 [00:00<00:00, 95.47it/s]\n",
     "output_type": "stream"
    },
    {
     "name": "stdout",
     "text": "New best model with AUC PR: 0.1747\nEpoch [18/100] Train Loss: 0.0803 Val Loss: 0.1173 AUC PR: 0.1747 Precision: 0.2801 Recall: 0.1942 F1: 0.2294\n",
     "output_type": "stream"
    },
    {
     "name": "stderr",
     "text": "[Epoch 19/100] Training: 100%|██████████| 469/469 [00:11<00:00, 39.40it/s]\n[Epoch 19/100] Validation: 100%|██████████| 59/59 [00:00<00:00, 106.86it/s]\n",
     "output_type": "stream"
    },
    {
     "name": "stdout",
     "text": "Epoch [19/100] Train Loss: 0.0801 Val Loss: 0.1167 AUC PR: 0.1691 Precision: 0.2695 Recall: 0.1798 F1: 0.2157\n",
     "output_type": "stream"
    },
    {
     "name": "stderr",
     "text": "[Epoch 20/100] Training: 100%|██████████| 469/469 [00:11<00:00, 40.17it/s]\n[Epoch 20/100] Validation: 100%|██████████| 59/59 [00:00<00:00, 109.89it/s]\n",
     "output_type": "stream"
    },
    {
     "name": "stdout",
     "text": "New best model with AUC PR: 0.1806\nEpoch [20/100] Train Loss: 0.0796 Val Loss: 0.1154 AUC PR: 0.1806 Precision: 0.2719 Recall: 0.2464 F1: 0.2585\n",
     "output_type": "stream"
    },
    {
     "name": "stderr",
     "text": "[Epoch 21/100] Training: 100%|██████████| 469/469 [00:11<00:00, 39.84it/s]\n[Epoch 21/100] Validation: 100%|██████████| 59/59 [00:00<00:00, 107.85it/s]\n",
     "output_type": "stream"
    },
    {
     "name": "stdout",
     "text": "Epoch [21/100] Train Loss: 0.0794 Val Loss: 0.1188 AUC PR: 0.1788 Precision: 0.3001 Recall: 0.1442 F1: 0.1948\n",
     "output_type": "stream"
    },
    {
     "name": "stderr",
     "text": "[Epoch 22/100] Training: 100%|██████████| 469/469 [00:11<00:00, 39.95it/s]\n[Epoch 22/100] Validation: 100%|██████████| 59/59 [00:00<00:00, 108.05it/s]\n",
     "output_type": "stream"
    },
    {
     "name": "stdout",
     "text": "Epoch [22/100] Train Loss: 0.0795 Val Loss: 0.1180 AUC PR: 0.1744 Precision: 0.3021 Recall: 0.0551 F1: 0.0932\n",
     "output_type": "stream"
    },
    {
     "name": "stderr",
     "text": "[Epoch 23/100] Training: 100%|██████████| 469/469 [00:11<00:00, 39.70it/s]\n[Epoch 23/100] Validation: 100%|██████████| 59/59 [00:00<00:00, 107.55it/s]\n",
     "output_type": "stream"
    },
    {
     "name": "stdout",
     "text": "New best model with AUC PR: 0.1823\nEpoch [23/100] Train Loss: 0.0793 Val Loss: 0.1175 AUC PR: 0.1823 Precision: 0.2844 Recall: 0.2136 F1: 0.2440\n",
     "output_type": "stream"
    },
    {
     "name": "stderr",
     "text": "[Epoch 24/100] Training: 100%|██████████| 469/469 [00:11<00:00, 40.00it/s]\n[Epoch 24/100] Validation: 100%|██████████| 59/59 [00:00<00:00, 109.78it/s]\n",
     "output_type": "stream"
    },
    {
     "name": "stdout",
     "text": "Epoch [24/100] Train Loss: 0.0786 Val Loss: 0.1124 AUC PR: 0.1797 Precision: 0.2814 Recall: 0.1833 F1: 0.2220\n",
     "output_type": "stream"
    },
    {
     "name": "stderr",
     "text": "[Epoch 25/100] Training: 100%|██████████| 469/469 [00:11<00:00, 40.07it/s]\n[Epoch 25/100] Validation: 100%|██████████| 59/59 [00:00<00:00, 110.06it/s]\n",
     "output_type": "stream"
    },
    {
     "name": "stdout",
     "text": "Epoch [25/100] Train Loss: 0.0789 Val Loss: 0.1146 AUC PR: 0.1795 Precision: 0.2862 Recall: 0.1889 F1: 0.2276\n",
     "output_type": "stream"
    },
    {
     "name": "stderr",
     "text": "[Epoch 26/100] Training: 100%|██████████| 469/469 [00:11<00:00, 39.99it/s]\n[Epoch 26/100] Validation: 100%|██████████| 59/59 [00:00<00:00, 109.00it/s]\n",
     "output_type": "stream"
    },
    {
     "name": "stdout",
     "text": "New best model with AUC PR: 0.1836\nEpoch [26/100] Train Loss: 0.0781 Val Loss: 0.1154 AUC PR: 0.1836 Precision: 0.2790 Recall: 0.2358 F1: 0.2556\n",
     "output_type": "stream"
    },
    {
     "name": "stderr",
     "text": "[Epoch 27/100] Training: 100%|██████████| 469/469 [00:11<00:00, 40.16it/s]\n[Epoch 27/100] Validation: 100%|██████████| 59/59 [00:00<00:00, 108.79it/s]\n",
     "output_type": "stream"
    },
    {
     "name": "stdout",
     "text": "Epoch [27/100] Train Loss: 0.0780 Val Loss: 0.1266 AUC PR: 0.1773 Precision: 0.2716 Recall: 0.2194 F1: 0.2428\n",
     "output_type": "stream"
    },
    {
     "name": "stderr",
     "text": "[Epoch 28/100] Training: 100%|██████████| 469/469 [00:11<00:00, 39.28it/s]\n[Epoch 28/100] Validation: 100%|██████████| 59/59 [00:00<00:00, 103.57it/s]\n",
     "output_type": "stream"
    },
    {
     "name": "stdout",
     "text": "Epoch [28/100] Train Loss: 0.0779 Val Loss: 0.1170 AUC PR: 0.1756 Precision: 0.2628 Recall: 0.2596 F1: 0.2612\n",
     "output_type": "stream"
    },
    {
     "name": "stderr",
     "text": "[Epoch 29/100] Training: 100%|██████████| 469/469 [00:11<00:00, 39.89it/s]\n[Epoch 29/100] Validation: 100%|██████████| 59/59 [00:00<00:00, 110.87it/s]\n",
     "output_type": "stream"
    },
    {
     "name": "stdout",
     "text": "New best model with AUC PR: 0.1843\nEpoch [29/100] Train Loss: 0.0778 Val Loss: 0.1197 AUC PR: 0.1843 Precision: 0.2921 Recall: 0.1823 F1: 0.2245\n",
     "output_type": "stream"
    },
    {
     "name": "stderr",
     "text": "[Epoch 30/100] Training: 100%|██████████| 469/469 [00:11<00:00, 39.76it/s]\n[Epoch 30/100] Validation: 100%|██████████| 59/59 [00:00<00:00, 106.92it/s]\n",
     "output_type": "stream"
    },
    {
     "name": "stdout",
     "text": "Epoch [30/100] Train Loss: 0.0776 Val Loss: 0.1177 AUC PR: 0.1838 Precision: 0.2696 Recall: 0.2659 F1: 0.2677\n",
     "output_type": "stream"
    },
    {
     "name": "stderr",
     "text": "[Epoch 31/100] Training: 100%|██████████| 469/469 [00:11<00:00, 39.90it/s]\n[Epoch 31/100] Validation: 100%|██████████| 59/59 [00:00<00:00, 106.57it/s]\n",
     "output_type": "stream"
    },
    {
     "name": "stdout",
     "text": "Epoch [31/100] Train Loss: 0.0771 Val Loss: 0.1185 AUC PR: 0.1794 Precision: 0.3090 Recall: 0.1176 F1: 0.1704\n",
     "output_type": "stream"
    },
    {
     "name": "stderr",
     "text": "[Epoch 32/100] Training: 100%|██████████| 469/469 [00:11<00:00, 39.95it/s]\n[Epoch 32/100] Validation: 100%|██████████| 59/59 [00:00<00:00, 108.96it/s]\n",
     "output_type": "stream"
    },
    {
     "name": "stdout",
     "text": "Epoch [32/100] Train Loss: 0.0772 Val Loss: 0.1121 AUC PR: 0.1834 Precision: 0.2796 Recall: 0.2241 F1: 0.2488\n",
     "output_type": "stream"
    },
    {
     "name": "stderr",
     "text": "[Epoch 33/100] Training: 100%|██████████| 469/469 [00:11<00:00, 40.04it/s]\n[Epoch 33/100] Validation: 100%|██████████| 59/59 [00:00<00:00, 104.38it/s]\n",
     "output_type": "stream"
    },
    {
     "name": "stdout",
     "text": "Epoch [33/100] Train Loss: 0.0774 Val Loss: 0.1196 AUC PR: 0.1801 Precision: 0.3019 Recall: 0.1450 F1: 0.1959\n",
     "output_type": "stream"
    },
    {
     "name": "stderr",
     "text": "[Epoch 34/100] Training: 100%|██████████| 469/469 [00:11<00:00, 39.22it/s]\n[Epoch 34/100] Validation: 100%|██████████| 59/59 [00:00<00:00, 106.76it/s]\n",
     "output_type": "stream"
    },
    {
     "name": "stdout",
     "text": "Epoch [34/100] Train Loss: 0.0770 Val Loss: 0.1203 AUC PR: 0.1833 Precision: 0.2803 Recall: 0.2244 F1: 0.2493\n",
     "output_type": "stream"
    },
    {
     "name": "stderr",
     "text": "[Epoch 35/100] Training: 100%|██████████| 469/469 [00:11<00:00, 40.02it/s]\n[Epoch 35/100] Validation: 100%|██████████| 59/59 [00:00<00:00, 108.75it/s]\n",
     "output_type": "stream"
    },
    {
     "name": "stdout",
     "text": "Epoch [35/100] Train Loss: 0.0769 Val Loss: 0.1190 AUC PR: 0.1813 Precision: 0.2681 Recall: 0.2691 F1: 0.2686\n",
     "output_type": "stream"
    },
    {
     "name": "stderr",
     "text": "[Epoch 36/100] Training: 100%|██████████| 469/469 [00:11<00:00, 39.77it/s]\n[Epoch 36/100] Validation: 100%|██████████| 59/59 [00:00<00:00, 111.99it/s]\n",
     "output_type": "stream"
    },
    {
     "name": "stdout",
     "text": "New best model with AUC PR: 0.1860\nEpoch [36/100] Train Loss: 0.0769 Val Loss: 0.1146 AUC PR: 0.1860 Precision: 0.2873 Recall: 0.2224 F1: 0.2507\n",
     "output_type": "stream"
    },
    {
     "name": "stderr",
     "text": "[Epoch 37/100] Training: 100%|██████████| 469/469 [00:11<00:00, 39.83it/s]\n[Epoch 37/100] Validation: 100%|██████████| 59/59 [00:00<00:00, 109.62it/s]\n",
     "output_type": "stream"
    },
    {
     "name": "stdout",
     "text": "Epoch [37/100] Train Loss: 0.0765 Val Loss: 0.1129 AUC PR: 0.1838 Precision: 0.2701 Recall: 0.2798 F1: 0.2748\n",
     "output_type": "stream"
    },
    {
     "name": "stderr",
     "text": "[Epoch 38/100] Training: 100%|██████████| 469/469 [00:11<00:00, 39.66it/s]\n[Epoch 38/100] Validation: 100%|██████████| 59/59 [00:00<00:00, 109.55it/s]\n",
     "output_type": "stream"
    },
    {
     "name": "stdout",
     "text": "Epoch [38/100] Train Loss: 0.0762 Val Loss: 0.1187 AUC PR: 0.1825 Precision: 0.2688 Recall: 0.2658 F1: 0.2673\n",
     "output_type": "stream"
    },
    {
     "name": "stderr",
     "text": "[Epoch 39/100] Training: 100%|██████████| 469/469 [00:11<00:00, 39.77it/s]\n[Epoch 39/100] Validation: 100%|██████████| 59/59 [00:00<00:00, 107.68it/s]\n",
     "output_type": "stream"
    },
    {
     "name": "stdout",
     "text": "Epoch [39/100] Train Loss: 0.0761 Val Loss: 0.1169 AUC PR: 0.1768 Precision: 0.2424 Recall: 0.3379 F1: 0.2823\n",
     "output_type": "stream"
    },
    {
     "name": "stderr",
     "text": "[Epoch 40/100] Training: 100%|██████████| 469/469 [00:11<00:00, 40.42it/s]\n[Epoch 40/100] Validation: 100%|██████████| 59/59 [00:00<00:00, 110.29it/s]\n",
     "output_type": "stream"
    },
    {
     "name": "stdout",
     "text": "Epoch [40/100] Train Loss: 0.0764 Val Loss: 0.1201 AUC PR: 0.1811 Precision: 0.2938 Recall: 0.1749 F1: 0.2193\n",
     "output_type": "stream"
    },
    {
     "name": "stderr",
     "text": "[Epoch 41/100] Training: 100%|██████████| 469/469 [00:11<00:00, 40.21it/s]\n[Epoch 41/100] Validation: 100%|██████████| 59/59 [00:00<00:00, 108.85it/s]\n",
     "output_type": "stream"
    },
    {
     "name": "stdout",
     "text": "Epoch [41/100] Train Loss: 0.0756 Val Loss: 0.1123 AUC PR: 0.1857 Precision: 0.2719 Recall: 0.2605 F1: 0.2661\n",
     "output_type": "stream"
    },
    {
     "name": "stderr",
     "text": "[Epoch 42/100] Training: 100%|██████████| 469/469 [00:11<00:00, 40.09it/s]\n[Epoch 42/100] Validation: 100%|██████████| 59/59 [00:00<00:00, 105.52it/s]\n",
     "output_type": "stream"
    },
    {
     "name": "stdout",
     "text": "Epoch [42/100] Train Loss: 0.0760 Val Loss: 0.1161 AUC PR: 0.1842 Precision: 0.2907 Recall: 0.2079 F1: 0.2425\n",
     "output_type": "stream"
    },
    {
     "name": "stderr",
     "text": "[Epoch 43/100] Training: 100%|██████████| 469/469 [00:11<00:00, 39.82it/s]\n[Epoch 43/100] Validation: 100%|██████████| 59/59 [00:00<00:00, 112.11it/s]\n",
     "output_type": "stream"
    },
    {
     "name": "stdout",
     "text": "Epoch [43/100] Train Loss: 0.0755 Val Loss: 0.1216 AUC PR: 0.1842 Precision: 0.2619 Recall: 0.3047 F1: 0.2817\n",
     "output_type": "stream"
    },
    {
     "name": "stderr",
     "text": "[Epoch 44/100] Training: 100%|██████████| 469/469 [00:11<00:00, 40.18it/s]\n[Epoch 44/100] Validation: 100%|██████████| 59/59 [00:00<00:00, 111.24it/s]\n",
     "output_type": "stream"
    },
    {
     "name": "stdout",
     "text": "New best model with AUC PR: 0.1875\nEpoch [44/100] Train Loss: 0.0759 Val Loss: 0.1216 AUC PR: 0.1875 Precision: 0.2837 Recall: 0.2361 F1: 0.2577\n",
     "output_type": "stream"
    },
    {
     "name": "stderr",
     "text": "[Epoch 45/100] Training: 100%|██████████| 469/469 [00:11<00:00, 40.36it/s]\n[Epoch 45/100] Validation: 100%|██████████| 59/59 [00:00<00:00, 112.79it/s]\n",
     "output_type": "stream"
    },
    {
     "name": "stdout",
     "text": "Epoch [45/100] Train Loss: 0.0757 Val Loss: 0.1201 AUC PR: 0.1794 Precision: 0.2742 Recall: 0.2378 F1: 0.2547\n",
     "output_type": "stream"
    },
    {
     "name": "stderr",
     "text": "[Epoch 46/100] Training: 100%|██████████| 469/469 [00:11<00:00, 39.73it/s]\n[Epoch 46/100] Validation: 100%|██████████| 59/59 [00:00<00:00, 107.71it/s]\n",
     "output_type": "stream"
    },
    {
     "name": "stdout",
     "text": "Epoch [46/100] Train Loss: 0.0756 Val Loss: 0.1120 AUC PR: 0.1782 Precision: 0.2775 Recall: 0.2282 F1: 0.2504\n",
     "output_type": "stream"
    },
    {
     "name": "stderr",
     "text": "[Epoch 47/100] Training: 100%|██████████| 469/469 [00:11<00:00, 40.33it/s]\n[Epoch 47/100] Validation: 100%|██████████| 59/59 [00:00<00:00, 107.39it/s]\n",
     "output_type": "stream"
    },
    {
     "name": "stdout",
     "text": "Epoch [47/100] Train Loss: 0.0755 Val Loss: 0.1124 AUC PR: 0.1841 Precision: 0.3045 Recall: 0.1549 F1: 0.2054\n",
     "output_type": "stream"
    },
    {
     "name": "stderr",
     "text": "[Epoch 48/100] Training: 100%|██████████| 469/469 [00:11<00:00, 39.84it/s]\n[Epoch 48/100] Validation: 100%|██████████| 59/59 [00:00<00:00, 108.71it/s]\n",
     "output_type": "stream"
    },
    {
     "name": "stdout",
     "text": "New best model with AUC PR: 0.1877\nEpoch [48/100] Train Loss: 0.0758 Val Loss: 0.1194 AUC PR: 0.1877 Precision: 0.2766 Recall: 0.2523 F1: 0.2639\n",
     "output_type": "stream"
    },
    {
     "name": "stderr",
     "text": "[Epoch 49/100] Training: 100%|██████████| 469/469 [00:11<00:00, 40.10it/s]\n[Epoch 49/100] Validation: 100%|██████████| 59/59 [00:00<00:00, 109.51it/s]\n",
     "output_type": "stream"
    },
    {
     "name": "stdout",
     "text": "Epoch [49/100] Train Loss: 0.0752 Val Loss: 0.1198 AUC PR: 0.1829 Precision: 0.2625 Recall: 0.2934 F1: 0.2771\n",
     "output_type": "stream"
    },
    {
     "name": "stderr",
     "text": "[Epoch 50/100] Training: 100%|██████████| 469/469 [00:11<00:00, 40.00it/s]\n[Epoch 50/100] Validation: 100%|██████████| 59/59 [00:00<00:00, 108.36it/s]\n",
     "output_type": "stream"
    },
    {
     "name": "stdout",
     "text": "Epoch [50/100] Train Loss: 0.0752 Val Loss: 0.1198 AUC PR: 0.1855 Precision: 0.2740 Recall: 0.2538 F1: 0.2635\n",
     "output_type": "stream"
    },
    {
     "name": "stderr",
     "text": "[Epoch 51/100] Training: 100%|██████████| 469/469 [00:11<00:00, 40.18it/s]\n[Epoch 51/100] Validation: 100%|██████████| 59/59 [00:00<00:00, 109.71it/s]\n",
     "output_type": "stream"
    },
    {
     "name": "stdout",
     "text": "New best model with AUC PR: 0.1885\nEpoch [51/100] Train Loss: 0.0749 Val Loss: 0.1143 AUC PR: 0.1885 Precision: 0.2875 Recall: 0.2110 F1: 0.2434\n",
     "output_type": "stream"
    },
    {
     "name": "stderr",
     "text": "[Epoch 52/100] Training: 100%|██████████| 469/469 [00:11<00:00, 39.97it/s]\n[Epoch 52/100] Validation: 100%|██████████| 59/59 [00:00<00:00, 109.27it/s]\n",
     "output_type": "stream"
    },
    {
     "name": "stdout",
     "text": "New best model with AUC PR: 0.1898\nEpoch [52/100] Train Loss: 0.0753 Val Loss: 0.1155 AUC PR: 0.1898 Precision: 0.2990 Recall: 0.1754 F1: 0.2211\n",
     "output_type": "stream"
    },
    {
     "name": "stderr",
     "text": "[Epoch 53/100] Training: 100%|██████████| 469/469 [00:11<00:00, 39.44it/s]\n[Epoch 53/100] Validation: 100%|██████████| 59/59 [00:00<00:00, 110.67it/s]\n",
     "output_type": "stream"
    },
    {
     "name": "stdout",
     "text": "Epoch [53/100] Train Loss: 0.0746 Val Loss: 0.1151 AUC PR: 0.1892 Precision: 0.2668 Recall: 0.2805 F1: 0.2735\n",
     "output_type": "stream"
    },
    {
     "name": "stderr",
     "text": "[Epoch 54/100] Training: 100%|██████████| 469/469 [00:11<00:00, 40.05it/s]\n[Epoch 54/100] Validation: 100%|██████████| 59/59 [00:00<00:00, 110.34it/s]\n",
     "output_type": "stream"
    },
    {
     "name": "stdout",
     "text": "Epoch [54/100] Train Loss: 0.0746 Val Loss: 0.1196 AUC PR: 0.1889 Precision: 0.2803 Recall: 0.2438 F1: 0.2608\n",
     "output_type": "stream"
    },
    {
     "name": "stderr",
     "text": "[Epoch 55/100] Training: 100%|██████████| 469/469 [00:11<00:00, 40.29it/s]\n[Epoch 55/100] Validation: 100%|██████████| 59/59 [00:00<00:00, 113.52it/s]\n",
     "output_type": "stream"
    },
    {
     "name": "stdout",
     "text": "Epoch [55/100] Train Loss: 0.0747 Val Loss: 0.1166 AUC PR: 0.1828 Precision: 0.2751 Recall: 0.2368 F1: 0.2545\n",
     "output_type": "stream"
    },
    {
     "name": "stderr",
     "text": "[Epoch 56/100] Training: 100%|██████████| 469/469 [00:11<00:00, 40.56it/s]\n[Epoch 56/100] Validation: 100%|██████████| 59/59 [00:00<00:00, 111.36it/s]\n",
     "output_type": "stream"
    },
    {
     "name": "stdout",
     "text": "Epoch [56/100] Train Loss: 0.0746 Val Loss: 0.1124 AUC PR: 0.1830 Precision: 0.3143 Recall: 0.1259 F1: 0.1798\n",
     "output_type": "stream"
    },
    {
     "name": "stderr",
     "text": "[Epoch 57/100] Training: 100%|██████████| 469/469 [00:11<00:00, 40.34it/s]\n[Epoch 57/100] Validation: 100%|██████████| 59/59 [00:00<00:00, 103.43it/s]\n",
     "output_type": "stream"
    },
    {
     "name": "stdout",
     "text": "Epoch [57/100] Train Loss: 0.0750 Val Loss: 0.1263 AUC PR: 0.1869 Precision: 0.2515 Recall: 0.3243 F1: 0.2833\n",
     "output_type": "stream"
    },
    {
     "name": "stderr",
     "text": "[Epoch 58/100] Training: 100%|██████████| 469/469 [00:11<00:00, 39.71it/s]\n[Epoch 58/100] Validation: 100%|██████████| 59/59 [00:00<00:00, 106.74it/s]\n",
     "output_type": "stream"
    },
    {
     "name": "stdout",
     "text": "Epoch [58/100] Train Loss: 0.0743 Val Loss: 0.1186 AUC PR: 0.1837 Precision: 0.2584 Recall: 0.2998 F1: 0.2776\n",
     "output_type": "stream"
    },
    {
     "name": "stderr",
     "text": "[Epoch 59/100] Training: 100%|██████████| 469/469 [00:11<00:00, 39.95it/s]\n[Epoch 59/100] Validation: 100%|██████████| 59/59 [00:00<00:00, 107.65it/s]\n",
     "output_type": "stream"
    },
    {
     "name": "stdout",
     "text": "Epoch [59/100] Train Loss: 0.0745 Val Loss: 0.1201 AUC PR: 0.1823 Precision: 0.2663 Recall: 0.2682 F1: 0.2673\n",
     "output_type": "stream"
    },
    {
     "name": "stderr",
     "text": "[Epoch 60/100] Training: 100%|██████████| 469/469 [00:11<00:00, 40.09it/s]\n[Epoch 60/100] Validation: 100%|██████████| 59/59 [00:00<00:00, 108.31it/s]\n",
     "output_type": "stream"
    },
    {
     "name": "stdout",
     "text": "Epoch [60/100] Train Loss: 0.0740 Val Loss: 0.1127 AUC PR: 0.1839 Precision: 0.2985 Recall: 0.1777 F1: 0.2228\n",
     "output_type": "stream"
    },
    {
     "name": "stderr",
     "text": "[Epoch 61/100] Training: 100%|██████████| 469/469 [00:11<00:00, 40.24it/s]\n[Epoch 61/100] Validation: 100%|██████████| 59/59 [00:00<00:00, 111.44it/s]\n",
     "output_type": "stream"
    },
    {
     "name": "stdout",
     "text": "Epoch [61/100] Train Loss: 0.0743 Val Loss: 0.1201 AUC PR: 0.1862 Precision: 0.2819 Recall: 0.2254 F1: 0.2505\n",
     "output_type": "stream"
    },
    {
     "name": "stderr",
     "text": "[Epoch 62/100] Training: 100%|██████████| 469/469 [00:11<00:00, 39.97it/s]\n[Epoch 62/100] Validation: 100%|██████████| 59/59 [00:00<00:00, 110.00it/s]\n",
     "output_type": "stream"
    },
    {
     "name": "stdout",
     "text": "Epoch [62/100] Train Loss: 0.0744 Val Loss: 0.1177 AUC PR: 0.1818 Precision: 0.2655 Recall: 0.2679 F1: 0.2667\n",
     "output_type": "stream"
    },
    {
     "name": "stderr",
     "text": "[Epoch 63/100] Training: 100%|██████████| 469/469 [00:11<00:00, 39.92it/s]\n[Epoch 63/100] Validation: 100%|██████████| 59/59 [00:00<00:00, 101.93it/s]\n",
     "output_type": "stream"
    },
    {
     "name": "stdout",
     "text": "Epoch [63/100] Train Loss: 0.0742 Val Loss: 0.1190 AUC PR: 0.1835 Precision: 0.2684 Recall: 0.2636 F1: 0.2660\n",
     "output_type": "stream"
    },
    {
     "name": "stderr",
     "text": "[Epoch 64/100] Training: 100%|██████████| 469/469 [00:11<00:00, 39.99it/s]\n[Epoch 64/100] Validation: 100%|██████████| 59/59 [00:00<00:00, 107.97it/s]\n",
     "output_type": "stream"
    },
    {
     "name": "stdout",
     "text": "Epoch [64/100] Train Loss: 0.0741 Val Loss: 0.1190 AUC PR: 0.1873 Precision: 0.2897 Recall: 0.2153 F1: 0.2470\n",
     "output_type": "stream"
    },
    {
     "name": "stderr",
     "text": "[Epoch 65/100] Training: 100%|██████████| 469/469 [00:11<00:00, 39.94it/s]\n[Epoch 65/100] Validation: 100%|██████████| 59/59 [00:00<00:00, 107.13it/s]\n",
     "output_type": "stream"
    },
    {
     "name": "stdout",
     "text": "Epoch [65/100] Train Loss: 0.0739 Val Loss: 0.1144 AUC PR: 0.1895 Precision: 0.3079 Recall: 0.1777 F1: 0.2253\n",
     "output_type": "stream"
    },
    {
     "name": "stderr",
     "text": "[Epoch 66/100] Training: 100%|██████████| 469/469 [00:11<00:00, 40.02it/s]\n[Epoch 66/100] Validation: 100%|██████████| 59/59 [00:00<00:00, 109.44it/s]\n",
     "output_type": "stream"
    },
    {
     "name": "stdout",
     "text": "Epoch [66/100] Train Loss: 0.0737 Val Loss: 0.1189 AUC PR: 0.1832 Precision: 0.2613 Recall: 0.2953 F1: 0.2772\n",
     "output_type": "stream"
    },
    {
     "name": "stderr",
     "text": "[Epoch 67/100] Training: 100%|██████████| 469/469 [00:11<00:00, 40.31it/s]\n[Epoch 67/100] Validation: 100%|██████████| 59/59 [00:00<00:00, 108.73it/s]\n",
     "output_type": "stream"
    },
    {
     "name": "stdout",
     "text": "Epoch [67/100] Train Loss: 0.0737 Val Loss: 0.1204 AUC PR: 0.1871 Precision: 0.2852 Recall: 0.2218 F1: 0.2496\n",
     "output_type": "stream"
    },
    {
     "name": "stderr",
     "text": "[Epoch 68/100] Training: 100%|██████████| 469/469 [00:11<00:00, 39.44it/s]\n[Epoch 68/100] Validation: 100%|██████████| 59/59 [00:00<00:00, 102.56it/s]\n",
     "output_type": "stream"
    },
    {
     "name": "stdout",
     "text": "Epoch [68/100] Train Loss: 0.0738 Val Loss: 0.1222 AUC PR: 0.1833 Precision: 0.2737 Recall: 0.2535 F1: 0.2632\n",
     "output_type": "stream"
    },
    {
     "name": "stderr",
     "text": "[Epoch 69/100] Training: 100%|██████████| 469/469 [00:11<00:00, 39.91it/s]\n[Epoch 69/100] Validation: 100%|██████████| 59/59 [00:00<00:00, 109.48it/s]\n",
     "output_type": "stream"
    },
    {
     "name": "stdout",
     "text": "Epoch [69/100] Train Loss: 0.0737 Val Loss: 0.1194 AUC PR: 0.1843 Precision: 0.2770 Recall: 0.2422 F1: 0.2585\n",
     "output_type": "stream"
    },
    {
     "name": "stderr",
     "text": "[Epoch 70/100] Training: 100%|██████████| 469/469 [00:11<00:00, 40.36it/s]\n[Epoch 70/100] Validation: 100%|██████████| 59/59 [00:00<00:00, 111.53it/s]\n",
     "output_type": "stream"
    },
    {
     "name": "stdout",
     "text": "Epoch [70/100] Train Loss: 0.0734 Val Loss: 0.1170 AUC PR: 0.1850 Precision: 0.2768 Recall: 0.2452 F1: 0.2601\n",
     "output_type": "stream"
    },
    {
     "name": "stderr",
     "text": "[Epoch 71/100] Training: 100%|██████████| 469/469 [00:11<00:00, 40.25it/s]\n[Epoch 71/100] Validation: 100%|██████████| 59/59 [00:00<00:00, 112.36it/s]\n",
     "output_type": "stream"
    },
    {
     "name": "stdout",
     "text": "Epoch [71/100] Train Loss: 0.0733 Val Loss: 0.1203 AUC PR: 0.1807 Precision: 0.2795 Recall: 0.2326 F1: 0.2539\n",
     "output_type": "stream"
    },
    {
     "name": "stderr",
     "text": "[Epoch 72/100] Training: 100%|██████████| 469/469 [00:11<00:00, 40.16it/s]\n[Epoch 72/100] Validation: 100%|██████████| 59/59 [00:00<00:00, 112.14it/s]\n",
     "output_type": "stream"
    },
    {
     "name": "stdout",
     "text": "Epoch [72/100] Train Loss: 0.0739 Val Loss: 0.1207 AUC PR: 0.1824 Precision: 0.2581 Recall: 0.3005 F1: 0.2777\n",
     "output_type": "stream"
    },
    {
     "name": "stderr",
     "text": "[Epoch 73/100] Training: 100%|██████████| 469/469 [00:11<00:00, 39.78it/s]\n[Epoch 73/100] Validation: 100%|██████████| 59/59 [00:00<00:00, 111.56it/s]\n",
     "output_type": "stream"
    },
    {
     "name": "stdout",
     "text": "Epoch [73/100] Train Loss: 0.0735 Val Loss: 0.1202 AUC PR: 0.1833 Precision: 0.3047 Recall: 0.1542 F1: 0.2048\n",
     "output_type": "stream"
    },
    {
     "name": "stderr",
     "text": "[Epoch 74/100] Training: 100%|██████████| 469/469 [00:11<00:00, 39.96it/s]\n[Epoch 74/100] Validation: 100%|██████████| 59/59 [00:00<00:00, 108.33it/s]\n",
     "output_type": "stream"
    },
    {
     "name": "stdout",
     "text": "Epoch [74/100] Train Loss: 0.0731 Val Loss: 0.1131 AUC PR: 0.1812 Precision: 0.2841 Recall: 0.2149 F1: 0.2447\n",
     "output_type": "stream"
    },
    {
     "name": "stderr",
     "text": "[Epoch 75/100] Training: 100%|██████████| 469/469 [00:11<00:00, 39.94it/s]\n[Epoch 75/100] Validation: 100%|██████████| 59/59 [00:00<00:00, 111.65it/s]\n",
     "output_type": "stream"
    },
    {
     "name": "stdout",
     "text": "Epoch [75/100] Train Loss: 0.0732 Val Loss: 0.1185 AUC PR: 0.1854 Precision: 0.2644 Recall: 0.2825 F1: 0.2732\n",
     "output_type": "stream"
    },
    {
     "name": "stderr",
     "text": "[Epoch 76/100] Training: 100%|██████████| 469/469 [00:11<00:00, 40.11it/s]\n[Epoch 76/100] Validation: 100%|██████████| 59/59 [00:00<00:00, 109.75it/s]\n",
     "output_type": "stream"
    },
    {
     "name": "stdout",
     "text": "Epoch [76/100] Train Loss: 0.0733 Val Loss: 0.1203 AUC PR: 0.1822 Precision: 0.2739 Recall: 0.2534 F1: 0.2633\n",
     "output_type": "stream"
    },
    {
     "name": "stderr",
     "text": "[Epoch 77/100] Training: 100%|██████████| 469/469 [00:11<00:00, 39.98it/s]\n[Epoch 77/100] Validation: 100%|██████████| 59/59 [00:00<00:00, 108.47it/s]\n",
     "output_type": "stream"
    },
    {
     "name": "stdout",
     "text": "Epoch [77/100] Train Loss: 0.0730 Val Loss: 0.1193 AUC PR: 0.1806 Precision: 0.2914 Recall: 0.1960 F1: 0.2344\n",
     "output_type": "stream"
    },
    {
     "name": "stderr",
     "text": "[Epoch 78/100] Training: 100%|██████████| 469/469 [00:11<00:00, 39.69it/s]\n[Epoch 78/100] Validation: 100%|██████████| 59/59 [00:00<00:00, 109.17it/s]\n",
     "output_type": "stream"
    },
    {
     "name": "stdout",
     "text": "Epoch [78/100] Train Loss: 0.0734 Val Loss: 0.1154 AUC PR: 0.1858 Precision: 0.2727 Recall: 0.2585 F1: 0.2654\n",
     "output_type": "stream"
    },
    {
     "name": "stderr",
     "text": "[Epoch 79/100] Training: 100%|██████████| 469/469 [00:11<00:00, 40.09it/s]\n[Epoch 79/100] Validation: 100%|██████████| 59/59 [00:00<00:00, 110.57it/s]\n",
     "output_type": "stream"
    },
    {
     "name": "stdout",
     "text": "Epoch [79/100] Train Loss: 0.0729 Val Loss: 0.1287 AUC PR: 0.1833 Precision: 0.2382 Recall: 0.3586 F1: 0.2863\n",
     "output_type": "stream"
    },
    {
     "name": "stderr",
     "text": "[Epoch 80/100] Training: 100%|██████████| 469/469 [00:11<00:00, 39.99it/s]\n[Epoch 80/100] Validation: 100%|██████████| 59/59 [00:00<00:00, 112.06it/s]\n",
     "output_type": "stream"
    },
    {
     "name": "stdout",
     "text": "Epoch [80/100] Train Loss: 0.0728 Val Loss: 0.1204 AUC PR: 0.1858 Precision: 0.2725 Recall: 0.2615 F1: 0.2669\n",
     "output_type": "stream"
    },
    {
     "name": "stderr",
     "text": "[Epoch 81/100] Training: 100%|██████████| 469/469 [00:11<00:00, 40.13it/s]\n[Epoch 81/100] Validation: 100%|██████████| 59/59 [00:00<00:00, 109.51it/s]\n",
     "output_type": "stream"
    },
    {
     "name": "stdout",
     "text": "Epoch [81/100] Train Loss: 0.0730 Val Loss: 0.1131 AUC PR: 0.1870 Precision: 0.2896 Recall: 0.2186 F1: 0.2492\n",
     "output_type": "stream"
    },
    {
     "name": "stderr",
     "text": "[Epoch 82/100] Training: 100%|██████████| 469/469 [00:11<00:00, 39.84it/s]\n[Epoch 82/100] Validation: 100%|██████████| 59/59 [00:00<00:00, 108.37it/s]\n",
     "output_type": "stream"
    },
    {
     "name": "stdout",
     "text": "Epoch [82/100] Train Loss: 0.0733 Val Loss: 0.1178 AUC PR: 0.1830 Precision: 0.2765 Recall: 0.2460 F1: 0.2604\n",
     "output_type": "stream"
    },
    {
     "name": "stderr",
     "text": "[Epoch 83/100] Training: 100%|██████████| 469/469 [00:11<00:00, 39.74it/s]\n[Epoch 83/100] Validation: 100%|██████████| 59/59 [00:00<00:00, 107.86it/s]\n",
     "output_type": "stream"
    },
    {
     "name": "stdout",
     "text": "Epoch [83/100] Train Loss: 0.0731 Val Loss: 0.1155 AUC PR: 0.1799 Precision: 0.2733 Recall: 0.2414 F1: 0.2563\n",
     "output_type": "stream"
    },
    {
     "name": "stderr",
     "text": "[Epoch 84/100] Training: 100%|██████████| 469/469 [00:11<00:00, 39.85it/s]\n[Epoch 84/100] Validation: 100%|██████████| 59/59 [00:00<00:00, 109.43it/s]\n",
     "output_type": "stream"
    },
    {
     "name": "stdout",
     "text": "Epoch [84/100] Train Loss: 0.0732 Val Loss: 0.1150 AUC PR: 0.1826 Precision: 0.2846 Recall: 0.2098 F1: 0.2415\n",
     "output_type": "stream"
    },
    {
     "name": "stderr",
     "text": "[Epoch 85/100] Training: 100%|██████████| 469/469 [00:11<00:00, 39.69it/s]\n[Epoch 85/100] Validation: 100%|██████████| 59/59 [00:00<00:00, 107.31it/s]\n",
     "output_type": "stream"
    },
    {
     "name": "stdout",
     "text": "Epoch [85/100] Train Loss: 0.0727 Val Loss: 0.1144 AUC PR: 0.1888 Precision: 0.2698 Recall: 0.2783 F1: 0.2740\n",
     "output_type": "stream"
    },
    {
     "name": "stderr",
     "text": "[Epoch 86/100] Training: 100%|██████████| 469/469 [00:11<00:00, 40.34it/s]\n[Epoch 86/100] Validation: 100%|██████████| 59/59 [00:00<00:00, 109.40it/s]\n",
     "output_type": "stream"
    },
    {
     "name": "stdout",
     "text": "Epoch [86/100] Train Loss: 0.0729 Val Loss: 0.1140 AUC PR: 0.1842 Precision: 0.2996 Recall: 0.1812 F1: 0.2259\n",
     "output_type": "stream"
    },
    {
     "name": "stderr",
     "text": "[Epoch 87/100] Training: 100%|██████████| 469/469 [00:11<00:00, 40.18it/s]\n[Epoch 87/100] Validation: 100%|██████████| 59/59 [00:00<00:00, 108.87it/s]\n",
     "output_type": "stream"
    },
    {
     "name": "stdout",
     "text": "Epoch [87/100] Train Loss: 0.0728 Val Loss: 0.1151 AUC PR: 0.1866 Precision: 0.2819 Recall: 0.2405 F1: 0.2596\n",
     "output_type": "stream"
    },
    {
     "name": "stderr",
     "text": "[Epoch 88/100] Training: 100%|██████████| 469/469 [00:11<00:00, 39.85it/s]\n[Epoch 88/100] Validation: 100%|██████████| 59/59 [00:00<00:00, 109.55it/s]\n",
     "output_type": "stream"
    },
    {
     "name": "stdout",
     "text": "Epoch [88/100] Train Loss: 0.0722 Val Loss: 0.1203 AUC PR: 0.1844 Precision: 0.2744 Recall: 0.2486 F1: 0.2609\n",
     "output_type": "stream"
    },
    {
     "name": "stderr",
     "text": "[Epoch 89/100] Training: 100%|██████████| 469/469 [00:11<00:00, 39.95it/s]\n[Epoch 89/100] Validation: 100%|██████████| 59/59 [00:00<00:00, 109.45it/s]\n",
     "output_type": "stream"
    },
    {
     "name": "stdout",
     "text": "Epoch [89/100] Train Loss: 0.0723 Val Loss: 0.1158 AUC PR: 0.1844 Precision: 0.2965 Recall: 0.1875 F1: 0.2297\n",
     "output_type": "stream"
    },
    {
     "name": "stderr",
     "text": "[Epoch 90/100] Training: 100%|██████████| 469/469 [00:11<00:00, 40.26it/s]\n[Epoch 90/100] Validation: 100%|██████████| 59/59 [00:00<00:00, 110.74it/s]\n",
     "output_type": "stream"
    },
    {
     "name": "stdout",
     "text": "Epoch [90/100] Train Loss: 0.0725 Val Loss: 0.1201 AUC PR: 0.1821 Precision: 0.2857 Recall: 0.2097 F1: 0.2418\n",
     "output_type": "stream"
    },
    {
     "name": "stderr",
     "text": "[Epoch 91/100] Training: 100%|██████████| 469/469 [00:11<00:00, 40.10it/s]\n[Epoch 91/100] Validation: 100%|██████████| 59/59 [00:00<00:00, 111.42it/s]\n",
     "output_type": "stream"
    },
    {
     "name": "stdout",
     "text": "Epoch [91/100] Train Loss: 0.0726 Val Loss: 0.1226 AUC PR: 0.1848 Precision: 0.2795 Recall: 0.2241 F1: 0.2487\n",
     "output_type": "stream"
    },
    {
     "name": "stderr",
     "text": "[Epoch 92/100] Training: 100%|██████████| 469/469 [00:11<00:00, 40.42it/s]\n[Epoch 92/100] Validation: 100%|██████████| 59/59 [00:00<00:00, 111.03it/s]\n",
     "output_type": "stream"
    },
    {
     "name": "stdout",
     "text": "Epoch [92/100] Train Loss: 0.0722 Val Loss: 0.1123 AUC PR: 0.1837 Precision: 0.2921 Recall: 0.1858 F1: 0.2271\n",
     "output_type": "stream"
    },
    {
     "name": "stderr",
     "text": "[Epoch 93/100] Training: 100%|██████████| 469/469 [00:11<00:00, 39.82it/s]\n[Epoch 93/100] Validation: 100%|██████████| 59/59 [00:00<00:00, 110.56it/s]\n",
     "output_type": "stream"
    },
    {
     "name": "stdout",
     "text": "Epoch [93/100] Train Loss: 0.0719 Val Loss: 0.1184 AUC PR: 0.1860 Precision: 0.2765 Recall: 0.2480 F1: 0.2615\n",
     "output_type": "stream"
    },
    {
     "name": "stderr",
     "text": "[Epoch 94/100] Training: 100%|██████████| 469/469 [00:11<00:00, 39.51it/s]\n[Epoch 94/100] Validation: 100%|██████████| 59/59 [00:00<00:00, 109.35it/s]\n",
     "output_type": "stream"
    },
    {
     "name": "stdout",
     "text": "Epoch [94/100] Train Loss: 0.0723 Val Loss: 0.1205 AUC PR: 0.1861 Precision: 0.2861 Recall: 0.2167 F1: 0.2466\n",
     "output_type": "stream"
    },
    {
     "name": "stderr",
     "text": "[Epoch 95/100] Training: 100%|██████████| 469/469 [00:11<00:00, 40.23it/s]\n[Epoch 95/100] Validation: 100%|██████████| 59/59 [00:00<00:00, 111.22it/s]\n",
     "output_type": "stream"
    },
    {
     "name": "stdout",
     "text": "Epoch [95/100] Train Loss: 0.0722 Val Loss: 0.1188 AUC PR: 0.1828 Precision: 0.2596 Recall: 0.2795 F1: 0.2692\n",
     "output_type": "stream"
    },
    {
     "name": "stderr",
     "text": "[Epoch 96/100] Training: 100%|██████████| 469/469 [00:11<00:00, 40.14it/s]\n[Epoch 96/100] Validation: 100%|██████████| 59/59 [00:00<00:00, 110.69it/s]\n",
     "output_type": "stream"
    },
    {
     "name": "stdout",
     "text": "Epoch [96/100] Train Loss: 0.0722 Val Loss: 0.1212 AUC PR: 0.1812 Precision: 0.2818 Recall: 0.2018 F1: 0.2352\n",
     "output_type": "stream"
    },
    {
     "name": "stderr",
     "text": "[Epoch 97/100] Training: 100%|██████████| 469/469 [00:11<00:00, 40.01it/s]\n[Epoch 97/100] Validation: 100%|██████████| 59/59 [00:00<00:00, 108.38it/s]\n",
     "output_type": "stream"
    },
    {
     "name": "stdout",
     "text": "Epoch [97/100] Train Loss: 0.0718 Val Loss: 0.1147 AUC PR: 0.1833 Precision: 0.2726 Recall: 0.2533 F1: 0.2626\n",
     "output_type": "stream"
    },
    {
     "name": "stderr",
     "text": "[Epoch 98/100] Training: 100%|██████████| 469/469 [00:11<00:00, 40.02it/s]\n[Epoch 98/100] Validation: 100%|██████████| 59/59 [00:00<00:00, 110.82it/s]\n",
     "output_type": "stream"
    },
    {
     "name": "stdout",
     "text": "Epoch [98/100] Train Loss: 0.0721 Val Loss: 0.1123 AUC PR: 0.1804 Precision: 0.2865 Recall: 0.1922 F1: 0.2301\n",
     "output_type": "stream"
    },
    {
     "name": "stderr",
     "text": "[Epoch 99/100] Training: 100%|██████████| 469/469 [00:11<00:00, 39.67it/s]\n[Epoch 99/100] Validation: 100%|██████████| 59/59 [00:00<00:00, 109.78it/s]\n",
     "output_type": "stream"
    },
    {
     "name": "stdout",
     "text": "Epoch [99/100] Train Loss: 0.0720 Val Loss: 0.1138 AUC PR: 0.1816 Precision: 0.2820 Recall: 0.2273 F1: 0.2517\n",
     "output_type": "stream"
    },
    {
     "name": "stderr",
     "text": "[Epoch 100/100] Training: 100%|██████████| 469/469 [00:11<00:00, 40.33it/s]\n[Epoch 100/100] Validation: 100%|██████████| 59/59 [00:00<00:00, 109.53it/s]\n",
     "output_type": "stream"
    },
    {
     "name": "stdout",
     "text": "Epoch [100/100] Train Loss: 0.0721 Val Loss: 0.1121 AUC PR: 0.1851 Precision: 0.2784 Recall: 0.2484 F1: 0.2626\n\nFinal Model Performance:\nAUC PR: 0.1851\nPrecision: 0.2784\nRecall: 0.2484\nF1 Score: 0.2626\nlearning rate: 0.001\n",
     "output_type": "stream"
    },
    {
     "name": "stderr",
     "text": "[Epoch 1/100] Training: 100%|██████████| 469/469 [00:11<00:00, 40.18it/s]\n[Epoch 1/100] Validation: 100%|██████████| 59/59 [00:00<00:00, 109.53it/s]\n",
     "output_type": "stream"
    },
    {
     "name": "stdout",
     "text": "New best model with AUC PR: 0.1500\nEpoch [1/100] Train Loss: 0.1151 Val Loss: 0.1213 AUC PR: 0.1500 Precision: 0.2455 Recall: 0.1904 F1: 0.2144\n",
     "output_type": "stream"
    },
    {
     "name": "stderr",
     "text": "[Epoch 2/100] Training: 100%|██████████| 469/469 [00:11<00:00, 40.33it/s]\n[Epoch 2/100] Validation: 100%|██████████| 59/59 [00:00<00:00, 109.83it/s]\n",
     "output_type": "stream"
    },
    {
     "name": "stdout",
     "text": "New best model with AUC PR: 0.1511\nEpoch [2/100] Train Loss: 0.0893 Val Loss: 0.1227 AUC PR: 0.1511 Precision: 0.2500 Recall: 0.1797 F1: 0.2091\n",
     "output_type": "stream"
    },
    {
     "name": "stderr",
     "text": "[Epoch 3/100] Training: 100%|██████████| 469/469 [00:11<00:00, 40.04it/s]\n[Epoch 3/100] Validation: 100%|██████████| 59/59 [00:00<00:00, 111.12it/s]\n[Epoch 6/100] Training: 100%|██████████| 469/469 [00:11<00:00, 40.36it/s]\n[Epoch 6/100] Validation: 100%|██████████| 59/59 [00:00<00:00, 111.95it/s]\n",
     "output_type": "stream"
    },
    {
     "name": "stdout",
     "text": "New best model with AUC PR: 0.1656\nEpoch [6/100] Train Loss: 0.0838 Val Loss: 0.1175 AUC PR: 0.1656 Precision: 0.2694 Recall: 0.1503 F1: 0.1930\n",
     "output_type": "stream"
    },
    {
     "name": "stderr",
     "text": "[Epoch 7/100] Training:  95%|█████████▌| 446/469 [00:11<00:00, 40.62it/s]",
     "output_type": "stream"
    },
    {
     "name": "stdout",
     "text": "New best model with AUC PR: 0.1769\nEpoch [9/100] Train Loss: 0.0814 Val Loss: 0.1142 AUC PR: 0.1769 Precision: 0.2766 Recall: 0.2149 F1: 0.2419\n",
     "output_type": "stream"
    },
    {
     "name": "stderr",
     "text": "[Epoch 10/100] Training: 100%|██████████| 469/469 [00:11<00:00, 40.01it/s]\n[Epoch 10/100] Validation: 100%|██████████| 59/59 [00:00<00:00, 111.52it/s]\n",
     "output_type": "stream"
    },
    {
     "name": "stdout",
     "text": "Epoch [10/100] Train Loss: 0.0809 Val Loss: 0.1171 AUC PR: 0.1759 Precision: 0.2735 Recall: 0.2286 F1: 0.2490\n",
     "output_type": "stream"
    },
    {
     "name": "stderr",
     "text": "[Epoch 11/100] Training: 100%|██████████| 469/469 [00:11<00:00, 39.80it/s]\n[Epoch 11/100] Validation: 100%|██████████| 59/59 [00:00<00:00, 108.19it/s]\n",
     "output_type": "stream"
    },
    {
     "name": "stdout",
     "text": "New best model with AUC PR: 0.1772\nEpoch [11/100] Train Loss: 0.0806 Val Loss: 0.1186 AUC PR: 0.1772 Precision: 0.2743 Recall: 0.2327 F1: 0.2518\n",
     "output_type": "stream"
    },
    {
     "name": "stderr",
     "text": "[Epoch 12/100] Training: 100%|██████████| 469/469 [00:11<00:00, 40.01it/s]\n[Epoch 12/100] Validation: 100%|██████████| 59/59 [00:00<00:00, 108.10it/s]\n",
     "output_type": "stream"
    },
    {
     "name": "stdout",
     "text": "New best model with AUC PR: 0.1803\nEpoch [12/100] Train Loss: 0.0797 Val Loss: 0.1199 AUC PR: 0.1803 Precision: 0.2727 Recall: 0.2422 F1: 0.2566\n",
     "output_type": "stream"
    },
    {
     "name": "stderr",
     "text": "[Epoch 13/100] Training: 100%|██████████| 469/469 [00:11<00:00, 40.06it/s]\n[Epoch 13/100] Validation: 100%|██████████| 59/59 [00:00<00:00, 109.77it/s]\n",
     "output_type": "stream"
    },
    {
     "name": "stdout",
     "text": "New best model with AUC PR: 0.1806\nEpoch [13/100] Train Loss: 0.0795 Val Loss: 0.1170 AUC PR: 0.1806 Precision: 0.2669 Recall: 0.2515 F1: 0.2590\n",
     "output_type": "stream"
    },
    {
     "name": "stderr",
     "text": "[Epoch 14/100] Training: 100%|██████████| 469/469 [00:11<00:00, 39.89it/s]\n[Epoch 14/100] Validation: 100%|██████████| 59/59 [00:00<00:00, 108.41it/s]\n",
     "output_type": "stream"
    },
    {
     "name": "stdout",
     "text": "Epoch [17/100] Train Loss: 0.0781 Val Loss: 0.1133 AUC PR: 0.1841 Precision: 0.2602 Recall: 0.2880 F1: 0.2734\n",
     "output_type": "stream"
    },
    {
     "name": "stderr",
     "text": "[Epoch 18/100] Training: 100%|██████████| 469/469 [00:11<00:00, 40.32it/s]\n[Epoch 18/100] Validation: 100%|██████████| 59/59 [00:00<00:00, 112.28it/s]\n",
     "output_type": "stream"
    },
    {
     "name": "stdout",
     "text": "Epoch [18/100] Train Loss: 0.0778 Val Loss: 0.1153 AUC PR: 0.1841 Precision: 0.2973 Recall: 0.1842 F1: 0.2275\n",
     "output_type": "stream"
    },
    {
     "name": "stderr",
     "text": "[Epoch 19/100] Training: 100%|██████████| 469/469 [00:11<00:00, 39.52it/s]\n[Epoch 19/100] Validation: 100%|██████████| 59/59 [00:00<00:00, 107.09it/s]\n",
     "output_type": "stream"
    },
    {
     "name": "stdout",
     "text": "Epoch [19/100] Train Loss: 0.0777 Val Loss: 0.1184 AUC PR: 0.1861 Precision: 0.2936 Recall: 0.2047 F1: 0.2412\n",
     "output_type": "stream"
    },
    {
     "name": "stderr",
     "text": "[Epoch 20/100] Training: 100%|██████████| 469/469 [00:11<00:00, 39.77it/s]\n[Epoch 20/100] Validation: 100%|██████████| 59/59 [00:00<00:00, 109.67it/s]\n",
     "output_type": "stream"
    },
    {
     "name": "stdout",
     "text": "Epoch [20/100] Train Loss: 0.0775 Val Loss: 0.1165 AUC PR: 0.1863 Precision: 0.2821 Recall: 0.2417 F1: 0.2603\n",
     "output_type": "stream"
    },
    {
     "name": "stderr",
     "text": "[Epoch 21/100] Training: 100%|██████████| 469/469 [00:11<00:00, 39.86it/s]\n[Epoch 21/100] Validation: 100%|██████████| 59/59 [00:00<00:00, 110.08it/s]\n",
     "output_type": "stream"
    },
    {
     "name": "stdout",
     "text": "Epoch [21/100] Train Loss: 0.0772 Val Loss: 0.1138 AUC PR: 0.1861 Precision: 0.2738 Recall: 0.2620 F1: 0.2678\n",
     "output_type": "stream"
    },
    {
     "name": "stderr",
     "text": "[Epoch 22/100] Training: 100%|██████████| 469/469 [00:11<00:00, 40.13it/s]\n[Epoch 22/100] Validation: 100%|██████████| 59/59 [00:00<00:00, 109.28it/s]\n",
     "output_type": "stream"
    },
    {
     "name": "stdout",
     "text": "Epoch [22/100] Train Loss: 0.0770 Val Loss: 0.1145 AUC PR: 0.1876 Precision: 0.2777 Recall: 0.2524 F1: 0.2645\n",
     "output_type": "stream"
    },
    {
     "name": "stderr",
     "text": "[Epoch 23/100] Training: 100%|██████████| 469/469 [00:11<00:00, 39.95it/s]\n[Epoch 23/100] Validation: 100%|██████████| 59/59 [00:00<00:00, 110.01it/s]\n",
     "output_type": "stream"
    },
    {
     "name": "stdout",
     "text": "Epoch [23/100] Train Loss: 0.0768 Val Loss: 0.1119 AUC PR: 0.1858 Precision: 0.2818 Recall: 0.2418 F1: 0.2603\n",
     "output_type": "stream"
    },
    {
     "name": "stderr",
     "text": "[Epoch 24/100] Training: 100%|██████████| 469/469 [00:11<00:00, 39.98it/s]\n[Epoch 24/100] Validation: 100%|██████████| 59/59 [00:00<00:00, 100.42it/s]\n",
     "output_type": "stream"
    },
    {
     "name": "stdout",
     "text": "Epoch [24/100] Train Loss: 0.0764 Val Loss: 0.1165 AUC PR: 0.1861 Precision: 0.2662 Recall: 0.2812 F1: 0.2735\n",
     "output_type": "stream"
    },
    {
     "name": "stderr",
     "text": "[Epoch 25/100] Training: 100%|██████████| 469/469 [00:11<00:00, 40.22it/s]\n[Epoch 25/100] Validation: 100%|██████████| 59/59 [00:00<00:00, 110.23it/s]\n",
     "output_type": "stream"
    },
    {
     "name": "stdout",
     "text": "Epoch [25/100] Train Loss: 0.0765 Val Loss: 0.1170 AUC PR: 0.1867 Precision: 0.2544 Recall: 0.3068 F1: 0.2782\n",
     "output_type": "stream"
    },
    {
     "name": "stderr",
     "text": "[Epoch 26/100] Training: 100%|██████████| 469/469 [00:11<00:00, 40.33it/s]\n[Epoch 26/100] Validation: 100%|██████████| 59/59 [00:00<00:00, 104.79it/s]\n",
     "output_type": "stream"
    },
    {
     "name": "stdout",
     "text": "Epoch [28/100] Train Loss: 0.0756 Val Loss: 0.1178 AUC PR: 0.1876 Precision: 0.2662 Recall: 0.2799 F1: 0.2729\n",
     "output_type": "stream"
    },
    {
     "name": "stderr",
     "text": "[Epoch 29/100] Training: 100%|██████████| 469/469 [00:11<00:00, 39.93it/s]\n[Epoch 29/100] Validation: 100%|██████████| 59/59 [00:00<00:00, 110.01it/s]\n",
     "output_type": "stream"
    },
    {
     "name": "stdout",
     "text": "Epoch [29/100] Train Loss: 0.0757 Val Loss: 0.1175 AUC PR: 0.1882 Precision: 0.2683 Recall: 0.2713 F1: 0.2698\n",
     "output_type": "stream"
    },
    {
     "name": "stderr",
     "text": "[Epoch 30/100] Training: 100%|██████████| 469/469 [00:11<00:00, 39.74it/s]\n[Epoch 30/100] Validation: 100%|██████████| 59/59 [00:00<00:00, 109.68it/s]\n",
     "output_type": "stream"
    },
    {
     "name": "stdout",
     "text": "Epoch [30/100] Train Loss: 0.0753 Val Loss: 0.1163 AUC PR: 0.1853 Precision: 0.2531 Recall: 0.3108 F1: 0.2790\n",
     "output_type": "stream"
    },
    {
     "name": "stderr",
     "text": "[Epoch 31/100] Training: 100%|██████████| 469/469 [00:11<00:00, 40.06it/s]\n[Epoch 31/100] Validation: 100%|██████████| 59/59 [00:00<00:00, 105.68it/s]\n",
     "output_type": "stream"
    },
    {
     "name": "stdout",
     "text": "Epoch [31/100] Train Loss: 0.0754 Val Loss: 0.1136 AUC PR: 0.1884 Precision: 0.2763 Recall: 0.2594 F1: 0.2675\n",
     "output_type": "stream"
    },
    {
     "name": "stderr",
     "text": "[Epoch 32/100] Training: 100%|██████████| 469/469 [00:11<00:00, 40.15it/s]\n[Epoch 32/100] Validation: 100%|██████████| 59/59 [00:00<00:00, 108.16it/s]\n",
     "output_type": "stream"
    },
    {
     "name": "stdout",
     "text": "Epoch [32/100] Train Loss: 0.0750 Val Loss: 0.1143 AUC PR: 0.1873 Precision: 0.2763 Recall: 0.2534 F1: 0.2644\n",
     "output_type": "stream"
    },
    {
     "name": "stderr",
     "text": "[Epoch 33/100] Training: 100%|██████████| 469/469 [00:11<00:00, 40.24it/s]\n[Epoch 33/100] Validation: 100%|██████████| 59/59 [00:00<00:00, 111.63it/s]\n",
     "output_type": "stream"
    },
    {
     "name": "stdout",
     "text": "Epoch [33/100] Train Loss: 0.0749 Val Loss: 0.1180 AUC PR: 0.1873 Precision: 0.2671 Recall: 0.2735 F1: 0.2702\n",
     "output_type": "stream"
    },
    {
     "name": "stderr",
     "text": "[Epoch 34/100] Training: 100%|██████████| 469/469 [00:11<00:00, 40.08it/s]\n[Epoch 34/100] Validation: 100%|██████████| 59/59 [00:00<00:00, 108.94it/s]\n",
     "output_type": "stream"
    },
    {
     "name": "stdout",
     "text": "Epoch [34/100] Train Loss: 0.0749 Val Loss: 0.1158 AUC PR: 0.1830 Precision: 0.2652 Recall: 0.2675 F1: 0.2663\n",
     "output_type": "stream"
    },
    {
     "name": "stderr",
     "text": "[Epoch 35/100] Training: 100%|██████████| 469/469 [00:11<00:00, 39.88it/s]\n[Epoch 35/100] Validation: 100%|██████████| 59/59 [00:00<00:00, 110.66it/s]\n",
     "output_type": "stream"
    },
    {
     "name": "stdout",
     "text": "Epoch [35/100] Train Loss: 0.0747 Val Loss: 0.1175 AUC PR: 0.1859 Precision: 0.2663 Recall: 0.2809 F1: 0.2734\n",
     "output_type": "stream"
    },
    {
     "name": "stderr",
     "text": "[Epoch 36/100] Training: 100%|██████████| 469/469 [00:11<00:00, 40.03it/s]\n[Epoch 36/100] Validation: 100%|██████████| 59/59 [00:00<00:00, 110.66it/s]\n",
     "output_type": "stream"
    },
    {
     "name": "stdout",
     "text": "Epoch [36/100] Train Loss: 0.0746 Val Loss: 0.1165 AUC PR: 0.1860 Precision: 0.2775 Recall: 0.2414 F1: 0.2582\n",
     "output_type": "stream"
    },
    {
     "name": "stderr",
     "text": "[Epoch 37/100] Training: 100%|██████████| 469/469 [00:11<00:00, 40.01it/s]\n[Epoch 37/100] Validation: 100%|██████████| 59/59 [00:00<00:00, 109.28it/s]\n",
     "output_type": "stream"
    },
    {
     "name": "stdout",
     "text": "Epoch [37/100] Train Loss: 0.0745 Val Loss: 0.1185 AUC PR: 0.1858 Precision: 0.2536 Recall: 0.3062 F1: 0.2775\n",
     "output_type": "stream"
    },
    {
     "name": "stderr",
     "text": "[Epoch 38/100] Training: 100%|██████████| 469/469 [00:11<00:00, 40.18it/s]\n[Epoch 38/100] Validation: 100%|██████████| 59/59 [00:00<00:00, 109.49it/s]\n",
     "output_type": "stream"
    },
    {
     "name": "stdout",
     "text": "Epoch [38/100] Train Loss: 0.0743 Val Loss: 0.1160 AUC PR: 0.1868 Precision: 0.2796 Recall: 0.2395 F1: 0.2580\n",
     "output_type": "stream"
    },
    {
     "name": "stderr",
     "text": "[Epoch 39/100] Training: 100%|██████████| 469/469 [00:11<00:00, 40.27it/s]\n[Epoch 39/100] Validation: 100%|██████████| 59/59 [00:00<00:00, 109.13it/s]\n",
     "output_type": "stream"
    },
    {
     "name": "stdout",
     "text": "Epoch [39/100] Train Loss: 0.0741 Val Loss: 0.1165 AUC PR: 0.1854 Precision: 0.2879 Recall: 0.2176 F1: 0.2479\n",
     "output_type": "stream"
    },
    {
     "name": "stderr",
     "text": "[Epoch 40/100] Training: 100%|██████████| 469/469 [00:11<00:00, 39.82it/s]\n[Epoch 40/100] Validation: 100%|██████████| 59/59 [00:00<00:00, 110.26it/s]\n",
     "output_type": "stream"
    },
    {
     "name": "stdout",
     "text": "Epoch [40/100] Train Loss: 0.0740 Val Loss: 0.1183 AUC PR: 0.1866 Precision: 0.2855 Recall: 0.2208 F1: 0.2490\n",
     "output_type": "stream"
    },
    {
     "name": "stderr",
     "text": "[Epoch 41/100] Training: 100%|██████████| 469/469 [00:11<00:00, 40.36it/s]\n[Epoch 41/100] Validation: 100%|██████████| 59/59 [00:00<00:00, 110.30it/s]\n",
     "output_type": "stream"
    },
    {
     "name": "stdout",
     "text": "Epoch [41/100] Train Loss: 0.0736 Val Loss: 0.1172 AUC PR: 0.1873 Precision: 0.2870 Recall: 0.2224 F1: 0.2506\n",
     "output_type": "stream"
    },
    {
     "name": "stderr",
     "text": "[Epoch 42/100] Training: 100%|██████████| 469/469 [00:11<00:00, 40.40it/s]\n[Epoch 42/100] Validation: 100%|██████████| 59/59 [00:00<00:00, 110.53it/s]\n",
     "output_type": "stream"
    },
    {
     "name": "stdout",
     "text": "Epoch [42/100] Train Loss: 0.0736 Val Loss: 0.1155 AUC PR: 0.1872 Precision: 0.2810 Recall: 0.2338 F1: 0.2552\n",
     "output_type": "stream"
    },
    {
     "name": "stderr",
     "text": "[Epoch 43/100] Training: 100%|██████████| 469/469 [00:11<00:00, 40.17it/s]\n[Epoch 43/100] Validation: 100%|██████████| 59/59 [00:00<00:00, 109.06it/s]\n",
     "output_type": "stream"
    },
    {
     "name": "stdout",
     "text": "Epoch [43/100] Train Loss: 0.0735 Val Loss: 0.1198 AUC PR: 0.1866 Precision: 0.2749 Recall: 0.2476 F1: 0.2605\n",
     "output_type": "stream"
    },
    {
     "name": "stderr",
     "text": "[Epoch 44/100] Training: 100%|██████████| 469/469 [00:11<00:00, 40.05it/s]\n[Epoch 44/100] Validation: 100%|██████████| 59/59 [00:00<00:00, 112.08it/s]\n",
     "output_type": "stream"
    },
    {
     "name": "stdout",
     "text": "Epoch [44/100] Train Loss: 0.0735 Val Loss: 0.1187 AUC PR: 0.1843 Precision: 0.2650 Recall: 0.2753 F1: 0.2700\n",
     "output_type": "stream"
    },
    {
     "name": "stderr",
     "text": "[Epoch 45/100] Training: 100%|██████████| 469/469 [00:11<00:00, 40.03it/s]\n[Epoch 45/100] Validation: 100%|██████████| 59/59 [00:00<00:00, 96.36it/s] \n",
     "output_type": "stream"
    },
    {
     "name": "stdout",
     "text": "Epoch [45/100] Train Loss: 0.0732 Val Loss: 0.1174 AUC PR: 0.1876 Precision: 0.2881 Recall: 0.2279 F1: 0.2545\n",
     "output_type": "stream"
    },
    {
     "name": "stderr",
     "text": "[Epoch 46/100] Training: 100%|██████████| 469/469 [00:11<00:00, 39.89it/s]\n[Epoch 46/100] Validation: 100%|██████████| 59/59 [00:00<00:00, 109.79it/s]\n",
     "output_type": "stream"
    },
    {
     "name": "stdout",
     "text": "Epoch [46/100] Train Loss: 0.0732 Val Loss: 0.1184 AUC PR: 0.1858 Precision: 0.2575 Recall: 0.2900 F1: 0.2728\n",
     "output_type": "stream"
    },
    {
     "name": "stderr",
     "text": "[Epoch 47/100] Training: 100%|██████████| 469/469 [00:11<00:00, 40.00it/s]\n[Epoch 47/100] Validation: 100%|██████████| 59/59 [00:00<00:00, 111.79it/s]\n",
     "output_type": "stream"
    },
    {
     "name": "stdout",
     "text": "New best model with AUC PR: 0.1898\nEpoch [47/100] Train Loss: 0.0732 Val Loss: 0.1167 AUC PR: 0.1898 Precision: 0.2608 Recall: 0.2979 F1: 0.2781\n",
     "output_type": "stream"
    },
    {
     "name": "stderr",
     "text": "[Epoch 48/100] Training: 100%|██████████| 469/469 [00:11<00:00, 40.10it/s]\n[Epoch 48/100] Validation: 100%|██████████| 59/59 [00:00<00:00, 111.29it/s]\n",
     "output_type": "stream"
    },
    {
     "name": "stdout",
     "text": "Epoch [48/100] Train Loss: 0.0727 Val Loss: 0.1183 AUC PR: 0.1864 Precision: 0.2646 Recall: 0.2840 F1: 0.2740\n",
     "output_type": "stream"
    },
    {
     "name": "stderr",
     "text": "[Epoch 49/100] Training: 100%|██████████| 469/469 [00:11<00:00, 40.01it/s]\n[Epoch 49/100] Validation: 100%|██████████| 59/59 [00:00<00:00, 111.53it/s]\n",
     "output_type": "stream"
    },
    {
     "name": "stdout",
     "text": "Epoch [49/100] Train Loss: 0.0726 Val Loss: 0.1198 AUC PR: 0.1838 Precision: 0.2604 Recall: 0.2800 F1: 0.2699\n",
     "output_type": "stream"
    },
    {
     "name": "stderr",
     "text": "[Epoch 50/100] Training: 100%|██████████| 469/469 [00:11<00:00, 40.43it/s]\n[Epoch 50/100] Validation: 100%|██████████| 59/59 [00:00<00:00, 110.55it/s]\n",
     "output_type": "stream"
    },
    {
     "name": "stdout",
     "text": "Epoch [50/100] Train Loss: 0.0726 Val Loss: 0.1169 AUC PR: 0.1864 Precision: 0.2458 Recall: 0.3163 F1: 0.2766\n",
     "output_type": "stream"
    },
    {
     "name": "stderr",
     "text": "[Epoch 51/100] Training: 100%|██████████| 469/469 [00:11<00:00, 40.61it/s]\n[Epoch 51/100] Validation: 100%|██████████| 59/59 [00:00<00:00, 112.80it/s]\n",
     "output_type": "stream"
    },
    {
     "name": "stdout",
     "text": "Epoch [51/100] Train Loss: 0.0726 Val Loss: 0.1172 AUC PR: 0.1811 Precision: 0.2522 Recall: 0.3025 F1: 0.2751\n",
     "output_type": "stream"
    },
    {
     "name": "stderr",
     "text": "[Epoch 52/100] Training: 100%|██████████| 469/469 [00:11<00:00, 40.00it/s]\n[Epoch 52/100] Validation: 100%|██████████| 59/59 [00:00<00:00, 110.49it/s]\n",
     "output_type": "stream"
    },
    {
     "name": "stdout",
     "text": "Epoch [52/100] Train Loss: 0.0722 Val Loss: 0.1206 AUC PR: 0.1881 Precision: 0.2667 Recall: 0.2750 F1: 0.2708\n",
     "output_type": "stream"
    },
    {
     "name": "stderr",
     "text": "[Epoch 53/100] Training: 100%|██████████| 469/469 [00:11<00:00, 40.70it/s]\n[Epoch 53/100] Validation: 100%|██████████| 59/59 [00:00<00:00, 112.34it/s]\n",
     "output_type": "stream"
    },
    {
     "name": "stdout",
     "text": "Epoch [53/100] Train Loss: 0.0726 Val Loss: 0.1193 AUC PR: 0.1869 Precision: 0.2840 Recall: 0.2334 F1: 0.2562\n",
     "output_type": "stream"
    },
    {
     "name": "stderr",
     "text": "[Epoch 54/100] Training: 100%|██████████| 469/469 [00:11<00:00, 40.62it/s]\n[Epoch 54/100] Validation: 100%|██████████| 59/59 [00:00<00:00, 111.24it/s]\n",
     "output_type": "stream"
    },
    {
     "name": "stdout",
     "text": "Epoch [54/100] Train Loss: 0.0722 Val Loss: 0.1166 AUC PR: 0.1870 Precision: 0.2613 Recall: 0.2868 F1: 0.2735\n",
     "output_type": "stream"
    },
    {
     "name": "stderr",
     "text": "[Epoch 55/100] Training: 100%|██████████| 469/469 [00:11<00:00, 40.24it/s]\n[Epoch 55/100] Validation: 100%|██████████| 59/59 [00:00<00:00, 108.85it/s]\n",
     "output_type": "stream"
    },
    {
     "name": "stdout",
     "text": "Epoch [55/100] Train Loss: 0.0722 Val Loss: 0.1149 AUC PR: 0.1891 Precision: 0.2705 Recall: 0.2678 F1: 0.2691\n",
     "output_type": "stream"
    },
    {
     "name": "stderr",
     "text": "[Epoch 56/100] Training: 100%|██████████| 469/469 [00:11<00:00, 39.90it/s]\n[Epoch 56/100] Validation: 100%|██████████| 59/59 [00:00<00:00, 96.87it/s]\n",
     "output_type": "stream"
    },
    {
     "name": "stdout",
     "text": "Epoch [56/100] Train Loss: 0.0719 Val Loss: 0.1174 AUC PR: 0.1857 Precision: 0.2644 Recall: 0.2698 F1: 0.2671\n",
     "output_type": "stream"
    },
    {
     "name": "stderr",
     "text": "[Epoch 57/100] Training: 100%|██████████| 469/469 [00:11<00:00, 40.02it/s]\n[Epoch 57/100] Validation: 100%|██████████| 59/59 [00:00<00:00, 109.18it/s]\n",
     "output_type": "stream"
    },
    {
     "name": "stdout",
     "text": "Epoch [57/100] Train Loss: 0.0720 Val Loss: 0.1166 AUC PR: 0.1816 Precision: 0.2731 Recall: 0.2397 F1: 0.2553\n",
     "output_type": "stream"
    },
    {
     "name": "stderr",
     "text": "[Epoch 58/100] Training: 100%|██████████| 469/469 [00:11<00:00, 40.28it/s]\n[Epoch 58/100] Validation: 100%|██████████| 59/59 [00:00<00:00, 108.12it/s]\n",
     "output_type": "stream"
    },
    {
     "name": "stdout",
     "text": "Epoch [58/100] Train Loss: 0.0719 Val Loss: 0.1191 AUC PR: 0.1865 Precision: 0.2684 Recall: 0.2725 F1: 0.2704\n",
     "output_type": "stream"
    },
    {
     "name": "stderr",
     "text": "[Epoch 59/100] Training: 100%|██████████| 469/469 [00:11<00:00, 40.50it/s]\n[Epoch 59/100] Validation: 100%|██████████| 59/59 [00:00<00:00, 109.75it/s]\n",
     "output_type": "stream"
    },
    {
     "name": "stdout",
     "text": "Epoch [59/100] Train Loss: 0.0718 Val Loss: 0.1203 AUC PR: 0.1849 Precision: 0.2843 Recall: 0.2220 F1: 0.2493\n",
     "output_type": "stream"
    },
    {
     "name": "stderr",
     "text": "[Epoch 60/100] Training: 100%|██████████| 469/469 [00:11<00:00, 40.30it/s]\n[Epoch 60/100] Validation: 100%|██████████| 59/59 [00:00<00:00, 109.60it/s]\n",
     "output_type": "stream"
    },
    {
     "name": "stdout",
     "text": "Epoch [60/100] Train Loss: 0.0717 Val Loss: 0.1169 AUC PR: 0.1855 Precision: 0.2743 Recall: 0.2545 F1: 0.2640\n",
     "output_type": "stream"
    },
    {
     "name": "stderr",
     "text": "[Epoch 61/100] Training: 100%|██████████| 469/469 [00:11<00:00, 40.25it/s]\n[Epoch 61/100] Validation: 100%|██████████| 59/59 [00:00<00:00, 111.59it/s]\n",
     "output_type": "stream"
    },
    {
     "name": "stdout",
     "text": "Epoch [61/100] Train Loss: 0.0718 Val Loss: 0.1169 AUC PR: 0.1879 Precision: 0.2818 Recall: 0.2493 F1: 0.2646\n",
     "output_type": "stream"
    },
    {
     "name": "stderr",
     "text": "[Epoch 62/100] Training: 100%|██████████| 469/469 [00:11<00:00, 40.23it/s]\n[Epoch 62/100] Validation: 100%|██████████| 59/59 [00:00<00:00, 110.35it/s]\n",
     "output_type": "stream"
    },
    {
     "name": "stdout",
     "text": "Epoch [62/100] Train Loss: 0.0715 Val Loss: 0.1185 AUC PR: 0.1870 Precision: 0.2676 Recall: 0.2684 F1: 0.2680\n",
     "output_type": "stream"
    },
    {
     "name": "stderr",
     "text": "[Epoch 63/100] Training: 100%|██████████| 469/469 [00:11<00:00, 40.04it/s]\n[Epoch 63/100] Validation: 100%|██████████| 59/59 [00:00<00:00, 106.84it/s]\n",
     "output_type": "stream"
    },
    {
     "name": "stdout",
     "text": "Epoch [63/100] Train Loss: 0.0715 Val Loss: 0.1211 AUC PR: 0.1892 Precision: 0.2775 Recall: 0.2500 F1: 0.2630\n",
     "output_type": "stream"
    },
    {
     "name": "stderr",
     "text": "[Epoch 64/100] Training: 100%|██████████| 469/469 [00:11<00:00, 40.16it/s]\n[Epoch 64/100] Validation: 100%|██████████| 59/59 [00:00<00:00, 109.97it/s]\n",
     "output_type": "stream"
    },
    {
     "name": "stdout",
     "text": "Epoch [64/100] Train Loss: 0.0714 Val Loss: 0.1178 AUC PR: 0.1884 Precision: 0.2827 Recall: 0.2283 F1: 0.2526\n",
     "output_type": "stream"
    },
    {
     "name": "stderr",
     "text": "[Epoch 65/100] Training: 100%|██████████| 469/469 [00:11<00:00, 40.32it/s]\n[Epoch 65/100] Validation: 100%|██████████| 59/59 [00:00<00:00, 109.12it/s]\n",
     "output_type": "stream"
    },
    {
     "name": "stdout",
     "text": "New best model with AUC PR: 0.1909\nEpoch [65/100] Train Loss: 0.0713 Val Loss: 0.1219 AUC PR: 0.1909 Precision: 0.2692 Recall: 0.2705 F1: 0.2698\n",
     "output_type": "stream"
    },
    {
     "name": "stderr",
     "text": "[Epoch 66/100] Training: 100%|██████████| 469/469 [00:11<00:00, 40.24it/s]\n[Epoch 66/100] Validation: 100%|██████████| 59/59 [00:00<00:00, 106.95it/s]\n",
     "output_type": "stream"
    },
    {
     "name": "stdout",
     "text": "Epoch [66/100] Train Loss: 0.0716 Val Loss: 0.1202 AUC PR: 0.1873 Precision: 0.2938 Recall: 0.1996 F1: 0.2377\n",
     "output_type": "stream"
    },
    {
     "name": "stderr",
     "text": "[Epoch 67/100] Training: 100%|██████████| 469/469 [00:11<00:00, 39.92it/s]\n[Epoch 67/100] Validation: 100%|██████████| 59/59 [00:00<00:00, 110.53it/s]\n",
     "output_type": "stream"
    },
    {
     "name": "stdout",
     "text": "Epoch [67/100] Train Loss: 0.0713 Val Loss: 0.1175 AUC PR: 0.1865 Precision: 0.2876 Recall: 0.2215 F1: 0.2502\n",
     "output_type": "stream"
    },
    {
     "name": "stderr",
     "text": "[Epoch 68/100] Training: 100%|██████████| 469/469 [00:11<00:00, 39.81it/s]\n[Epoch 68/100] Validation: 100%|██████████| 59/59 [00:00<00:00, 111.97it/s]\n",
     "output_type": "stream"
    },
    {
     "name": "stdout",
     "text": "Epoch [68/100] Train Loss: 0.0711 Val Loss: 0.1163 AUC PR: 0.1892 Precision: 0.2615 Recall: 0.2888 F1: 0.2745\n",
     "output_type": "stream"
    },
    {
     "name": "stderr",
     "text": "[Epoch 69/100] Training: 100%|██████████| 469/469 [00:11<00:00, 40.41it/s]\n[Epoch 69/100] Validation: 100%|██████████| 59/59 [00:00<00:00, 111.22it/s]\n",
     "output_type": "stream"
    },
    {
     "name": "stdout",
     "text": "Epoch [69/100] Train Loss: 0.0712 Val Loss: 0.1194 AUC PR: 0.1871 Precision: 0.2877 Recall: 0.2215 F1: 0.2503\n",
     "output_type": "stream"
    },
    {
     "name": "stderr",
     "text": "[Epoch 70/100] Training: 100%|██████████| 469/469 [00:11<00:00, 39.93it/s]\n[Epoch 70/100] Validation: 100%|██████████| 59/59 [00:00<00:00, 105.85it/s]\n",
     "output_type": "stream"
    },
    {
     "name": "stdout",
     "text": "Epoch [70/100] Train Loss: 0.0709 Val Loss: 0.1189 AUC PR: 0.1894 Precision: 0.2618 Recall: 0.2840 F1: 0.2725\n",
     "output_type": "stream"
    },
    {
     "name": "stderr",
     "text": "[Epoch 71/100] Training: 100%|██████████| 469/469 [00:11<00:00, 40.13it/s]\n[Epoch 71/100] Validation: 100%|██████████| 59/59 [00:00<00:00, 107.75it/s]\n",
     "output_type": "stream"
    },
    {
     "name": "stdout",
     "text": "Epoch [71/100] Train Loss: 0.0709 Val Loss: 0.1206 AUC PR: 0.1904 Precision: 0.2905 Recall: 0.2247 F1: 0.2534\n",
     "output_type": "stream"
    },
    {
     "name": "stderr",
     "text": "[Epoch 72/100] Training: 100%|██████████| 469/469 [00:11<00:00, 40.40it/s]\n[Epoch 72/100] Validation: 100%|██████████| 59/59 [00:00<00:00, 110.66it/s]\n",
     "output_type": "stream"
    },
    {
     "name": "stdout",
     "text": "Epoch [72/100] Train Loss: 0.0708 Val Loss: 0.1209 AUC PR: 0.1843 Precision: 0.2715 Recall: 0.2555 F1: 0.2633\n",
     "output_type": "stream"
    },
    {
     "name": "stderr",
     "text": "[Epoch 73/100] Training: 100%|██████████| 469/469 [00:11<00:00, 40.01it/s]\n[Epoch 73/100] Validation: 100%|██████████| 59/59 [00:00<00:00, 111.90it/s]\n",
     "output_type": "stream"
    },
    {
     "name": "stdout",
     "text": "Epoch [73/100] Train Loss: 0.0709 Val Loss: 0.1170 AUC PR: 0.1902 Precision: 0.2838 Recall: 0.2397 F1: 0.2599\n",
     "output_type": "stream"
    },
    {
     "name": "stderr",
     "text": "[Epoch 74/100] Training: 100%|██████████| 469/469 [00:11<00:00, 40.50it/s]\n[Epoch 74/100] Validation: 100%|██████████| 59/59 [00:00<00:00, 109.52it/s]\n",
     "output_type": "stream"
    },
    {
     "name": "stdout",
     "text": "Epoch [74/100] Train Loss: 0.0708 Val Loss: 0.1202 AUC PR: 0.1874 Precision: 0.2592 Recall: 0.2949 F1: 0.2759\n",
     "output_type": "stream"
    },
    {
     "name": "stderr",
     "text": "[Epoch 75/100] Training: 100%|██████████| 469/469 [00:11<00:00, 40.17it/s]\n[Epoch 75/100] Validation: 100%|██████████| 59/59 [00:00<00:00, 108.76it/s]\n",
     "output_type": "stream"
    },
    {
     "name": "stdout",
     "text": "Epoch [75/100] Train Loss: 0.0710 Val Loss: 0.1186 AUC PR: 0.1906 Precision: 0.2989 Recall: 0.2064 F1: 0.2442\n",
     "output_type": "stream"
    },
    {
     "name": "stderr",
     "text": "[Epoch 76/100] Training: 100%|██████████| 469/469 [00:11<00:00, 40.48it/s]\n[Epoch 76/100] Validation: 100%|██████████| 59/59 [00:00<00:00, 105.06it/s]\n",
     "output_type": "stream"
    },
    {
     "name": "stdout",
     "text": "Epoch [76/100] Train Loss: 0.0703 Val Loss: 0.1197 AUC PR: 0.1872 Precision: 0.2609 Recall: 0.2878 F1: 0.2737\n",
     "output_type": "stream"
    },
    {
     "name": "stderr",
     "text": "[Epoch 77/100] Training: 100%|██████████| 469/469 [00:11<00:00, 39.74it/s]\n[Epoch 77/100] Validation: 100%|██████████| 59/59 [00:00<00:00, 112.42it/s]\n",
     "output_type": "stream"
    },
    {
     "name": "stdout",
     "text": "Epoch [77/100] Train Loss: 0.0704 Val Loss: 0.1206 AUC PR: 0.1901 Precision: 0.2927 Recall: 0.2129 F1: 0.2465\n",
     "output_type": "stream"
    },
    {
     "name": "stderr",
     "text": "[Epoch 78/100] Training: 100%|██████████| 469/469 [00:11<00:00, 40.30it/s]\n[Epoch 78/100] Validation: 100%|██████████| 59/59 [00:00<00:00, 109.09it/s]\n",
     "output_type": "stream"
    },
    {
     "name": "stdout",
     "text": "New best model with AUC PR: 0.1909\nEpoch [78/100] Train Loss: 0.0703 Val Loss: 0.1165 AUC PR: 0.1909 Precision: 0.2735 Recall: 0.2685 F1: 0.2710\n",
     "output_type": "stream"
    },
    {
     "name": "stderr",
     "text": "[Epoch 79/100] Training: 100%|██████████| 469/469 [00:11<00:00, 40.34it/s]\n[Epoch 79/100] Validation: 100%|██████████| 59/59 [00:00<00:00, 111.85it/s]\n",
     "output_type": "stream"
    },
    {
     "name": "stdout",
     "text": "Epoch [79/100] Train Loss: 0.0703 Val Loss: 0.1174 AUC PR: 0.1862 Precision: 0.2597 Recall: 0.2922 F1: 0.2750\n",
     "output_type": "stream"
    },
    {
     "name": "stderr",
     "text": "[Epoch 80/100] Training: 100%|██████████| 469/469 [00:11<00:00, 40.45it/s]\n[Epoch 80/100] Validation: 100%|██████████| 59/59 [00:00<00:00, 111.53it/s]\n",
     "output_type": "stream"
    },
    {
     "name": "stdout",
     "text": "Epoch [80/100] Train Loss: 0.0704 Val Loss: 0.1168 AUC PR: 0.1900 Precision: 0.2810 Recall: 0.2496 F1: 0.2644\n",
     "output_type": "stream"
    },
    {
     "name": "stderr",
     "text": "[Epoch 81/100] Training: 100%|██████████| 469/469 [00:11<00:00, 40.31it/s]\n[Epoch 81/100] Validation: 100%|██████████| 59/59 [00:00<00:00, 110.21it/s]\n",
     "output_type": "stream"
    },
    {
     "name": "stdout",
     "text": "Epoch [81/100] Train Loss: 0.0703 Val Loss: 0.1173 AUC PR: 0.1838 Precision: 0.2686 Recall: 0.2548 F1: 0.2615\n",
     "output_type": "stream"
    },
    {
     "name": "stderr",
     "text": "[Epoch 82/100] Training: 100%|██████████| 469/469 [00:11<00:00, 40.40it/s]\n[Epoch 82/100] Validation: 100%|██████████| 59/59 [00:00<00:00, 112.48it/s]\n",
     "output_type": "stream"
    },
    {
     "name": "stdout",
     "text": "Epoch [82/100] Train Loss: 0.0702 Val Loss: 0.1181 AUC PR: 0.1850 Precision: 0.2663 Recall: 0.2738 F1: 0.2700\n",
     "output_type": "stream"
    },
    {
     "name": "stderr",
     "text": "[Epoch 83/100] Training: 100%|██████████| 469/469 [00:11<00:00, 40.14it/s]\n[Epoch 83/100] Validation: 100%|██████████| 59/59 [00:00<00:00, 108.98it/s]\n",
     "output_type": "stream"
    },
    {
     "name": "stdout",
     "text": "Epoch [83/100] Train Loss: 0.0700 Val Loss: 0.1172 AUC PR: 0.1893 Precision: 0.2880 Recall: 0.2264 F1: 0.2535\n",
     "output_type": "stream"
    },
    {
     "name": "stderr",
     "text": "[Epoch 84/100] Training: 100%|██████████| 469/469 [00:11<00:00, 40.22it/s]\n[Epoch 84/100] Validation: 100%|██████████| 59/59 [00:00<00:00, 109.02it/s]\n",
     "output_type": "stream"
    },
    {
     "name": "stdout",
     "text": "Epoch [84/100] Train Loss: 0.0700 Val Loss: 0.1191 AUC PR: 0.1900 Precision: 0.2859 Recall: 0.2314 F1: 0.2558\n",
     "output_type": "stream"
    },
    {
     "name": "stderr",
     "text": "[Epoch 85/100] Training: 100%|██████████| 469/469 [00:11<00:00, 40.33it/s]\n[Epoch 85/100] Validation: 100%|██████████| 59/59 [00:00<00:00, 103.93it/s]\n",
     "output_type": "stream"
    },
    {
     "name": "stdout",
     "text": "Epoch [85/100] Train Loss: 0.0702 Val Loss: 0.1189 AUC PR: 0.1880 Precision: 0.2748 Recall: 0.2557 F1: 0.2649\n",
     "output_type": "stream"
    },
    {
     "name": "stderr",
     "text": "[Epoch 86/100] Training: 100%|██████████| 469/469 [00:11<00:00, 40.36it/s]\n[Epoch 86/100] Validation: 100%|██████████| 59/59 [00:00<00:00, 109.86it/s]\n",
     "output_type": "stream"
    },
    {
     "name": "stdout",
     "text": "Epoch [86/100] Train Loss: 0.0703 Val Loss: 0.1181 AUC PR: 0.1872 Precision: 0.2576 Recall: 0.2969 F1: 0.2758\n",
     "output_type": "stream"
    },
    {
     "name": "stderr",
     "text": "[Epoch 87/100] Training: 100%|██████████| 469/469 [00:11<00:00, 40.02it/s]\n[Epoch 87/100] Validation: 100%|██████████| 59/59 [00:00<00:00, 101.16it/s]\n",
     "output_type": "stream"
    },
    {
     "name": "stdout",
     "text": "Epoch [87/100] Train Loss: 0.0702 Val Loss: 0.1210 AUC PR: 0.1884 Precision: 0.2718 Recall: 0.2724 F1: 0.2721\n",
     "output_type": "stream"
    },
    {
     "name": "stderr",
     "text": "[Epoch 88/100] Training: 100%|██████████| 469/469 [00:11<00:00, 39.90it/s]\n[Epoch 88/100] Validation: 100%|██████████| 59/59 [00:00<00:00, 109.13it/s]\n",
     "output_type": "stream"
    },
    {
     "name": "stdout",
     "text": "Epoch [88/100] Train Loss: 0.0699 Val Loss: 0.1206 AUC PR: 0.1899 Precision: 0.2681 Recall: 0.2788 F1: 0.2734\n",
     "output_type": "stream"
    },
    {
     "name": "stderr",
     "text": "[Epoch 89/100] Training: 100%|██████████| 469/469 [00:11<00:00, 40.07it/s]\n[Epoch 89/100] Validation: 100%|██████████| 59/59 [00:00<00:00, 110.05it/s]\n",
     "output_type": "stream"
    },
    {
     "name": "stdout",
     "text": "Epoch [89/100] Train Loss: 0.0698 Val Loss: 0.1189 AUC PR: 0.1867 Precision: 0.2727 Recall: 0.2592 F1: 0.2658\n",
     "output_type": "stream"
    },
    {
     "name": "stderr",
     "text": "[Epoch 90/100] Training: 100%|██████████| 469/469 [00:11<00:00, 40.44it/s]\n[Epoch 90/100] Validation: 100%|██████████| 59/59 [00:00<00:00, 112.50it/s]\n",
     "output_type": "stream"
    },
    {
     "name": "stdout",
     "text": "New best model with AUC PR: 0.1911\nEpoch [90/100] Train Loss: 0.0697 Val Loss: 0.1188 AUC PR: 0.1911 Precision: 0.2781 Recall: 0.2492 F1: 0.2628\n",
     "output_type": "stream"
    },
    {
     "name": "stderr",
     "text": "[Epoch 91/100] Training: 100%|██████████| 469/469 [00:11<00:00, 40.31it/s]\n[Epoch 91/100] Validation: 100%|██████████| 59/59 [00:00<00:00, 112.28it/s]\n",
     "output_type": "stream"
    },
    {
     "name": "stdout",
     "text": "Epoch [91/100] Train Loss: 0.0700 Val Loss: 0.1194 AUC PR: 0.1895 Precision: 0.2748 Recall: 0.2641 F1: 0.2694\n",
     "output_type": "stream"
    },
    {
     "name": "stderr",
     "text": "[Epoch 92/100] Training: 100%|██████████| 469/469 [00:11<00:00, 40.56it/s]\n[Epoch 92/100] Validation: 100%|██████████| 59/59 [00:00<00:00, 112.94it/s]\n",
     "output_type": "stream"
    },
    {
     "name": "stdout",
     "text": "Epoch [92/100] Train Loss: 0.0696 Val Loss: 0.1188 AUC PR: 0.1898 Precision: 0.2846 Recall: 0.2385 F1: 0.2595\n",
     "output_type": "stream"
    },
    {
     "name": "stderr",
     "text": "[Epoch 93/100] Training: 100%|██████████| 469/469 [00:11<00:00, 39.86it/s]\n[Epoch 93/100] Validation: 100%|██████████| 59/59 [00:00<00:00, 109.36it/s]\n",
     "output_type": "stream"
    },
    {
     "name": "stdout",
     "text": "Epoch [93/100] Train Loss: 0.0694 Val Loss: 0.1167 AUC PR: 0.1908 Precision: 0.2758 Recall: 0.2637 F1: 0.2696\n",
     "output_type": "stream"
    },
    {
     "name": "stderr",
     "text": "[Epoch 94/100] Training: 100%|██████████| 469/469 [00:11<00:00, 39.89it/s]\n[Epoch 94/100] Validation: 100%|██████████| 59/59 [00:00<00:00, 102.31it/s]\n",
     "output_type": "stream"
    },
    {
     "name": "stdout",
     "text": "New best model with AUC PR: 0.1913\nEpoch [94/100] Train Loss: 0.0698 Val Loss: 0.1157 AUC PR: 0.1913 Precision: 0.2941 Recall: 0.2226 F1: 0.2534\n",
     "output_type": "stream"
    },
    {
     "name": "stderr",
     "text": "[Epoch 95/100] Training: 100%|██████████| 469/469 [00:11<00:00, 39.92it/s]\n[Epoch 95/100] Validation: 100%|██████████| 59/59 [00:00<00:00, 109.31it/s]\n",
     "output_type": "stream"
    },
    {
     "name": "stdout",
     "text": "Epoch [95/100] Train Loss: 0.0696 Val Loss: 0.1196 AUC PR: 0.1861 Precision: 0.2786 Recall: 0.2397 F1: 0.2577\n",
     "output_type": "stream"
    },
    {
     "name": "stderr",
     "text": "[Epoch 96/100] Training: 100%|██████████| 469/469 [00:11<00:00, 40.40it/s]\n[Epoch 96/100] Validation: 100%|██████████| 59/59 [00:00<00:00, 111.19it/s]\n",
     "output_type": "stream"
    },
    {
     "name": "stdout",
     "text": "New best model with AUC PR: 0.1915\nEpoch [96/100] Train Loss: 0.0695 Val Loss: 0.1191 AUC PR: 0.1915 Precision: 0.2890 Recall: 0.2311 F1: 0.2569\n",
     "output_type": "stream"
    },
    {
     "name": "stderr",
     "text": "[Epoch 97/100] Training: 100%|██████████| 469/469 [00:11<00:00, 40.20it/s]\n[Epoch 97/100] Validation: 100%|██████████| 59/59 [00:00<00:00, 108.56it/s]\n",
     "output_type": "stream"
    },
    {
     "name": "stdout",
     "text": "Epoch [97/100] Train Loss: 0.0699 Val Loss: 0.1204 AUC PR: 0.1865 Precision: 0.2688 Recall: 0.2676 F1: 0.2682\n",
     "output_type": "stream"
    },
    {
     "name": "stderr",
     "text": "[Epoch 98/100] Training: 100%|██████████| 469/469 [00:11<00:00, 40.07it/s]\n[Epoch 98/100] Validation: 100%|██████████| 59/59 [00:00<00:00, 104.12it/s]\n",
     "output_type": "stream"
    },
    {
     "name": "stdout",
     "text": "Epoch [98/100] Train Loss: 0.0695 Val Loss: 0.1183 AUC PR: 0.1892 Precision: 0.2814 Recall: 0.2470 F1: 0.2631\n",
     "output_type": "stream"
    },
    {
     "name": "stderr",
     "text": "[Epoch 99/100] Training: 100%|██████████| 469/469 [00:11<00:00, 39.99it/s]\n[Epoch 99/100] Validation: 100%|██████████| 59/59 [00:00<00:00, 110.89it/s]\n",
     "output_type": "stream"
    },
    {
     "name": "stdout",
     "text": "Epoch [99/100] Train Loss: 0.0694 Val Loss: 0.1193 AUC PR: 0.1883 Precision: 0.2662 Recall: 0.2800 F1: 0.2729\n",
     "output_type": "stream"
    },
    {
     "name": "stderr",
     "text": "[Epoch 100/100] Training: 100%|██████████| 469/469 [00:11<00:00, 40.23it/s]\n[Epoch 100/100] Validation: 100%|██████████| 59/59 [00:00<00:00, 110.03it/s]\n",
     "output_type": "stream"
    },
    {
     "name": "stdout",
     "text": "Epoch [100/100] Train Loss: 0.0698 Val Loss: 0.1160 AUC PR: 0.1860 Precision: 0.2598 Recall: 0.2844 F1: 0.2715\n\nFinal Model Performance:\nAUC PR: 0.1860\nPrecision: 0.2598\nRecall: 0.2844\nF1 Score: 0.2715\nlearning rate: 1e-05\n",
     "output_type": "stream"
    },
    {
     "name": "stderr",
     "text": "[Epoch 1/100] Training: 100%|██████████| 469/469 [00:11<00:00, 40.21it/s]\n[Epoch 1/100] Validation: 100%|██████████| 59/59 [00:00<00:00, 108.02it/s]\n",
     "output_type": "stream"
    },
    {
     "name": "stdout",
     "text": "New best model with AUC PR: 0.0185\nEpoch [1/100] Train Loss: 0.6554 Val Loss: 0.5500 AUC PR: 0.0185 Precision: 0.0128 Recall: 0.0039 F1: 0.0060\n",
     "output_type": "stream"
    },
    {
     "name": "stderr",
     "text": "[Epoch 2/100] Training: 100%|██████████| 469/469 [00:11<00:00, 40.35it/s]\n[Epoch 2/100] Validation: 100%|██████████| 59/59 [00:00<00:00, 112.54it/s]\n",
     "output_type": "stream"
    },
    {
     "name": "stdout",
     "text": "New best model with AUC PR: 0.0224\nEpoch [2/100] Train Loss: 0.4318 Val Loss: 0.3722 AUC PR: 0.0224 Precision: 0.0000 Recall: 0.0000 F1: 0.0000\n",
     "output_type": "stream"
    },
    {
     "name": "stderr",
     "text": "[Epoch 3/100] Training: 100%|██████████| 469/469 [00:11<00:00, 40.31it/s]\n[Epoch 3/100] Validation: 100%|██████████| 59/59 [00:00<00:00, 108.47it/s]\n",
     "output_type": "stream"
    },
    {
     "name": "stdout",
     "text": "Epoch [3/100] Train Loss: 0.3001 Val Loss: 0.2645 AUC PR: 0.0198 Precision: 0.0000 Recall: 0.0000 F1: 0.0000\n",
     "output_type": "stream"
    },
    {
     "name": "stderr",
     "text": "[Epoch 4/100] Training: 100%|██████████| 469/469 [00:11<00:00, 40.18it/s]\n[Epoch 4/100] Validation: 100%|██████████| 59/59 [00:00<00:00, 108.69it/s]\n",
     "output_type": "stream"
    },
    {
     "name": "stdout",
     "text": "Epoch [4/100] Train Loss: 0.2279 Val Loss: 0.2148 AUC PR: 0.0199 Precision: 0.0000 Recall: 0.0000 F1: 0.0000\n",
     "output_type": "stream"
    },
    {
     "name": "stderr",
     "text": "[Epoch 5/100] Training: 100%|██████████| 469/469 [00:11<00:00, 40.22it/s]\n[Epoch 5/100] Validation: 100%|██████████| 59/59 [00:00<00:00, 112.40it/s]\n",
     "output_type": "stream"
    },
    {
     "name": "stdout",
     "text": "New best model with AUC PR: 0.0232\nEpoch [5/100] Train Loss: 0.1882 Val Loss: 0.1870 AUC PR: 0.0232 Precision: 0.0000 Recall: 0.0000 F1: 0.0000\n",
     "output_type": "stream"
    },
    {
     "name": "stderr",
     "text": "[Epoch 6/100] Training: 100%|██████████| 469/469 [00:11<00:00, 40.28it/s]\n[Epoch 6/100] Validation: 100%|██████████| 59/59 [00:00<00:00, 108.90it/s]\n",
     "output_type": "stream"
    },
    {
     "name": "stdout",
     "text": "New best model with AUC PR: 0.0309\nEpoch [6/100] Train Loss: 0.1668 Val Loss: 0.1727 AUC PR: 0.0309 Precision: 0.0000 Recall: 0.0000 F1: 0.0000\n",
     "output_type": "stream"
    },
    {
     "name": "stderr",
     "text": "[Epoch 7/100] Training: 100%|██████████| 469/469 [00:11<00:00, 40.14it/s]\n[Epoch 7/100] Validation: 100%|██████████| 59/59 [00:00<00:00, 109.47it/s]\n",
     "output_type": "stream"
    },
    {
     "name": "stdout",
     "text": "New best model with AUC PR: 0.0438\nEpoch [7/100] Train Loss: 0.1544 Val Loss: 0.1627 AUC PR: 0.0438 Precision: 0.0000 Recall: 0.0000 F1: 0.0000\n",
     "output_type": "stream"
    },
    {
     "name": "stderr",
     "text": "[Epoch 8/100] Training: 100%|██████████| 469/469 [00:11<00:00, 39.98it/s]\n[Epoch 8/100] Validation: 100%|██████████| 59/59 [00:00<00:00, 108.73it/s]\n",
     "output_type": "stream"
    },
    {
     "name": "stdout",
     "text": "New best model with AUC PR: 0.0613\nEpoch [8/100] Train Loss: 0.1465 Val Loss: 0.1557 AUC PR: 0.0613 Precision: 0.0000 Recall: 0.0000 F1: 0.0000\n",
     "output_type": "stream"
    },
    {
     "name": "stderr",
     "text": "[Epoch 9/100] Training: 100%|██████████| 469/469 [00:11<00:00, 40.27it/s]\n[Epoch 9/100] Validation: 100%|██████████| 59/59 [00:00<00:00, 112.76it/s]\n",
     "output_type": "stream"
    },
    {
     "name": "stdout",
     "text": "New best model with AUC PR: 0.0739\nEpoch [9/100] Train Loss: 0.1402 Val Loss: 0.1507 AUC PR: 0.0739 Precision: 0.0526 Recall: 0.0000 F1: 0.0001\n",
     "output_type": "stream"
    },
    {
     "name": "stderr",
     "text": "[Epoch 10/100] Training: 100%|██████████| 469/469 [00:11<00:00, 40.26it/s]\n[Epoch 10/100] Validation: 100%|██████████| 59/59 [00:00<00:00, 105.21it/s]\n",
     "output_type": "stream"
    },
    {
     "name": "stdout",
     "text": "New best model with AUC PR: 0.0873\nEpoch [10/100] Train Loss: 0.1353 Val Loss: 0.1464 AUC PR: 0.0873 Precision: 0.1756 Recall: 0.0038 F1: 0.0074\n",
     "output_type": "stream"
    },
    {
     "name": "stderr",
     "text": "[Epoch 11/100] Training: 100%|██████████| 469/469 [00:11<00:00, 39.80it/s]\n[Epoch 11/100] Validation: 100%|██████████| 59/59 [00:00<00:00, 110.11it/s]\n",
     "output_type": "stream"
    },
    {
     "name": "stdout",
     "text": "New best model with AUC PR: 0.0960\nEpoch [11/100] Train Loss: 0.1310 Val Loss: 0.1437 AUC PR: 0.0960 Precision: 0.1976 Recall: 0.0181 F1: 0.0331\n",
     "output_type": "stream"
    },
    {
     "name": "stderr",
     "text": "[Epoch 12/100] Training: 100%|██████████| 469/469 [00:11<00:00, 40.65it/s]\n[Epoch 12/100] Validation: 100%|██████████| 59/59 [00:00<00:00, 112.58it/s]\n",
     "output_type": "stream"
    },
    {
     "name": "stdout",
     "text": "New best model with AUC PR: 0.1048\nEpoch [12/100] Train Loss: 0.1277 Val Loss: 0.1421 AUC PR: 0.1048 Precision: 0.2085 Recall: 0.0378 F1: 0.0640\n",
     "output_type": "stream"
    },
    {
     "name": "stderr",
     "text": "[Epoch 13/100] Training: 100%|██████████| 469/469 [00:11<00:00, 40.23it/s]\n[Epoch 13/100] Validation: 100%|██████████| 59/59 [00:00<00:00, 111.61it/s]\n",
     "output_type": "stream"
    },
    {
     "name": "stdout",
     "text": "New best model with AUC PR: 0.1126\nEpoch [13/100] Train Loss: 0.1227 Val Loss: 0.1409 AUC PR: 0.1126 Precision: 0.2261 Recall: 0.0721 F1: 0.1094\n",
     "output_type": "stream"
    },
    {
     "name": "stderr",
     "text": "[Epoch 14/100] Training: 100%|██████████| 469/469 [00:11<00:00, 40.48it/s]\n[Epoch 14/100] Validation: 100%|██████████| 59/59 [00:00<00:00, 114.95it/s]\n",
     "output_type": "stream"
    },
    {
     "name": "stdout",
     "text": "New best model with AUC PR: 0.1193\nEpoch [14/100] Train Loss: 0.1184 Val Loss: 0.1382 AUC PR: 0.1193 Precision: 0.2336 Recall: 0.1193 F1: 0.1580\n",
     "output_type": "stream"
    },
    {
     "name": "stderr",
     "text": "[Epoch 15/100] Training: 100%|██████████| 469/469 [00:11<00:00, 40.16it/s]\n[Epoch 15/100] Validation: 100%|██████████| 59/59 [00:00<00:00, 109.14it/s]\n",
     "output_type": "stream"
    },
    {
     "name": "stdout",
     "text": "New best model with AUC PR: 0.1236\nEpoch [15/100] Train Loss: 0.1141 Val Loss: 0.1371 AUC PR: 0.1236 Precision: 0.2336 Recall: 0.1427 F1: 0.1772\n",
     "output_type": "stream"
    },
    {
     "name": "stderr",
     "text": "[Epoch 16/100] Training: 100%|██████████| 469/469 [00:11<00:00, 40.30it/s]\n[Epoch 16/100] Validation: 100%|██████████| 59/59 [00:00<00:00, 110.84it/s]\n",
     "output_type": "stream"
    },
    {
     "name": "stdout",
     "text": "New best model with AUC PR: 0.1273\nEpoch [16/100] Train Loss: 0.1110 Val Loss: 0.1352 AUC PR: 0.1273 Precision: 0.2328 Recall: 0.1823 F1: 0.2045\n",
     "output_type": "stream"
    },
    {
     "name": "stderr",
     "text": "[Epoch 17/100] Training: 100%|██████████| 469/469 [00:11<00:00, 39.63it/s]\n[Epoch 17/100] Validation: 100%|██████████| 59/59 [00:00<00:00, 107.48it/s]\n",
     "output_type": "stream"
    },
    {
     "name": "stdout",
     "text": "New best model with AUC PR: 0.1305\nEpoch [17/100] Train Loss: 0.1083 Val Loss: 0.1346 AUC PR: 0.1305 Precision: 0.2319 Recall: 0.2064 F1: 0.2184\n",
     "output_type": "stream"
    },
    {
     "name": "stderr",
     "text": "[Epoch 18/100] Training: 100%|██████████| 469/469 [00:11<00:00, 40.36it/s]\n[Epoch 18/100] Validation: 100%|██████████| 59/59 [00:00<00:00, 111.20it/s]\n",
     "output_type": "stream"
    },
    {
     "name": "stdout",
     "text": "New best model with AUC PR: 0.1350\nEpoch [18/100] Train Loss: 0.1063 Val Loss: 0.1316 AUC PR: 0.1350 Precision: 0.2297 Recall: 0.2284 F1: 0.2291\n",
     "output_type": "stream"
    },
    {
     "name": "stderr",
     "text": "[Epoch 19/100] Training: 100%|██████████| 469/469 [00:11<00:00, 39.99it/s]\n[Epoch 19/100] Validation: 100%|██████████| 59/59 [00:00<00:00, 111.41it/s]\n",
     "output_type": "stream"
    },
    {
     "name": "stdout",
     "text": "New best model with AUC PR: 0.1378\nEpoch [19/100] Train Loss: 0.1044 Val Loss: 0.1311 AUC PR: 0.1378 Precision: 0.2286 Recall: 0.2497 F1: 0.2387\n",
     "output_type": "stream"
    },
    {
     "name": "stderr",
     "text": "[Epoch 20/100] Training: 100%|██████████| 469/469 [00:11<00:00, 40.37it/s]\n[Epoch 20/100] Validation: 100%|██████████| 59/59 [00:00<00:00, 112.04it/s]\n",
     "output_type": "stream"
    },
    {
     "name": "stdout",
     "text": "New best model with AUC PR: 0.1405\nEpoch [20/100] Train Loss: 0.1024 Val Loss: 0.1312 AUC PR: 0.1405 Precision: 0.2295 Recall: 0.2578 F1: 0.2428\n",
     "output_type": "stream"
    },
    {
     "name": "stderr",
     "text": "[Epoch 21/100] Training: 100%|██████████| 469/469 [00:11<00:00, 39.89it/s]\n[Epoch 21/100] Validation: 100%|██████████| 59/59 [00:00<00:00, 106.34it/s]\n",
     "output_type": "stream"
    },
    {
     "name": "stdout",
     "text": "New best model with AUC PR: 0.1433\nEpoch [21/100] Train Loss: 0.1011 Val Loss: 0.1299 AUC PR: 0.1433 Precision: 0.2328 Recall: 0.2480 F1: 0.2402\n",
     "output_type": "stream"
    },
    {
     "name": "stderr",
     "text": "[Epoch 22/100] Training: 100%|██████████| 469/469 [00:11<00:00, 39.58it/s]\n[Epoch 22/100] Validation: 100%|██████████| 59/59 [00:00<00:00, 108.10it/s]\n",
     "output_type": "stream"
    },
    {
     "name": "stdout",
     "text": "New best model with AUC PR: 0.1452\nEpoch [22/100] Train Loss: 0.1001 Val Loss: 0.1286 AUC PR: 0.1452 Precision: 0.2307 Recall: 0.2655 F1: 0.2469\n",
     "output_type": "stream"
    },
    {
     "name": "stderr",
     "text": "[Epoch 23/100] Training: 100%|██████████| 469/469 [00:11<00:00, 40.29it/s]\n[Epoch 23/100] Validation: 100%|██████████| 59/59 [00:00<00:00, 111.74it/s]\n",
     "output_type": "stream"
    },
    {
     "name": "stdout",
     "text": "New best model with AUC PR: 0.1465\nEpoch [23/100] Train Loss: 0.0993 Val Loss: 0.1292 AUC PR: 0.1465 Precision: 0.2402 Recall: 0.2296 F1: 0.2348\n",
     "output_type": "stream"
    },
    {
     "name": "stderr",
     "text": "[Epoch 24/100] Training: 100%|██████████| 469/469 [00:11<00:00, 40.34it/s]\n[Epoch 24/100] Validation: 100%|██████████| 59/59 [00:00<00:00, 111.58it/s]\n",
     "output_type": "stream"
    },
    {
     "name": "stdout",
     "text": "New best model with AUC PR: 0.1484\nEpoch [24/100] Train Loss: 0.0985 Val Loss: 0.1279 AUC PR: 0.1484 Precision: 0.2357 Recall: 0.2610 F1: 0.2477\n",
     "output_type": "stream"
    },
    {
     "name": "stderr",
     "text": "[Epoch 25/100] Training: 100%|██████████| 469/469 [00:11<00:00, 40.15it/s]\n[Epoch 25/100] Validation: 100%|██████████| 59/59 [00:00<00:00, 113.16it/s]\n",
     "output_type": "stream"
    },
    {
     "name": "stdout",
     "text": "New best model with AUC PR: 0.1494\nEpoch [25/100] Train Loss: 0.0976 Val Loss: 0.1280 AUC PR: 0.1494 Precision: 0.2372 Recall: 0.2561 F1: 0.2463\n",
     "output_type": "stream"
    },
    {
     "name": "stderr",
     "text": "[Epoch 26/100] Training: 100%|██████████| 469/469 [00:11<00:00, 39.83it/s]\n[Epoch 26/100] Validation: 100%|██████████| 59/59 [00:00<00:00, 96.28it/s]\n",
     "output_type": "stream"
    },
    {
     "name": "stdout",
     "text": "New best model with AUC PR: 0.1495\nEpoch [26/100] Train Loss: 0.0971 Val Loss: 0.1272 AUC PR: 0.1495 Precision: 0.2384 Recall: 0.2526 F1: 0.2453\n",
     "output_type": "stream"
    },
    {
     "name": "stderr",
     "text": "[Epoch 27/100] Training: 100%|██████████| 469/469 [00:11<00:00, 40.20it/s]\n[Epoch 27/100] Validation: 100%|██████████| 59/59 [00:00<00:00, 109.49it/s]\n[Epoch 30/100] Training: 100%|██████████| 469/469 [00:11<00:00, 40.36it/s]\n[Epoch 30/100] Validation: 100%|██████████| 59/59 [00:00<00:00, 108.47it/s]\n",
     "output_type": "stream"
    },
    {
     "name": "stdout",
     "text": "New best model with AUC PR: 0.1510\nEpoch [30/100] Train Loss: 0.0949 Val Loss: 0.1267 AUC PR: 0.1510 Precision: 0.2450 Recall: 0.2342 F1: 0.2395\n",
     "output_type": "stream"
    },
    {
     "name": "stderr",
     "text": "[Epoch 31/100] Training: 100%|██████████| 469/469 [00:11<00:00, 40.55it/s]\n[Epoch 31/100] Validation: 100%|██████████| 59/59 [00:00<00:00, 112.76it/s]\n",
     "output_type": "stream"
    },
    {
     "name": "stdout",
     "text": "New best model with AUC PR: 0.1515\nEpoch [31/100] Train Loss: 0.0942 Val Loss: 0.1261 AUC PR: 0.1515 Precision: 0.2488 Recall: 0.2144 F1: 0.2303\n",
     "output_type": "stream"
    },
    {
     "name": "stderr",
     "text": "[Epoch 32/100] Training: 100%|██████████| 469/469 [00:11<00:00, 40.09it/s]\n[Epoch 32/100] Validation: 100%|██████████| 59/59 [00:00<00:00, 110.39it/s]\n",
     "output_type": "stream"
    },
    {
     "name": "stdout",
     "text": "New best model with AUC PR: 0.1516\nEpoch [32/100] Train Loss: 0.0939 Val Loss: 0.1264 AUC PR: 0.1516 Precision: 0.2503 Recall: 0.2072 F1: 0.2267\n",
     "output_type": "stream"
    },
    {
     "name": "stderr",
     "text": "[Epoch 33/100] Training: 100%|██████████| 469/469 [00:11<00:00, 39.98it/s]\n[Epoch 33/100] Validation: 100%|██████████| 59/59 [00:00<00:00, 112.75it/s]\n",
     "output_type": "stream"
    },
    {
     "name": "stdout",
     "text": "Epoch [33/100] Train Loss: 0.0936 Val Loss: 0.1260 AUC PR: 0.1506 Precision: 0.2445 Recall: 0.2386 F1: 0.2415\n",
     "output_type": "stream"
    },
    {
     "name": "stderr",
     "text": "[Epoch 34/100] Training: 100%|██████████| 469/469 [00:11<00:00, 40.59it/s]\n[Epoch 34/100] Validation: 100%|██████████| 59/59 [00:00<00:00, 111.36it/s]\n",
     "output_type": "stream"
    },
    {
     "name": "stdout",
     "text": "Epoch [34/100] Train Loss: 0.0932 Val Loss: 0.1254 AUC PR: 0.1515 Precision: 0.2505 Recall: 0.2124 F1: 0.2299\n",
     "output_type": "stream"
    },
    {
     "name": "stderr",
     "text": "[Epoch 35/100] Training: 100%|██████████| 469/469 [00:11<00:00, 40.57it/s]\n[Epoch 35/100] Validation: 100%|██████████| 59/59 [00:00<00:00, 109.46it/s]\n",
     "output_type": "stream"
    },
    {
     "name": "stdout",
     "text": "New best model with AUC PR: 0.1517\nEpoch [35/100] Train Loss: 0.0926 Val Loss: 0.1252 AUC PR: 0.1517 Precision: 0.2501 Recall: 0.2172 F1: 0.2325\n",
     "output_type": "stream"
    },
    {
     "name": "stderr",
     "text": "[Epoch 36/100] Training: 100%|██████████| 469/469 [00:11<00:00, 40.42it/s]\n[Epoch 36/100] Validation: 100%|██████████| 59/59 [00:00<00:00, 111.22it/s]\n",
     "output_type": "stream"
    },
    {
     "name": "stdout",
     "text": "New best model with AUC PR: 0.1533\nEpoch [38/100] Train Loss: 0.0921 Val Loss: 0.1254 AUC PR: 0.1533 Precision: 0.2523 Recall: 0.2084 F1: 0.2282\n",
     "output_type": "stream"
    },
    {
     "name": "stderr",
     "text": "[Epoch 39/100] Training: 100%|██████████| 469/469 [00:11<00:00, 40.32it/s]\n[Epoch 39/100] Validation: 100%|██████████| 59/59 [00:00<00:00, 112.40it/s]\n",
     "output_type": "stream"
    },
    {
     "name": "stdout",
     "text": "Epoch [39/100] Train Loss: 0.0918 Val Loss: 0.1252 AUC PR: 0.1529 Precision: 0.2508 Recall: 0.2195 F1: 0.2341\n",
     "output_type": "stream"
    },
    {
     "name": "stderr",
     "text": "[Epoch 40/100] Training: 100%|██████████| 469/469 [00:11<00:00, 40.31it/s]\n[Epoch 40/100] Validation: 100%|██████████| 59/59 [00:00<00:00, 112.29it/s]\n",
     "output_type": "stream"
    },
    {
     "name": "stdout",
     "text": "New best model with AUC PR: 0.1539\nEpoch [40/100] Train Loss: 0.0915 Val Loss: 0.1247 AUC PR: 0.1539 Precision: 0.2525 Recall: 0.2125 F1: 0.2308\n",
     "output_type": "stream"
    },
    {
     "name": "stderr",
     "text": "[Epoch 41/100] Training: 100%|██████████| 469/469 [00:11<00:00, 40.00it/s]\n[Epoch 41/100] Validation: 100%|██████████| 59/59 [00:00<00:00, 111.36it/s]\n",
     "output_type": "stream"
    },
    {
     "name": "stdout",
     "text": "Epoch [41/100] Train Loss: 0.0914 Val Loss: 0.1240 AUC PR: 0.1538 Precision: 0.2515 Recall: 0.2191 F1: 0.2342\n",
     "output_type": "stream"
    },
    {
     "name": "stderr",
     "text": "[Epoch 42/100] Training: 100%|██████████| 469/469 [00:11<00:00, 40.39it/s]\n[Epoch 42/100] Validation: 100%|██████████| 59/59 [00:00<00:00, 110.31it/s]\n",
     "output_type": "stream"
    },
    {
     "name": "stdout",
     "text": "Epoch [42/100] Train Loss: 0.0911 Val Loss: 0.1239 AUC PR: 0.1538 Precision: 0.2498 Recall: 0.2295 F1: 0.2392\n",
     "output_type": "stream"
    },
    {
     "name": "stderr",
     "text": "[Epoch 43/100] Training: 100%|██████████| 469/469 [00:11<00:00, 40.25it/s]\n[Epoch 43/100] Validation: 100%|██████████| 59/59 [00:00<00:00, 111.14it/s]\n",
     "output_type": "stream"
    },
    {
     "name": "stdout",
     "text": "Epoch [43/100] Train Loss: 0.0909 Val Loss: 0.1251 AUC PR: 0.1535 Precision: 0.2542 Recall: 0.2024 F1: 0.2254\n",
     "output_type": "stream"
    },
    {
     "name": "stderr",
     "text": "[Epoch 44/100] Training: 100%|██████████| 469/469 [00:11<00:00, 40.20it/s]\n[Epoch 44/100] Validation: 100%|██████████| 59/59 [00:00<00:00, 109.18it/s]\n",
     "output_type": "stream"
    },
    {
     "name": "stdout",
     "text": "New best model with AUC PR: 0.1543\nEpoch [44/100] Train Loss: 0.0903 Val Loss: 0.1263 AUC PR: 0.1543 Precision: 0.2571 Recall: 0.1742 F1: 0.2077\n",
     "output_type": "stream"
    },
    {
     "name": "stderr",
     "text": "[Epoch 45/100] Training: 100%|██████████| 469/469 [00:11<00:00, 40.41it/s]\n[Epoch 45/100] Validation: 100%|██████████| 59/59 [00:00<00:00, 107.27it/s]\n[Epoch 48/100] Training: 100%|██████████| 469/469 [00:11<00:00, 40.01it/s]\n[Epoch 48/100] Validation: 100%|██████████| 59/59 [00:00<00:00, 111.47it/s]\n",
     "output_type": "stream"
    },
    {
     "name": "stdout",
     "text": "Epoch [48/100] Train Loss: 0.0899 Val Loss: 0.1247 AUC PR: 0.1551 Precision: 0.2552 Recall: 0.2078 F1: 0.2291\n",
     "output_type": "stream"
    },
    {
     "name": "stderr",
     "text": "[Epoch 49/100] Training: 100%|██████████| 469/469 [00:11<00:00, 39.89it/s]\n[Epoch 49/100] Validation: 100%|██████████| 59/59 [00:00<00:00, 111.17it/s]\n",
     "output_type": "stream"
    },
    {
     "name": "stdout",
     "text": "New best model with AUC PR: 0.1558\nEpoch [49/100] Train Loss: 0.0896 Val Loss: 0.1228 AUC PR: 0.1558 Precision: 0.2546 Recall: 0.2113 F1: 0.2309\n",
     "output_type": "stream"
    },
    {
     "name": "stderr",
     "text": "[Epoch 50/100] Training: 100%|██████████| 469/469 [00:11<00:00, 40.02it/s]\n[Epoch 50/100] Validation: 100%|██████████| 59/59 [00:00<00:00, 108.59it/s]\n",
     "output_type": "stream"
    },
    {
     "name": "stdout",
     "text": "Epoch [50/100] Train Loss: 0.0895 Val Loss: 0.1231 AUC PR: 0.1549 Precision: 0.2523 Recall: 0.2259 F1: 0.2384\n",
     "output_type": "stream"
    },
    {
     "name": "stderr",
     "text": "[Epoch 51/100] Training: 100%|██████████| 469/469 [00:11<00:00, 40.42it/s]\n[Epoch 51/100] Validation: 100%|██████████| 59/59 [00:00<00:00, 109.93it/s]\n",
     "output_type": "stream"
    },
    {
     "name": "stdout",
     "text": "Epoch [51/100] Train Loss: 0.0894 Val Loss: 0.1233 AUC PR: 0.1556 Precision: 0.2526 Recall: 0.2272 F1: 0.2392\n",
     "output_type": "stream"
    },
    {
     "name": "stderr",
     "text": "[Epoch 52/100] Training: 100%|██████████| 469/469 [00:11<00:00, 40.21it/s]\n[Epoch 52/100] Validation: 100%|██████████| 59/59 [00:00<00:00, 109.61it/s]\n",
     "output_type": "stream"
    },
    {
     "name": "stdout",
     "text": "Epoch [52/100] Train Loss: 0.0893 Val Loss: 0.1232 AUC PR: 0.1557 Precision: 0.2568 Recall: 0.2011 F1: 0.2256\n",
     "output_type": "stream"
    },
    {
     "name": "stderr",
     "text": "[Epoch 53/100] Training: 100%|██████████| 469/469 [00:11<00:00, 40.33it/s]\n[Epoch 53/100] Validation: 100%|██████████| 59/59 [00:00<00:00, 96.93it/s]\n",
     "output_type": "stream"
    },
    {
     "name": "stdout",
     "text": "New best model with AUC PR: 0.1565\nEpoch [53/100] Train Loss: 0.0894 Val Loss: 0.1238 AUC PR: 0.1565 Precision: 0.2587 Recall: 0.1833 F1: 0.2146\n",
     "output_type": "stream"
    },
    {
     "name": "stderr",
     "text": "[Epoch 54/100] Training: 100%|██████████| 469/469 [00:11<00:00, 39.96it/s]\n[Epoch 54/100] Validation: 100%|██████████| 59/59 [00:00<00:00, 109.85it/s]\n[Epoch 57/100] Training: 100%|██████████| 469/469 [00:11<00:00, 40.18it/s]\n[Epoch 57/100] Validation: 100%|██████████| 59/59 [00:00<00:00, 111.78it/s]\n",
     "output_type": "stream"
    },
    {
     "name": "stdout",
     "text": "New best model with AUC PR: 0.1569\nEpoch [57/100] Train Loss: 0.0888 Val Loss: 0.1232 AUC PR: 0.1569 Precision: 0.2583 Recall: 0.1936 F1: 0.2213\n",
     "output_type": "stream"
    },
    {
     "name": "stderr",
     "text": "[Epoch 58/100] Training: 100%|██████████| 469/469 [00:11<00:00, 40.33it/s]\n[Epoch 58/100] Validation: 100%|██████████| 59/59 [00:00<00:00, 111.66it/s]\n",
     "output_type": "stream"
    },
    {
     "name": "stdout",
     "text": "Epoch [58/100] Train Loss: 0.0886 Val Loss: 0.1226 AUC PR: 0.1561 Precision: 0.2543 Recall: 0.2232 F1: 0.2377\n",
     "output_type": "stream"
    },
    {
     "name": "stderr",
     "text": "[Epoch 59/100] Training: 100%|██████████| 469/469 [00:11<00:00, 40.19it/s]\n[Epoch 59/100] Validation: 100%|██████████| 59/59 [00:00<00:00, 112.16it/s]\n",
     "output_type": "stream"
    },
    {
     "name": "stdout",
     "text": "Epoch [59/100] Train Loss: 0.0883 Val Loss: 0.1221 AUC PR: 0.1567 Precision: 0.2552 Recall: 0.2225 F1: 0.2377\n",
     "output_type": "stream"
    },
    {
     "name": "stderr",
     "text": "[Epoch 60/100] Training: 100%|██████████| 469/469 [00:11<00:00, 39.71it/s]\n[Epoch 60/100] Validation: 100%|██████████| 59/59 [00:00<00:00, 108.99it/s]\n",
     "output_type": "stream"
    },
    {
     "name": "stdout",
     "text": "Epoch [60/100] Train Loss: 0.0882 Val Loss: 0.1227 AUC PR: 0.1567 Precision: 0.2555 Recall: 0.2164 F1: 0.2343\n",
     "output_type": "stream"
    },
    {
     "name": "stderr",
     "text": "[Epoch 61/100] Training: 100%|██████████| 469/469 [00:11<00:00, 40.36it/s]\n[Epoch 61/100] Validation: 100%|██████████| 59/59 [00:00<00:00, 109.32it/s]\n",
     "output_type": "stream"
    },
    {
     "name": "stdout",
     "text": "New best model with AUC PR: 0.1577\nEpoch [61/100] Train Loss: 0.0882 Val Loss: 0.1217 AUC PR: 0.1577 Precision: 0.2579 Recall: 0.2039 F1: 0.2278\n",
     "output_type": "stream"
    },
    {
     "name": "stderr",
     "text": "[Epoch 62/100] Training: 100%|██████████| 469/469 [00:11<00:00, 40.48it/s]\n[Epoch 62/100] Validation: 100%|██████████| 59/59 [00:00<00:00, 111.55it/s]\n",
     "output_type": "stream"
    },
    {
     "name": "stdout",
     "text": "Epoch [62/100] Train Loss: 0.0880 Val Loss: 0.1228 AUC PR: 0.1571 Precision: 0.2571 Recall: 0.2077 F1: 0.2298\n",
     "output_type": "stream"
    },
    {
     "name": "stderr",
     "text": "[Epoch 63/100] Training: 100%|██████████| 469/469 [00:11<00:00, 40.72it/s]\n[Epoch 63/100] Validation: 100%|██████████| 59/59 [00:00<00:00, 114.30it/s]\n",
     "output_type": "stream"
    },
    {
     "name": "stdout",
     "text": "New best model with AUC PR: 0.1583\nEpoch [63/100] Train Loss: 0.0878 Val Loss: 0.1216 AUC PR: 0.1583 Precision: 0.2595 Recall: 0.1882 F1: 0.2181\n",
     "output_type": "stream"
    },
    {
     "name": "stderr",
     "text": "[Epoch 64/100] Training:  69%|██████▉   | 325/469 [00:08<00:03, 39.48it/s]",
     "output_type": "stream"
    },
    {
     "name": "stdout",
     "text": "Epoch [66/100] Train Loss: 0.0880 Val Loss: 0.1218 AUC PR: 0.1575 Precision: 0.2552 Recall: 0.2261 F1: 0.2398\n",
     "output_type": "stream"
    },
    {
     "name": "stderr",
     "text": "[Epoch 67/100] Training: 100%|██████████| 469/469 [00:11<00:00, 40.38it/s]\n[Epoch 67/100] Validation: 100%|██████████| 59/59 [00:00<00:00, 110.58it/s]\n",
     "output_type": "stream"
    },
    {
     "name": "stdout",
     "text": "Epoch [67/100] Train Loss: 0.0878 Val Loss: 0.1213 AUC PR: 0.1582 Precision: 0.2575 Recall: 0.2122 F1: 0.2327\n",
     "output_type": "stream"
    },
    {
     "name": "stderr",
     "text": "[Epoch 68/100] Training: 100%|██████████| 469/469 [00:11<00:00, 40.64it/s]\n[Epoch 68/100] Validation: 100%|██████████| 59/59 [00:00<00:00, 110.27it/s]\n",
     "output_type": "stream"
    },
    {
     "name": "stdout",
     "text": "New best model with AUC PR: 0.1583\nEpoch [68/100] Train Loss: 0.0873 Val Loss: 0.1221 AUC PR: 0.1583 Precision: 0.2580 Recall: 0.2080 F1: 0.2303\n",
     "output_type": "stream"
    },
    {
     "name": "stderr",
     "text": "[Epoch 69/100] Training: 100%|██████████| 469/469 [00:11<00:00, 40.29it/s]\n[Epoch 69/100] Validation: 100%|██████████| 59/59 [00:00<00:00, 110.56it/s]\n",
     "output_type": "stream"
    },
    {
     "name": "stdout",
     "text": "Epoch [69/100] Train Loss: 0.0873 Val Loss: 0.1222 AUC PR: 0.1580 Precision: 0.2595 Recall: 0.1969 F1: 0.2239\n",
     "output_type": "stream"
    },
    {
     "name": "stderr",
     "text": "[Epoch 70/100] Training: 100%|██████████| 469/469 [00:11<00:00, 40.31it/s]\n[Epoch 70/100] Validation: 100%|██████████| 59/59 [00:00<00:00, 114.08it/s]\n",
     "output_type": "stream"
    },
    {
     "name": "stdout",
     "text": "Epoch [70/100] Train Loss: 0.0875 Val Loss: 0.1213 AUC PR: 0.1578 Precision: 0.2581 Recall: 0.2083 F1: 0.2305\n",
     "output_type": "stream"
    },
    {
     "name": "stderr",
     "text": "[Epoch 71/100] Training: 100%|██████████| 469/469 [00:11<00:00, 40.07it/s]\n[Epoch 71/100] Validation: 100%|██████████| 59/59 [00:00<00:00, 109.37it/s]\n",
     "output_type": "stream"
    },
    {
     "name": "stdout",
     "text": "New best model with AUC PR: 0.1584\nEpoch [71/100] Train Loss: 0.0871 Val Loss: 0.1218 AUC PR: 0.1584 Precision: 0.2560 Recall: 0.2249 F1: 0.2395\n",
     "output_type": "stream"
    },
    {
     "name": "stderr",
     "text": "[Epoch 72/100] Training: 100%|██████████| 469/469 [00:11<00:00, 40.45it/s]\n[Epoch 72/100] Validation: 100%|██████████| 59/59 [00:00<00:00, 107.88it/s]\n",
     "output_type": "stream"
    },
    {
     "name": "stdout",
     "text": "Epoch [72/100] Train Loss: 0.0875 Val Loss: 0.1215 AUC PR: 0.1584 Precision: 0.2555 Recall: 0.2298 F1: 0.2420\n",
     "output_type": "stream"
    },
    {
     "name": "stderr",
     "text": "[Epoch 73/100] Training: 100%|██████████| 469/469 [00:11<00:00, 39.90it/s]\n[Epoch 73/100] Validation: 100%|██████████| 59/59 [00:00<00:00, 108.26it/s]\n",
     "output_type": "stream"
    },
    {
     "name": "stdout",
     "text": "New best model with AUC PR: 0.1594\nEpoch [75/100] Train Loss: 0.0870 Val Loss: 0.1210 AUC PR: 0.1594 Precision: 0.2596 Recall: 0.2065 F1: 0.2300\n",
     "output_type": "stream"
    },
    {
     "name": "stderr",
     "text": "[Epoch 76/100] Training: 100%|██████████| 469/469 [00:11<00:00, 40.08it/s]\n[Epoch 76/100] Validation: 100%|██████████| 59/59 [00:00<00:00, 109.77it/s]\n",
     "output_type": "stream"
    },
    {
     "name": "stdout",
     "text": "New best model with AUC PR: 0.1598\nEpoch [76/100] Train Loss: 0.0868 Val Loss: 0.1222 AUC PR: 0.1598 Precision: 0.2617 Recall: 0.1808 F1: 0.2139\n",
     "output_type": "stream"
    },
    {
     "name": "stderr",
     "text": "[Epoch 77/100] Training: 100%|██████████| 469/469 [00:11<00:00, 40.42it/s]\n[Epoch 77/100] Validation: 100%|██████████| 59/59 [00:00<00:00, 107.86it/s]\n",
     "output_type": "stream"
    },
    {
     "name": "stdout",
     "text": "Epoch [77/100] Train Loss: 0.0869 Val Loss: 0.1209 AUC PR: 0.1597 Precision: 0.2589 Recall: 0.2114 F1: 0.2328\n",
     "output_type": "stream"
    },
    {
     "name": "stderr",
     "text": "[Epoch 78/100] Training: 100%|██████████| 469/469 [00:11<00:00, 40.19it/s]\n[Epoch 78/100] Validation: 100%|██████████| 59/59 [00:00<00:00, 110.14it/s]\n",
     "output_type": "stream"
    },
    {
     "name": "stdout",
     "text": "Epoch [78/100] Train Loss: 0.0870 Val Loss: 0.1214 AUC PR: 0.1596 Precision: 0.2589 Recall: 0.2123 F1: 0.2333\n",
     "output_type": "stream"
    },
    {
     "name": "stderr",
     "text": "[Epoch 79/100] Training: 100%|██████████| 469/469 [00:11<00:00, 40.38it/s]\n[Epoch 79/100] Validation: 100%|██████████| 59/59 [00:00<00:00, 108.38it/s]\n",
     "output_type": "stream"
    },
    {
     "name": "stdout",
     "text": "Epoch [79/100] Train Loss: 0.0868 Val Loss: 0.1209 AUC PR: 0.1595 Precision: 0.2595 Recall: 0.1997 F1: 0.2257\n",
     "output_type": "stream"
    },
    {
     "name": "stderr",
     "text": "[Epoch 80/100] Training: 100%|██████████| 469/469 [00:11<00:00, 40.26it/s]\n[Epoch 80/100] Validation: 100%|██████████| 59/59 [00:00<00:00, 110.15it/s]\n",
     "output_type": "stream"
    },
    {
     "name": "stdout",
     "text": "New best model with AUC PR: 0.1599\nEpoch [80/100] Train Loss: 0.0868 Val Loss: 0.1211 AUC PR: 0.1599 Precision: 0.2594 Recall: 0.2114 F1: 0.2329\n",
     "output_type": "stream"
    },
    {
     "name": "stderr",
     "text": "[Epoch 81/100] Training: 100%|██████████| 469/469 [00:11<00:00, 40.36it/s]\n[Epoch 81/100] Validation: 100%|██████████| 59/59 [00:00<00:00, 111.67it/s]\n",
     "output_type": "stream"
    },
    {
     "name": "stdout",
     "text": "Epoch [81/100] Train Loss: 0.0864 Val Loss: 0.1209 AUC PR: 0.1595 Precision: 0.2576 Recall: 0.2221 F1: 0.2385\n",
     "output_type": "stream"
    },
    {
     "name": "stderr",
     "text": "[Epoch 82/100] Training: 100%|██████████| 469/469 [00:11<00:00, 40.05it/s]\n[Epoch 82/100] Validation: 100%|██████████| 59/59 [00:00<00:00, 112.71it/s]\n",
     "output_type": "stream"
    },
    {
     "name": "stdout",
     "text": "New best model with AUC PR: 0.1599\nEpoch [82/100] Train Loss: 0.0866 Val Loss: 0.1205 AUC PR: 0.1599 Precision: 0.2571 Recall: 0.2244 F1: 0.2396\n",
     "output_type": "stream"
    },
    {
     "name": "stderr",
     "text": "[Epoch 83/100] Training: 100%|██████████| 469/469 [00:11<00:00, 40.42it/s]\n[Epoch 83/100] Validation: 100%|██████████| 59/59 [00:00<00:00, 111.46it/s]\n",
     "output_type": "stream"
    },
    {
     "name": "stdout",
     "text": "Epoch [83/100] Train Loss: 0.0864 Val Loss: 0.1214 AUC PR: 0.1595 Precision: 0.2576 Recall: 0.2248 F1: 0.2401\n",
     "output_type": "stream"
    },
    {
     "name": "stderr",
     "text": "[Epoch 84/100] Training: 100%|██████████| 469/469 [00:11<00:00, 40.45it/s]\n[Epoch 84/100] Validation: 100%|██████████| 59/59 [00:00<00:00, 112.43it/s]\n",
     "output_type": "stream"
    },
    {
     "name": "stdout",
     "text": "New best model with AUC PR: 0.1606\nEpoch [84/100] Train Loss: 0.0866 Val Loss: 0.1203 AUC PR: 0.1606 Precision: 0.2599 Recall: 0.2074 F1: 0.2307\n",
     "output_type": "stream"
    },
    {
     "name": "stderr",
     "text": "[Epoch 85/100] Training: 100%|██████████| 469/469 [00:11<00:00, 40.48it/s]\n[Epoch 85/100] Validation: 100%|██████████| 59/59 [00:00<00:00, 111.88it/s]\n",
     "output_type": "stream"
    },
    {
     "name": "stdout",
     "text": "Epoch [85/100] Train Loss: 0.0866 Val Loss: 0.1210 AUC PR: 0.1602 Precision: 0.2608 Recall: 0.1708 F1: 0.2064\n",
     "output_type": "stream"
    },
    {
     "name": "stderr",
     "text": "[Epoch 86/100] Training: 100%|██████████| 469/469 [00:11<00:00, 40.22it/s]\n[Epoch 86/100] Validation: 100%|██████████| 59/59 [00:00<00:00, 97.08it/s]\n",
     "output_type": "stream"
    },
    {
     "name": "stdout",
     "text": "Epoch [86/100] Train Loss: 0.0862 Val Loss: 0.1209 AUC PR: 0.1598 Precision: 0.2576 Recall: 0.2253 F1: 0.2403\n",
     "output_type": "stream"
    },
    {
     "name": "stderr",
     "text": "[Epoch 87/100] Training: 100%|██████████| 469/469 [00:11<00:00, 40.19it/s]\n[Epoch 87/100] Validation: 100%|██████████| 59/59 [00:00<00:00, 113.01it/s]\n",
     "output_type": "stream"
    },
    {
     "name": "stdout",
     "text": "New best model with AUC PR: 0.1607\nEpoch [87/100] Train Loss: 0.0863 Val Loss: 0.1224 AUC PR: 0.1607 Precision: 0.2618 Recall: 0.1881 F1: 0.2189\n",
     "output_type": "stream"
    },
    {
     "name": "stderr",
     "text": "[Epoch 88/100] Training: 100%|██████████| 469/469 [00:11<00:00, 39.95it/s]\n[Epoch 88/100] Validation: 100%|██████████| 59/59 [00:00<00:00, 113.31it/s]\n",
     "output_type": "stream"
    },
    {
     "name": "stdout",
     "text": "Epoch [88/100] Train Loss: 0.0864 Val Loss: 0.1209 AUC PR: 0.1603 Precision: 0.2564 Recall: 0.2299 F1: 0.2424\n",
     "output_type": "stream"
    },
    {
     "name": "stderr",
     "text": "[Epoch 89/100] Training: 100%|██████████| 469/469 [00:11<00:00, 40.54it/s]\n[Epoch 89/100] Validation: 100%|██████████| 59/59 [00:00<00:00, 110.71it/s]\n",
     "output_type": "stream"
    },
    {
     "name": "stdout",
     "text": "Epoch [89/100] Train Loss: 0.0860 Val Loss: 0.1222 AUC PR: 0.1602 Precision: 0.2606 Recall: 0.1995 F1: 0.2260\n",
     "output_type": "stream"
    },
    {
     "name": "stderr",
     "text": "[Epoch 90/100] Training: 100%|██████████| 469/469 [00:11<00:00, 40.35it/s]\n[Epoch 90/100] Validation: 100%|██████████| 59/59 [00:00<00:00, 111.78it/s]\n",
     "output_type": "stream"
    },
    {
     "name": "stdout",
     "text": "Epoch [90/100] Train Loss: 0.0860 Val Loss: 0.1215 AUC PR: 0.1598 Precision: 0.2595 Recall: 0.2010 F1: 0.2266\n",
     "output_type": "stream"
    },
    {
     "name": "stderr",
     "text": "[Epoch 91/100] Training: 100%|██████████| 469/469 [00:11<00:00, 40.67it/s]\n[Epoch 91/100] Validation: 100%|██████████| 59/59 [00:00<00:00, 113.98it/s]\n",
     "output_type": "stream"
    },
    {
     "name": "stdout",
     "text": "New best model with AUC PR: 0.1609\nEpoch [91/100] Train Loss: 0.0861 Val Loss: 0.1201 AUC PR: 0.1609 Precision: 0.2596 Recall: 0.2093 F1: 0.2317\n",
     "output_type": "stream"
    },
    {
     "name": "stderr",
     "text": "[Epoch 92/100] Training: 100%|██████████| 469/469 [00:11<00:00, 39.93it/s]\n[Epoch 92/100] Validation: 100%|██████████| 59/59 [00:00<00:00, 111.15it/s]\n",
     "output_type": "stream"
    },
    {
     "name": "stdout",
     "text": "Epoch [92/100] Train Loss: 0.0860 Val Loss: 0.1205 AUC PR: 0.1608 Precision: 0.2598 Recall: 0.2107 F1: 0.2327\n",
     "output_type": "stream"
    },
    {
     "name": "stderr",
     "text": "[Epoch 93/100] Training: 100%|██████████| 469/469 [00:11<00:00, 40.04it/s]\n[Epoch 93/100] Validation: 100%|██████████| 59/59 [00:00<00:00, 113.14it/s]\n",
     "output_type": "stream"
    },
    {
     "name": "stdout",
     "text": "New best model with AUC PR: 0.1611\nEpoch [93/100] Train Loss: 0.0858 Val Loss: 0.1208 AUC PR: 0.1611 Precision: 0.2616 Recall: 0.1966 F1: 0.2245\n",
     "output_type": "stream"
    },
    {
     "name": "stderr",
     "text": "[Epoch 94/100] Training: 100%|██████████| 469/469 [00:11<00:00, 40.57it/s]\n[Epoch 94/100] Validation: 100%|██████████| 59/59 [00:00<00:00, 110.27it/s]\n",
     "output_type": "stream"
    },
    {
     "name": "stdout",
     "text": "New best model with AUC PR: 0.1612\nEpoch [94/100] Train Loss: 0.0859 Val Loss: 0.1211 AUC PR: 0.1612 Precision: 0.2585 Recall: 0.2241 F1: 0.2400\n",
     "output_type": "stream"
    },
    {
     "name": "stderr",
     "text": "[Epoch 95/100] Training: 100%|██████████| 469/469 [00:11<00:00, 40.53it/s]\n[Epoch 95/100] Validation: 100%|██████████| 59/59 [00:00<00:00, 109.94it/s]\n",
     "output_type": "stream"
    },
    {
     "name": "stdout",
     "text": "Epoch [95/100] Train Loss: 0.0859 Val Loss: 0.1202 AUC PR: 0.1611 Precision: 0.2597 Recall: 0.2185 F1: 0.2373\n",
     "output_type": "stream"
    },
    {
     "name": "stderr",
     "text": "[Epoch 96/100] Training: 100%|██████████| 469/469 [00:11<00:00, 40.20it/s]\n[Epoch 96/100] Validation: 100%|██████████| 59/59 [00:00<00:00, 111.21it/s]\n",
     "output_type": "stream"
    },
    {
     "name": "stdout",
     "text": "New best model with AUC PR: 0.1612\nEpoch [96/100] Train Loss: 0.0860 Val Loss: 0.1208 AUC PR: 0.1612 Precision: 0.2611 Recall: 0.2081 F1: 0.2316\n",
     "output_type": "stream"
    },
    {
     "name": "stderr",
     "text": "[Epoch 97/100] Training: 100%|██████████| 469/469 [00:11<00:00, 40.21it/s]\n[Epoch 97/100] Validation: 100%|██████████| 59/59 [00:00<00:00, 112.48it/s]\n",
     "output_type": "stream"
    },
    {
     "name": "stdout",
     "text": "Epoch [97/100] Train Loss: 0.0860 Val Loss: 0.1206 AUC PR: 0.1612 Precision: 0.2588 Recall: 0.2230 F1: 0.2396\n",
     "output_type": "stream"
    },
    {
     "name": "stderr",
     "text": "[Epoch 98/100] Training: 100%|██████████| 469/469 [00:11<00:00, 40.34it/s]\n[Epoch 98/100] Validation: 100%|██████████| 59/59 [00:00<00:00, 109.92it/s]\n",
     "output_type": "stream"
    },
    {
     "name": "stdout",
     "text": "Epoch [98/100] Train Loss: 0.0858 Val Loss: 0.1215 AUC PR: 0.1612 Precision: 0.2603 Recall: 0.2148 F1: 0.2354\n",
     "output_type": "stream"
    },
    {
     "name": "stderr",
     "text": "[Epoch 99/100] Training: 100%|██████████| 469/469 [00:11<00:00, 40.55it/s]\n[Epoch 99/100] Validation: 100%|██████████| 59/59 [00:00<00:00, 110.70it/s]\n",
     "output_type": "stream"
    },
    {
     "name": "stdout",
     "text": "New best model with AUC PR: 0.1620\nEpoch [99/100] Train Loss: 0.0858 Val Loss: 0.1203 AUC PR: 0.1620 Precision: 0.2576 Recall: 0.2303 F1: 0.2432\n",
     "output_type": "stream"
    },
    {
     "name": "stderr",
     "text": "[Epoch 100/100] Training: 100%|██████████| 469/469 [00:11<00:00, 40.51it/s]\n[Epoch 100/100] Validation: 100%|██████████| 59/59 [00:00<00:00, 110.05it/s]\n",
     "output_type": "stream"
    },
    {
     "name": "stdout",
     "text": "Epoch [100/100] Train Loss: 0.0855 Val Loss: 0.1206 AUC PR: 0.1615 Precision: 0.2622 Recall: 0.1943 F1: 0.2232\n\nFinal Model Performance:\nAUC PR: 0.1615\nPrecision: 0.2622\nRecall: 0.1943\nF1 Score: 0.2232\n",
     "output_type": "stream"
    }
   ],
   "execution_count": 42
  },
  {
   "cell_type": "code",
   "source": "for i in range(len(lr_list)):\n    print(f\"learning rate: {lr_list[i]}\")\n    plot_training_history(history_withlr[i])",
   "metadata": {
    "trusted": true,
    "execution": {
     "iopub.status.busy": "2025-04-21T23:16:59.857996Z",
     "iopub.execute_input": "2025-04-21T23:16:59.858830Z",
     "iopub.status.idle": "2025-04-21T23:17:01.171092Z",
     "shell.execute_reply.started": "2025-04-21T23:16:59.858800Z",
     "shell.execute_reply": "2025-04-21T23:17:01.170257Z"
    }
   },
   "outputs": [
    {
     "name": "stdout",
     "text": "learning rate: 0.01\n",
     "output_type": "stream"
    },
    {
     "output_type": "display_data",
     "data": {
      "text/plain": "<Figure size 1200x500 with 2 Axes>",
      "image/png": "[encoded data removed]"
     },
     "metadata": {}
    },
    {
     "name": "stdout",
     "text": "learning rate: 0.001\n",
     "output_type": "stream"
    },
    {
     "output_type": "display_data",
     "data": {
      "text/plain": "<Figure size 1200x500 with 2 Axes>",
      "image/png": "[encoded data removed]"
     },
     "metadata": {}
    },
    {
     "name": "stdout",
     "text": "learning rate: 1e-05\n",
     "output_type": "stream"
    },
    {
     "output_type": "display_data",
     "data": {
      "text/plain": "<Figure size 1200x500 with 2 Axes>",
      "image/png": "[encoded data removed]"
     },
     "metadata": {}
    }
   ],
   "execution_count": 43
  },
  {
   "cell_type": "markdown",
   "source": "#### Test the model with different number of filters",
   "metadata": {}
  },
  {
   "cell_type": "markdown",
   "source": "Change the number of filters in the first convolutional block: 32",
   "metadata": {}
  },
  {
   "cell_type": "code",
   "source": "params_config = {\n    'in_channels': 12,\n    'out_channels': 1,\n    'encoder_layers': [32, 16, 32],\n    'decoder_layers': [32, 16],\n    'encoder_pools': [1, 2, 2],\n    'decoder_pools': [2, 2],\n    'dropout': 0.1,\n    'batch_norm': True\n}",
   "metadata": {
    "trusted": true,
    "execution": {
     "iopub.status.busy": "2025-04-22T14:58:17.726647Z",
     "iopub.execute_input": "2025-04-22T14:58:17.727151Z",
     "iopub.status.idle": "2025-04-22T14:58:17.730995Z",
     "shell.execute_reply.started": "2025-04-22T14:58:17.727128Z",
     "shell.execute_reply": "2025-04-22T14:58:17.730308Z"
    }
   },
   "outputs": [],
   "execution_count": 23
  },
  {
   "cell_type": "code",
   "source": "model2 = Autoencoder(**params_config)",
   "metadata": {
    "trusted": true,
    "execution": {
     "iopub.status.busy": "2025-04-22T14:58:22.063587Z",
     "iopub.execute_input": "2025-04-22T14:58:22.064346Z",
     "iopub.status.idle": "2025-04-22T14:58:22.087792Z",
     "shell.execute_reply.started": "2025-04-22T14:58:22.064318Z",
     "shell.execute_reply": "2025-04-22T14:58:22.087298Z"
    }
   },
   "outputs": [],
   "execution_count": 24
  },
  {
   "cell_type": "code",
   "source": "device = 'cuda' if torch.cuda.is_available() else 'cpu'\nmodel2_trained, history, final_metrics = train_model(model2, train_loader, val_loader, lr=lr, pos_weight=pos_weight, num_epochs=num_epochs, device=device)\n",
   "metadata": {
    "trusted": true,
    "execution": {
     "iopub.status.busy": "2025-04-22T14:58:31.062305Z",
     "iopub.execute_input": "2025-04-22T14:58:31.062974Z",
     "iopub.status.idle": "2025-04-22T16:00:03.750377Z",
     "shell.execute_reply.started": "2025-04-22T14:58:31.062949Z",
     "shell.execute_reply": "2025-04-22T16:00:03.749578Z"
    }
   },
   "outputs": [
    {
     "name": "stderr",
     "text": "[Epoch 1/100] Training: 100%|██████████| 469/469 [00:14<00:00, 33.36it/s]\n[Epoch 1/100] Validation: 100%|██████████| 59/59 [00:00<00:00, 97.98it/s] \n",
     "output_type": "stream"
    },
    {
     "name": "stdout",
     "text": "New best model with AUC PR: 0.0960\nEpoch [1/100] Train Loss: 0.2883 Val Loss: 0.1434 AUC PR: 0.0960 Precision: 0.2100 Recall: 0.0229 F1: 0.0414\n",
     "output_type": "stream"
    },
    {
     "name": "stderr",
     "text": "[Epoch 2/100] Training: 100%|██████████| 469/469 [00:12<00:00, 36.58it/s]\n[Epoch 2/100] Validation: 100%|██████████| 59/59 [00:00<00:00, 103.16it/s]\n",
     "output_type": "stream"
    },
    {
     "name": "stdout",
     "text": "New best model with AUC PR: 0.1406\nEpoch [2/100] Train Loss: 0.1080 Val Loss: 0.1280 AUC PR: 0.1406 Precision: 0.2252 Recall: 0.2868 F1: 0.2523\n",
     "output_type": "stream"
    },
    {
     "name": "stderr",
     "text": "[Epoch 3/100] Training: 100%|██████████| 469/469 [00:12<00:00, 36.20it/s]\n[Epoch 3/100] Validation: 100%|██████████| 59/59 [00:00<00:00, 103.25it/s]\n",
     "output_type": "stream"
    },
    {
     "name": "stdout",
     "text": "New best model with AUC PR: 0.1498\nEpoch [3/100] Train Loss: 0.0954 Val Loss: 0.1268 AUC PR: 0.1498 Precision: 0.2441 Recall: 0.2366 F1: 0.2403\n",
     "output_type": "stream"
    },
    {
     "name": "stderr",
     "text": "[Epoch 4/100] Training: 100%|██████████| 469/469 [00:13<00:00, 35.99it/s]\n[Epoch 4/100] Validation: 100%|██████████| 59/59 [00:00<00:00, 106.16it/s]\n",
     "output_type": "stream"
    },
    {
     "name": "stdout",
     "text": "New best model with AUC PR: 0.1510\nEpoch [4/100] Train Loss: 0.0923 Val Loss: 0.1256 AUC PR: 0.1510 Precision: 0.2446 Recall: 0.2382 F1: 0.2413\n",
     "output_type": "stream"
    },
    {
     "name": "stderr",
     "text": "[Epoch 5/100] Training: 100%|██████████| 469/469 [00:13<00:00, 35.81it/s]\n[Epoch 5/100] Validation: 100%|██████████| 59/59 [00:00<00:00, 105.73it/s]\n",
     "output_type": "stream"
    },
    {
     "name": "stdout",
     "text": "New best model with AUC PR: 0.1547\nEpoch [5/100] Train Loss: 0.0903 Val Loss: 0.1241 AUC PR: 0.1547 Precision: 0.2505 Recall: 0.2042 F1: 0.2250\n",
     "output_type": "stream"
    },
    {
     "name": "stderr",
     "text": "[Epoch 6/100] Training: 100%|██████████| 469/469 [00:13<00:00, 35.89it/s]\n[Epoch 6/100] Validation: 100%|██████████| 59/59 [00:00<00:00, 102.55it/s]\n",
     "output_type": "stream"
    },
    {
     "name": "stdout",
     "text": "New best model with AUC PR: 0.1557\nEpoch [6/100] Train Loss: 0.0889 Val Loss: 0.1225 AUC PR: 0.1557 Precision: 0.2508 Recall: 0.2066 F1: 0.2265\n",
     "output_type": "stream"
    },
    {
     "name": "stderr",
     "text": "[Epoch 7/100] Training: 100%|██████████| 469/469 [00:13<00:00, 35.93it/s]\n[Epoch 7/100] Validation: 100%|██████████| 59/59 [00:00<00:00, 102.65it/s]\n",
     "output_type": "stream"
    },
    {
     "name": "stdout",
     "text": "New best model with AUC PR: 0.1573\nEpoch [7/100] Train Loss: 0.0881 Val Loss: 0.1234 AUC PR: 0.1573 Precision: 0.2536 Recall: 0.1997 F1: 0.2235\n",
     "output_type": "stream"
    },
    {
     "name": "stderr",
     "text": "[Epoch 8/100] Training: 100%|██████████| 469/469 [00:13<00:00, 35.61it/s]\n[Epoch 8/100] Validation: 100%|██████████| 59/59 [00:00<00:00, 99.92it/s]\n",
     "output_type": "stream"
    },
    {
     "name": "stdout",
     "text": "New best model with AUC PR: 0.1582\nEpoch [8/100] Train Loss: 0.0877 Val Loss: 0.1254 AUC PR: 0.1582 Precision: 0.2563 Recall: 0.1978 F1: 0.2233\n",
     "output_type": "stream"
    },
    {
     "name": "stderr",
     "text": "[Epoch 9/100] Training: 100%|██████████| 469/469 [00:13<00:00, 35.52it/s]\n[Epoch 9/100] Validation: 100%|██████████| 59/59 [00:00<00:00, 105.56it/s]\n",
     "output_type": "stream"
    },
    {
     "name": "stdout",
     "text": "Epoch [9/100] Train Loss: 0.0872 Val Loss: 0.1229 AUC PR: 0.1571 Precision: 0.2505 Recall: 0.2424 F1: 0.2464\n",
     "output_type": "stream"
    },
    {
     "name": "stderr",
     "text": "[Epoch 10/100] Training: 100%|██████████| 469/469 [00:13<00:00, 35.73it/s]\n[Epoch 10/100] Validation: 100%|██████████| 59/59 [00:00<00:00, 105.20it/s]\n",
     "output_type": "stream"
    },
    {
     "name": "stdout",
     "text": "New best model with AUC PR: 0.1591\nEpoch [10/100] Train Loss: 0.0863 Val Loss: 0.1207 AUC PR: 0.1591 Precision: 0.2564 Recall: 0.2090 F1: 0.2303\n",
     "output_type": "stream"
    },
    {
     "name": "stderr",
     "text": "[Epoch 11/100] Training: 100%|██████████| 469/469 [00:13<00:00, 35.73it/s]\n[Epoch 11/100] Validation: 100%|██████████| 59/59 [00:00<00:00, 104.38it/s]\n",
     "output_type": "stream"
    },
    {
     "name": "stdout",
     "text": "Epoch [11/100] Train Loss: 0.0861 Val Loss: 0.1192 AUC PR: 0.1588 Precision: 0.2542 Recall: 0.2198 F1: 0.2358\n",
     "output_type": "stream"
    },
    {
     "name": "stderr",
     "text": "[Epoch 12/100] Training: 100%|██████████| 469/469 [00:13<00:00, 35.91it/s]\n[Epoch 12/100] Validation: 100%|██████████| 59/59 [00:00<00:00, 104.60it/s]\n",
     "output_type": "stream"
    },
    {
     "name": "stdout",
     "text": "New best model with AUC PR: 0.1619\nEpoch [12/100] Train Loss: 0.0853 Val Loss: 0.1197 AUC PR: 0.1619 Precision: 0.2598 Recall: 0.1914 F1: 0.2204\n",
     "output_type": "stream"
    },
    {
     "name": "stderr",
     "text": "[Epoch 13/100] Training: 100%|██████████| 469/469 [00:13<00:00, 35.65it/s]\n[Epoch 13/100] Validation: 100%|██████████| 59/59 [00:00<00:00, 104.67it/s]\n",
     "output_type": "stream"
    },
    {
     "name": "stdout",
     "text": "Epoch [13/100] Train Loss: 0.0853 Val Loss: 0.1206 AUC PR: 0.1594 Precision: 0.2562 Recall: 0.2233 F1: 0.2386\n",
     "output_type": "stream"
    },
    {
     "name": "stderr",
     "text": "[Epoch 14/100] Training: 100%|██████████| 469/469 [00:13<00:00, 35.66it/s]\n[Epoch 14/100] Validation: 100%|██████████| 59/59 [00:00<00:00, 104.36it/s]\n",
     "output_type": "stream"
    },
    {
     "name": "stdout",
     "text": "Epoch [14/100] Train Loss: 0.0848 Val Loss: 0.1186 AUC PR: 0.1617 Precision: 0.2597 Recall: 0.2000 F1: 0.2260\n",
     "output_type": "stream"
    },
    {
     "name": "stderr",
     "text": "[Epoch 15/100] Training: 100%|██████████| 469/469 [00:13<00:00, 35.68it/s]\n[Epoch 15/100] Validation: 100%|██████████| 59/59 [00:00<00:00, 104.65it/s]\n",
     "output_type": "stream"
    },
    {
     "name": "stdout",
     "text": "Epoch [15/100] Train Loss: 0.0842 Val Loss: 0.1191 AUC PR: 0.1617 Precision: 0.2567 Recall: 0.2332 F1: 0.2444\n",
     "output_type": "stream"
    },
    {
     "name": "stderr",
     "text": "[Epoch 16/100] Training: 100%|██████████| 469/469 [00:13<00:00, 35.85it/s]\n[Epoch 16/100] Validation: 100%|██████████| 59/59 [00:00<00:00, 105.75it/s]\n",
     "output_type": "stream"
    },
    {
     "name": "stdout",
     "text": "New best model with AUC PR: 0.1628\nEpoch [16/100] Train Loss: 0.0841 Val Loss: 0.1200 AUC PR: 0.1628 Precision: 0.2610 Recall: 0.2104 F1: 0.2330\n",
     "output_type": "stream"
    },
    {
     "name": "stderr",
     "text": "[Epoch 17/100] Training: 100%|██████████| 469/469 [00:13<00:00, 35.87it/s]\n[Epoch 17/100] Validation: 100%|██████████| 59/59 [00:00<00:00, 103.66it/s]\n",
     "output_type": "stream"
    },
    {
     "name": "stdout",
     "text": "New best model with AUC PR: 0.1653\nEpoch [17/100] Train Loss: 0.0837 Val Loss: 0.1193 AUC PR: 0.1653 Precision: 0.2636 Recall: 0.1947 F1: 0.2240\n",
     "output_type": "stream"
    },
    {
     "name": "stderr",
     "text": "[Epoch 18/100] Training: 100%|██████████| 469/469 [00:13<00:00, 36.03it/s]\n[Epoch 18/100] Validation: 100%|██████████| 59/59 [00:00<00:00, 105.15it/s]\n",
     "output_type": "stream"
    },
    {
     "name": "stdout",
     "text": "Epoch [18/100] Train Loss: 0.0832 Val Loss: 0.1169 AUC PR: 0.1647 Precision: 0.2599 Recall: 0.2284 F1: 0.2431\n",
     "output_type": "stream"
    },
    {
     "name": "stderr",
     "text": "[Epoch 19/100] Training: 100%|██████████| 469/469 [00:13<00:00, 35.78it/s]\n[Epoch 19/100] Validation: 100%|██████████| 59/59 [00:00<00:00, 104.37it/s]\n",
     "output_type": "stream"
    },
    {
     "name": "stdout",
     "text": "New best model with AUC PR: 0.1667\nEpoch [19/100] Train Loss: 0.0829 Val Loss: 0.1190 AUC PR: 0.1667 Precision: 0.2655 Recall: 0.1905 F1: 0.2218\n",
     "output_type": "stream"
    },
    {
     "name": "stderr",
     "text": "[Epoch 20/100] Training: 100%|██████████| 469/469 [00:13<00:00, 35.84it/s]\n[Epoch 20/100] Validation: 100%|██████████| 59/59 [00:00<00:00, 104.88it/s]\n",
     "output_type": "stream"
    },
    {
     "name": "stdout",
     "text": "New best model with AUC PR: 0.1670\nEpoch [20/100] Train Loss: 0.0829 Val Loss: 0.1200 AUC PR: 0.1670 Precision: 0.2651 Recall: 0.1866 F1: 0.2190\n",
     "output_type": "stream"
    },
    {
     "name": "stderr",
     "text": "[Epoch 21/100] Training: 100%|██████████| 469/469 [00:13<00:00, 35.89it/s]\n[Epoch 21/100] Validation: 100%|██████████| 59/59 [00:00<00:00, 98.72it/s]\n",
     "output_type": "stream"
    },
    {
     "name": "stdout",
     "text": "Epoch [21/100] Train Loss: 0.0829 Val Loss: 0.1185 AUC PR: 0.1654 Precision: 0.2633 Recall: 0.2157 F1: 0.2371\n",
     "output_type": "stream"
    },
    {
     "name": "stderr",
     "text": "[Epoch 22/100] Training: 100%|██████████| 469/469 [00:13<00:00, 35.84it/s]\n[Epoch 22/100] Validation: 100%|██████████| 59/59 [00:00<00:00, 105.62it/s]\n",
     "output_type": "stream"
    },
    {
     "name": "stdout",
     "text": "Epoch [22/100] Train Loss: 0.0823 Val Loss: 0.1179 AUC PR: 0.1663 Precision: 0.2611 Recall: 0.2358 F1: 0.2478\n",
     "output_type": "stream"
    },
    {
     "name": "stderr",
     "text": "[Epoch 23/100] Training: 100%|██████████| 469/469 [00:13<00:00, 35.73it/s]\n[Epoch 23/100] Validation: 100%|██████████| 59/59 [00:00<00:00, 104.34it/s]\n",
     "output_type": "stream"
    },
    {
     "name": "stdout",
     "text": "New best model with AUC PR: 0.1687\nEpoch [23/100] Train Loss: 0.0819 Val Loss: 0.1190 AUC PR: 0.1687 Precision: 0.2665 Recall: 0.2002 F1: 0.2286\n",
     "output_type": "stream"
    },
    {
     "name": "stderr",
     "text": "[Epoch 24/100] Training: 100%|██████████| 469/469 [00:13<00:00, 35.98it/s]\n[Epoch 24/100] Validation: 100%|██████████| 59/59 [00:00<00:00, 105.58it/s]\n",
     "output_type": "stream"
    },
    {
     "name": "stdout",
     "text": "New best model with AUC PR: 0.1692\nEpoch [24/100] Train Loss: 0.0819 Val Loss: 0.1181 AUC PR: 0.1692 Precision: 0.2685 Recall: 0.1765 F1: 0.2130\n",
     "output_type": "stream"
    },
    {
     "name": "stderr",
     "text": "[Epoch 25/100] Training: 100%|██████████| 469/469 [00:13<00:00, 35.49it/s]\n[Epoch 25/100] Validation: 100%|██████████| 59/59 [00:00<00:00, 105.02it/s]\n",
     "output_type": "stream"
    },
    {
     "name": "stdout",
     "text": "Epoch [25/100] Train Loss: 0.0818 Val Loss: 0.1168 AUC PR: 0.1678 Precision: 0.2611 Recall: 0.2386 F1: 0.2493\n",
     "output_type": "stream"
    },
    {
     "name": "stderr",
     "text": "[Epoch 26/100] Training: 100%|██████████| 469/469 [00:13<00:00, 35.82it/s]\n[Epoch 26/100] Validation: 100%|██████████| 59/59 [00:00<00:00, 105.43it/s]\n",
     "output_type": "stream"
    },
    {
     "name": "stdout",
     "text": "New best model with AUC PR: 0.1698\nEpoch [26/100] Train Loss: 0.0816 Val Loss: 0.1165 AUC PR: 0.1698 Precision: 0.2596 Recall: 0.2505 F1: 0.2549\n",
     "output_type": "stream"
    },
    {
     "name": "stderr",
     "text": "[Epoch 27/100] Training: 100%|██████████| 469/469 [00:13<00:00, 35.79it/s]\n[Epoch 27/100] Validation: 100%|██████████| 59/59 [00:00<00:00, 104.99it/s]\n",
     "output_type": "stream"
    },
    {
     "name": "stdout",
     "text": "Epoch [27/100] Train Loss: 0.0815 Val Loss: 0.1161 AUC PR: 0.1693 Precision: 0.2628 Recall: 0.2402 F1: 0.2510\n",
     "output_type": "stream"
    },
    {
     "name": "stderr",
     "text": "[Epoch 28/100] Training: 100%|██████████| 469/469 [00:13<00:00, 35.98it/s]\n[Epoch 28/100] Validation: 100%|██████████| 59/59 [00:00<00:00, 105.59it/s]\n",
     "output_type": "stream"
    },
    {
     "name": "stdout",
     "text": "New best model with AUC PR: 0.1711\nEpoch [28/100] Train Loss: 0.0811 Val Loss: 0.1152 AUC PR: 0.1711 Precision: 0.2649 Recall: 0.2257 F1: 0.2438\n",
     "output_type": "stream"
    },
    {
     "name": "stderr",
     "text": "[Epoch 29/100] Training: 100%|██████████| 469/469 [00:13<00:00, 35.98it/s]\n[Epoch 29/100] Validation: 100%|██████████| 59/59 [00:00<00:00, 105.99it/s]\n",
     "output_type": "stream"
    },
    {
     "name": "stdout",
     "text": "Epoch [29/100] Train Loss: 0.0811 Val Loss: 0.1174 AUC PR: 0.1706 Precision: 0.2702 Recall: 0.2016 F1: 0.2309\n",
     "output_type": "stream"
    },
    {
     "name": "stderr",
     "text": "[Epoch 30/100] Training: 100%|██████████| 469/469 [00:13<00:00, 35.94it/s]\n[Epoch 30/100] Validation: 100%|██████████| 59/59 [00:00<00:00, 106.48it/s]\n",
     "output_type": "stream"
    },
    {
     "name": "stdout",
     "text": "New best model with AUC PR: 0.1731\nEpoch [30/100] Train Loss: 0.0810 Val Loss: 0.1162 AUC PR: 0.1731 Precision: 0.2684 Recall: 0.2199 F1: 0.2417\n",
     "output_type": "stream"
    },
    {
     "name": "stderr",
     "text": "[Epoch 31/100] Training: 100%|██████████| 469/469 [00:13<00:00, 35.98it/s]\n[Epoch 31/100] Validation: 100%|██████████| 59/59 [00:00<00:00, 105.41it/s]\n",
     "output_type": "stream"
    },
    {
     "name": "stdout",
     "text": "Epoch [31/100] Train Loss: 0.0806 Val Loss: 0.1179 AUC PR: 0.1723 Precision: 0.2736 Recall: 0.1860 F1: 0.2214\n",
     "output_type": "stream"
    },
    {
     "name": "stderr",
     "text": "[Epoch 32/100] Training: 100%|██████████| 469/469 [00:13<00:00, 35.96it/s]\n[Epoch 32/100] Validation: 100%|██████████| 59/59 [00:00<00:00, 105.62it/s]\n",
     "output_type": "stream"
    },
    {
     "name": "stdout",
     "text": "New best model with AUC PR: 0.1741\nEpoch [32/100] Train Loss: 0.0806 Val Loss: 0.1171 AUC PR: 0.1741 Precision: 0.2649 Recall: 0.2438 F1: 0.2539\n",
     "output_type": "stream"
    },
    {
     "name": "stderr",
     "text": "[Epoch 33/100] Training: 100%|██████████| 469/469 [00:13<00:00, 35.76it/s]\n[Epoch 33/100] Validation: 100%|██████████| 59/59 [00:00<00:00, 104.26it/s]\n",
     "output_type": "stream"
    },
    {
     "name": "stdout",
     "text": "New best model with AUC PR: 0.1757\nEpoch [33/100] Train Loss: 0.0802 Val Loss: 0.1170 AUC PR: 0.1757 Precision: 0.2670 Recall: 0.2388 F1: 0.2521\n",
     "output_type": "stream"
    },
    {
     "name": "stderr",
     "text": "[Epoch 34/100] Training: 100%|██████████| 469/469 [00:13<00:00, 35.81it/s]\n[Epoch 34/100] Validation: 100%|██████████| 59/59 [00:00<00:00, 105.51it/s]\n",
     "output_type": "stream"
    },
    {
     "name": "stdout",
     "text": "New best model with AUC PR: 0.1768\nEpoch [34/100] Train Loss: 0.0802 Val Loss: 0.1156 AUC PR: 0.1768 Precision: 0.2749 Recall: 0.2186 F1: 0.2435\n",
     "output_type": "stream"
    },
    {
     "name": "stderr",
     "text": "[Epoch 35/100] Training: 100%|██████████| 469/469 [00:13<00:00, 35.65it/s]\n[Epoch 35/100] Validation: 100%|██████████| 59/59 [00:00<00:00, 101.36it/s]\n",
     "output_type": "stream"
    },
    {
     "name": "stdout",
     "text": "Epoch [35/100] Train Loss: 0.0803 Val Loss: 0.1163 AUC PR: 0.1764 Precision: 0.2663 Recall: 0.2422 F1: 0.2537\n",
     "output_type": "stream"
    },
    {
     "name": "stderr",
     "text": "[Epoch 36/100] Training: 100%|██████████| 469/469 [00:13<00:00, 35.78it/s]\n[Epoch 36/100] Validation: 100%|██████████| 59/59 [00:00<00:00, 105.19it/s]\n",
     "output_type": "stream"
    },
    {
     "name": "stdout",
     "text": "New best model with AUC PR: 0.1769\nEpoch [36/100] Train Loss: 0.0801 Val Loss: 0.1155 AUC PR: 0.1769 Precision: 0.2679 Recall: 0.2380 F1: 0.2520\n",
     "output_type": "stream"
    },
    {
     "name": "stderr",
     "text": "[Epoch 37/100] Training: 100%|██████████| 469/469 [00:13<00:00, 35.78it/s]\n[Epoch 37/100] Validation: 100%|██████████| 59/59 [00:00<00:00, 104.75it/s]\n",
     "output_type": "stream"
    },
    {
     "name": "stdout",
     "text": "New best model with AUC PR: 0.1778\nEpoch [37/100] Train Loss: 0.0799 Val Loss: 0.1141 AUC PR: 0.1778 Precision: 0.2704 Recall: 0.2348 F1: 0.2514\n",
     "output_type": "stream"
    },
    {
     "name": "stderr",
     "text": "[Epoch 38/100] Training: 100%|██████████| 469/469 [00:13<00:00, 35.95it/s]\n[Epoch 38/100] Validation: 100%|██████████| 59/59 [00:00<00:00, 104.45it/s]\n",
     "output_type": "stream"
    },
    {
     "name": "stdout",
     "text": "New best model with AUC PR: 0.1782\nEpoch [38/100] Train Loss: 0.0797 Val Loss: 0.1160 AUC PR: 0.1782 Precision: 0.2665 Recall: 0.2506 F1: 0.2583\n",
     "output_type": "stream"
    },
    {
     "name": "stderr",
     "text": "[Epoch 39/100] Training: 100%|██████████| 469/469 [00:13<00:00, 35.75it/s]\n[Epoch 39/100] Validation: 100%|██████████| 59/59 [00:00<00:00, 104.42it/s]\n",
     "output_type": "stream"
    },
    {
     "name": "stdout",
     "text": "Epoch [39/100] Train Loss: 0.0794 Val Loss: 0.1172 AUC PR: 0.1778 Precision: 0.2639 Recall: 0.2587 F1: 0.2613\n",
     "output_type": "stream"
    },
    {
     "name": "stderr",
     "text": "[Epoch 40/100] Training: 100%|██████████| 469/469 [00:13<00:00, 35.54it/s]\n[Epoch 40/100] Validation: 100%|██████████| 59/59 [00:00<00:00, 104.11it/s]\n",
     "output_type": "stream"
    },
    {
     "name": "stdout",
     "text": "New best model with AUC PR: 0.1784\nEpoch [40/100] Train Loss: 0.0791 Val Loss: 0.1171 AUC PR: 0.1784 Precision: 0.2775 Recall: 0.2134 F1: 0.2412\n",
     "output_type": "stream"
    },
    {
     "name": "stderr",
     "text": "[Epoch 41/100] Training: 100%|██████████| 469/469 [00:13<00:00, 35.71it/s]\n[Epoch 41/100] Validation: 100%|██████████| 59/59 [00:00<00:00, 105.71it/s]\n",
     "output_type": "stream"
    },
    {
     "name": "stdout",
     "text": "Epoch [41/100] Train Loss: 0.0791 Val Loss: 0.1148 AUC PR: 0.1779 Precision: 0.2643 Recall: 0.2648 F1: 0.2645\n",
     "output_type": "stream"
    },
    {
     "name": "stderr",
     "text": "[Epoch 42/100] Training: 100%|██████████| 469/469 [00:13<00:00, 35.63it/s]\n[Epoch 42/100] Validation: 100%|██████████| 59/59 [00:00<00:00, 104.13it/s]\n",
     "output_type": "stream"
    },
    {
     "name": "stdout",
     "text": "Epoch [42/100] Train Loss: 0.0790 Val Loss: 0.1170 AUC PR: 0.1777 Precision: 0.2737 Recall: 0.2290 F1: 0.2494\n",
     "output_type": "stream"
    },
    {
     "name": "stderr",
     "text": "[Epoch 43/100] Training: 100%|██████████| 469/469 [00:13<00:00, 35.68it/s]\n[Epoch 43/100] Validation: 100%|██████████| 59/59 [00:00<00:00, 101.89it/s]\n",
     "output_type": "stream"
    },
    {
     "name": "stdout",
     "text": "New best model with AUC PR: 0.1794\nEpoch [43/100] Train Loss: 0.0787 Val Loss: 0.1171 AUC PR: 0.1794 Precision: 0.2744 Recall: 0.2353 F1: 0.2534\n",
     "output_type": "stream"
    },
    {
     "name": "stderr",
     "text": "[Epoch 44/100] Training: 100%|██████████| 469/469 [00:13<00:00, 35.87it/s]\n[Epoch 44/100] Validation: 100%|██████████| 59/59 [00:00<00:00, 104.10it/s]\n",
     "output_type": "stream"
    },
    {
     "name": "stdout",
     "text": "New best model with AUC PR: 0.1814\nEpoch [44/100] Train Loss: 0.0787 Val Loss: 0.1151 AUC PR: 0.1814 Precision: 0.2802 Recall: 0.2259 F1: 0.2501\n",
     "output_type": "stream"
    },
    {
     "name": "stderr",
     "text": "[Epoch 45/100] Training: 100%|██████████| 469/469 [00:13<00:00, 35.72it/s]\n[Epoch 45/100] Validation: 100%|██████████| 59/59 [00:00<00:00, 105.81it/s]\n",
     "output_type": "stream"
    },
    {
     "name": "stdout",
     "text": "Epoch [45/100] Train Loss: 0.0786 Val Loss: 0.1151 AUC PR: 0.1787 Precision: 0.2641 Recall: 0.2633 F1: 0.2637\n",
     "output_type": "stream"
    },
    {
     "name": "stderr",
     "text": "[Epoch 46/100] Training: 100%|██████████| 469/469 [00:13<00:00, 35.90it/s]\n[Epoch 46/100] Validation: 100%|██████████| 59/59 [00:00<00:00, 102.38it/s]\n",
     "output_type": "stream"
    },
    {
     "name": "stdout",
     "text": "Epoch [46/100] Train Loss: 0.0786 Val Loss: 0.1149 AUC PR: 0.1788 Precision: 0.2494 Recall: 0.3098 F1: 0.2763\n",
     "output_type": "stream"
    },
    {
     "name": "stderr",
     "text": "[Epoch 47/100] Training: 100%|██████████| 469/469 [00:13<00:00, 35.78it/s]\n[Epoch 47/100] Validation: 100%|██████████| 59/59 [00:00<00:00, 104.51it/s]\n",
     "output_type": "stream"
    },
    {
     "name": "stdout",
     "text": "New best model with AUC PR: 0.1821\nEpoch [47/100] Train Loss: 0.0784 Val Loss: 0.1150 AUC PR: 0.1821 Precision: 0.2646 Recall: 0.2699 F1: 0.2672\n",
     "output_type": "stream"
    },
    {
     "name": "stderr",
     "text": "[Epoch 48/100] Training: 100%|██████████| 469/469 [00:13<00:00, 36.01it/s]\n[Epoch 48/100] Validation: 100%|██████████| 59/59 [00:00<00:00, 106.16it/s]\n",
     "output_type": "stream"
    },
    {
     "name": "stdout",
     "text": "New best model with AUC PR: 0.1827\nEpoch [48/100] Train Loss: 0.0783 Val Loss: 0.1162 AUC PR: 0.1827 Precision: 0.2741 Recall: 0.2383 F1: 0.2550\n",
     "output_type": "stream"
    },
    {
     "name": "stderr",
     "text": "[Epoch 49/100] Training: 100%|██████████| 469/469 [00:13<00:00, 35.80it/s]\n[Epoch 49/100] Validation: 100%|██████████| 59/59 [00:00<00:00, 105.61it/s]\n",
     "output_type": "stream"
    },
    {
     "name": "stdout",
     "text": "Epoch [49/100] Train Loss: 0.0779 Val Loss: 0.1139 AUC PR: 0.1796 Precision: 0.2663 Recall: 0.2585 F1: 0.2624\n",
     "output_type": "stream"
    },
    {
     "name": "stderr",
     "text": "[Epoch 50/100] Training: 100%|██████████| 469/469 [00:12<00:00, 36.10it/s]\n[Epoch 50/100] Validation: 100%|██████████| 59/59 [00:00<00:00, 106.02it/s]\n",
     "output_type": "stream"
    },
    {
     "name": "stdout",
     "text": "Epoch [50/100] Train Loss: 0.0780 Val Loss: 0.1142 AUC PR: 0.1827 Precision: 0.2628 Recall: 0.2798 F1: 0.2710\n",
     "output_type": "stream"
    },
    {
     "name": "stderr",
     "text": "[Epoch 51/100] Training: 100%|██████████| 469/469 [00:13<00:00, 35.75it/s]\n[Epoch 51/100] Validation: 100%|██████████| 59/59 [00:00<00:00, 105.05it/s]\n",
     "output_type": "stream"
    },
    {
     "name": "stdout",
     "text": "Epoch [51/100] Train Loss: 0.0780 Val Loss: 0.1153 AUC PR: 0.1813 Precision: 0.2606 Recall: 0.2853 F1: 0.2724\n",
     "output_type": "stream"
    },
    {
     "name": "stderr",
     "text": "[Epoch 52/100] Training: 100%|██████████| 469/469 [00:13<00:00, 35.91it/s]\n[Epoch 52/100] Validation: 100%|██████████| 59/59 [00:00<00:00, 104.40it/s]\n",
     "output_type": "stream"
    },
    {
     "name": "stdout",
     "text": "New best model with AUC PR: 0.1837\nEpoch [52/100] Train Loss: 0.0777 Val Loss: 0.1150 AUC PR: 0.1837 Precision: 0.2736 Recall: 0.2476 F1: 0.2599\n",
     "output_type": "stream"
    },
    {
     "name": "stderr",
     "text": "[Epoch 53/100] Training: 100%|██████████| 469/469 [00:13<00:00, 35.83it/s]\n[Epoch 53/100] Validation: 100%|██████████| 59/59 [00:00<00:00, 104.85it/s]\n",
     "output_type": "stream"
    },
    {
     "name": "stdout",
     "text": "New best model with AUC PR: 0.1846\nEpoch [53/100] Train Loss: 0.0777 Val Loss: 0.1149 AUC PR: 0.1846 Precision: 0.2727 Recall: 0.2587 F1: 0.2655\n",
     "output_type": "stream"
    },
    {
     "name": "stderr",
     "text": "[Epoch 54/100] Training: 100%|██████████| 469/469 [00:13<00:00, 35.95it/s]\n[Epoch 54/100] Validation: 100%|██████████| 59/59 [00:00<00:00, 106.10it/s]\n",
     "output_type": "stream"
    },
    {
     "name": "stdout",
     "text": "New best model with AUC PR: 0.1848\nEpoch [54/100] Train Loss: 0.0774 Val Loss: 0.1150 AUC PR: 0.1848 Precision: 0.2711 Recall: 0.2608 F1: 0.2659\n",
     "output_type": "stream"
    },
    {
     "name": "stderr",
     "text": "[Epoch 55/100] Training: 100%|██████████| 469/469 [00:13<00:00, 35.97it/s]\n[Epoch 55/100] Validation: 100%|██████████| 59/59 [00:00<00:00, 106.33it/s]\n",
     "output_type": "stream"
    },
    {
     "name": "stdout",
     "text": "Epoch [55/100] Train Loss: 0.0775 Val Loss: 0.1148 AUC PR: 0.1842 Precision: 0.2655 Recall: 0.2752 F1: 0.2703\n",
     "output_type": "stream"
    },
    {
     "name": "stderr",
     "text": "[Epoch 56/100] Training: 100%|██████████| 469/469 [00:13<00:00, 35.65it/s]\n[Epoch 56/100] Validation: 100%|██████████| 59/59 [00:00<00:00, 104.71it/s]\n",
     "output_type": "stream"
    },
    {
     "name": "stdout",
     "text": "New best model with AUC PR: 0.1854\nEpoch [56/100] Train Loss: 0.0773 Val Loss: 0.1154 AUC PR: 0.1854 Precision: 0.2683 Recall: 0.2691 F1: 0.2687\n",
     "output_type": "stream"
    },
    {
     "name": "stderr",
     "text": "[Epoch 57/100] Training: 100%|██████████| 469/469 [00:13<00:00, 35.68it/s]\n[Epoch 57/100] Validation: 100%|██████████| 59/59 [00:00<00:00, 103.81it/s]\n",
     "output_type": "stream"
    },
    {
     "name": "stdout",
     "text": "Epoch [57/100] Train Loss: 0.0775 Val Loss: 0.1148 AUC PR: 0.1836 Precision: 0.2692 Recall: 0.2655 F1: 0.2673\n",
     "output_type": "stream"
    },
    {
     "name": "stderr",
     "text": "[Epoch 58/100] Training: 100%|██████████| 469/469 [00:13<00:00, 35.43it/s]\n[Epoch 58/100] Validation: 100%|██████████| 59/59 [00:00<00:00, 105.02it/s]\n",
     "output_type": "stream"
    },
    {
     "name": "stdout",
     "text": "New best model with AUC PR: 0.1863\nEpoch [58/100] Train Loss: 0.0769 Val Loss: 0.1146 AUC PR: 0.1863 Precision: 0.2735 Recall: 0.2641 F1: 0.2687\n",
     "output_type": "stream"
    },
    {
     "name": "stderr",
     "text": "[Epoch 59/100] Training: 100%|██████████| 469/469 [00:13<00:00, 35.55it/s]\n[Epoch 59/100] Validation: 100%|██████████| 59/59 [00:00<00:00, 105.33it/s]\n",
     "output_type": "stream"
    },
    {
     "name": "stdout",
     "text": "New best model with AUC PR: 0.1866\nEpoch [59/100] Train Loss: 0.0770 Val Loss: 0.1150 AUC PR: 0.1866 Precision: 0.2778 Recall: 0.2537 F1: 0.2652\n",
     "output_type": "stream"
    },
    {
     "name": "stderr",
     "text": "[Epoch 60/100] Training: 100%|██████████| 469/469 [00:13<00:00, 35.81it/s]\n[Epoch 60/100] Validation: 100%|██████████| 59/59 [00:00<00:00, 104.59it/s]\n",
     "output_type": "stream"
    },
    {
     "name": "stdout",
     "text": "Epoch [60/100] Train Loss: 0.0770 Val Loss: 0.1137 AUC PR: 0.1836 Precision: 0.2734 Recall: 0.2531 F1: 0.2629\n",
     "output_type": "stream"
    },
    {
     "name": "stderr",
     "text": "[Epoch 61/100] Training: 100%|██████████| 469/469 [00:13<00:00, 35.38it/s]\n[Epoch 61/100] Validation: 100%|██████████| 59/59 [00:00<00:00, 105.57it/s]\n",
     "output_type": "stream"
    },
    {
     "name": "stdout",
     "text": "New best model with AUC PR: 0.1884\nEpoch [61/100] Train Loss: 0.0768 Val Loss: 0.1137 AUC PR: 0.1884 Precision: 0.2684 Recall: 0.2786 F1: 0.2734\n",
     "output_type": "stream"
    },
    {
     "name": "stderr",
     "text": "[Epoch 62/100] Training: 100%|██████████| 469/469 [00:13<00:00, 35.65it/s]\n[Epoch 62/100] Validation: 100%|██████████| 59/59 [00:00<00:00, 104.63it/s]\n",
     "output_type": "stream"
    },
    {
     "name": "stdout",
     "text": "Epoch [62/100] Train Loss: 0.0765 Val Loss: 0.1165 AUC PR: 0.1840 Precision: 0.2657 Recall: 0.2753 F1: 0.2704\n",
     "output_type": "stream"
    },
    {
     "name": "stderr",
     "text": "[Epoch 63/100] Training: 100%|██████████| 469/469 [00:13<00:00, 35.51it/s]\n[Epoch 63/100] Validation: 100%|██████████| 59/59 [00:00<00:00, 103.31it/s]\n",
     "output_type": "stream"
    },
    {
     "name": "stdout",
     "text": "Epoch [63/100] Train Loss: 0.0765 Val Loss: 0.1141 AUC PR: 0.1872 Precision: 0.2641 Recall: 0.2871 F1: 0.2751\n",
     "output_type": "stream"
    },
    {
     "name": "stderr",
     "text": "[Epoch 64/100] Training: 100%|██████████| 469/469 [00:13<00:00, 35.71it/s]\n[Epoch 64/100] Validation: 100%|██████████| 59/59 [00:00<00:00, 104.93it/s]\n",
     "output_type": "stream"
    },
    {
     "name": "stdout",
     "text": "Epoch [64/100] Train Loss: 0.0765 Val Loss: 0.1152 AUC PR: 0.1860 Precision: 0.2700 Recall: 0.2692 F1: 0.2696\n",
     "output_type": "stream"
    },
    {
     "name": "stderr",
     "text": "[Epoch 65/100] Training: 100%|██████████| 469/469 [00:13<00:00, 35.24it/s]\n[Epoch 65/100] Validation: 100%|██████████| 59/59 [00:00<00:00, 100.61it/s]\n",
     "output_type": "stream"
    },
    {
     "name": "stdout",
     "text": "New best model with AUC PR: 0.1884\nEpoch [65/100] Train Loss: 0.0764 Val Loss: 0.1136 AUC PR: 0.1884 Precision: 0.2711 Recall: 0.2722 F1: 0.2716\n",
     "output_type": "stream"
    },
    {
     "name": "stderr",
     "text": "[Epoch 66/100] Training: 100%|██████████| 469/469 [00:13<00:00, 35.40it/s]\n[Epoch 66/100] Validation: 100%|██████████| 59/59 [00:00<00:00, 102.87it/s]\n",
     "output_type": "stream"
    },
    {
     "name": "stdout",
     "text": "Epoch [66/100] Train Loss: 0.0761 Val Loss: 0.1167 AUC PR: 0.1860 Precision: 0.2717 Recall: 0.2663 F1: 0.2690\n",
     "output_type": "stream"
    },
    {
     "name": "stderr",
     "text": "[Epoch 67/100] Training: 100%|██████████| 469/469 [00:13<00:00, 35.31it/s]\n[Epoch 67/100] Validation: 100%|██████████| 59/59 [00:00<00:00, 101.09it/s]\n",
     "output_type": "stream"
    },
    {
     "name": "stdout",
     "text": "Epoch [67/100] Train Loss: 0.0761 Val Loss: 0.1141 AUC PR: 0.1864 Precision: 0.2625 Recall: 0.2930 F1: 0.2770\n",
     "output_type": "stream"
    },
    {
     "name": "stderr",
     "text": "[Epoch 68/100] Training: 100%|██████████| 469/469 [00:13<00:00, 35.28it/s]\n[Epoch 68/100] Validation: 100%|██████████| 59/59 [00:00<00:00, 104.09it/s]\n",
     "output_type": "stream"
    },
    {
     "name": "stdout",
     "text": "Epoch [68/100] Train Loss: 0.0761 Val Loss: 0.1150 AUC PR: 0.1849 Precision: 0.2696 Recall: 0.2710 F1: 0.2703\n",
     "output_type": "stream"
    },
    {
     "name": "stderr",
     "text": "[Epoch 69/100] Training: 100%|██████████| 469/469 [00:13<00:00, 35.15it/s]\n[Epoch 69/100] Validation: 100%|██████████| 59/59 [00:00<00:00, 98.66it/s]\n",
     "output_type": "stream"
    },
    {
     "name": "stdout",
     "text": "Epoch [69/100] Train Loss: 0.0760 Val Loss: 0.1143 AUC PR: 0.1883 Precision: 0.2749 Recall: 0.2671 F1: 0.2709\n",
     "output_type": "stream"
    },
    {
     "name": "stderr",
     "text": "[Epoch 70/100] Training: 100%|██████████| 469/469 [00:13<00:00, 35.57it/s]\n[Epoch 70/100] Validation: 100%|██████████| 59/59 [00:00<00:00, 104.48it/s]\n",
     "output_type": "stream"
    },
    {
     "name": "stdout",
     "text": "Epoch [70/100] Train Loss: 0.0763 Val Loss: 0.1156 AUC PR: 0.1873 Precision: 0.2725 Recall: 0.2738 F1: 0.2731\n",
     "output_type": "stream"
    },
    {
     "name": "stderr",
     "text": "[Epoch 71/100] Training: 100%|██████████| 469/469 [00:13<00:00, 35.44it/s]\n[Epoch 71/100] Validation: 100%|██████████| 59/59 [00:00<00:00, 100.60it/s]\n",
     "output_type": "stream"
    },
    {
     "name": "stdout",
     "text": "Epoch [71/100] Train Loss: 0.0758 Val Loss: 0.1154 AUC PR: 0.1873 Precision: 0.2708 Recall: 0.2718 F1: 0.2713\n",
     "output_type": "stream"
    },
    {
     "name": "stderr",
     "text": "[Epoch 72/100] Training: 100%|██████████| 469/469 [00:13<00:00, 35.47it/s]\n[Epoch 72/100] Validation: 100%|██████████| 59/59 [00:00<00:00, 103.57it/s]\n",
     "output_type": "stream"
    },
    {
     "name": "stdout",
     "text": "Epoch [72/100] Train Loss: 0.0757 Val Loss: 0.1146 AUC PR: 0.1856 Precision: 0.2560 Recall: 0.3108 F1: 0.2808\n",
     "output_type": "stream"
    },
    {
     "name": "stderr",
     "text": "[Epoch 73/100] Training: 100%|██████████| 469/469 [00:13<00:00, 35.41it/s]\n[Epoch 73/100] Validation: 100%|██████████| 59/59 [00:00<00:00, 104.25it/s]\n",
     "output_type": "stream"
    },
    {
     "name": "stdout",
     "text": "Epoch [73/100] Train Loss: 0.0756 Val Loss: 0.1147 AUC PR: 0.1862 Precision: 0.2548 Recall: 0.3153 F1: 0.2818\n",
     "output_type": "stream"
    },
    {
     "name": "stderr",
     "text": "[Epoch 74/100] Training: 100%|██████████| 469/469 [00:13<00:00, 35.48it/s]\n[Epoch 74/100] Validation: 100%|██████████| 59/59 [00:00<00:00, 103.73it/s]\n[Epoch 77/100] Training: 100%|██████████| 469/469 [00:13<00:00, 35.23it/s]\n[Epoch 77/100] Validation: 100%|██████████| 59/59 [00:00<00:00, 105.49it/s]\n",
     "output_type": "stream"
    },
    {
     "name": "stdout",
     "text": "Epoch [77/100] Train Loss: 0.0752 Val Loss: 0.1155 AUC PR: 0.1871 Precision: 0.2715 Recall: 0.2740 F1: 0.2727\n",
     "output_type": "stream"
    },
    {
     "name": "stderr",
     "text": "[Epoch 78/100] Training: 100%|██████████| 469/469 [00:13<00:00, 35.32it/s]\n[Epoch 78/100] Validation: 100%|██████████| 59/59 [00:00<00:00, 105.15it/s]\n",
     "output_type": "stream"
    },
    {
     "name": "stdout",
     "text": "Epoch [78/100] Train Loss: 0.0753 Val Loss: 0.1149 AUC PR: 0.1867 Precision: 0.2663 Recall: 0.2849 F1: 0.2753\n",
     "output_type": "stream"
    },
    {
     "name": "stderr",
     "text": "[Epoch 79/100] Training: 100%|██████████| 469/469 [00:13<00:00, 35.76it/s]\n[Epoch 79/100] Validation: 100%|██████████| 59/59 [00:00<00:00, 105.73it/s]\n",
     "output_type": "stream"
    },
    {
     "name": "stdout",
     "text": "Epoch [79/100] Train Loss: 0.0753 Val Loss: 0.1151 AUC PR: 0.1864 Precision: 0.2634 Recall: 0.2929 F1: 0.2773\n",
     "output_type": "stream"
    },
    {
     "name": "stderr",
     "text": "[Epoch 80/100] Training: 100%|██████████| 469/469 [00:13<00:00, 35.86it/s]\n[Epoch 80/100] Validation: 100%|██████████| 59/59 [00:00<00:00, 104.39it/s]\n",
     "output_type": "stream"
    },
    {
     "name": "stdout",
     "text": "Epoch [80/100] Train Loss: 0.0753 Val Loss: 0.1156 AUC PR: 0.1867 Precision: 0.2605 Recall: 0.3052 F1: 0.2811\n",
     "output_type": "stream"
    },
    {
     "name": "stderr",
     "text": "[Epoch 81/100] Training: 100%|██████████| 469/469 [00:13<00:00, 35.18it/s]\n[Epoch 81/100] Validation: 100%|██████████| 59/59 [00:00<00:00, 104.34it/s]\n",
     "output_type": "stream"
    },
    {
     "name": "stdout",
     "text": "New best model with AUC PR: 0.1902\nEpoch [81/100] Train Loss: 0.0750 Val Loss: 0.1156 AUC PR: 0.1902 Precision: 0.2749 Recall: 0.2668 F1: 0.2708\n",
     "output_type": "stream"
    },
    {
     "name": "stderr",
     "text": "[Epoch 82/100] Training: 100%|██████████| 469/469 [00:13<00:00, 35.39it/s]\n[Epoch 82/100] Validation: 100%|██████████| 59/59 [00:00<00:00, 102.89it/s]\n",
     "output_type": "stream"
    },
    {
     "name": "stdout",
     "text": "Epoch [82/100] Train Loss: 0.0752 Val Loss: 0.1155 AUC PR: 0.1882 Precision: 0.2692 Recall: 0.2760 F1: 0.2726\n",
     "output_type": "stream"
    },
    {
     "name": "stderr",
     "text": "[Epoch 83/100] Training: 100%|██████████| 469/469 [00:13<00:00, 35.48it/s]\n[Epoch 83/100] Validation: 100%|██████████| 59/59 [00:00<00:00, 106.13it/s]\n",
     "output_type": "stream"
    },
    {
     "name": "stdout",
     "text": "Epoch [83/100] Train Loss: 0.0748 Val Loss: 0.1151 AUC PR: 0.1893 Precision: 0.2636 Recall: 0.2975 F1: 0.2795\n",
     "output_type": "stream"
    },
    {
     "name": "stderr",
     "text": "[Epoch 84/100] Training: 100%|██████████| 469/469 [00:13<00:00, 35.85it/s]\n[Epoch 84/100] Validation: 100%|██████████| 59/59 [00:00<00:00, 104.94it/s]\n",
     "output_type": "stream"
    },
    {
     "name": "stdout",
     "text": "Epoch [84/100] Train Loss: 0.0747 Val Loss: 0.1151 AUC PR: 0.1890 Precision: 0.2743 Recall: 0.2664 F1: 0.2703\n",
     "output_type": "stream"
    },
    {
     "name": "stderr",
     "text": "[Epoch 85/100] Training: 100%|██████████| 469/469 [00:13<00:00, 35.74it/s]\n[Epoch 85/100] Validation: 100%|██████████| 59/59 [00:00<00:00, 103.30it/s]\n",
     "output_type": "stream"
    },
    {
     "name": "stdout",
     "text": "Epoch [85/100] Train Loss: 0.0748 Val Loss: 0.1157 AUC PR: 0.1899 Precision: 0.2684 Recall: 0.2850 F1: 0.2765\n",
     "output_type": "stream"
    },
    {
     "name": "stderr",
     "text": "[Epoch 86/100] Training: 100%|██████████| 469/469 [00:13<00:00, 35.72it/s]\n[Epoch 86/100] Validation: 100%|██████████| 59/59 [00:00<00:00, 104.34it/s]\n",
     "output_type": "stream"
    },
    {
     "name": "stdout",
     "text": "Epoch [86/100] Train Loss: 0.0746 Val Loss: 0.1155 AUC PR: 0.1888 Precision: 0.2664 Recall: 0.2829 F1: 0.2744\n",
     "output_type": "stream"
    },
    {
     "name": "stderr",
     "text": "[Epoch 87/100] Training: 100%|██████████| 469/469 [00:13<00:00, 35.89it/s]\n[Epoch 87/100] Validation: 100%|██████████| 59/59 [00:00<00:00, 104.89it/s]\n",
     "output_type": "stream"
    },
    {
     "name": "stdout",
     "text": "Epoch [87/100] Train Loss: 0.0743 Val Loss: 0.1150 AUC PR: 0.1893 Precision: 0.2678 Recall: 0.2803 F1: 0.2739\n",
     "output_type": "stream"
    },
    {
     "name": "stderr",
     "text": "[Epoch 88/100] Training: 100%|██████████| 469/469 [00:13<00:00, 35.72it/s]\n[Epoch 88/100] Validation: 100%|██████████| 59/59 [00:00<00:00, 103.92it/s]\n",
     "output_type": "stream"
    },
    {
     "name": "stdout",
     "text": "Epoch [88/100] Train Loss: 0.0746 Val Loss: 0.1169 AUC PR: 0.1898 Precision: 0.2689 Recall: 0.2802 F1: 0.2744\n",
     "output_type": "stream"
    },
    {
     "name": "stderr",
     "text": "[Epoch 89/100] Training: 100%|██████████| 469/469 [00:13<00:00, 35.31it/s]\n[Epoch 89/100] Validation: 100%|██████████| 59/59 [00:00<00:00, 103.05it/s]\n",
     "output_type": "stream"
    },
    {
     "name": "stdout",
     "text": "Epoch [89/100] Train Loss: 0.0744 Val Loss: 0.1155 AUC PR: 0.1876 Precision: 0.2614 Recall: 0.2996 F1: 0.2792\n",
     "output_type": "stream"
    },
    {
     "name": "stderr",
     "text": "[Epoch 90/100] Training: 100%|██████████| 469/469 [00:13<00:00, 35.62it/s]\n[Epoch 90/100] Validation: 100%|██████████| 59/59 [00:00<00:00, 105.04it/s]\n",
     "output_type": "stream"
    },
    {
     "name": "stdout",
     "text": "Epoch [90/100] Train Loss: 0.0743 Val Loss: 0.1162 AUC PR: 0.1877 Precision: 0.2642 Recall: 0.2870 F1: 0.2752\n",
     "output_type": "stream"
    },
    {
     "name": "stderr",
     "text": "[Epoch 91/100] Training: 100%|██████████| 469/469 [00:13<00:00, 35.72it/s]\n[Epoch 91/100] Validation: 100%|██████████| 59/59 [00:00<00:00, 105.24it/s]\n",
     "output_type": "stream"
    },
    {
     "name": "stdout",
     "text": "Epoch [91/100] Train Loss: 0.0747 Val Loss: 0.1156 AUC PR: 0.1874 Precision: 0.2682 Recall: 0.2845 F1: 0.2761\n",
     "output_type": "stream"
    },
    {
     "name": "stderr",
     "text": "[Epoch 92/100] Training: 100%|██████████| 469/469 [00:13<00:00, 36.00it/s]\n[Epoch 92/100] Validation: 100%|██████████| 59/59 [00:00<00:00, 104.12it/s]\n",
     "output_type": "stream"
    },
    {
     "name": "stdout",
     "text": "Epoch [92/100] Train Loss: 0.0744 Val Loss: 0.1143 AUC PR: 0.1899 Precision: 0.2737 Recall: 0.2665 F1: 0.2701\n",
     "output_type": "stream"
    },
    {
     "name": "stderr",
     "text": "[Epoch 93/100] Training: 100%|██████████| 469/469 [00:13<00:00, 35.88it/s]\n[Epoch 93/100] Validation: 100%|██████████| 59/59 [00:00<00:00, 104.38it/s]\n",
     "output_type": "stream"
    },
    {
     "name": "stdout",
     "text": "New best model with AUC PR: 0.1905\nEpoch [93/100] Train Loss: 0.0740 Val Loss: 0.1146 AUC PR: 0.1905 Precision: 0.2635 Recall: 0.3023 F1: 0.2816\n",
     "output_type": "stream"
    },
    {
     "name": "stderr",
     "text": "[Epoch 94/100] Training: 100%|██████████| 469/469 [00:13<00:00, 35.65it/s]\n[Epoch 94/100] Validation: 100%|██████████| 59/59 [00:00<00:00, 103.86it/s]\n",
     "output_type": "stream"
    },
    {
     "name": "stdout",
     "text": "Epoch [94/100] Train Loss: 0.0742 Val Loss: 0.1165 AUC PR: 0.1904 Precision: 0.2688 Recall: 0.2861 F1: 0.2772\n",
     "output_type": "stream"
    },
    {
     "name": "stderr",
     "text": "[Epoch 95/100] Training: 100%|██████████| 469/469 [00:13<00:00, 35.93it/s]\n[Epoch 95/100] Validation: 100%|██████████| 59/59 [00:00<00:00, 105.64it/s]\n",
     "output_type": "stream"
    },
    {
     "name": "stdout",
     "text": "New best model with AUC PR: 0.1905\nEpoch [95/100] Train Loss: 0.0740 Val Loss: 0.1161 AUC PR: 0.1905 Precision: 0.2772 Recall: 0.2636 F1: 0.2702\n",
     "output_type": "stream"
    },
    {
     "name": "stderr",
     "text": "[Epoch 96/100] Training: 100%|██████████| 469/469 [00:13<00:00, 35.33it/s]\n[Epoch 96/100] Validation: 100%|██████████| 59/59 [00:00<00:00, 101.28it/s]\n",
     "output_type": "stream"
    },
    {
     "name": "stdout",
     "text": "Epoch [96/100] Train Loss: 0.0740 Val Loss: 0.1158 AUC PR: 0.1886 Precision: 0.2714 Recall: 0.2685 F1: 0.2699\n",
     "output_type": "stream"
    },
    {
     "name": "stderr",
     "text": "[Epoch 97/100] Training: 100%|██████████| 469/469 [00:13<00:00, 35.60it/s]\n[Epoch 97/100] Validation: 100%|██████████| 59/59 [00:00<00:00, 103.96it/s]\n",
     "output_type": "stream"
    },
    {
     "name": "stdout",
     "text": "Epoch [97/100] Train Loss: 0.0742 Val Loss: 0.1158 AUC PR: 0.1895 Precision: 0.2665 Recall: 0.2845 F1: 0.2752\n",
     "output_type": "stream"
    },
    {
     "name": "stderr",
     "text": "[Epoch 98/100] Training: 100%|██████████| 469/469 [00:13<00:00, 35.42it/s]\n[Epoch 98/100] Validation: 100%|██████████| 59/59 [00:00<00:00, 104.37it/s]\n",
     "output_type": "stream"
    },
    {
     "name": "stdout",
     "text": "New best model with AUC PR: 0.1927\nEpoch [98/100] Train Loss: 0.0738 Val Loss: 0.1160 AUC PR: 0.1927 Precision: 0.2693 Recall: 0.2897 F1: 0.2791\n",
     "output_type": "stream"
    },
    {
     "name": "stderr",
     "text": "[Epoch 99/100] Training: 100%|██████████| 469/469 [00:13<00:00, 35.83it/s]\n[Epoch 99/100] Validation: 100%|██████████| 59/59 [00:00<00:00, 105.62it/s]\n",
     "output_type": "stream"
    },
    {
     "name": "stdout",
     "text": "Epoch [99/100] Train Loss: 0.0740 Val Loss: 0.1163 AUC PR: 0.1892 Precision: 0.2744 Recall: 0.2630 F1: 0.2686\n",
     "output_type": "stream"
    },
    {
     "name": "stderr",
     "text": "[Epoch 100/100] Training: 100%|██████████| 469/469 [00:13<00:00, 35.78it/s]\n[Epoch 100/100] Validation: 100%|██████████| 59/59 [00:00<00:00, 104.91it/s]\n",
     "output_type": "stream"
    },
    {
     "name": "stdout",
     "text": "Epoch [100/100] Train Loss: 0.0738 Val Loss: 0.1167 AUC PR: 0.1898 Precision: 0.2807 Recall: 0.2472 F1: 0.2629\n\nFinal Model Performance:\nAUC PR: 0.1898\nPrecision: 0.2807\nRecall: 0.2472\nF1 Score: 0.2629\n",
     "output_type": "stream"
    }
   ],
   "execution_count": 25
  },
  {
   "cell_type": "code",
   "source": "plot_training_history(history)",
   "metadata": {
    "trusted": true,
    "execution": {
     "iopub.status.busy": "2025-04-22T16:00:26.911240Z",
     "iopub.execute_input": "2025-04-22T16:00:26.911719Z",
     "iopub.status.idle": "2025-04-22T16:00:27.422696Z",
     "shell.execute_reply.started": "2025-04-22T16:00:26.911696Z",
     "shell.execute_reply": "2025-04-22T16:00:27.422021Z"
    }
   },
   "outputs": [
    {
     "output_type": "display_data",
     "data": {
      "text/plain": "<Figure size 1200x500 with 2 Axes>",
      "image/png": "[encoded data removed]"
     },
     "metadata": {}
    }
   ],
   "execution_count": 26
  },
  {
   "cell_type": "code",
   "source": "save_model(model2_trained, 'model_init32_state.pth')",
   "metadata": {
    "trusted": true,
    "execution": {
     "iopub.status.busy": "2025-04-22T16:09:29.387081Z",
     "iopub.execute_input": "2025-04-22T16:09:29.387419Z",
     "iopub.status.idle": "2025-04-22T16:09:29.408357Z",
     "shell.execute_reply.started": "2025-04-22T16:09:29.387390Z",
     "shell.execute_reply": "2025-04-22T16:09:29.407298Z"
    }
   },
   "outputs": [
    {
     "name": "stdout",
     "text": "Model state_dict saved to models/model_init32_state.pth\n",
     "output_type": "stream"
    }
   ],
   "execution_count": 35
  },
  {
   "cell_type": "code",
   "source": "model = Autoencoder(**params_config)\nmodel.load_state_dict(torch.load('models/model_init32_state.pth', weights_only=True))\nmodel.to(device)\nmodel.eval()  # Set to evaluation mode (important for inference)",
   "metadata": {
    "trusted": true,
    "execution": {
     "iopub.status.busy": "2025-04-22T16:26:15.783439Z",
     "iopub.execute_input": "2025-04-22T16:26:15.784022Z",
     "iopub.status.idle": "2025-04-22T16:26:15.828306Z",
     "shell.execute_reply.started": "2025-04-22T16:26:15.784000Z",
     "shell.execute_reply": "2025-04-22T16:26:15.827751Z"
    }
   },
   "outputs": [
    {
     "execution_count": 39,
     "output_type": "execute_result",
     "data": {
      "text/plain": "Autoencoder(\n  (input_conv): Sequential(\n    (0): Conv2d(12, 32, kernel_size=(3, 3), stride=(1, 1), padding=(1, 1))\n    (1): BatchNorm2d(32, eps=1e-05, momentum=0.1, affine=True, track_running_stats=True)\n    (2): LeakyReLU(negative_slope=0.01)\n    (3): Dropout2d(p=0.1, inplace=False)\n    (4): Conv2d(32, 32, kernel_size=(3, 3), stride=(1, 1), padding=(1, 1))\n    (5): Dropout2d(p=0.1, inplace=False)\n  )\n  (input_shortcut): Sequential(\n    (0): Conv2d(12, 32, kernel_size=(1, 1), stride=(1, 1))\n    (1): BatchNorm2d(32, eps=1e-05, momentum=0.1, affine=True, track_running_stats=True)\n    (2): Dropout2d(p=0.1, inplace=False)\n  )\n  (encoder_blocks): ModuleList(\n    (0): ResBlock3(\n      (net): Sequential(\n        (0): BatchNorm2d(32, eps=1e-05, momentum=0.1, affine=True, track_running_stats=True)\n        (1): LeakyReLU(negative_slope=0.01)\n        (2): Dropout2d(p=0.1, inplace=False)\n        (3): MaxPool2d(kernel_size=2, stride=2, padding=0, dilation=1, ceil_mode=False)\n        (4): Conv2d(32, 16, kernel_size=(1, 1), stride=(1, 1))\n        (5): BatchNorm2d(16, eps=1e-05, momentum=0.1, affine=True, track_running_stats=True)\n        (6): LeakyReLU(negative_slope=0.01)\n        (7): Dropout2d(p=0.1, inplace=False)\n        (8): Conv2d(16, 16, kernel_size=(3, 3), stride=(1, 1), padding=(1, 1))\n        (9): Dropout2d(p=0.1, inplace=False)\n      )\n      (shortcut): Sequential(\n        (0): Conv2d(32, 16, kernel_size=(1, 1), stride=(2, 2))\n        (1): BatchNorm2d(16, eps=1e-05, momentum=0.1, affine=True, track_running_stats=True)\n        (2): Dropout(p=0.1, inplace=False)\n      )\n    )\n    (1): ResBlock3(\n      (net): Sequential(\n        (0): BatchNorm2d(16, eps=1e-05, momentum=0.1, affine=True, track_running_stats=True)\n        (1): LeakyReLU(negative_slope=0.01)\n        (2): Dropout2d(p=0.1, inplace=False)\n        (3): MaxPool2d(kernel_size=2, stride=2, padding=0, dilation=1, ceil_mode=False)\n        (4): Conv2d(16, 32, kernel_size=(1, 1), stride=(1, 1))\n        (5): BatchNorm2d(32, eps=1e-05, momentum=0.1, affine=True, track_running_stats=True)\n        (6): LeakyReLU(negative_slope=0.01)\n        (7): Dropout2d(p=0.1, inplace=False)\n        (8): Conv2d(32, 32, kernel_size=(3, 3), stride=(1, 1), padding=(1, 1))\n        (9): Dropout2d(p=0.1, inplace=False)\n      )\n      (shortcut): Sequential(\n        (0): Conv2d(16, 32, kernel_size=(1, 1), stride=(2, 2))\n        (1): BatchNorm2d(32, eps=1e-05, momentum=0.1, affine=True, track_running_stats=True)\n        (2): Dropout(p=0.1, inplace=False)\n      )\n    )\n  )\n  (bottleneck): ResBlock3(\n    (net): Sequential(\n      (0): BatchNorm2d(32, eps=1e-05, momentum=0.1, affine=True, track_running_stats=True)\n      (1): LeakyReLU(negative_slope=0.01)\n      (2): Dropout2d(p=0.1, inplace=False)\n      (3): Conv2d(32, 32, kernel_size=(3, 3), stride=(1, 1), padding=(1, 1))\n      (4): BatchNorm2d(32, eps=1e-05, momentum=0.1, affine=True, track_running_stats=True)\n      (5): LeakyReLU(negative_slope=0.01)\n      (6): Dropout2d(p=0.1, inplace=False)\n      (7): Conv2d(32, 32, kernel_size=(3, 3), stride=(1, 1), padding=(1, 1))\n      (8): Dropout2d(p=0.1, inplace=False)\n    )\n    (shortcut): Sequential(\n      (0): Conv2d(32, 32, kernel_size=(1, 1), stride=(1, 1))\n      (1): BatchNorm2d(32, eps=1e-05, momentum=0.1, affine=True, track_running_stats=True)\n      (2): Dropout(p=0.1, inplace=False)\n    )\n  )\n  (decoder_blocks): ModuleList(\n    (0): Sequential(\n      (0): Upsample(scale_factor=2.0, mode='nearest')\n      (1): ResBlock3(\n        (net): Sequential(\n          (0): BatchNorm2d(32, eps=1e-05, momentum=0.1, affine=True, track_running_stats=True)\n          (1): LeakyReLU(negative_slope=0.01)\n          (2): Dropout2d(p=0.1, inplace=False)\n          (3): Conv2d(32, 32, kernel_size=(3, 3), stride=(1, 1), padding=(1, 1))\n          (4): BatchNorm2d(32, eps=1e-05, momentum=0.1, affine=True, track_running_stats=True)\n          (5): LeakyReLU(negative_slope=0.01)\n          (6): Dropout2d(p=0.1, inplace=False)\n          (7): Conv2d(32, 32, kernel_size=(3, 3), stride=(1, 1), padding=(1, 1))\n          (8): Dropout2d(p=0.1, inplace=False)\n        )\n        (shortcut): Sequential(\n          (0): Conv2d(32, 32, kernel_size=(1, 1), stride=(1, 1))\n          (1): BatchNorm2d(32, eps=1e-05, momentum=0.1, affine=True, track_running_stats=True)\n          (2): Dropout(p=0.1, inplace=False)\n        )\n      )\n    )\n    (1): Sequential(\n      (0): Upsample(scale_factor=2.0, mode='nearest')\n      (1): ResBlock3(\n        (net): Sequential(\n          (0): BatchNorm2d(32, eps=1e-05, momentum=0.1, affine=True, track_running_stats=True)\n          (1): LeakyReLU(negative_slope=0.01)\n          (2): Dropout2d(p=0.1, inplace=False)\n          (3): Conv2d(32, 16, kernel_size=(3, 3), stride=(1, 1), padding=(1, 1))\n          (4): BatchNorm2d(16, eps=1e-05, momentum=0.1, affine=True, track_running_stats=True)\n          (5): LeakyReLU(negative_slope=0.01)\n          (6): Dropout2d(p=0.1, inplace=False)\n          (7): Conv2d(16, 16, kernel_size=(3, 3), stride=(1, 1), padding=(1, 1))\n          (8): Dropout2d(p=0.1, inplace=False)\n        )\n        (shortcut): Sequential(\n          (0): Conv2d(32, 16, kernel_size=(1, 1), stride=(1, 1))\n          (1): BatchNorm2d(16, eps=1e-05, momentum=0.1, affine=True, track_running_stats=True)\n          (2): Dropout(p=0.1, inplace=False)\n        )\n      )\n    )\n  )\n  (output_conv): Conv2d(16, 1, kernel_size=(1, 1), stride=(1, 1))\n)"
     },
     "metadata": {}
    }
   ],
   "execution_count": 39
  },
  {
   "cell_type": "code",
   "source": "metrics = evaluate_model_metrics(model, test_loader, threshold=0.5, device=device)\nprint(\"Test Metrics:\")\nfor k, v in metrics.items():\n    print(f\"{k}: {v:.4f}\")\n",
   "metadata": {
    "trusted": true,
    "execution": {
     "iopub.status.busy": "2025-04-22T16:26:19.999736Z",
     "iopub.execute_input": "2025-04-22T16:26:20.000010Z",
     "iopub.status.idle": "2025-04-22T16:26:40.173026Z",
     "shell.execute_reply.started": "2025-04-22T16:26:19.999993Z",
     "shell.execute_reply": "2025-04-22T16:26:40.172220Z"
    }
   },
   "outputs": [
    {
     "name": "stdout",
     "text": "Test Metrics:\nauc_pr: 0.2451\nprecision: 0.3373\nrecall: 0.3297\nf1_score: 0.3335\n",
     "output_type": "stream"
    }
   ],
   "execution_count": 40
  }
 ]
}

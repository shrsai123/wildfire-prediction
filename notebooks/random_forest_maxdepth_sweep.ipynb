{
 "metadata": {
  "kernelspec": {
   "language": "python",
   "display_name": "Python 3",
   "name": "python3"
  },
  "language_info": {
   "name": "python",
   "version": "3.11.11",
   "mimetype": "text/x-python",
   "codemirror_mode": {
    "name": "ipython",
    "version": 3
   },
   "pygments_lexer": "ipython3",
   "nbconvert_exporter": "python",
   "file_extension": ".py"
  },
  "kaggle": {
   "accelerator": "none",
   "dataSources": [
    {
     "sourceId": 2824184,
     "sourceType": "datasetVersion",
     "datasetId": 1726926
    }
   ],
   "dockerImageVersionId": 31012,
   "isInternetEnabled": true,
   "language": "python",
   "sourceType": "notebook",
   "isGpuEnabled": false
  }
 },
 "nbformat_minor": 4,
 "nbformat": 4,
 "cells": [
  {
   "metadata": {
    "ExecuteTime": {
     "end_time": "2025-04-24T18:57:33.020028Z",
     "start_time": "2025-04-24T18:57:09.906854Z"
    }
   },
   "cell_type": "code",
   "source": [
    "import tensorflow as tf\n",
    "from sklearn.ensemble import RandomForestClassifier\n",
    "from sklearn.model_selection import GridSearchCV\n",
    "from sklearn.utils.class_weight import compute_sample_weight\n",
    "from sklearn.metrics import average_precision_score\n",
    "import matplotlib.pyplot as plt\n",
    "\n",
    "import numpy as np"
   ],
   "outputs": [],
   "execution_count": 6
  },
  {
   "cell_type": "code",
   "source": "INPUT_FEATURES = ['elevation', 'th', 'vs',  'tmmn', 'tmmx', 'sph',\n                  'pr', 'pdsi', 'NDVI', 'population', 'erc', 'PrevFireMask']\nOUTPUT_FEATURES = ['FireMask']",
   "metadata": {
    "_uuid": "8f2839f25d086af736a60e9eeb907d3b93b6e0e5",
    "_cell_guid": "b1076dfc-b9ad-4769-8c92-a6c4dae69d19",
    "trusted": true,
    "execution": {
     "iopub.status.busy": "2025-04-24T04:32:42.287999Z",
     "iopub.execute_input": "2025-04-24T04:32:42.288339Z",
     "iopub.status.idle": "2025-04-24T04:32:42.294371Z",
     "shell.execute_reply.started": "2025-04-24T04:32:42.288313Z",
     "shell.execute_reply": "2025-04-24T04:32:42.293062Z"
    },
    "ExecuteTime": {
     "end_time": "2025-04-24T18:57:33.026032Z",
     "start_time": "2025-04-24T18:57:33.022628Z"
    }
   },
   "outputs": [],
   "execution_count": 7
  },
  {
   "cell_type": "code",
   "source": [
    "train_file = '../data/next_day_wildfire_spread_train*'\n",
    "validation_file = '../data/next_day_wildfire_spread_eval*'\n",
    "test_file = '../data/next_day_wildfire_spread_test*'"
   ],
   "metadata": {
    "trusted": true,
    "execution": {
     "iopub.status.busy": "2025-04-24T04:32:42.910837Z",
     "iopub.execute_input": "2025-04-24T04:32:42.911669Z",
     "iopub.status.idle": "2025-04-24T04:32:42.917530Z",
     "shell.execute_reply.started": "2025-04-24T04:32:42.911643Z",
     "shell.execute_reply": "2025-04-24T04:32:42.916263Z"
    },
    "ExecuteTime": {
     "end_time": "2025-04-24T18:57:33.029413Z",
     "start_time": "2025-04-24T18:57:33.027219Z"
    }
   },
   "outputs": [],
   "execution_count": 8
  },
  {
   "cell_type": "code",
   "source": "def normalize_feature(feature, feature_name):\n    \"\"\" Normalize features except 'PrevFireMask'. \"\"\"\n    if feature_name == 'PrevFireMask':\n        return feature\n    else:\n        return (feature - tf.reduce_mean(feature)) / (tf.math.reduce_std(feature) + 1e-6)\n\ndef _parse_function(example_proto):\n    \"\"\" Parses TFRecord into tensors and normalizes features. \"\"\"\n    feature_description = {feat: tf.io.FixedLenFeature([64, 64], tf.float32) for feat in INPUT_FEATURES + OUTPUT_FEATURES}\n\n    parsed_example = tf.io.parse_single_example(example_proto, feature_description)\n\n    inputs_list = [normalize_feature(tf.expand_dims(parsed_example[feat], -1), feat) for feat in INPUT_FEATURES]\n    inputs = tf.concat(inputs_list, axis=-1)  # Convert to NumPy\n\n    label = tf.expand_dims(parsed_example['FireMask'], -1)  # Shape: [64, 64, 1]\n    label = tf.where(label < 0, 0.0, label)\n    label = tf.where(label > 0, 1.0, label)\n\n    return inputs, label",
   "metadata": {
    "trusted": true,
    "execution": {
     "iopub.status.busy": "2025-04-24T04:32:43.418635Z",
     "iopub.execute_input": "2025-04-24T04:32:43.418988Z",
     "iopub.status.idle": "2025-04-24T04:32:43.426476Z",
     "shell.execute_reply.started": "2025-04-24T04:32:43.418947Z",
     "shell.execute_reply": "2025-04-24T04:32:43.425401Z"
    },
    "ExecuteTime": {
     "end_time": "2025-04-24T18:57:33.034692Z",
     "start_time": "2025-04-24T18:57:33.031117Z"
    }
   },
   "outputs": [],
   "execution_count": 9
  },
  {
   "cell_type": "code",
   "source": [
    "def get_tensorflow_dataset(file_pattern):\n",
    "    dataset = tf.data.Dataset.list_files(file_pattern)\n",
    "    dataset = dataset.interleave(lambda x: tf.data.TFRecordDataset(x), num_parallel_calls=tf.data.AUTOTUNE)\n",
    "    dataset = dataset.map(_parse_function, num_parallel_calls=tf.data.AUTOTUNE)\n",
    "    return dataset\n",
    "\n",
    "# Convert train, validation, and test datasets\n",
    "train_numpy = get_tensorflow_dataset(train_file)\n",
    "val_numpy = get_tensorflow_dataset(validation_file)\n",
    "test_numpy = get_tensorflow_dataset(test_file)"
   ],
   "metadata": {
    "trusted": true,
    "execution": {
     "iopub.status.busy": "2025-04-24T04:32:46.779041Z",
     "iopub.execute_input": "2025-04-24T04:32:46.779362Z",
     "iopub.status.idle": "2025-04-24T04:32:58.201273Z",
     "shell.execute_reply.started": "2025-04-24T04:32:46.779341Z",
     "shell.execute_reply": "2025-04-24T04:32:58.200039Z"
    },
    "ExecuteTime": {
     "end_time": "2025-04-24T18:57:33.250321Z",
     "start_time": "2025-04-24T18:57:33.036567Z"
    }
   },
   "outputs": [],
   "execution_count": 10
  },
  {
   "cell_type": "code",
   "source": [
    "def convert_to_numpy(dataset):\n",
    "    \"\"\" Convert TensorFlow dataset to NumPy arrays formatted for scikit-learn. \"\"\"\n",
    "    X, y = [], []\n",
    "    for inputs, label in dataset:\n",
    "        inputs = inputs.numpy()  # Convert to NumPy\n",
    "        label = label.numpy()\n",
    "\n",
    "        # Flatten from (64, 64, num_features) to (64*64, num_features)\n",
    "        inputs = inputs.reshape(-1, inputs.shape[-1])\n",
    "        label = label.reshape(-1)  # Flatten labels from (64, 64, 1) to (64*64,)\n",
    "\n",
    "        X.append(inputs)\n",
    "        y.append(label)\n",
    "\n",
    "    # Concatenate all samples\n",
    "    X = np.vstack(X)\n",
    "    y = np.hstack(y)\n",
    "\n",
    "    return X, y\n",
    "X_train, y_train = convert_to_numpy(train_numpy)\n",
    "X_val, y_val = convert_to_numpy(val_numpy)\n",
    "X_test, y_test = convert_to_numpy(test_numpy)"
   ],
   "metadata": {
    "trusted": true,
    "execution": {
     "iopub.status.busy": "2025-04-24T04:32:58.202776Z",
     "iopub.execute_input": "2025-04-24T04:32:58.203098Z",
     "iopub.status.idle": "2025-04-24T04:33:20.543840Z",
     "shell.execute_reply.started": "2025-04-24T04:32:58.203073Z",
     "shell.execute_reply": "2025-04-24T04:33:20.542167Z"
    },
    "ExecuteTime": {
     "end_time": "2025-04-24T18:57:39.387498Z",
     "start_time": "2025-04-24T18:57:33.253447Z"
    }
   },
   "outputs": [
    {
     "name": "stderr",
     "output_type": "stream",
     "text": [
      "2025-04-24 14:57:35.971120: I tensorflow/core/framework/local_rendezvous.cc:407] Local rendezvous is aborting with status: OUT_OF_RANGE: End of sequence\n"
     ]
    }
   ],
   "execution_count": 11
  },
  {
   "cell_type": "code",
   "source": "sample_weights = compute_sample_weight('balanced', y_train)",
   "metadata": {
    "trusted": true,
    "execution": {
     "iopub.status.busy": "2025-04-24T04:33:22.000338Z",
     "iopub.execute_input": "2025-04-24T04:33:22.001108Z",
     "iopub.status.idle": "2025-04-24T04:33:29.202687Z",
     "shell.execute_reply.started": "2025-04-24T04:33:22.001081Z",
     "shell.execute_reply": "2025-04-24T04:33:29.201763Z"
    },
    "ExecuteTime": {
     "end_time": "2025-04-24T18:57:45.656626Z",
     "start_time": "2025-04-24T18:57:39.389113Z"
    }
   },
   "outputs": [],
   "execution_count": 12
  },
  {
   "cell_type": "code",
   "source": "param_grid = {'max_depth': [5, 10, 15, 20, None]}",
   "metadata": {
    "trusted": true,
    "execution": {
     "iopub.status.busy": "2025-04-24T01:31:22.096029Z",
     "iopub.execute_input": "2025-04-24T01:31:22.096568Z",
     "iopub.status.idle": "2025-04-24T01:31:22.100773Z",
     "shell.execute_reply.started": "2025-04-24T01:31:22.096547Z",
     "shell.execute_reply": "2025-04-24T01:31:22.099753Z"
    },
    "ExecuteTime": {
     "end_time": "2025-04-24T18:57:45.659818Z",
     "start_time": "2025-04-24T18:57:45.657752Z"
    }
   },
   "outputs": [],
   "execution_count": 13
  },
  {
   "cell_type": "code",
   "source": "rf = RandomForestClassifier(\n    n_estimators=10,          \n    min_samples_split=5,\n    min_samples_leaf=2,\n    max_features='sqrt',\n    bootstrap=True,\n    n_jobs=2,                 \n    random_state=42\n)",
   "metadata": {
    "trusted": true,
    "execution": {
     "iopub.status.busy": "2025-04-24T01:31:30.895149Z",
     "iopub.execute_input": "2025-04-24T01:31:30.895940Z",
     "iopub.status.idle": "2025-04-24T01:31:30.899631Z",
     "shell.execute_reply.started": "2025-04-24T01:31:30.895917Z",
     "shell.execute_reply": "2025-04-24T01:31:30.898775Z"
    },
    "ExecuteTime": {
     "end_time": "2025-04-24T18:57:45.664209Z",
     "start_time": "2025-04-24T18:57:45.660494Z"
    }
   },
   "outputs": [],
   "execution_count": 14
  },
  {
   "cell_type": "code",
   "source": "grid_search = GridSearchCV(\n    rf,\n    param_grid=param_grid,\n    scoring='average_precision',\n    cv=2,                     # 2-fold CV to reduce memory\n    verbose=1,\n    n_jobs=2\n)",
   "metadata": {
    "trusted": true,
    "execution": {
     "iopub.status.busy": "2025-04-24T01:31:49.499565Z",
     "iopub.execute_input": "2025-04-24T01:31:49.499857Z",
     "iopub.status.idle": "2025-04-24T01:31:49.503884Z",
     "shell.execute_reply.started": "2025-04-24T01:31:49.499838Z",
     "shell.execute_reply": "2025-04-24T01:31:49.503173Z"
    },
    "ExecuteTime": {
     "end_time": "2025-04-24T18:57:45.668577Z",
     "start_time": "2025-04-24T18:57:45.666451Z"
    }
   },
   "outputs": [],
   "execution_count": 15
  },
  {
   "cell_type": "code",
   "source": "grid_search.fit(X_train, y_train, sample_weight=sample_weights)",
   "metadata": {
    "trusted": true,
    "execution": {
     "iopub.status.busy": "2025-04-24T01:31:55.352644Z",
     "iopub.execute_input": "2025-04-24T01:31:55.352913Z",
     "iopub.status.idle": "2025-04-24T04:06:21.371397Z",
     "shell.execute_reply.started": "2025-04-24T01:31:55.352894Z",
     "shell.execute_reply": "2025-04-24T04:06:21.368676Z"
    }
   },
   "outputs": [
    {
     "name": "stdout",
     "text": "Fitting 2 folds for each of 5 candidates, totalling 10 fits\n",
     "output_type": "stream"
    },
    {
     "execution_count": 13,
     "output_type": "execute_result",
     "data": {
      "text/plain": "GridSearchCV(cv=2,\n             estimator=RandomForestClassifier(min_samples_leaf=2,\n                                              min_samples_split=5,\n                                              n_estimators=10, n_jobs=2,\n                                              random_state=42),\n             n_jobs=2, param_grid={'max_depth': [5, 10, 15, 20, None]},\n             scoring='average_precision', verbose=1)",
      "text/html": "<style>#sk-container-id-1 {color: black;background-color: white;}#sk-container-id-1 pre{padding: 0;}#sk-container-id-1 div.sk-toggleable {background-color: white;}#sk-container-id-1 label.sk-toggleable__label {cursor: pointer;display: block;width: 100%;margin-bottom: 0;padding: 0.3em;box-sizing: border-box;text-align: center;}#sk-container-id-1 label.sk-toggleable__label-arrow:before {content: \"▸\";float: left;margin-right: 0.25em;color: #696969;}#sk-container-id-1 label.sk-toggleable__label-arrow:hover:before {color: black;}#sk-container-id-1 div.sk-estimator:hover label.sk-toggleable__label-arrow:before {color: black;}#sk-container-id-1 div.sk-toggleable__content {max-height: 0;max-width: 0;overflow: hidden;text-align: left;background-color: #f0f8ff;}#sk-container-id-1 div.sk-toggleable__content pre {margin: 0.2em;color: black;border-radius: 0.25em;background-color: #f0f8ff;}#sk-container-id-1 input.sk-toggleable__control:checked~div.sk-toggleable__content {max-height: 200px;max-width: 100%;overflow: auto;}#sk-container-id-1 input.sk-toggleable__control:checked~label.sk-toggleable__label-arrow:before {content: \"▾\";}#sk-container-id-1 div.sk-estimator input.sk-toggleable__control:checked~label.sk-toggleable__label {background-color: #d4ebff;}#sk-container-id-1 div.sk-label input.sk-toggleable__control:checked~label.sk-toggleable__label {background-color: #d4ebff;}#sk-container-id-1 input.sk-hidden--visually {border: 0;clip: rect(1px 1px 1px 1px);clip: rect(1px, 1px, 1px, 1px);height: 1px;margin: -1px;overflow: hidden;padding: 0;position: absolute;width: 1px;}#sk-container-id-1 div.sk-estimator {font-family: monospace;background-color: #f0f8ff;border: 1px dotted black;border-radius: 0.25em;box-sizing: border-box;margin-bottom: 0.5em;}#sk-container-id-1 div.sk-estimator:hover {background-color: #d4ebff;}#sk-container-id-1 div.sk-parallel-item::after {content: \"\";width: 100%;border-bottom: 1px solid gray;flex-grow: 1;}#sk-container-id-1 div.sk-label:hover label.sk-toggleable__label {background-color: #d4ebff;}#sk-container-id-1 div.sk-serial::before {content: \"\";position: absolute;border-left: 1px solid gray;box-sizing: border-box;top: 0;bottom: 0;left: 50%;z-index: 0;}#sk-container-id-1 div.sk-serial {display: flex;flex-direction: column;align-items: center;background-color: white;padding-right: 0.2em;padding-left: 0.2em;position: relative;}#sk-container-id-1 div.sk-item {position: relative;z-index: 1;}#sk-container-id-1 div.sk-parallel {display: flex;align-items: stretch;justify-content: center;background-color: white;position: relative;}#sk-container-id-1 div.sk-item::before, #sk-container-id-1 div.sk-parallel-item::before {content: \"\";position: absolute;border-left: 1px solid gray;box-sizing: border-box;top: 0;bottom: 0;left: 50%;z-index: -1;}#sk-container-id-1 div.sk-parallel-item {display: flex;flex-direction: column;z-index: 1;position: relative;background-color: white;}#sk-container-id-1 div.sk-parallel-item:first-child::after {align-self: flex-end;width: 50%;}#sk-container-id-1 div.sk-parallel-item:last-child::after {align-self: flex-start;width: 50%;}#sk-container-id-1 div.sk-parallel-item:only-child::after {width: 0;}#sk-container-id-1 div.sk-dashed-wrapped {border: 1px dashed gray;margin: 0 0.4em 0.5em 0.4em;box-sizing: border-box;padding-bottom: 0.4em;background-color: white;}#sk-container-id-1 div.sk-label label {font-family: monospace;font-weight: bold;display: inline-block;line-height: 1.2em;}#sk-container-id-1 div.sk-label-container {text-align: center;}#sk-container-id-1 div.sk-container {/* jupyter's `normalize.less` sets `[hidden] { display: none; }` but bootstrap.min.css set `[hidden] { display: none !important; }` so we also need the `!important` here to be able to override the default hidden behavior on the sphinx rendered scikit-learn.org. See: https://github.com/scikit-learn/scikit-learn/issues/21755 */display: inline-block !important;position: relative;}#sk-container-id-1 div.sk-text-repr-fallback {display: none;}</style><div id=\"sk-container-id-1\" class=\"sk-top-container\"><div class=\"sk-text-repr-fallback\"><pre>GridSearchCV(cv=2,\n             estimator=RandomForestClassifier(min_samples_leaf=2,\n                                              min_samples_split=5,\n                                              n_estimators=10, n_jobs=2,\n                                              random_state=42),\n             n_jobs=2, param_grid={&#x27;max_depth&#x27;: [5, 10, 15, 20, None]},\n             scoring=&#x27;average_precision&#x27;, verbose=1)</pre><b>In a Jupyter environment, please rerun this cell to show the HTML representation or trust the notebook. <br />On GitHub, the HTML representation is unable to render, please try loading this page with nbviewer.org.</b></div><div class=\"sk-container\" hidden><div class=\"sk-item sk-dashed-wrapped\"><div class=\"sk-label-container\"><div class=\"sk-label sk-toggleable\"><input class=\"sk-toggleable__control sk-hidden--visually\" id=\"sk-estimator-id-1\" type=\"checkbox\" ><label for=\"sk-estimator-id-1\" class=\"sk-toggleable__label sk-toggleable__label-arrow\">GridSearchCV</label><div class=\"sk-toggleable__content\"><pre>GridSearchCV(cv=2,\n             estimator=RandomForestClassifier(min_samples_leaf=2,\n                                              min_samples_split=5,\n                                              n_estimators=10, n_jobs=2,\n                                              random_state=42),\n             n_jobs=2, param_grid={&#x27;max_depth&#x27;: [5, 10, 15, 20, None]},\n             scoring=&#x27;average_precision&#x27;, verbose=1)</pre></div></div></div><div class=\"sk-parallel\"><div class=\"sk-parallel-item\"><div class=\"sk-item\"><div class=\"sk-label-container\"><div class=\"sk-label sk-toggleable\"><input class=\"sk-toggleable__control sk-hidden--visually\" id=\"sk-estimator-id-2\" type=\"checkbox\" ><label for=\"sk-estimator-id-2\" class=\"sk-toggleable__label sk-toggleable__label-arrow\">estimator: RandomForestClassifier</label><div class=\"sk-toggleable__content\"><pre>RandomForestClassifier(min_samples_leaf=2, min_samples_split=5, n_estimators=10,\n                       n_jobs=2, random_state=42)</pre></div></div></div><div class=\"sk-serial\"><div class=\"sk-item\"><div class=\"sk-estimator sk-toggleable\"><input class=\"sk-toggleable__control sk-hidden--visually\" id=\"sk-estimator-id-3\" type=\"checkbox\" ><label for=\"sk-estimator-id-3\" class=\"sk-toggleable__label sk-toggleable__label-arrow\">RandomForestClassifier</label><div class=\"sk-toggleable__content\"><pre>RandomForestClassifier(min_samples_leaf=2, min_samples_split=5, n_estimators=10,\n                       n_jobs=2, random_state=42)</pre></div></div></div></div></div></div></div></div></div></div>"
     },
     "metadata": {}
    }
   ],
   "execution_count": 13
  },
  {
   "cell_type": "code",
   "source": "print(\"Best max_depth:\", grid_search.best_params_['max_depth'])\nprint(f\"Best AUC-PR from CV: {grid_search.best_score_:.4f}\")",
   "metadata": {
    "trusted": true,
    "execution": {
     "iopub.status.busy": "2025-04-24T04:06:21.751697Z",
     "iopub.execute_input": "2025-04-24T04:06:21.752014Z",
     "iopub.status.idle": "2025-04-24T04:06:21.757785Z",
     "shell.execute_reply.started": "2025-04-24T04:06:21.751989Z",
     "shell.execute_reply": "2025-04-24T04:06:21.756847Z"
    }
   },
   "outputs": [
    {
     "name": "stdout",
     "text": "Best max_depth: None\nBest AUC-PR from CV: 0.2713\n",
     "output_type": "stream"
    }
   ],
   "execution_count": 15
  },
  {
   "cell_type": "code",
   "source": "depths = [d if d is not None else 25 for d in param_grid['max_depth']]  # Use 25 to plot 'None'\nmean_scores = grid_search.cv_results_['mean_test_score']\n\nplt.figure(figsize=(8, 5))\nplt.plot(depths, mean_scores, marker='o', label='Mean AUC-PR')\nplt.axvline(\n    x=depths[param_grid['max_depth'].index(grid_search.best_params_['max_depth'])],\n    linestyle='--', color='r', label='Best max_depth'\n)\nplt.xlabel(\"max_depth\")\nplt.ylabel(\"Mean AUC-PR (2-fold CV)\")\nplt.title(\"Random Forest AUC-PR vs. max_depth\")\nplt.legend()\nplt.grid(True, linestyle='--', alpha=0.5)\nplt.tight_layout()\nplt.show()",
   "metadata": {
    "trusted": true,
    "execution": {
     "iopub.status.busy": "2025-04-24T04:06:21.759247Z",
     "iopub.execute_input": "2025-04-24T04:06:21.759513Z",
     "iopub.status.idle": "2025-04-24T04:06:21.981612Z",
     "shell.execute_reply.started": "2025-04-24T04:06:21.759489Z",
     "shell.execute_reply": "2025-04-24T04:06:21.980669Z"
    }
   },
   "outputs": [
    {
     "output_type": "display_data",
     "data": {
      "text/plain": "<Figure size 800x500 with 1 Axes>",
      "image/png": "[encoded data removed]"
     },
     "metadata": {}
    }
   ],
   "execution_count": 16
  },
  {
   "cell_type": "markdown",
   "source": "## Training the model with the best AUC-PR score (max_depth = None) (Trees are allowed to grow fully)",
   "metadata": {}
  },
  {
   "cell_type": "code",
   "source": "rf_best = RandomForestClassifier(\n    n_estimators=10,\n    max_depth=None,\n    min_samples_split=5,\n    min_samples_leaf=2,\n    max_features='sqrt',\n    bootstrap=True,\n    n_jobs=2,                 \n    random_state=42\n)\nrf_best.fit(X_train, y_train)\n\n# Evaluate on validation set\nval_accuracy = rf_best.score(X_val, y_val)\nprint(f\"Validation Accuracy: {val_accuracy:.4f}\")",
   "metadata": {
    "trusted": true,
    "execution": {
     "iopub.status.busy": "2025-04-24T04:34:31.079526Z",
     "iopub.execute_input": "2025-04-24T04:34:31.080539Z",
     "iopub.status.idle": "2025-04-24T05:31:29.501420Z",
     "shell.execute_reply.started": "2025-04-24T04:34:31.080501Z",
     "shell.execute_reply": "2025-04-24T05:31:29.498542Z"
    }
   },
   "outputs": [
    {
     "name": "stdout",
     "text": "Validation Accuracy: 0.9863\n",
     "output_type": "stream"
    }
   ],
   "execution_count": 9
  },
  {
   "cell_type": "code",
   "source": "from sklearn.metrics import average_precision_score, precision_score, recall_score",
   "metadata": {
    "trusted": true,
    "execution": {
     "iopub.status.busy": "2025-04-24T05:31:29.504007Z",
     "iopub.execute_input": "2025-04-24T05:31:29.504446Z",
     "iopub.status.idle": "2025-04-24T05:31:29.512569Z",
     "shell.execute_reply.started": "2025-04-24T05:31:29.504409Z",
     "shell.execute_reply": "2025-04-24T05:31:29.511510Z"
    }
   },
   "outputs": [],
   "execution_count": 10
  },
  {
   "cell_type": "code",
   "source": "y_val_probs = rf_best.predict_proba(X_val)[:, 1]\ny_val_pred = rf_best.predict(X_val)\n\nauc_pr_val = average_precision_score(y_val, y_val_probs)\nprecision_val = precision_score(y_val, y_val_pred)\nrecall_val = recall_score(y_val, y_val_pred)\n\nprint(\"Test Set Performance:\")\nprint(f\"AUC-PR-Validation   : {auc_pr_val:.4f}\")\nprint(f\"Precision(Val): {precision_val:.4f}\")\nprint(f\"Recall(Val)   : {recall_val:.4f}\")",
   "metadata": {
    "trusted": true,
    "execution": {
     "iopub.status.busy": "2025-04-24T05:31:29.513330Z",
     "iopub.execute_input": "2025-04-24T05:31:29.513608Z",
     "iopub.status.idle": "2025-04-24T05:31:55.827370Z",
     "shell.execute_reply.started": "2025-04-24T05:31:29.513583Z",
     "shell.execute_reply": "2025-04-24T05:31:55.826134Z"
    }
   },
   "outputs": [
    {
     "name": "stdout",
     "text": "Test Set Performance:\nAUC-PR-Validation   : 0.0708\nPrecision(Val): 0.3390\nRecall(Val)   : 0.0287\n",
     "output_type": "stream"
    }
   ],
   "execution_count": 11
  },
  {
   "cell_type": "code",
   "source": "y_test_probs = rf_best.predict_proba(X_test)[:, 1]\ny_test_pred = rf_best.predict(X_test)\n\nauc_pr_test = average_precision_score(y_test, y_test_probs)\nprecision_test = precision_score(y_test, y_test_pred)\nrecall_test = recall_score(y_test, y_test_pred)\n\nprint(\"Test Set Performance:\")\nprint(f\"AUC-PR-Testing  : {auc_pr_test:.4f}\")\nprint(f\"Precision(Test): {precision_test:.4f}\")\nprint(f\"Recall(Test)   : {recall_test:.4f}\")",
   "metadata": {
    "trusted": true,
    "execution": {
     "iopub.status.busy": "2025-04-24T05:31:55.829470Z",
     "iopub.execute_input": "2025-04-24T05:31:55.830206Z",
     "iopub.status.idle": "2025-04-24T05:32:20.467489Z",
     "shell.execute_reply.started": "2025-04-24T05:31:55.830175Z",
     "shell.execute_reply": "2025-04-24T05:32:20.466450Z"
    }
   },
   "outputs": [
    {
     "name": "stdout",
     "text": "Test Set Performance:\nAUC-PR-Testing  : 0.1193\nPrecision(Test): 0.4303\nRecall(Test)   : 0.0457\n",
     "output_type": "stream"
    }
   ],
   "execution_count": 12
  },
  {
   "cell_type": "code",
   "source": "from sklearn.metrics import f1_score\n\nf1 = f1_score(y_test, y_test_pred)\n\nprint(f\"F1 Score : {f1:.4f}\")",
   "metadata": {
    "trusted": true,
    "execution": {
     "iopub.status.busy": "2025-04-24T05:32:20.468488Z",
     "iopub.execute_input": "2025-04-24T05:32:20.468669Z",
     "iopub.status.idle": "2025-04-24T05:32:23.095285Z",
     "shell.execute_reply.started": "2025-04-24T05:32:20.468656Z",
     "shell.execute_reply": "2025-04-24T05:32:23.094350Z"
    }
   },
   "outputs": [
    {
     "name": "stdout",
     "text": "F1 Score : 0.0826\n",
     "output_type": "stream"
    }
   ],
   "execution_count": 13
  },
  {
   "cell_type": "code",
   "source": "",
   "metadata": {
    "trusted": true
   },
   "outputs": [],
   "execution_count": null
  }
 ]
}

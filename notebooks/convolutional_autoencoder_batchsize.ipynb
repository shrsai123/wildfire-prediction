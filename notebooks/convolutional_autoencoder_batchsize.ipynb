{
 "metadata": {
  "kernelspec": {
   "language": "python",
   "display_name": "Python 3",
   "name": "python3"
  },
  "language_info": {
   "name": "python",
   "version": "3.11.11",
   "mimetype": "text/x-python",
   "codemirror_mode": {
    "name": "ipython",
    "version": 3
   },
   "pygments_lexer": "ipython3",
   "nbconvert_exporter": "python",
   "file_extension": ".py"
  },
  "kaggle": {
   "accelerator": "none",
   "dataSources": [
    {
     "sourceId": 2824184,
     "sourceType": "datasetVersion",
     "datasetId": 1726926
    }
   ],
   "dockerImageVersionId": 31012,
   "isInternetEnabled": true,
   "language": "python",
   "sourceType": "notebook",
   "isGpuEnabled": false
  }
 },
 "nbformat_minor": 4,
 "nbformat": 4,
 "cells": [
  {
   "cell_type": "code",
   "source": [
    "import matplotlib.pyplot as plt\n",
    "import tensorflow as tf\n",
    "\n",
    "import torch\n",
    "from torch.utils.data import Dataset, DataLoader\n",
    "import torch.nn as nn\n",
    "from tqdm import tqdm\n",
    "\n",
    "import pandas as pd"
   ],
   "metadata": {
    "_uuid": "8f2839f25d086af736a60e9eeb907d3b93b6e0e5",
    "_cell_guid": "b1076dfc-b9ad-4769-8c92-a6c4dae69d19",
    "trusted": true,
    "execution": {
     "iopub.status.busy": "2025-04-22T15:17:04.739505Z",
     "iopub.execute_input": "2025-04-22T15:17:04.739799Z",
     "iopub.status.idle": "2025-04-22T15:17:35.236978Z",
     "shell.execute_reply.started": "2025-04-22T15:17:04.739779Z",
     "shell.execute_reply": "2025-04-22T15:17:35.235902Z"
    },
    "ExecuteTime": {
     "end_time": "2025-04-24T19:20:47.788491Z",
     "start_time": "2025-04-24T19:20:41.188926Z"
    }
   },
   "outputs": [],
   "execution_count": 34
  },
  {
   "cell_type": "code",
   "source": [
    "INPUT_FEATURES = ['elevation', 'th', 'vs',  'tmmn', 'tmmx', 'sph',\n",
    "                  'pr', 'pdsi', 'NDVI', 'population', 'erc', 'PrevFireMask']\n",
    "OUTPUT_FEATURES = ['FireMask']"
   ],
   "metadata": {
    "trusted": true,
    "execution": {
     "iopub.status.busy": "2025-04-22T15:17:35.238473Z",
     "iopub.execute_input": "2025-04-22T15:17:35.239094Z",
     "iopub.status.idle": "2025-04-22T15:17:35.244108Z",
     "shell.execute_reply.started": "2025-04-22T15:17:35.239066Z",
     "shell.execute_reply": "2025-04-22T15:17:35.243279Z"
    },
    "ExecuteTime": {
     "end_time": "2025-04-24T19:20:47.792728Z",
     "start_time": "2025-04-24T19:20:47.790081Z"
    }
   },
   "outputs": [],
   "execution_count": 35
  },
  {
   "cell_type": "code",
   "source": "def normalize_feature(feature, feature_name):\n    \"\"\" Normalize features except 'PrevFireMask'. \"\"\"\n    if feature_name == 'PrevFireMask':\n        return feature\n    else:\n        return (feature - tf.reduce_mean(feature)) / (tf.math.reduce_std(feature) + 1e-6)\n\ndef _parse_function(example_proto):\n    \"\"\" Parses TFRecord into tensors and normalizes features. \"\"\"\n    feature_description = {feat: tf.io.FixedLenFeature([64, 64], tf.float32) for feat in INPUT_FEATURES + OUTPUT_FEATURES}\n\n    parsed_example = tf.io.parse_single_example(example_proto, feature_description)\n\n    inputs_list = [normalize_feature(tf.expand_dims(parsed_example[feat], -1), feat) for feat in INPUT_FEATURES]\n    inputs = tf.concat(inputs_list, axis=-1)  # Convert to NumPy\n\n    label = tf.expand_dims(parsed_example['FireMask'], -1)  # Shape: [64, 64, 1]\n    label = tf.where(label < 0, 0.0, label)\n    label = tf.where(label > 0, 1.0, label)\n\n    return inputs, label",
   "metadata": {
    "trusted": true,
    "execution": {
     "iopub.status.busy": "2025-04-22T15:17:35.245512Z",
     "iopub.execute_input": "2025-04-22T15:17:35.245757Z",
     "iopub.status.idle": "2025-04-22T15:17:35.308974Z",
     "shell.execute_reply.started": "2025-04-22T15:17:35.245724Z",
     "shell.execute_reply": "2025-04-22T15:17:35.308137Z"
    },
    "ExecuteTime": {
     "end_time": "2025-04-24T19:20:47.797202Z",
     "start_time": "2025-04-24T19:20:47.793665Z"
    }
   },
   "outputs": [],
   "execution_count": 36
  },
  {
   "cell_type": "code",
   "source": "import random\ndef random_crop(x, crop_size):\n    c, h, w = x.shape\n    top = np.random.randint(0, h - crop_size + 1)\n    left = np.random.randint(0, w - crop_size + 1)\n    return x[:, top:top+crop_size, left:left+crop_size]",
   "metadata": {
    "trusted": true,
    "execution": {
     "iopub.status.busy": "2025-04-22T15:17:35.310840Z",
     "iopub.execute_input": "2025-04-22T15:17:35.311158Z",
     "iopub.status.idle": "2025-04-22T15:17:35.331452Z",
     "shell.execute_reply.started": "2025-04-22T15:17:35.311123Z",
     "shell.execute_reply": "2025-04-22T15:17:35.330615Z"
    },
    "ExecuteTime": {
     "end_time": "2025-04-24T19:20:47.801704Z",
     "start_time": "2025-04-24T19:20:47.798506Z"
    }
   },
   "outputs": [],
   "execution_count": 37
  },
  {
   "cell_type": "code",
   "source": "class WildfireDataset(Dataset):\n    def __init__(self, tf_dataset, random_crop_flag=False, crop_size=32):\n        self.data = list(tf_dataset.as_numpy_iterator()) # Correctly iterate over the dataset\n        self.crop_size = crop_size\n        self.random_crop_flag = random_crop_flag\n\n    def __len__(self):\n        \"\"\" Return dataset size. \"\"\"\n        return len(self.data)\n\n    def __getitem__(self, idx):\n        \"\"\" Get a single sample. \"\"\"\n        inputs, label = self.data[idx]\n        # inputs = torch.tensor(inputs, dtype=torch.float32)  # Convert to PyTorch tensor\n        # label = torch.tensor(label, dtype=torch.float32)\n        inputs = torch.tensor(inputs, dtype=torch.float32).permute(2, 0, 1)  # [H, W, C] → [C, H, W]\n        label = torch.tensor(label, dtype=torch.float32).permute(2, 0, 1)       # [H, W, 1] → [1, H, W] if needed\n        if self.random_crop_flag:\n            inputs, label = random_crop(inputs, self.crop_size), random_crop(label, self.crop_size)\n        return inputs, label",
   "metadata": {
    "trusted": true,
    "execution": {
     "iopub.status.busy": "2025-04-22T15:17:35.332210Z",
     "iopub.execute_input": "2025-04-22T15:17:35.332587Z",
     "iopub.status.idle": "2025-04-22T15:17:35.355995Z",
     "shell.execute_reply.started": "2025-04-22T15:17:35.332555Z",
     "shell.execute_reply": "2025-04-22T15:17:35.355135Z"
    },
    "ExecuteTime": {
     "end_time": "2025-04-24T19:20:47.805523Z",
     "start_time": "2025-04-24T19:20:47.802422Z"
    }
   },
   "outputs": [],
   "execution_count": 38
  },
  {
   "cell_type": "code",
   "source": "def get_tensorflow_dataset(file_pattern):\n    dataset = tf.data.Dataset.list_files(file_pattern)\n    dataset = dataset.interleave(lambda x: tf.data.TFRecordDataset(x), num_parallel_calls=tf.data.AUTOTUNE)\n    dataset = dataset.map(_parse_function, num_parallel_calls=tf.data.AUTOTUNE)\n    return dataset",
   "metadata": {
    "trusted": true,
    "execution": {
     "iopub.status.busy": "2025-04-22T15:17:35.357090Z",
     "iopub.execute_input": "2025-04-22T15:17:35.357375Z",
     "iopub.status.idle": "2025-04-22T15:17:35.378385Z",
     "shell.execute_reply.started": "2025-04-22T15:17:35.357351Z",
     "shell.execute_reply": "2025-04-22T15:17:35.377641Z"
    },
    "ExecuteTime": {
     "end_time": "2025-04-24T19:20:47.808376Z",
     "start_time": "2025-04-24T19:20:47.806372Z"
    }
   },
   "outputs": [],
   "execution_count": 39
  },
  {
   "metadata": {
    "ExecuteTime": {
     "end_time": "2025-04-24T19:20:47.810819Z",
     "start_time": "2025-04-24T19:20:47.809118Z"
    }
   },
   "cell_type": "code",
   "source": [
    "train_file = '../data/next_day_wildfire_spread_train*'\n",
    "val_file = '../data/next_day_wildfire_spread_eval*'\n",
    "test_file = '../data/next_day_wildfire_spread_test*'"
   ],
   "outputs": [],
   "execution_count": 40
  },
  {
   "cell_type": "code",
   "source": "# Convert train, validation, and test datasets\ntrain_numpy = get_tensorflow_dataset(train_file)\nval_numpy = get_tensorflow_dataset(val_file)\ntest_numpy = get_tensorflow_dataset(test_file)\n\n# Create PyTorch datasets (without Cropping)\ntrain_dataset = WildfireDataset(train_numpy)\nval_dataset = WildfireDataset(val_numpy)\ntest_dataset = WildfireDataset(test_numpy)",
   "metadata": {
    "trusted": true,
    "execution": {
     "iopub.status.busy": "2025-04-22T15:17:35.422189Z",
     "iopub.execute_input": "2025-04-22T15:17:35.422541Z",
     "iopub.status.idle": "2025-04-22T15:18:05.218214Z",
     "shell.execute_reply.started": "2025-04-22T15:17:35.422512Z",
     "shell.execute_reply": "2025-04-22T15:18:05.217298Z"
    },
    "ExecuteTime": {
     "end_time": "2025-04-24T19:20:52.385350Z",
     "start_time": "2025-04-24T19:20:47.811509Z"
    }
   },
   "outputs": [],
   "execution_count": 41
  },
  {
   "cell_type": "code",
   "source": "class ResBlock3(nn.Module):\n  def __init__(self, in_c, mid_c, out_c,\n               dropout= 0.1, batch_norm=True, pool_size=2,\n               kernel_size=3, strides=(1,1), padding=1):\n    super(ResBlock3, self).__init__()\n\n    self.same_c = in_c == out_c\n    self.in_c = in_c\n    self.mid_c = mid_c\n    self.out_c = out_c\n    layers = []\n    if batch_norm:\n      layers.append(nn.BatchNorm2d(in_c))\n\n      layers.extend([\n        nn.LeakyReLU(),\n        nn.Dropout2d(dropout)\n        ]\n    )\n\n    if strides[0] ==1:\n      # by default, no downsampling needed. and the stride normally is 1\n      layers.append(nn.Conv2d(in_c, out_c, kernel_size=kernel_size,\n                              padding=padding, stride=strides[0]))\n    else:\n      layers.append(\n          nn.MaxPool2d(pool_size, strides[0])\n          )\n      if self.in_c != self.mid_c:\n        layers.append(nn.Conv2d(in_c, mid_c, kernel_size=1))\n\n    if batch_norm:\n       layers.append(nn.BatchNorm2d(mid_c))\n\n    layers.extend([\n        nn.LeakyReLU(),\n        nn.Dropout2d(dropout),\n        nn.Conv2d(mid_c, out_c, kernel_size=kernel_size, stride=strides[1],\n                  padding=padding),\n        nn.Dropout2d(dropout)\n    ])\n    self.net = nn.Sequential(*layers)\n\n    self.shortcut = nn.Sequential(\n        nn.Conv2d(in_c, out_c, kernel_size=1,padding=0,stride=strides[0]),\n        nn.BatchNorm2d(out_c) if batch_norm else nn.Identity(),\n        nn.Dropout(dropout)\n    )\n\n\n  def forward(self,x):\n    #print(f\"ResBlock3 input shape: {x.shape}\")\n    x1 = self.net(x)\n    x2 = self.shortcut(x)\n    out = x1 + x2\n    return out",
   "metadata": {
    "trusted": true,
    "execution": {
     "iopub.status.busy": "2025-04-22T15:18:05.229215Z",
     "iopub.execute_input": "2025-04-22T15:18:05.229575Z",
     "iopub.status.idle": "2025-04-22T15:18:05.296621Z",
     "shell.execute_reply.started": "2025-04-22T15:18:05.229548Z",
     "shell.execute_reply": "2025-04-22T15:18:05.295320Z"
    },
    "ExecuteTime": {
     "end_time": "2025-04-24T19:20:52.394553Z",
     "start_time": "2025-04-24T19:20:52.387213Z"
    }
   },
   "outputs": [],
   "execution_count": 42
  },
  {
   "cell_type": "markdown",
   "source": "## AutoEncoder",
   "metadata": {}
  },
  {
   "cell_type": "code",
   "source": "class Autoencoder(nn.Module):\n  def __init__(self,\n               in_channels, out_channels,\n               encoder_layers, encoder_pools,\n               decoder_layers, decoder_pools,\n               dropout=0.1, batch_norm=True,\n               ):\n    super(Autoencoder, self).__init__()\n\n    self.in_channels = in_channels\n    self.out_channels = out_channels\n    self.encoder_layers = encoder_layers\n    self.decoder_layers = decoder_layers\n    self.encoder_pools = encoder_pools\n    self.decoder_pools = decoder_pools\n    self.dropout = dropout\n    self.batch_norm = batch_norm\n\n    self.input_conv = nn.Sequential(\n            nn.Conv2d(in_channels, encoder_layers[0], kernel_size=3, padding=1),\n            nn.BatchNorm2d(encoder_layers[0]) if batch_norm else nn.Identity(),\n            nn.LeakyReLU(),\n            nn.Dropout2d(dropout),\n            nn.Conv2d(encoder_layers[0], encoder_layers[0], kernel_size=3, padding=1),\n            nn.Dropout2d(dropout)\n        )\n    self.input_shortcut = nn.Sequential(\n        nn.Conv2d(in_channels, encoder_layers[0], kernel_size=1, padding=0),\n        nn.BatchNorm2d(encoder_layers[0]) if batch_norm else nn.Identity(),\n        nn.Dropout2d(dropout)\n    )\n\n    self.encoder_blocks = nn.ModuleList()\n    for i in range(len(encoder_layers) - 1):\n      self.encoder_blocks.append(\n          ResBlock3(encoder_layers[i], encoder_layers[i+1],encoder_layers[i+1],\n                    dropout=dropout, batch_norm=batch_norm,\n                    pool_size=encoder_pools[i+1],\n                    strides=(encoder_pools[i+1],1)\n          )\n      )\n\n    self.bottleneck = ResBlock3(\n       in_c=encoder_layers[-1],\n       mid_c=encoder_layers[-1],\n       out_c=encoder_layers[-1],\n       dropout=dropout,\n       batch_norm=batch_norm\n    )\n\n\n    self.decoder_blocks = nn.ModuleList()\n    for i in range(len(decoder_layers)):\n      self.decoder_blocks.append(\n          nn.Sequential(\n              nn.Upsample(scale_factor=decoder_pools[i], mode='nearest'),\n              ResBlock3(\n                  in_c = encoder_layers[-1] if i==0 else decoder_layers[i-1],\n                  mid_c= decoder_layers[i], out_c=decoder_layers[i],\n                  dropout=dropout, batch_norm=batch_norm\n                  )\n          )\n      )\n\n    # Output convolution (explicitly using out_channels)\n    self.output_conv = nn.Conv2d(decoder_layers[-1],\n                                 self.out_channels, kernel_size=1)\n\n  def forward(self,x):\n    x1 = self.input_conv(x)\n    shortcut = self.input_shortcut(x)\n\n    x2 = x1 + shortcut\n    for encoder_block in self.encoder_blocks:\n      x2 = encoder_block(x2)\n\n    x2 = self.bottleneck(x2)\n\n    for decoder_block in self.decoder_blocks:\n      x2 = decoder_block(x2)\n\n    x2 = self.output_conv(x2)\n    return x2",
   "metadata": {
    "trusted": true,
    "execution": {
     "iopub.status.busy": "2025-04-22T15:18:05.298012Z",
     "iopub.execute_input": "2025-04-22T15:18:05.298403Z",
     "iopub.status.idle": "2025-04-22T15:18:05.332117Z",
     "shell.execute_reply.started": "2025-04-22T15:18:05.298378Z",
     "shell.execute_reply": "2025-04-22T15:18:05.330869Z"
    },
    "ExecuteTime": {
     "end_time": "2025-04-24T19:20:52.403790Z",
     "start_time": "2025-04-24T19:20:52.397806Z"
    }
   },
   "outputs": [],
   "execution_count": 43
  },
  {
   "cell_type": "code",
   "source": "params_config = {\n    'in_channels': 12,\n    'out_channels': 1,\n    'encoder_layers': [16, 16, 32],\n    'decoder_layers': [32, 16],\n    'encoder_pools': [1, 2, 2],\n    'decoder_pools': [2, 2],\n    'dropout': 0.1,\n    'batch_norm': True\n}",
   "metadata": {
    "trusted": true,
    "execution": {
     "iopub.status.busy": "2025-04-22T15:18:05.333270Z",
     "iopub.execute_input": "2025-04-22T15:18:05.334382Z",
     "iopub.status.idle": "2025-04-22T15:18:05.361349Z",
     "shell.execute_reply.started": "2025-04-22T15:18:05.334341Z",
     "shell.execute_reply": "2025-04-22T15:18:05.360250Z"
    },
    "ExecuteTime": {
     "end_time": "2025-04-24T19:20:52.406765Z",
     "start_time": "2025-04-24T19:20:52.404553Z"
    }
   },
   "outputs": [],
   "execution_count": 44
  },
  {
   "cell_type": "code",
   "source": "model1 = Autoencoder(**params_config)",
   "metadata": {
    "trusted": true,
    "execution": {
     "iopub.status.busy": "2025-04-22T15:18:05.362365Z",
     "iopub.execute_input": "2025-04-22T15:18:05.362698Z",
     "iopub.status.idle": "2025-04-22T15:18:05.461810Z",
     "shell.execute_reply.started": "2025-04-22T15:18:05.362676Z",
     "shell.execute_reply": "2025-04-22T15:18:05.460891Z"
    },
    "ExecuteTime": {
     "end_time": "2025-04-24T19:20:52.421657Z",
     "start_time": "2025-04-24T19:20:52.407560Z"
    }
   },
   "outputs": [],
   "execution_count": 45
  },
  {
   "cell_type": "code",
   "source": "from sklearn.metrics import average_precision_score, precision_score, recall_score, f1_score\nimport numpy as np",
   "metadata": {
    "trusted": true,
    "execution": {
     "iopub.status.busy": "2025-04-22T15:18:05.462814Z",
     "iopub.execute_input": "2025-04-22T15:18:05.463070Z",
     "iopub.status.idle": "2025-04-22T15:18:07.210837Z",
     "shell.execute_reply.started": "2025-04-22T15:18:05.463051Z",
     "shell.execute_reply": "2025-04-22T15:18:07.209989Z"
    },
    "ExecuteTime": {
     "end_time": "2025-04-24T19:20:52.424916Z",
     "start_time": "2025-04-24T19:20:52.422819Z"
    }
   },
   "outputs": [],
   "execution_count": 46
  },
  {
   "cell_type": "code",
   "source": "def evaluate_model_metrics(model, data_loader, threshold=0.5, device=None):\n    \"\"\"\n    Evaluate model using multiple metrics: AUC PR, Precision, Recall, and F1-score.\n\n    Args:\n        model: The trained model to evaluate\n        data_loader: Data loader for evaluation\n        threshold: Classification threshold (default 0.5)\n        device: Device to use for evaluation\n\n    Returns:\n        metrics: Dictionary containing AUC PR, precision, recall, and F1-score\n    \"\"\"\n\n    model.eval()\n\n    all_targets = []\n    all_predictions = []\n    all_binary_predictions = []\n\n    with torch.no_grad():\n        for inputs, targets in data_loader:\n            inputs, targets = inputs.to(device), targets.to(device)\n            outputs = model(inputs)\n\n            # Apply sigmoid to convert logits to probabilities\n            probs = torch.sigmoid(outputs)\n\n            # Binary predictions using threshold\n            binary_preds = (probs > threshold).float()\n\n            # Collect all predictions and targets\n            all_targets.append(targets.cpu().numpy())\n            all_predictions.append(probs.cpu().numpy())\n            all_binary_predictions.append(binary_preds.cpu().numpy())\n\n    # Concatenate all batches\n    all_targets = np.concatenate(all_targets).flatten()\n    all_predictions = np.concatenate(all_predictions).flatten()\n    all_binary_predictions = np.concatenate(all_binary_predictions).flatten()\n\n    # Calculate metrics\n    auc_pr = average_precision_score(all_targets, all_predictions)\n    precision = precision_score(all_targets, all_binary_predictions, zero_division=0)\n    recall = recall_score(all_targets, all_binary_predictions, zero_division=0)\n    f1 = f1_score(all_targets, all_binary_predictions, zero_division=0)\n\n    metrics = {\n        'auc_pr': auc_pr,\n        'precision': precision,\n        'recall': recall,\n        'f1_score': f1\n    }\n\n    return metrics",
   "metadata": {
    "trusted": true,
    "execution": {
     "iopub.status.busy": "2025-04-22T15:18:07.211771Z",
     "iopub.execute_input": "2025-04-22T15:18:07.212305Z",
     "iopub.status.idle": "2025-04-22T15:18:07.220957Z",
     "shell.execute_reply.started": "2025-04-22T15:18:07.212280Z",
     "shell.execute_reply": "2025-04-22T15:18:07.220040Z"
    },
    "ExecuteTime": {
     "end_time": "2025-04-24T19:20:54.130173Z",
     "start_time": "2025-04-24T19:20:54.125883Z"
    }
   },
   "outputs": [],
   "execution_count": 47
  },
  {
   "cell_type": "code",
   "source": "def train_model(model, train_loader, val_loader, lr=0.001,pos_weight=3.0, num_epochs=10, device=None):\n    \"\"\"Train the wildfire segmentation model with comprehensive metrics.\"\"\"\n    # Set device\n    device = device or ('cuda' if torch.cuda.is_available() else 'cpu')\n    model = model.to(device)\n\n    # Loss function\n    criterion = nn.BCEWithLogitsLoss(\n        pos_weight=torch.tensor([pos_weight], device=device)\n    )\n\n    # Optimizer\n    optimizer = torch.optim.Adam(\n        model.parameters(),\n        lr=lr\n    )\n\n    # Training history\n    history = {\n        'train_loss': [],\n        'val_loss': [],\n        'train_reg_loss': [],\n        'val_reg_loss': [],\n        'val_auc_pr': [],\n        'val_precision': [],\n        'val_recall': [],\n        'val_f1_score': []\n    }\n\n    # Best model tracking\n    best_auc_pr = 0\n    best_model_state = None\n\n    # Training loop\n    for epoch in range(num_epochs):\n        # Training phase\n        model.train()\n        train_loss = 0.0\n        train_reg_loss = 0.0\n\n        for inputs, targets in tqdm(train_loader, desc=f\"[Epoch {epoch+1}/{num_epochs}] Training\"):\n            inputs, targets = inputs.to(device), targets.to(device)\n\n            optimizer.zero_grad()\n            outputs = model(inputs)\n\n            # Calculate losses\n            bce_loss = criterion(outputs, targets)\n            #reg_loss = model.get_regularization_loss()\n            #total_loss = bce_loss + reg_loss\n            total_loss = bce_loss\n\n            total_loss.backward()\n            optimizer.step()\n\n            train_loss += bce_loss.item() * inputs.size(0)\n            #train_reg_loss += reg_loss.item() * inputs.size(0)\n\n        avg_train_loss = train_loss / len(train_loader.dataset)\n        #avg_train_reg_loss = train_reg_loss / len(train_loader.dataset)\n        history['train_loss'].append(avg_train_loss)\n        #history['train_reg_loss'].append(avg_train_reg_loss)\n\n        # Validation phase\n        model.eval()\n        val_loss = 0.0\n        #val_reg_loss = 0.0\n\n        with torch.no_grad():\n            for inputs, targets in tqdm(val_loader, desc=f\"[Epoch {epoch+1}/{num_epochs}] Validation\"):\n                inputs, targets = inputs.to(device), targets.to(device)\n                outputs = model(inputs)\n\n                # Calculate losses\n                bce_loss = criterion(outputs, targets)\n                #reg_loss = model.get_regularization_loss()\n\n                val_loss += bce_loss.item() * inputs.size(0)\n                #val_reg_loss += reg_loss.item() * inputs.size(0)\n\n        avg_val_loss = val_loss / len(val_loader.dataset)\n        #avg_val_reg_loss = val_reg_loss / len(val_loader.dataset)\n        history['val_loss'].append(avg_val_loss)\n        #history['val_reg_loss'].append(avg_val_reg_loss)\n\n        # Calculate metrics\n        metrics = evaluate_model_metrics(model, val_loader, device=device)\n\n        # Store metrics in history\n        for metric_name, metric_value in metrics.items():\n            history[f'val_{metric_name}'].append(metric_value)\n\n        # Save best model based on AUC PR\n        auc_pr = metrics['auc_pr']\n        if auc_pr > best_auc_pr:\n            best_auc_pr = auc_pr\n            best_model_state = model.state_dict().copy()\n            print(f\"New best model with AUC PR: {best_auc_pr:.4f}\")\n\n        print(f\"Epoch [{epoch+1}/{num_epochs}] \"\n              f\"Train Loss: {avg_train_loss:.4f} \"\n              f\"Val Loss: {avg_val_loss:.4f} \"\n              f\"AUC PR: {metrics['auc_pr']:.4f} \"\n              f\"Precision: {metrics['precision']:.4f} \"\n              f\"Recall: {metrics['recall']:.4f} \"\n              f\"F1: {metrics['f1_score']:.4f}\")\n\n    # Restore best model\n    if best_model_state is not None:\n        model.load_state_dict(best_model_state)\n\n    # Final evaluation\n    final_metrics = evaluate_model_metrics(model, val_loader, device=device)\n    print(\"\\nFinal Model Performance:\")\n    print(f\"AUC PR: {final_metrics['auc_pr']:.4f}\")\n    print(f\"Precision: {final_metrics['precision']:.4f}\")\n    print(f\"Recall: {final_metrics['recall']:.4f}\")\n    print(f\"F1 Score: {final_metrics['f1_score']:.4f}\")\n\n    return model, history, final_metrics",
   "metadata": {
    "trusted": true,
    "execution": {
     "iopub.status.busy": "2025-04-22T15:18:07.249472Z",
     "iopub.execute_input": "2025-04-22T15:18:07.249747Z",
     "iopub.status.idle": "2025-04-22T15:18:07.270781Z",
     "shell.execute_reply.started": "2025-04-22T15:18:07.249724Z",
     "shell.execute_reply": "2025-04-22T15:18:07.269598Z"
    },
    "ExecuteTime": {
     "end_time": "2025-04-24T19:21:01.092655Z",
     "start_time": "2025-04-24T19:21:01.081937Z"
    }
   },
   "outputs": [],
   "execution_count": 48
  },
  {
   "metadata": {
    "ExecuteTime": {
     "end_time": "2025-04-24T19:21:06.836498Z",
     "start_time": "2025-04-24T19:21:06.834277Z"
    }
   },
   "cell_type": "code",
   "source": [
    "lr = 0.0001\n",
    "pos_weight = 3.0\n",
    "num_epochs = 100"
   ],
   "outputs": [],
   "execution_count": 49
  },
  {
   "cell_type": "code",
   "source": [
    "device = 'cuda' if torch.cuda.is_available() else 'cpu'\n",
    "batch_sizes = [64]"
   ],
   "metadata": {
    "trusted": true,
    "execution": {
     "iopub.status.busy": "2025-04-22T15:18:07.272006Z",
     "iopub.execute_input": "2025-04-22T15:18:07.272337Z",
     "iopub.status.idle": "2025-04-22T15:18:07.299264Z",
     "shell.execute_reply.started": "2025-04-22T15:18:07.272308Z",
     "shell.execute_reply": "2025-04-22T15:18:07.298265Z"
    },
    "ExecuteTime": {
     "end_time": "2025-04-24T19:21:07.562021Z",
     "start_time": "2025-04-24T19:21:07.558810Z"
    }
   },
   "outputs": [],
   "execution_count": 50
  },
  {
   "cell_type": "code",
   "source": [
    "results = []\n",
    "histories = {}"
   ],
   "metadata": {
    "trusted": true,
    "execution": {
     "iopub.status.busy": "2025-04-22T15:18:07.300059Z",
     "iopub.execute_input": "2025-04-22T15:18:07.300353Z",
     "iopub.status.idle": "2025-04-22T15:18:07.320555Z",
     "shell.execute_reply.started": "2025-04-22T15:18:07.300332Z",
     "shell.execute_reply": "2025-04-22T15:18:07.319339Z"
    },
    "ExecuteTime": {
     "end_time": "2025-04-24T19:21:13.501973Z",
     "start_time": "2025-04-24T19:21:13.499666Z"
    }
   },
   "outputs": [],
   "execution_count": 51
  },
  {
   "cell_type": "code",
   "source": "for batch in batch_sizes:\n    print(f\"\\n🔁 Training with batch size: {batch}\")\n    \n    # Fresh model for each run\n    model = Autoencoder(**params_config)\n\n    # DataLoaders for current batch size\n    train_loader = DataLoader(train_dataset, batch_size=batch, shuffle=True)\n    val_loader = DataLoader(val_dataset, batch_size=batch, shuffle=False)\n\n    # Train model\n    model_trained, history, final_metrics = train_model(\n        model,\n        train_loader,\n        val_loader,\n        lr=lr,\n        pos_weight=pos_weight,\n        num_epochs=num_epochs,\n        device=device\n    )\n\n    # Store results and history\n    results.append({\n        'batch_size': batch,\n        'learning_rate': lr,\n        'pos_weight': pos_weight,\n        **final_metrics\n    })\n    histories[batch] = history\n\n# Save results to CSV for later analysis\nresults_df = pd.DataFrame(results)",
   "metadata": {
    "trusted": true,
    "execution": {
     "iopub.status.busy": "2025-04-22T00:32:36.642035Z",
     "iopub.execute_input": "2025-04-22T00:32:36.642285Z"
    }
   },
   "outputs": [
    {
     "name": "stdout",
     "text": "\n🔁 Training with batch size: 64\n",
     "output_type": "stream"
    },
    {
     "name": "stderr",
     "text": "[Epoch 1/100] Training: 100%|██████████| 235/235 [02:47<00:00,  1.40it/s]\n[Epoch 1/100] Validation: 100%|██████████| 30/30 [00:06<00:00,  4.88it/s]\n",
     "output_type": "stream"
    },
    {
     "name": "stdout",
     "text": "New best model with AUC PR: 0.0200\nEpoch [1/100] Train Loss: 0.3827 Val Loss: 0.1957 AUC PR: 0.0200 Precision: 0.0000 Recall: 0.0000 F1: 0.0000\n",
     "output_type": "stream"
    },
    {
     "name": "stderr",
     "text": "[Epoch 2/100] Training: 100%|██████████| 235/235 [02:43<00:00,  1.44it/s]\n[Epoch 2/100] Validation: 100%|██████████| 30/30 [00:06<00:00,  4.87it/s]\n",
     "output_type": "stream"
    },
    {
     "name": "stdout",
     "text": "New best model with AUC PR: 0.0795\nEpoch [2/100] Train Loss: 0.1554 Val Loss: 0.1501 AUC PR: 0.0795 Precision: 0.0990 Recall: 0.0022 F1: 0.0043\n",
     "output_type": "stream"
    },
    {
     "name": "stderr",
     "text": "[Epoch 3/100] Training: 100%|██████████| 235/235 [02:50<00:00,  1.38it/s]\n[Epoch 3/100] Validation: 100%|██████████| 30/30 [00:06<00:00,  4.60it/s]\n",
     "output_type": "stream"
    },
    {
     "name": "stdout",
     "text": "New best model with AUC PR: 0.1418\nEpoch [3/100] Train Loss: 0.1154 Val Loss: 0.1278 AUC PR: 0.1418 Precision: 0.2367 Recall: 0.2453 F1: 0.2410\n",
     "output_type": "stream"
    },
    {
     "name": "stderr",
     "text": "[Epoch 4/100] Training: 100%|██████████| 235/235 [02:44<00:00,  1.42it/s]\n[Epoch 4/100] Validation: 100%|██████████| 30/30 [00:06<00:00,  4.85it/s]\n",
     "output_type": "stream"
    },
    {
     "name": "stdout",
     "text": "New best model with AUC PR: 0.1461\nEpoch [4/100] Train Loss: 0.0989 Val Loss: 0.1262 AUC PR: 0.1461 Precision: 0.2454 Recall: 0.2246 F1: 0.2345\n",
     "output_type": "stream"
    },
    {
     "name": "stderr",
     "text": "[Epoch 5/100] Training: 100%|██████████| 235/235 [02:46<00:00,  1.41it/s]\n[Epoch 5/100] Validation: 100%|██████████| 30/30 [00:06<00:00,  4.77it/s]\n",
     "output_type": "stream"
    },
    {
     "name": "stdout",
     "text": "New best model with AUC PR: 0.1540\nEpoch [5/100] Train Loss: 0.0945 Val Loss: 0.1255 AUC PR: 0.1540 Precision: 0.2475 Recall: 0.2356 F1: 0.2414\n",
     "output_type": "stream"
    },
    {
     "name": "stderr",
     "text": "[Epoch 6/100] Training: 100%|██████████| 235/235 [02:50<00:00,  1.38it/s]\n[Epoch 6/100] Validation: 100%|██████████| 30/30 [00:06<00:00,  4.82it/s]\n",
     "output_type": "stream"
    },
    {
     "name": "stdout",
     "text": "Epoch [6/100] Train Loss: 0.0923 Val Loss: 0.1266 AUC PR: 0.1524 Precision: 0.2493 Recall: 0.2272 F1: 0.2377\n",
     "output_type": "stream"
    },
    {
     "name": "stderr",
     "text": "[Epoch 7/100] Training: 100%|██████████| 235/235 [02:46<00:00,  1.41it/s]\n[Epoch 7/100] Validation: 100%|██████████| 30/30 [00:06<00:00,  4.86it/s]\n",
     "output_type": "stream"
    },
    {
     "name": "stdout",
     "text": "New best model with AUC PR: 0.1569\nEpoch [7/100] Train Loss: 0.0912 Val Loss: 0.1251 AUC PR: 0.1569 Precision: 0.2574 Recall: 0.1949 F1: 0.2219\n",
     "output_type": "stream"
    },
    {
     "name": "stderr",
     "text": "[Epoch 8/100] Training: 100%|██████████| 235/235 [02:45<00:00,  1.42it/s]\n[Epoch 8/100] Validation: 100%|██████████| 30/30 [00:06<00:00,  4.84it/s]\n",
     "output_type": "stream"
    },
    {
     "name": "stdout",
     "text": "Epoch [8/100] Train Loss: 0.0898 Val Loss: 0.1255 AUC PR: 0.1567 Precision: 0.2543 Recall: 0.2129 F1: 0.2318\n",
     "output_type": "stream"
    },
    {
     "name": "stderr",
     "text": "[Epoch 9/100] Training: 100%|██████████| 235/235 [02:45<00:00,  1.42it/s]\n[Epoch 9/100] Validation: 100%|██████████| 30/30 [00:06<00:00,  4.91it/s]\n",
     "output_type": "stream"
    },
    {
     "name": "stdout",
     "text": "Epoch [9/100] Train Loss: 0.0892 Val Loss: 0.1237 AUC PR: 0.1567 Precision: 0.2509 Recall: 0.2317 F1: 0.2409\n",
     "output_type": "stream"
    },
    {
     "name": "stderr",
     "text": "[Epoch 10/100] Training: 100%|██████████| 235/235 [02:45<00:00,  1.42it/s]\n[Epoch 10/100] Validation: 100%|██████████| 30/30 [00:06<00:00,  4.39it/s]\n",
     "output_type": "stream"
    },
    {
     "name": "stdout",
     "text": "New best model with AUC PR: 0.1573\nEpoch [10/100] Train Loss: 0.0885 Val Loss: 0.1246 AUC PR: 0.1573 Precision: 0.2552 Recall: 0.2068 F1: 0.2285\n",
     "output_type": "stream"
    },
    {
     "name": "stderr",
     "text": "[Epoch 11/100] Training: 100%|██████████| 235/235 [02:49<00:00,  1.39it/s]\n[Epoch 11/100] Validation: 100%|██████████| 30/30 [00:06<00:00,  4.78it/s]\n",
     "output_type": "stream"
    },
    {
     "name": "stdout",
     "text": "New best model with AUC PR: 0.1577\nEpoch [11/100] Train Loss: 0.0882 Val Loss: 0.1222 AUC PR: 0.1577 Precision: 0.2583 Recall: 0.1959 F1: 0.2228\n",
     "output_type": "stream"
    },
    {
     "name": "stderr",
     "text": "[Epoch 12/100] Training: 100%|██████████| 235/235 [02:46<00:00,  1.41it/s]\n[Epoch 12/100] Validation: 100%|██████████| 30/30 [00:06<00:00,  4.83it/s]\n",
     "output_type": "stream"
    },
    {
     "name": "stdout",
     "text": "New best model with AUC PR: 0.1592\nEpoch [12/100] Train Loss: 0.0873 Val Loss: 0.1247 AUC PR: 0.1592 Precision: 0.2628 Recall: 0.1601 F1: 0.1990\n",
     "output_type": "stream"
    },
    {
     "name": "stderr",
     "text": "[Epoch 13/100] Training: 100%|██████████| 235/235 [02:45<00:00,  1.42it/s]\n[Epoch 13/100] Validation: 100%|██████████| 30/30 [00:06<00:00,  4.84it/s]\n",
     "output_type": "stream"
    },
    {
     "name": "stdout",
     "text": "New best model with AUC PR: 0.1592\nEpoch [13/100] Train Loss: 0.0873 Val Loss: 0.1223 AUC PR: 0.1592 Precision: 0.2561 Recall: 0.2193 F1: 0.2363\n",
     "output_type": "stream"
    },
    {
     "name": "stderr",
     "text": "[Epoch 14/100] Training: 100%|██████████| 235/235 [02:44<00:00,  1.43it/s]\n[Epoch 14/100] Validation: 100%|██████████| 30/30 [00:06<00:00,  4.88it/s]\n",
     "output_type": "stream"
    },
    {
     "name": "stdout",
     "text": "Epoch [14/100] Train Loss: 0.0869 Val Loss: 0.1234 AUC PR: 0.1585 Precision: 0.2532 Recall: 0.2367 F1: 0.2446\n",
     "output_type": "stream"
    },
    {
     "name": "stderr",
     "text": "[Epoch 15/100] Training: 100%|██████████| 235/235 [02:44<00:00,  1.43it/s]\n[Epoch 15/100] Validation: 100%|██████████| 30/30 [00:06<00:00,  4.83it/s]\n",
     "output_type": "stream"
    },
    {
     "name": "stdout",
     "text": "Epoch [15/100] Train Loss: 0.0866 Val Loss: 0.1229 AUC PR: 0.1579 Precision: 0.2564 Recall: 0.2215 F1: 0.2377\n",
     "output_type": "stream"
    },
    {
     "name": "stderr",
     "text": "[Epoch 16/100] Training: 100%|██████████| 235/235 [02:45<00:00,  1.42it/s]\n[Epoch 16/100] Validation: 100%|██████████| 30/30 [00:06<00:00,  4.89it/s]\n",
     "output_type": "stream"
    },
    {
     "name": "stdout",
     "text": "Epoch [16/100] Train Loss: 0.0862 Val Loss: 0.1220 AUC PR: 0.1588 Precision: 0.2586 Recall: 0.2106 F1: 0.2321\n",
     "output_type": "stream"
    },
    {
     "name": "stderr",
     "text": "[Epoch 17/100] Training: 100%|██████████| 235/235 [02:45<00:00,  1.42it/s]\n[Epoch 17/100] Validation: 100%|██████████| 30/30 [00:06<00:00,  4.79it/s]\n",
     "output_type": "stream"
    },
    {
     "name": "stdout",
     "text": "New best model with AUC PR: 0.1603\nEpoch [17/100] Train Loss: 0.0859 Val Loss: 0.1211 AUC PR: 0.1603 Precision: 0.2632 Recall: 0.1643 F1: 0.2023\n",
     "output_type": "stream"
    },
    {
     "name": "stderr",
     "text": "[Epoch 18/100] Training: 100%|██████████| 235/235 [02:45<00:00,  1.42it/s]\n[Epoch 18/100] Validation: 100%|██████████| 30/30 [00:06<00:00,  4.91it/s]\n",
     "output_type": "stream"
    },
    {
     "name": "stdout",
     "text": "Epoch [18/100] Train Loss: 0.0856 Val Loss: 0.1213 AUC PR: 0.1596 Precision: 0.2613 Recall: 0.1906 F1: 0.2204\n",
     "output_type": "stream"
    },
    {
     "name": "stderr",
     "text": "[Epoch 19/100] Training: 100%|██████████| 235/235 [02:47<00:00,  1.40it/s]\n[Epoch 19/100] Validation: 100%|██████████| 30/30 [00:06<00:00,  4.40it/s]\n",
     "output_type": "stream"
    },
    {
     "name": "stdout",
     "text": "New best model with AUC PR: 0.1607\nEpoch [19/100] Train Loss: 0.0854 Val Loss: 0.1214 AUC PR: 0.1607 Precision: 0.2613 Recall: 0.1976 F1: 0.2250\n",
     "output_type": "stream"
    },
    {
     "name": "stderr",
     "text": "[Epoch 20/100] Training: 100%|██████████| 235/235 [02:49<00:00,  1.39it/s]\n[Epoch 20/100] Validation: 100%|██████████| 30/30 [00:06<00:00,  4.66it/s]\n",
     "output_type": "stream"
    },
    {
     "name": "stdout",
     "text": "New best model with AUC PR: 0.1612\nEpoch [20/100] Train Loss: 0.0852 Val Loss: 0.1211 AUC PR: 0.1612 Precision: 0.2593 Recall: 0.2219 F1: 0.2392\n",
     "output_type": "stream"
    },
    {
     "name": "stderr",
     "text": "[Epoch 21/100] Training: 100%|██████████| 235/235 [02:48<00:00,  1.40it/s]\n[Epoch 21/100] Validation: 100%|██████████| 30/30 [00:06<00:00,  4.72it/s]\n",
     "output_type": "stream"
    },
    {
     "name": "stdout",
     "text": "New best model with AUC PR: 0.1623\nEpoch [21/100] Train Loss: 0.0846 Val Loss: 0.1201 AUC PR: 0.1623 Precision: 0.2596 Recall: 0.2239 F1: 0.2404\n",
     "output_type": "stream"
    },
    {
     "name": "stderr",
     "text": "[Epoch 22/100] Training: 100%|██████████| 235/235 [02:47<00:00,  1.40it/s]\n[Epoch 22/100] Validation: 100%|██████████| 30/30 [00:06<00:00,  4.74it/s]\n",
     "output_type": "stream"
    },
    {
     "name": "stdout",
     "text": "New best model with AUC PR: 0.1627\nEpoch [22/100] Train Loss: 0.0850 Val Loss: 0.1206 AUC PR: 0.1627 Precision: 0.2584 Recall: 0.2320 F1: 0.2445\n",
     "output_type": "stream"
    },
    {
     "name": "stderr",
     "text": "[Epoch 23/100] Training: 100%|██████████| 235/235 [02:47<00:00,  1.40it/s]\n[Epoch 23/100] Validation: 100%|██████████| 30/30 [00:06<00:00,  4.75it/s]\n",
     "output_type": "stream"
    },
    {
     "name": "stdout",
     "text": "New best model with AUC PR: 0.1639\nEpoch [23/100] Train Loss: 0.0848 Val Loss: 0.1203 AUC PR: 0.1639 Precision: 0.2670 Recall: 0.1584 F1: 0.1988\n",
     "output_type": "stream"
    },
    {
     "name": "stderr",
     "text": "[Epoch 24/100] Training: 100%|██████████| 235/235 [02:48<00:00,  1.40it/s]\n[Epoch 24/100] Validation: 100%|██████████| 30/30 [00:06<00:00,  4.82it/s]\n",
     "output_type": "stream"
    },
    {
     "name": "stdout",
     "text": "Epoch [24/100] Train Loss: 0.0841 Val Loss: 0.1192 AUC PR: 0.1636 Precision: 0.2591 Recall: 0.2286 F1: 0.2429\n",
     "output_type": "stream"
    },
    {
     "name": "stderr",
     "text": "[Epoch 25/100] Training: 100%|██████████| 235/235 [02:49<00:00,  1.38it/s]\n[Epoch 25/100] Validation: 100%|██████████| 30/30 [00:06<00:00,  4.36it/s]\n",
     "output_type": "stream"
    },
    {
     "name": "stdout",
     "text": "New best model with AUC PR: 0.1642\nEpoch [25/100] Train Loss: 0.0842 Val Loss: 0.1199 AUC PR: 0.1642 Precision: 0.2577 Recall: 0.2407 F1: 0.2489\n",
     "output_type": "stream"
    },
    {
     "name": "stderr",
     "text": "[Epoch 26/100] Training: 100%|██████████| 235/235 [02:48<00:00,  1.39it/s]\n[Epoch 26/100] Validation: 100%|██████████| 30/30 [00:06<00:00,  4.72it/s]\n",
     "output_type": "stream"
    },
    {
     "name": "stdout",
     "text": "Epoch [26/100] Train Loss: 0.0837 Val Loss: 0.1208 AUC PR: 0.1636 Precision: 0.2575 Recall: 0.2381 F1: 0.2474\n",
     "output_type": "stream"
    },
    {
     "name": "stderr",
     "text": "[Epoch 27/100] Training: 100%|██████████| 235/235 [02:47<00:00,  1.40it/s]\n[Epoch 27/100] Validation: 100%|██████████| 30/30 [00:06<00:00,  4.74it/s]\n",
     "output_type": "stream"
    },
    {
     "name": "stdout",
     "text": "New best model with AUC PR: 0.1662\nEpoch [27/100] Train Loss: 0.0837 Val Loss: 0.1189 AUC PR: 0.1662 Precision: 0.2665 Recall: 0.1926 F1: 0.2236\n",
     "output_type": "stream"
    },
    {
     "name": "stderr",
     "text": "[Epoch 28/100] Training: 100%|██████████| 235/235 [02:45<00:00,  1.42it/s]\n[Epoch 28/100] Validation: 100%|██████████| 30/30 [00:06<00:00,  4.78it/s]\n",
     "output_type": "stream"
    },
    {
     "name": "stdout",
     "text": "Epoch [28/100] Train Loss: 0.0836 Val Loss: 0.1187 AUC PR: 0.1659 Precision: 0.2575 Recall: 0.2497 F1: 0.2535\n",
     "output_type": "stream"
    },
    {
     "name": "stderr",
     "text": "[Epoch 29/100] Training: 100%|██████████| 235/235 [02:50<00:00,  1.38it/s]\n[Epoch 29/100] Validation: 100%|██████████| 30/30 [00:06<00:00,  4.80it/s]\n",
     "output_type": "stream"
    },
    {
     "name": "stdout",
     "text": "Epoch [29/100] Train Loss: 0.0833 Val Loss: 0.1191 AUC PR: 0.1660 Precision: 0.2620 Recall: 0.2271 F1: 0.2433\n",
     "output_type": "stream"
    },
    {
     "name": "stderr",
     "text": "[Epoch 30/100] Training: 100%|██████████| 235/235 [02:47<00:00,  1.40it/s]\n[Epoch 30/100] Validation: 100%|██████████| 30/30 [00:06<00:00,  4.40it/s]\n",
     "output_type": "stream"
    },
    {
     "name": "stdout",
     "text": "New best model with AUC PR: 0.1673\nEpoch [30/100] Train Loss: 0.0830 Val Loss: 0.1191 AUC PR: 0.1673 Precision: 0.2611 Recall: 0.2312 F1: 0.2452\n",
     "output_type": "stream"
    },
    {
     "name": "stderr",
     "text": "[Epoch 31/100] Training: 100%|██████████| 235/235 [02:45<00:00,  1.42it/s]\n[Epoch 31/100] Validation: 100%|██████████| 30/30 [00:06<00:00,  4.55it/s]\n",
     "output_type": "stream"
    },
    {
     "name": "stdout",
     "text": "New best model with AUC PR: 0.1674\nEpoch [31/100] Train Loss: 0.0831 Val Loss: 0.1183 AUC PR: 0.1674 Precision: 0.2635 Recall: 0.2237 F1: 0.2419\n",
     "output_type": "stream"
    },
    {
     "name": "stderr",
     "text": "[Epoch 32/100] Training: 100%|██████████| 235/235 [02:48<00:00,  1.40it/s]\n[Epoch 32/100] Validation: 100%|██████████| 30/30 [00:06<00:00,  4.75it/s]\n",
     "output_type": "stream"
    },
    {
     "name": "stdout",
     "text": "New best model with AUC PR: 0.1689\nEpoch [32/100] Train Loss: 0.0828 Val Loss: 0.1178 AUC PR: 0.1689 Precision: 0.2652 Recall: 0.2236 F1: 0.2426\n",
     "output_type": "stream"
    },
    {
     "name": "stderr",
     "text": "[Epoch 33/100] Training: 100%|██████████| 235/235 [02:46<00:00,  1.42it/s]\n[Epoch 33/100] Validation: 100%|██████████| 30/30 [00:06<00:00,  4.85it/s]\n",
     "output_type": "stream"
    },
    {
     "name": "stdout",
     "text": "Epoch [33/100] Train Loss: 0.0825 Val Loss: 0.1187 AUC PR: 0.1669 Precision: 0.2602 Recall: 0.2364 F1: 0.2478\n",
     "output_type": "stream"
    },
    {
     "name": "stderr",
     "text": "[Epoch 34/100] Training: 100%|██████████| 235/235 [02:47<00:00,  1.40it/s]\n[Epoch 34/100] Validation: 100%|██████████| 30/30 [00:06<00:00,  4.79it/s]\n",
     "output_type": "stream"
    },
    {
     "name": "stdout",
     "text": "New best model with AUC PR: 0.1696\nEpoch [34/100] Train Loss: 0.0827 Val Loss: 0.1174 AUC PR: 0.1696 Precision: 0.2641 Recall: 0.2300 F1: 0.2459\n",
     "output_type": "stream"
    },
    {
     "name": "stderr",
     "text": "[Epoch 35/100] Training: 100%|██████████| 235/235 [02:46<00:00,  1.41it/s]\n[Epoch 35/100] Validation: 100%|██████████| 30/30 [00:06<00:00,  4.75it/s]\n",
     "output_type": "stream"
    },
    {
     "name": "stdout",
     "text": "New best model with AUC PR: 0.1702\nEpoch [35/100] Train Loss: 0.0824 Val Loss: 0.1182 AUC PR: 0.1702 Precision: 0.2709 Recall: 0.1941 F1: 0.2262\n",
     "output_type": "stream"
    },
    {
     "name": "stderr",
     "text": "[Epoch 36/100] Training: 100%|██████████| 235/235 [02:47<00:00,  1.40it/s]\n[Epoch 36/100] Validation: 100%|██████████| 30/30 [00:06<00:00,  4.77it/s]\n",
     "output_type": "stream"
    },
    {
     "name": "stdout",
     "text": "Epoch [36/100] Train Loss: 0.0824 Val Loss: 0.1181 AUC PR: 0.1700 Precision: 0.2653 Recall: 0.2315 F1: 0.2472\n",
     "output_type": "stream"
    },
    {
     "name": "stderr",
     "text": "[Epoch 37/100] Training: 100%|██████████| 235/235 [02:46<00:00,  1.41it/s]\n[Epoch 37/100] Validation: 100%|██████████| 30/30 [00:06<00:00,  4.47it/s]\n",
     "output_type": "stream"
    },
    {
     "name": "stdout",
     "text": "Epoch [37/100] Train Loss: 0.0819 Val Loss: 0.1181 AUC PR: 0.1685 Precision: 0.2602 Recall: 0.2489 F1: 0.2544\n",
     "output_type": "stream"
    },
    {
     "name": "stderr",
     "text": "[Epoch 39/100] Training: 100%|██████████| 235/235 [02:44<00:00,  1.42it/s]\n[Epoch 39/100] Validation: 100%|██████████| 30/30 [00:06<00:00,  4.43it/s]\n",
     "output_type": "stream"
    },
    {
     "name": "stdout",
     "text": "Epoch [39/100] Train Loss: 0.0818 Val Loss: 0.1166 AUC PR: 0.1714 Precision: 0.2604 Recall: 0.2527 F1: 0.2565\n",
     "output_type": "stream"
    },
    {
     "name": "stderr",
     "text": "[Epoch 40/100] Training: 100%|██████████| 235/235 [02:44<00:00,  1.43it/s]\n[Epoch 40/100] Validation: 100%|██████████| 30/30 [00:06<00:00,  4.86it/s]\n",
     "output_type": "stream"
    },
    {
     "name": "stdout",
     "text": "Epoch [40/100] Train Loss: 0.0816 Val Loss: 0.1167 AUC PR: 0.1723 Precision: 0.2636 Recall: 0.2430 F1: 0.2529\n",
     "output_type": "stream"
    },
    {
     "name": "stderr",
     "text": "[Epoch 41/100] Training: 100%|██████████| 235/235 [02:45<00:00,  1.42it/s]\n[Epoch 41/100] Validation: 100%|██████████| 30/30 [00:06<00:00,  4.87it/s]\n",
     "output_type": "stream"
    },
    {
     "name": "stdout",
     "text": "New best model with AUC PR: 0.1725\nEpoch [41/100] Train Loss: 0.0815 Val Loss: 0.1175 AUC PR: 0.1725 Precision: 0.2654 Recall: 0.2337 F1: 0.2486\n",
     "output_type": "stream"
    },
    {
     "name": "stderr",
     "text": "[Epoch 42/100] Training: 100%|██████████| 235/235 [02:44<00:00,  1.43it/s]\n[Epoch 42/100] Validation: 100%|██████████| 30/30 [00:06<00:00,  4.89it/s]\n",
     "output_type": "stream"
    },
    {
     "name": "stdout",
     "text": "New best model with AUC PR: 0.1730\nEpoch [42/100] Train Loss: 0.0815 Val Loss: 0.1157 AUC PR: 0.1730 Precision: 0.2705 Recall: 0.2192 F1: 0.2422\n",
     "output_type": "stream"
    },
    {
     "name": "stderr",
     "text": "[Epoch 43/100] Training: 100%|██████████| 235/235 [02:44<00:00,  1.43it/s]\n[Epoch 43/100] Validation: 100%|██████████| 30/30 [00:06<00:00,  4.83it/s]\n",
     "output_type": "stream"
    },
    {
     "name": "stdout",
     "text": "New best model with AUC PR: 0.1736\nEpoch [43/100] Train Loss: 0.0815 Val Loss: 0.1157 AUC PR: 0.1736 Precision: 0.2678 Recall: 0.2271 F1: 0.2458\n",
     "output_type": "stream"
    },
    {
     "name": "stderr",
     "text": "[Epoch 44/100] Training: 100%|██████████| 235/235 [02:44<00:00,  1.42it/s]\n[Epoch 44/100] Validation: 100%|██████████| 30/30 [00:06<00:00,  4.83it/s]\n",
     "output_type": "stream"
    },
    {
     "name": "stdout",
     "text": "New best model with AUC PR: 0.1742\nEpoch [44/100] Train Loss: 0.0813 Val Loss: 0.1175 AUC PR: 0.1742 Precision: 0.2766 Recall: 0.2000 F1: 0.2322\n",
     "output_type": "stream"
    },
    {
     "name": "stderr",
     "text": "[Epoch 45/100] Training: 100%|██████████| 235/235 [02:43<00:00,  1.44it/s]\n[Epoch 45/100] Validation: 100%|██████████| 30/30 [00:06<00:00,  4.91it/s]\n",
     "output_type": "stream"
    },
    {
     "name": "stdout",
     "text": "New best model with AUC PR: 0.1754\nEpoch [45/100] Train Loss: 0.0810 Val Loss: 0.1161 AUC PR: 0.1754 Precision: 0.2677 Recall: 0.2371 F1: 0.2515\n",
     "output_type": "stream"
    },
    {
     "name": "stderr",
     "text": "[Epoch 47/100] Training: 100%|██████████| 235/235 [02:44<00:00,  1.43it/s]\n[Epoch 47/100] Validation: 100%|██████████| 30/30 [00:06<00:00,  4.87it/s]\n",
     "output_type": "stream"
    },
    {
     "name": "stdout",
     "text": "Epoch [47/100] Train Loss: 0.0808 Val Loss: 0.1163 AUC PR: 0.1750 Precision: 0.2671 Recall: 0.2433 F1: 0.2547\n",
     "output_type": "stream"
    },
    {
     "name": "stderr",
     "text": "[Epoch 48/100] Training: 100%|██████████| 235/235 [02:44<00:00,  1.43it/s]\n[Epoch 48/100] Validation: 100%|██████████| 30/30 [00:06<00:00,  4.88it/s]\n",
     "output_type": "stream"
    },
    {
     "name": "stdout",
     "text": "Epoch [48/100] Train Loss: 0.0806 Val Loss: 0.1166 AUC PR: 0.1761 Precision: 0.2660 Recall: 0.2481 F1: 0.2568\n",
     "output_type": "stream"
    },
    {
     "name": "stderr",
     "text": "[Epoch 49/100] Training: 100%|██████████| 235/235 [02:43<00:00,  1.44it/s]\n[Epoch 49/100] Validation: 100%|██████████| 30/30 [00:06<00:00,  4.86it/s]\n",
     "output_type": "stream"
    },
    {
     "name": "stdout",
     "text": "New best model with AUC PR: 0.1771\nEpoch [49/100] Train Loss: 0.0805 Val Loss: 0.1161 AUC PR: 0.1771 Precision: 0.2756 Recall: 0.2183 F1: 0.2436\n",
     "output_type": "stream"
    },
    {
     "name": "stderr",
     "text": "[Epoch 50/100] Training: 100%|██████████| 235/235 [02:45<00:00,  1.42it/s]\n[Epoch 50/100] Validation: 100%|██████████| 30/30 [00:06<00:00,  4.87it/s]\n",
     "output_type": "stream"
    },
    {
     "name": "stdout",
     "text": "New best model with AUC PR: 0.1771\nEpoch [50/100] Train Loss: 0.0807 Val Loss: 0.1159 AUC PR: 0.1771 Precision: 0.2652 Recall: 0.2530 F1: 0.2590\n",
     "output_type": "stream"
    },
    {
     "name": "stderr",
     "text": "[Epoch 51/100] Training: 100%|██████████| 235/235 [02:45<00:00,  1.42it/s]\n[Epoch 51/100] Validation: 100%|██████████| 30/30 [00:06<00:00,  4.88it/s]\n",
     "output_type": "stream"
    },
    {
     "name": "stdout",
     "text": "New best model with AUC PR: 0.1790\nEpoch [51/100] Train Loss: 0.0801 Val Loss: 0.1161 AUC PR: 0.1790 Precision: 0.2752 Recall: 0.2255 F1: 0.2479\n",
     "output_type": "stream"
    },
    {
     "name": "stderr",
     "text": "[Epoch 53/100] Training: 100%|██████████| 235/235 [02:44<00:00,  1.43it/s]\n[Epoch 53/100] Validation: 100%|██████████| 30/30 [00:06<00:00,  4.85it/s]\n",
     "output_type": "stream"
    },
    {
     "name": "stdout",
     "text": "Epoch [53/100] Train Loss: 0.0802 Val Loss: 0.1163 AUC PR: 0.1776 Precision: 0.2683 Recall: 0.2456 F1: 0.2565\n",
     "output_type": "stream"
    },
    {
     "name": "stderr",
     "text": "[Epoch 54/100] Training:  56%|█████▌    | 131/235 [01:32<01:11,  1.46it/s]",
     "output_type": "stream"
    },
    {
     "name": "stdout",
     "text": "New best model with AUC PR: 0.1795\nEpoch [54/100] Train Loss: 0.0802 Val Loss: 0.1157 AUC PR: 0.1795 Precision: 0.2705 Recall: 0.2453 F1: 0.2573\n",
     "output_type": "stream"
    },
    {
     "name": "stderr",
     "text": "[Epoch 55/100] Training: 100%|██████████| 235/235 [02:45<00:00,  1.42it/s]\n[Epoch 55/100] Validation: 100%|██████████| 30/30 [00:06<00:00,  4.41it/s]\n",
     "output_type": "stream"
    },
    {
     "name": "stdout",
     "text": "New best model with AUC PR: 0.1804\nEpoch [55/100] Train Loss: 0.0799 Val Loss: 0.1153 AUC PR: 0.1804 Precision: 0.2704 Recall: 0.2490 F1: 0.2592\n",
     "output_type": "stream"
    },
    {
     "name": "stderr",
     "text": "[Epoch 56/100] Training: 100%|██████████| 235/235 [02:44<00:00,  1.43it/s]\n[Epoch 56/100] Validation: 100%|██████████| 30/30 [00:06<00:00,  4.47it/s]\n",
     "output_type": "stream"
    },
    {
     "name": "stdout",
     "text": "Epoch [56/100] Train Loss: 0.0801 Val Loss: 0.1168 AUC PR: 0.1796 Precision: 0.2721 Recall: 0.2390 F1: 0.2545\n",
     "output_type": "stream"
    },
    {
     "name": "stderr",
     "text": "[Epoch 57/100] Training: 100%|██████████| 235/235 [02:46<00:00,  1.41it/s]\n[Epoch 57/100] Validation: 100%|██████████| 30/30 [00:06<00:00,  4.78it/s]\n",
     "output_type": "stream"
    },
    {
     "name": "stdout",
     "text": "New best model with AUC PR: 0.1807\nEpoch [57/100] Train Loss: 0.0798 Val Loss: 0.1153 AUC PR: 0.1807 Precision: 0.2653 Recall: 0.2619 F1: 0.2636\n",
     "output_type": "stream"
    },
    {
     "name": "stderr",
     "text": "[Epoch 58/100] Training: 100%|██████████| 235/235 [02:45<00:00,  1.42it/s]\n[Epoch 58/100] Validation: 100%|██████████| 30/30 [00:06<00:00,  4.92it/s]\n",
     "output_type": "stream"
    },
    {
     "name": "stdout",
     "text": "Epoch [58/100] Train Loss: 0.0797 Val Loss: 0.1147 AUC PR: 0.1804 Precision: 0.2715 Recall: 0.2473 F1: 0.2588\n",
     "output_type": "stream"
    },
    {
     "name": "stderr",
     "text": "[Epoch 59/100] Training: 100%|██████████| 235/235 [02:44<00:00,  1.43it/s]\n[Epoch 59/100] Validation: 100%|██████████| 30/30 [00:06<00:00,  4.89it/s]\n",
     "output_type": "stream"
    },
    {
     "name": "stdout",
     "text": "Epoch [59/100] Train Loss: 0.0794 Val Loss: 0.1151 AUC PR: 0.1798 Precision: 0.2694 Recall: 0.2522 F1: 0.2605\n",
     "output_type": "stream"
    },
    {
     "name": "stderr",
     "text": "[Epoch 61/100] Training: 100%|██████████| 235/235 [02:45<00:00,  1.42it/s]\n[Epoch 61/100] Validation: 100%|██████████| 30/30 [00:06<00:00,  4.91it/s]\n",
     "output_type": "stream"
    },
    {
     "name": "stdout",
     "text": "New best model with AUC PR: 0.1811\nEpoch [61/100] Train Loss: 0.0796 Val Loss: 0.1173 AUC PR: 0.1811 Precision: 0.2723 Recall: 0.2496 F1: 0.2604\n",
     "output_type": "stream"
    },
    {
     "name": "stderr",
     "text": "[Epoch 62/100] Training:  52%|█████▏    | 122/235 [01:25<01:17,  1.45it/s]",
     "output_type": "stream"
    },
    {
     "name": "stdout",
     "text": "New best model with AUC PR: 0.1812\nEpoch [62/100] Train Loss: 0.0795 Val Loss: 0.1162 AUC PR: 0.1812 Precision: 0.2758 Recall: 0.2380 F1: 0.2555\n",
     "output_type": "stream"
    },
    {
     "name": "stderr",
     "text": "[Epoch 63/100] Training: 100%|██████████| 235/235 [02:44<00:00,  1.43it/s]\n[Epoch 63/100] Validation: 100%|██████████| 30/30 [00:06<00:00,  4.86it/s]\n",
     "output_type": "stream"
    },
    {
     "name": "stdout",
     "text": "New best model with AUC PR: 0.1823\nEpoch [63/100] Train Loss: 0.0794 Val Loss: 0.1160 AUC PR: 0.1823 Precision: 0.2814 Recall: 0.2309 F1: 0.2536\n",
     "output_type": "stream"
    },
    {
     "name": "stderr",
     "text": "[Epoch 64/100] Training: 100%|██████████| 235/235 [02:44<00:00,  1.43it/s]\n[Epoch 64/100] Validation: 100%|██████████| 30/30 [00:06<00:00,  4.84it/s]\n",
     "output_type": "stream"
    },
    {
     "name": "stdout",
     "text": "Epoch [64/100] Train Loss: 0.0792 Val Loss: 0.1141 AUC PR: 0.1821 Precision: 0.2629 Recall: 0.2776 F1: 0.2701\n",
     "output_type": "stream"
    },
    {
     "name": "stderr",
     "text": "[Epoch 65/100] Training: 100%|██████████| 235/235 [02:46<00:00,  1.41it/s]\n[Epoch 65/100] Validation: 100%|██████████| 30/30 [00:06<00:00,  4.84it/s]\n",
     "output_type": "stream"
    },
    {
     "name": "stdout",
     "text": "New best model with AUC PR: 0.1826\nEpoch [65/100] Train Loss: 0.0793 Val Loss: 0.1156 AUC PR: 0.1826 Precision: 0.2703 Recall: 0.2604 F1: 0.2653\n",
     "output_type": "stream"
    },
    {
     "name": "stderr",
     "text": "[Epoch 66/100] Training: 100%|██████████| 235/235 [02:45<00:00,  1.42it/s]\n[Epoch 66/100] Validation: 100%|██████████| 30/30 [00:06<00:00,  4.83it/s]\n",
     "output_type": "stream"
    },
    {
     "name": "stdout",
     "text": "Epoch [66/100] Train Loss: 0.0791 Val Loss: 0.1154 AUC PR: 0.1825 Precision: 0.2710 Recall: 0.2575 F1: 0.2641\n",
     "output_type": "stream"
    },
    {
     "name": "stderr",
     "text": "[Epoch 67/100] Training: 100%|██████████| 235/235 [02:44<00:00,  1.43it/s]\n[Epoch 67/100] Validation: 100%|██████████| 30/30 [00:06<00:00,  4.95it/s]\n",
     "output_type": "stream"
    },
    {
     "name": "stdout",
     "text": "New best model with AUC PR: 0.1844\nEpoch [67/100] Train Loss: 0.0790 Val Loss: 0.1157 AUC PR: 0.1844 Precision: 0.2805 Recall: 0.2339 F1: 0.2551\n",
     "output_type": "stream"
    },
    {
     "name": "stderr",
     "text": "[Epoch 69/100] Training: 100%|██████████| 235/235 [02:45<00:00,  1.42it/s]\n[Epoch 69/100] Validation: 100%|██████████| 30/30 [00:06<00:00,  4.43it/s]\n",
     "output_type": "stream"
    },
    {
     "name": "stdout",
     "text": "Epoch [69/100] Train Loss: 0.0790 Val Loss: 0.1146 AUC PR: 0.1826 Precision: 0.2763 Recall: 0.2451 F1: 0.2598\n",
     "output_type": "stream"
    },
    {
     "name": "stderr",
     "text": "[Epoch 70/100] Training: 100%|██████████| 235/235 [02:44<00:00,  1.43it/s]\n[Epoch 70/100] Validation: 100%|██████████| 30/30 [00:06<00:00,  4.46it/s]\n",
     "output_type": "stream"
    },
    {
     "name": "stdout",
     "text": "Epoch [70/100] Train Loss: 0.0785 Val Loss: 0.1149 AUC PR: 0.1836 Precision: 0.2720 Recall: 0.2616 F1: 0.2667\n",
     "output_type": "stream"
    },
    {
     "name": "stderr",
     "text": "[Epoch 71/100] Training: 100%|██████████| 235/235 [02:43<00:00,  1.44it/s]\n[Epoch 71/100] Validation: 100%|██████████| 30/30 [00:06<00:00,  4.56it/s]\n",
     "output_type": "stream"
    },
    {
     "name": "stdout",
     "text": "Epoch [71/100] Train Loss: 0.0786 Val Loss: 0.1151 AUC PR: 0.1834 Precision: 0.2719 Recall: 0.2571 F1: 0.2643\n",
     "output_type": "stream"
    },
    {
     "name": "stderr",
     "text": "[Epoch 72/100] Training: 100%|██████████| 235/235 [02:42<00:00,  1.44it/s]\n[Epoch 72/100] Validation: 100%|██████████| 30/30 [00:06<00:00,  4.49it/s]\n",
     "output_type": "stream"
    },
    {
     "name": "stdout",
     "text": "New best model with AUC PR: 0.1856\nEpoch [72/100] Train Loss: 0.0788 Val Loss: 0.1153 AUC PR: 0.1856 Precision: 0.2812 Recall: 0.2411 F1: 0.2596\n",
     "output_type": "stream"
    },
    {
     "name": "stderr",
     "text": "[Epoch 73/100] Training: 100%|██████████| 235/235 [02:42<00:00,  1.45it/s]\n[Epoch 73/100] Validation: 100%|██████████| 30/30 [00:06<00:00,  4.47it/s]\n",
     "output_type": "stream"
    },
    {
     "name": "stdout",
     "text": "Epoch [73/100] Train Loss: 0.0786 Val Loss: 0.1142 AUC PR: 0.1853 Precision: 0.2722 Recall: 0.2616 F1: 0.2668\n",
     "output_type": "stream"
    },
    {
     "name": "stderr",
     "text": "[Epoch 74/100] Training: 100%|██████████| 235/235 [02:43<00:00,  1.44it/s]\n[Epoch 74/100] Validation: 100%|██████████| 30/30 [00:06<00:00,  4.53it/s]\n",
     "output_type": "stream"
    },
    {
     "name": "stdout",
     "text": "Epoch [74/100] Train Loss: 0.0784 Val Loss: 0.1165 AUC PR: 0.1839 Precision: 0.2655 Recall: 0.2738 F1: 0.2696\n",
     "output_type": "stream"
    },
    {
     "name": "stderr",
     "text": "[Epoch 76/100] Training: 100%|██████████| 235/235 [02:43<00:00,  1.44it/s]\n[Epoch 76/100] Validation: 100%|██████████| 30/30 [00:06<00:00,  4.50it/s]\n",
     "output_type": "stream"
    },
    {
     "name": "stdout",
     "text": "New best model with AUC PR: 0.1872\nEpoch [76/100] Train Loss: 0.0783 Val Loss: 0.1143 AUC PR: 0.1872 Precision: 0.2790 Recall: 0.2512 F1: 0.2644\n",
     "output_type": "stream"
    },
    {
     "name": "stderr",
     "text": "[Epoch 77/100] Training:  52%|█████▏    | 122/235 [01:25<01:15,  1.49it/s]",
     "output_type": "stream"
    },
    {
     "name": "stdout",
     "text": "Epoch [77/100] Train Loss: 0.0780 Val Loss: 0.1145 AUC PR: 0.1860 Precision: 0.2752 Recall: 0.2557 F1: 0.2651\n",
     "output_type": "stream"
    },
    {
     "name": "stderr",
     "text": "[Epoch 78/100] Training: 100%|██████████| 235/235 [02:45<00:00,  1.42it/s]\n[Epoch 78/100] Validation: 100%|██████████| 30/30 [00:06<00:00,  4.80it/s]\n",
     "output_type": "stream"
    },
    {
     "name": "stdout",
     "text": "Epoch [78/100] Train Loss: 0.0782 Val Loss: 0.1151 AUC PR: 0.1859 Precision: 0.2830 Recall: 0.2354 F1: 0.2570\n",
     "output_type": "stream"
    },
    {
     "name": "stderr",
     "text": "[Epoch 79/100] Training: 100%|██████████| 235/235 [02:46<00:00,  1.41it/s]\n[Epoch 79/100] Validation: 100%|██████████| 30/30 [00:06<00:00,  4.85it/s]\n",
     "output_type": "stream"
    },
    {
     "name": "stdout",
     "text": "Epoch [79/100] Train Loss: 0.0781 Val Loss: 0.1159 AUC PR: 0.1864 Precision: 0.2709 Recall: 0.2713 F1: 0.2711\n",
     "output_type": "stream"
    },
    {
     "name": "stderr",
     "text": "[Epoch 81/100] Training: 100%|██████████| 235/235 [02:44<00:00,  1.43it/s]\n[Epoch 81/100] Validation: 100%|██████████| 30/30 [00:06<00:00,  4.85it/s]\n",
     "output_type": "stream"
    },
    {
     "name": "stdout",
     "text": "New best model with AUC PR: 0.1874\nEpoch [81/100] Train Loss: 0.0782 Val Loss: 0.1156 AUC PR: 0.1874 Precision: 0.2834 Recall: 0.2427 F1: 0.2615\n",
     "output_type": "stream"
    },
    {
     "name": "stderr",
     "text": "[Epoch 82/100] Training: 100%|██████████| 235/235 [02:43<00:00,  1.44it/s]\n[Epoch 82/100] Validation: 100%|██████████| 30/30 [00:06<00:00,  4.90it/s]\n",
     "output_type": "stream"
    },
    {
     "name": "stdout",
     "text": "Epoch [82/100] Train Loss: 0.0780 Val Loss: 0.1145 AUC PR: 0.1864 Precision: 0.2770 Recall: 0.2544 F1: 0.2652\n",
     "output_type": "stream"
    },
    {
     "name": "stderr",
     "text": "[Epoch 83/100] Training: 100%|██████████| 235/235 [02:44<00:00,  1.43it/s]\n[Epoch 83/100] Validation: 100%|██████████| 30/30 [00:06<00:00,  4.83it/s]\n",
     "output_type": "stream"
    },
    {
     "name": "stdout",
     "text": "Epoch [83/100] Train Loss: 0.0778 Val Loss: 0.1158 AUC PR: 0.1845 Precision: 0.2674 Recall: 0.2768 F1: 0.2720\n",
     "output_type": "stream"
    },
    {
     "name": "stderr",
     "text": "[Epoch 84/100] Training: 100%|██████████| 235/235 [02:43<00:00,  1.44it/s]\n[Epoch 84/100] Validation: 100%|██████████| 30/30 [00:06<00:00,  4.89it/s]\n",
     "output_type": "stream"
    },
    {
     "name": "stdout",
     "text": "Epoch [84/100] Train Loss: 0.0777 Val Loss: 0.1153 AUC PR: 0.1865 Precision: 0.2738 Recall: 0.2671 F1: 0.2704\n",
     "output_type": "stream"
    },
    {
     "name": "stderr",
     "text": "[Epoch 85/100] Training: 100%|██████████| 235/235 [02:43<00:00,  1.44it/s]\n[Epoch 85/100] Validation: 100%|██████████| 30/30 [00:06<00:00,  4.91it/s]\n",
     "output_type": "stream"
    },
    {
     "name": "stdout",
     "text": "Epoch [85/100] Train Loss: 0.0780 Val Loss: 0.1159 AUC PR: 0.1858 Precision: 0.2628 Recall: 0.2884 F1: 0.2750\n",
     "output_type": "stream"
    },
    {
     "name": "stderr",
     "text": "[Epoch 86/100] Training: 100%|██████████| 235/235 [02:44<00:00,  1.43it/s]\n[Epoch 87/100] Training: 100%|██████████| 235/235 [02:44<00:00,  1.43it/s]\n[Epoch 87/100] Validation: 100%|██████████| 30/30 [00:06<00:00,  4.90it/s]\n",
     "output_type": "stream"
    },
    {
     "name": "stdout",
     "text": "Epoch [87/100] Train Loss: 0.0775 Val Loss: 0.1156 AUC PR: 0.1863 Precision: 0.2694 Recall: 0.2740 F1: 0.2717\n",
     "output_type": "stream"
    },
    {
     "name": "stderr",
     "text": "[Epoch 88/100] Training:  58%|█████▊    | 136/235 [01:35<01:08,  1.44it/s]",
     "output_type": "stream"
    },
    {
     "name": "stdout",
     "text": "Epoch [88/100] Train Loss: 0.0776 Val Loss: 0.1157 AUC PR: 0.1861 Precision: 0.2728 Recall: 0.2649 F1: 0.2688\n",
     "output_type": "stream"
    },
    {
     "name": "stderr",
     "text": "[Epoch 89/100] Training: 100%|██████████| 235/235 [02:43<00:00,  1.43it/s]\n[Epoch 89/100] Validation: 100%|██████████| 30/30 [00:06<00:00,  4.92it/s]\n",
     "output_type": "stream"
    },
    {
     "name": "stdout",
     "text": "New best model with AUC PR: 0.1885\nEpoch [89/100] Train Loss: 0.0775 Val Loss: 0.1157 AUC PR: 0.1885 Precision: 0.2791 Recall: 0.2593 F1: 0.2688\n",
     "output_type": "stream"
    },
    {
     "name": "stderr",
     "text": "[Epoch 90/100] Training: 100%|██████████| 235/235 [02:43<00:00,  1.44it/s]\n[Epoch 90/100] Validation: 100%|██████████| 30/30 [00:06<00:00,  4.88it/s]\n",
     "output_type": "stream"
    },
    {
     "name": "stdout",
     "text": "Epoch [90/100] Train Loss: 0.0777 Val Loss: 0.1160 AUC PR: 0.1863 Precision: 0.2763 Recall: 0.2580 F1: 0.2668\n",
     "output_type": "stream"
    },
    {
     "name": "stderr",
     "text": "[Epoch 92/100] Training: 100%|██████████| 235/235 [02:43<00:00,  1.44it/s]\n[Epoch 92/100] Validation: 100%|██████████| 30/30 [00:06<00:00,  4.86it/s]\n",
     "output_type": "stream"
    },
    {
     "name": "stdout",
     "text": "Epoch [92/100] Train Loss: 0.0774 Val Loss: 0.1147 AUC PR: 0.1882 Precision: 0.2679 Recall: 0.2835 F1: 0.2755\n",
     "output_type": "stream"
    },
    {
     "name": "stderr",
     "text": "[Epoch 93/100] Training: 100%|██████████| 235/235 [02:44<00:00,  1.43it/s]\n[Epoch 93/100] Validation: 100%|██████████| 30/30 [00:06<00:00,  4.90it/s]\n",
     "output_type": "stream"
    },
    {
     "name": "stdout",
     "text": "Epoch [93/100] Train Loss: 0.0772 Val Loss: 0.1153 AUC PR: 0.1871 Precision: 0.2714 Recall: 0.2731 F1: 0.2723\n",
     "output_type": "stream"
    },
    {
     "name": "stderr",
     "text": "[Epoch 94/100] Training: 100%|██████████| 235/235 [02:44<00:00,  1.43it/s]\n[Epoch 94/100] Validation: 100%|██████████| 30/30 [00:06<00:00,  4.75it/s]\n",
     "output_type": "stream"
    },
    {
     "name": "stdout",
     "text": "Epoch [94/100] Train Loss: 0.0774 Val Loss: 0.1148 AUC PR: 0.1858 Precision: 0.2673 Recall: 0.2824 F1: 0.2747\n",
     "output_type": "stream"
    },
    {
     "name": "stderr",
     "text": "[Epoch 95/100] Training: 100%|██████████| 235/235 [02:46<00:00,  1.41it/s]\n[Epoch 95/100] Validation: 100%|██████████| 30/30 [00:06<00:00,  4.88it/s]\n",
     "output_type": "stream"
    },
    {
     "name": "stdout",
     "text": "Epoch [95/100] Train Loss: 0.0775 Val Loss: 0.1143 AUC PR: 0.1885 Precision: 0.2834 Recall: 0.2458 F1: 0.2632\n",
     "output_type": "stream"
    },
    {
     "name": "stderr",
     "text": "[Epoch 96/100] Training: 100%|██████████| 235/235 [02:45<00:00,  1.42it/s]\n[Epoch 96/100] Validation: 100%|██████████| 30/30 [00:06<00:00,  4.52it/s]\n",
     "output_type": "stream"
    },
    {
     "name": "stdout",
     "text": "Epoch [96/100] Train Loss: 0.0773 Val Loss: 0.1145 AUC PR: 0.1869 Precision: 0.2737 Recall: 0.2645 F1: 0.2690\n",
     "output_type": "stream"
    },
    {
     "name": "stderr",
     "text": "[Epoch 97/100] Training: 100%|██████████| 235/235 [02:44<00:00,  1.43it/s]\n[Epoch 97/100] Validation: 100%|██████████| 30/30 [00:06<00:00,  4.40it/s]\n",
     "output_type": "stream"
    },
    {
     "name": "stdout",
     "text": "Epoch [97/100] Train Loss: 0.0770 Val Loss: 0.1143 AUC PR: 0.1866 Precision: 0.2658 Recall: 0.2789 F1: 0.2722\n",
     "output_type": "stream"
    },
    {
     "name": "stderr",
     "text": "[Epoch 98/100] Training: 100%|██████████| 235/235 [02:46<00:00,  1.41it/s]\n[Epoch 98/100] Validation: 100%|██████████| 30/30 [00:06<00:00,  4.45it/s]\n",
     "output_type": "stream"
    },
    {
     "name": "stdout",
     "text": "Epoch [98/100] Train Loss: 0.0771 Val Loss: 0.1166 AUC PR: 0.1889 Precision: 0.2783 Recall: 0.2587 F1: 0.2681\n",
     "output_type": "stream"
    },
    {
     "name": "stderr",
     "text": "[Epoch 99/100] Training: 100%|██████████| 235/235 [02:49<00:00,  1.39it/s]\n[Epoch 99/100] Validation: 100%|██████████| 30/30 [00:06<00:00,  4.76it/s]\n",
     "output_type": "stream"
    },
    {
     "name": "stdout",
     "text": "Epoch [99/100] Train Loss: 0.0771 Val Loss: 0.1155 AUC PR: 0.1882 Precision: 0.2794 Recall: 0.2528 F1: 0.2654\n",
     "output_type": "stream"
    },
    {
     "name": "stderr",
     "text": "[Epoch 100/100] Training: 100%|██████████| 235/235 [02:44<00:00,  1.43it/s]\n[Epoch 100/100] Validation: 100%|██████████| 30/30 [00:06<00:00,  4.92it/s]\n",
     "output_type": "stream"
    },
    {
     "name": "stdout",
     "text": "Epoch [100/100] Train Loss: 0.0769 Val Loss: 0.1151 AUC PR: 0.1887 Precision: 0.2630 Recall: 0.2988 F1: 0.2798\n\nFinal Model Performance:\nAUC PR: 0.1887\nPrecision: 0.2630\nRecall: 0.2988\nF1 Score: 0.2798\n\n🔁 Training with batch size: 128\n",
     "output_type": "stream"
    },
    {
     "name": "stderr",
     "text": "[Epoch 1/100] Training: 100%|██████████| 118/118 [04:21<00:00,  2.21s/it]\n[Epoch 1/100] Validation: 100%|██████████| 15/15 [00:06<00:00,  2.43it/s]\n",
     "output_type": "stream"
    },
    {
     "name": "stdout",
     "text": "New best model with AUC PR: 0.0145\nEpoch [1/100] Train Loss: 0.5829 Val Loss: 0.3595 AUC PR: 0.0145 Precision: 0.0000 Recall: 0.0000 F1: 0.0000\n",
     "output_type": "stream"
    },
    {
     "name": "stderr",
     "text": "[Epoch 2/100] Training: 100%|██████████| 118/118 [04:22<00:00,  2.23s/it]\n[Epoch 2/100] Validation: 100%|██████████| 15/15 [00:06<00:00,  2.45it/s]\n",
     "output_type": "stream"
    },
    {
     "name": "stdout",
     "text": "New best model with AUC PR: 0.0166\nEpoch [2/100] Train Loss: 0.2529 Val Loss: 0.1979 AUC PR: 0.0166 Precision: 0.0000 Recall: 0.0000 F1: 0.0000\n",
     "output_type": "stream"
    },
    {
     "name": "stderr",
     "text": "[Epoch 3/100] Training: 100%|██████████| 118/118 [04:22<00:00,  2.23s/it]\n[Epoch 3/100] Validation: 100%|██████████| 15/15 [00:06<00:00,  2.47it/s]\n",
     "output_type": "stream"
    },
    {
     "name": "stdout",
     "text": "New best model with AUC PR: 0.0330\nEpoch [3/100] Train Loss: 0.1687 Val Loss: 0.1672 AUC PR: 0.0330 Precision: 0.0000 Recall: 0.0000 F1: 0.0000\n",
     "output_type": "stream"
    },
    {
     "name": "stderr",
     "text": "[Epoch 4/100] Training: 100%|██████████| 118/118 [04:19<00:00,  2.20s/it]\n[Epoch 4/100] Validation: 100%|██████████| 15/15 [00:06<00:00,  2.47it/s]\n",
     "output_type": "stream"
    },
    {
     "name": "stdout",
     "text": "New best model with AUC PR: 0.1138\nEpoch [4/100] Train Loss: 0.1425 Val Loss: 0.1405 AUC PR: 0.1138 Precision: 0.2207 Recall: 0.0837 F1: 0.1213\n",
     "output_type": "stream"
    },
    {
     "name": "stderr",
     "text": "[Epoch 5/100] Training: 100%|██████████| 118/118 [04:19<00:00,  2.20s/it]\n[Epoch 5/100] Validation: 100%|██████████| 15/15 [00:06<00:00,  2.44it/s]\n",
     "output_type": "stream"
    },
    {
     "name": "stdout",
     "text": "New best model with AUC PR: 0.1334\nEpoch [5/100] Train Loss: 0.1156 Val Loss: 0.1297 AUC PR: 0.1334 Precision: 0.2339 Recall: 0.1951 F1: 0.2127\n",
     "output_type": "stream"
    },
    {
     "name": "stderr",
     "text": "[Epoch 6/100] Training: 100%|██████████| 118/118 [04:20<00:00,  2.20s/it]\n[Epoch 6/100] Validation: 100%|██████████| 15/15 [00:06<00:00,  2.46it/s]\n",
     "output_type": "stream"
    },
    {
     "name": "stdout",
     "text": "New best model with AUC PR: 0.1399\nEpoch [6/100] Train Loss: 0.1050 Val Loss: 0.1270 AUC PR: 0.1399 Precision: 0.2318 Recall: 0.2710 F1: 0.2499\n",
     "output_type": "stream"
    },
    {
     "name": "stderr",
     "text": "[Epoch 7/100] Training: 100%|██████████| 118/118 [04:24<00:00,  2.24s/it]\n[Epoch 7/100] Validation: 100%|██████████| 15/15 [00:06<00:00,  2.45it/s]\n",
     "output_type": "stream"
    },
    {
     "name": "stdout",
     "text": "New best model with AUC PR: 0.1455\nEpoch [7/100] Train Loss: 0.0995 Val Loss: 0.1258 AUC PR: 0.1455 Precision: 0.2396 Recall: 0.2607 F1: 0.2497\n",
     "output_type": "stream"
    },
    {
     "name": "stderr",
     "text": "[Epoch 8/100] Training: 100%|██████████| 118/118 [04:18<00:00,  2.19s/it]\n[Epoch 8/100] Validation: 100%|██████████| 15/15 [00:06<00:00,  2.47it/s]\n",
     "output_type": "stream"
    },
    {
     "name": "stdout",
     "text": "New best model with AUC PR: 0.1490\nEpoch [8/100] Train Loss: 0.0970 Val Loss: 0.1245 AUC PR: 0.1490 Precision: 0.2453 Recall: 0.2412 F1: 0.2432\n",
     "output_type": "stream"
    },
    {
     "name": "stderr",
     "text": "[Epoch 9/100] Training: 100%|██████████| 118/118 [04:20<00:00,  2.21s/it]\n[Epoch 9/100] Validation: 100%|██████████| 15/15 [00:06<00:00,  2.48it/s]\n",
     "output_type": "stream"
    },
    {
     "name": "stdout",
     "text": "New best model with AUC PR: 0.1502\nEpoch [9/100] Train Loss: 0.0943 Val Loss: 0.1264 AUC PR: 0.1502 Precision: 0.2509 Recall: 0.2202 F1: 0.2346\n",
     "output_type": "stream"
    },
    {
     "name": "stderr",
     "text": "[Epoch 10/100] Training: 100%|██████████| 118/118 [04:22<00:00,  2.22s/it]\n[Epoch 10/100] Validation: 100%|██████████| 15/15 [00:06<00:00,  2.43it/s]\n",
     "output_type": "stream"
    },
    {
     "name": "stdout",
     "text": "New best model with AUC PR: 0.1537\nEpoch [10/100] Train Loss: 0.0930 Val Loss: 0.1241 AUC PR: 0.1537 Precision: 0.2447 Recall: 0.2519 F1: 0.2483\n",
     "output_type": "stream"
    },
    {
     "name": "stderr",
     "text": "[Epoch 11/100] Training: 100%|██████████| 118/118 [04:21<00:00,  2.22s/it]\n[Epoch 11/100] Validation: 100%|██████████| 15/15 [00:06<00:00,  2.26it/s]\n",
     "output_type": "stream"
    },
    {
     "name": "stdout",
     "text": "Epoch [11/100] Train Loss: 0.0922 Val Loss: 0.1245 AUC PR: 0.1532 Precision: 0.2480 Recall: 0.2359 F1: 0.2418\n",
     "output_type": "stream"
    },
    {
     "name": "stderr",
     "text": "[Epoch 12/100] Training: 100%|██████████| 118/118 [04:19<00:00,  2.20s/it]\n[Epoch 12/100] Validation: 100%|██████████| 15/15 [00:06<00:00,  2.25it/s]\n",
     "output_type": "stream"
    },
    {
     "name": "stdout",
     "text": "New best model with AUC PR: 0.1557\nEpoch [12/100] Train Loss: 0.0914 Val Loss: 0.1225 AUC PR: 0.1557 Precision: 0.2456 Recall: 0.2484 F1: 0.2470\n",
     "output_type": "stream"
    },
    {
     "name": "stderr",
     "text": "[Epoch 13/100] Training: 100%|██████████| 118/118 [04:24<00:00,  2.24s/it]\n[Epoch 13/100] Validation: 100%|██████████| 15/15 [00:06<00:00,  2.43it/s]\n",
     "output_type": "stream"
    },
    {
     "name": "stdout",
     "text": "New best model with AUC PR: 0.1572\nEpoch [13/100] Train Loss: 0.0904 Val Loss: 0.1208 AUC PR: 0.1572 Precision: 0.2530 Recall: 0.2069 F1: 0.2276\n",
     "output_type": "stream"
    },
    {
     "name": "stderr",
     "text": "[Epoch 14/100] Training:  58%|█████▊    | 69/118 [02:31<01:45,  2.16s/it]",
     "output_type": "stream"
    }
   ],
   "execution_count": null
  },
  {
   "cell_type": "code",
   "source": "results_df.to_csv(\"batch_size_results.csv\", index=False)",
   "metadata": {
    "trusted": true,
    "execution": {
     "iopub.status.busy": "2025-04-22T14:49:36.713008Z",
     "iopub.execute_input": "2025-04-22T14:49:36.713365Z",
     "iopub.status.idle": "2025-04-22T14:49:36.794845Z",
     "shell.execute_reply.started": "2025-04-22T14:49:36.713338Z",
     "shell.execute_reply": "2025-04-22T14:49:36.793772Z"
    }
   },
   "outputs": [
    {
     "traceback": [
      "\u001B[0;31m---------------------------------------------------------------------------\u001B[0m",
      "\u001B[0;31mNameError\u001B[0m                                 Traceback (most recent call last)",
      "\u001B[0;32m/tmp/ipykernel_31/3259647417.py\u001B[0m in \u001B[0;36m<cell line: 0>\u001B[0;34m()\u001B[0m\n\u001B[0;32m----> 1\u001B[0;31m \u001B[0mresults_df\u001B[0m\u001B[0;34m.\u001B[0m\u001B[0mto_csv\u001B[0m\u001B[0;34m(\u001B[0m\u001B[0;34m\"batch_size_results.csv\"\u001B[0m\u001B[0;34m,\u001B[0m \u001B[0mindex\u001B[0m\u001B[0;34m=\u001B[0m\u001B[0;32mFalse\u001B[0m\u001B[0;34m)\u001B[0m\u001B[0;34m\u001B[0m\u001B[0;34m\u001B[0m\u001B[0m\n\u001B[0m",
      "\u001B[0;31mNameError\u001B[0m: name 'results_df' is not defined"
     ],
     "ename": "NameError",
     "evalue": "name 'results_df' is not defined",
     "output_type": "error"
    }
   ],
   "execution_count": 1
  },
  {
   "cell_type": "code",
   "source": "def plot_training_history_by_batch(histories):\n    plt.figure(figsize=(14, 5))\n\n    # Plot loss for each batch size\n    plt.subplot(1, 2, 1)\n    for batch_size, history in histories.items():\n        epochs = range(1, len(history['train_loss']) + 1)\n        plt.plot(epochs, history['train_loss'], label=f'Train Loss (batch {batch_size})')\n        plt.plot(epochs, history['val_loss'], linestyle='--', label=f'Val Loss (batch {batch_size})')\n    plt.title('Loss Over Epochs by Batch Size')\n    plt.xlabel('Epoch')\n    plt.ylabel('Loss')\n    plt.legend()\n\n    # Plot AUC PR for each batch size\n    plt.subplot(1, 2, 2)\n    for batch_size, history in histories.items():\n        epochs = range(1, len(history['val_auc_pr']) + 1)\n        plt.plot(epochs, history['val_auc_pr'], label=f'AUC PR (batch {batch_size})')\n    plt.title('Validation AUC PR Over Epochs by Batch Size')\n    plt.xlabel('Epoch')\n    plt.ylabel('AUC PR')\n    plt.legend()\n\n    plt.tight_layout()\n    plt.show()",
   "metadata": {
    "trusted": true,
    "execution": {
     "iopub.status.busy": "2025-04-23T02:07:00.729030Z",
     "iopub.execute_input": "2025-04-23T02:07:00.729439Z",
     "iopub.status.idle": "2025-04-23T02:07:00.738869Z",
     "shell.execute_reply.started": "2025-04-23T02:07:00.729397Z",
     "shell.execute_reply": "2025-04-23T02:07:00.737585Z"
    },
    "ExecuteTime": {
     "end_time": "2025-04-24T19:21:23.724996Z",
     "start_time": "2025-04-24T19:21:23.720246Z"
    }
   },
   "outputs": [],
   "execution_count": 52
  },
  {
   "cell_type": "code",
   "source": "plot_training_history_by_batch(histories)",
   "metadata": {
    "trusted": true
   },
   "outputs": [],
   "execution_count": null
  },
  {
   "cell_type": "code",
   "source": "device = 'cuda' if torch.cuda.is_available() else 'cpu'\nbatch = 128\nlearning_rate = 0.0001\nnum_epochs = 100",
   "metadata": {
    "trusted": true,
    "execution": {
     "iopub.status.busy": "2025-04-22T15:19:40.350482Z",
     "iopub.execute_input": "2025-04-22T15:19:40.350832Z",
     "iopub.status.idle": "2025-04-22T15:19:40.355454Z",
     "shell.execute_reply.started": "2025-04-22T15:19:40.350807Z",
     "shell.execute_reply": "2025-04-22T15:19:40.354474Z"
    }
   },
   "outputs": [],
   "execution_count": 23
  },
  {
   "cell_type": "code",
   "source": [
    "results_128 = []\n",
    "histories_128 = {}"
   ],
   "metadata": {
    "trusted": true,
    "execution": {
     "iopub.status.busy": "2025-04-22T15:19:40.809556Z",
     "iopub.execute_input": "2025-04-22T15:19:40.809854Z",
     "iopub.status.idle": "2025-04-22T15:19:40.814193Z",
     "shell.execute_reply.started": "2025-04-22T15:19:40.809834Z",
     "shell.execute_reply": "2025-04-22T15:19:40.813259Z"
    }
   },
   "outputs": [],
   "execution_count": 24
  },
  {
   "cell_type": "code",
   "source": "\nprint(f\"\\n🔁 Training with batch size: {batch}\")\n\n# Fresh model for each run\nmodel = Autoencoder(**params_config)\n\n# DataLoaders for current batch size\ntrain_loader = DataLoader(train_dataset, batch_size=batch, shuffle=True)\nval_loader = DataLoader(val_dataset, batch_size=batch, shuffle=False)\n\n# Train model\nmodel_trained, history, final_metrics = train_model(\n    model,\n    train_loader,\n    val_loader,\n    lr=lr,\n    pos_weight=pos_weight,\n    num_epochs=num_epochs,\n    device=device\n)\n\n# Store results and history\nresults_128.append({\n    'batch_size': batch,\n    'learning_rate': lr,\n    'pos_weight': pos_weight,\n    **final_metrics\n})\nhistories_128[batch] = history\n\n# Save results to CSV for later analysis\nresults_df = pd.DataFrame(results_128)",
   "metadata": {
    "trusted": true,
    "execution": {
     "iopub.status.busy": "2025-04-22T15:22:13.030266Z",
     "iopub.execute_input": "2025-04-22T15:22:13.031134Z",
     "iopub.status.idle": "2025-04-23T02:01:27.172994Z",
     "shell.execute_reply.started": "2025-04-22T15:22:13.031090Z",
     "shell.execute_reply": "2025-04-23T02:01:27.170699Z"
    }
   },
   "outputs": [
    {
     "name": "stdout",
     "text": "\n🔁 Training with batch size: 128\n",
     "output_type": "stream"
    },
    {
     "name": "stderr",
     "text": "[Epoch 1/100] Training: 100%|██████████| 118/118 [05:47<00:00,  2.95s/it]\n[Epoch 1/100] Validation: 100%|██████████| 15/15 [00:07<00:00,  1.90it/s]\n",
     "output_type": "stream"
    },
    {
     "name": "stdout",
     "text": "New best model with AUC PR: 0.0186\nEpoch [1/100] Train Loss: 0.4381 Val Loss: 0.2768 AUC PR: 0.0186 Precision: 0.0000 Recall: 0.0000 F1: 0.0000\n",
     "output_type": "stream"
    },
    {
     "name": "stderr",
     "text": "[Epoch 2/100] Training: 100%|██████████| 118/118 [06:10<00:00,  3.14s/it]\n[Epoch 2/100] Validation: 100%|██████████| 15/15 [00:09<00:00,  1.58it/s]\n",
     "output_type": "stream"
    },
    {
     "name": "stdout",
     "text": "New best model with AUC PR: 0.0246\nEpoch [2/100] Train Loss: 0.2002 Val Loss: 0.1806 AUC PR: 0.0246 Precision: 0.0000 Recall: 0.0000 F1: 0.0000\n",
     "output_type": "stream"
    },
    {
     "name": "stderr",
     "text": "[Epoch 3/100] Training: 100%|██████████| 118/118 [05:43<00:00,  2.91s/it]\n[Epoch 3/100] Validation: 100%|██████████| 15/15 [00:09<00:00,  1.58it/s]\n",
     "output_type": "stream"
    },
    {
     "name": "stdout",
     "text": "New best model with AUC PR: 0.0410\nEpoch [3/100] Train Loss: 0.1530 Val Loss: 0.1598 AUC PR: 0.0410 Precision: 0.0000 Recall: 0.0000 F1: 0.0000\n",
     "output_type": "stream"
    },
    {
     "name": "stderr",
     "text": "[Epoch 4/100] Training: 100%|██████████| 118/118 [06:13<00:00,  3.16s/it]\n[Epoch 4/100] Validation: 100%|██████████| 15/15 [00:09<00:00,  1.51it/s]\n",
     "output_type": "stream"
    },
    {
     "name": "stdout",
     "text": "New best model with AUC PR: 0.1258\nEpoch [4/100] Train Loss: 0.1340 Val Loss: 0.1350 AUC PR: 0.1258 Precision: 0.2389 Recall: 0.1277 F1: 0.1664\n",
     "output_type": "stream"
    },
    {
     "name": "stderr",
     "text": "[Epoch 5/100] Training: 100%|██████████| 118/118 [06:04<00:00,  3.09s/it]\n[Epoch 5/100] Validation: 100%|██████████| 15/15 [00:09<00:00,  1.57it/s]\n",
     "output_type": "stream"
    },
    {
     "name": "stdout",
     "text": "New best model with AUC PR: 0.1438\nEpoch [5/100] Train Loss: 0.1099 Val Loss: 0.1260 AUC PR: 0.1438 Precision: 0.2301 Recall: 0.2739 F1: 0.2501\n",
     "output_type": "stream"
    },
    {
     "name": "stderr",
     "text": "[Epoch 7/100] Training: 100%|██████████| 118/118 [06:06<00:00,  3.11s/it]\n[Epoch 7/100] Validation: 100%|██████████| 15/15 [00:09<00:00,  1.60it/s]\n",
     "output_type": "stream"
    },
    {
     "name": "stdout",
     "text": "New best model with AUC PR: 0.1522\nEpoch [7/100] Train Loss: 0.0966 Val Loss: 0.1233 AUC PR: 0.1522 Precision: 0.2472 Recall: 0.2171 F1: 0.2312\n",
     "output_type": "stream"
    },
    {
     "name": "stderr",
     "text": "[Epoch 8/100] Training: 100%|██████████| 118/118 [05:45<00:00,  2.93s/it]\n[Epoch 8/100] Validation: 100%|██████████| 15/15 [00:09<00:00,  1.55it/s]\n",
     "output_type": "stream"
    },
    {
     "name": "stdout",
     "text": "Epoch [8/100] Train Loss: 0.0942 Val Loss: 0.1238 AUC PR: 0.1521 Precision: 0.2482 Recall: 0.2068 F1: 0.2256\n",
     "output_type": "stream"
    },
    {
     "name": "stderr",
     "text": "[Epoch 9/100] Training: 100%|██████████| 118/118 [05:40<00:00,  2.89s/it]\n[Epoch 9/100] Validation: 100%|██████████| 15/15 [00:09<00:00,  1.60it/s]\n",
     "output_type": "stream"
    },
    {
     "name": "stdout",
     "text": "New best model with AUC PR: 0.1526\nEpoch [9/100] Train Loss: 0.0926 Val Loss: 0.1234 AUC PR: 0.1526 Precision: 0.2459 Recall: 0.2439 F1: 0.2449\n",
     "output_type": "stream"
    },
    {
     "name": "stderr",
     "text": "[Epoch 10/100] Training: 100%|██████████| 118/118 [05:44<00:00,  2.92s/it]\n[Epoch 10/100] Validation: 100%|██████████| 15/15 [00:10<00:00,  1.49it/s]\n",
     "output_type": "stream"
    },
    {
     "name": "stdout",
     "text": "New best model with AUC PR: 0.1529\nEpoch [10/100] Train Loss: 0.0915 Val Loss: 0.1226 AUC PR: 0.1529 Precision: 0.2493 Recall: 0.2207 F1: 0.2341\n",
     "output_type": "stream"
    },
    {
     "name": "stderr",
     "text": "[Epoch 11/100] Training: 100%|██████████| 118/118 [05:42<00:00,  2.90s/it]\n[Epoch 11/100] Validation: 100%|██████████| 15/15 [00:10<00:00,  1.49it/s]\n",
     "output_type": "stream"
    },
    {
     "name": "stdout",
     "text": "New best model with AUC PR: 0.1547\nEpoch [11/100] Train Loss: 0.0908 Val Loss: 0.1235 AUC PR: 0.1547 Precision: 0.2542 Recall: 0.1985 F1: 0.2229\n",
     "output_type": "stream"
    },
    {
     "name": "stderr",
     "text": "[Epoch 12/100] Training: 100%|██████████| 118/118 [05:50<00:00,  2.97s/it]\n[Epoch 12/100] Validation: 100%|██████████| 15/15 [00:09<00:00,  1.51it/s]\n",
     "output_type": "stream"
    },
    {
     "name": "stdout",
     "text": "New best model with AUC PR: 0.1548\nEpoch [12/100] Train Loss: 0.0902 Val Loss: 0.1222 AUC PR: 0.1548 Precision: 0.2453 Recall: 0.2494 F1: 0.2474\n",
     "output_type": "stream"
    },
    {
     "name": "stderr",
     "text": "[Epoch 13/100] Training: 100%|██████████| 118/118 [05:49<00:00,  2.96s/it]\n[Epoch 13/100] Validation: 100%|██████████| 15/15 [00:09<00:00,  1.56it/s]\n",
     "output_type": "stream"
    },
    {
     "name": "stdout",
     "text": "New best model with AUC PR: 0.1560\nEpoch [13/100] Train Loss: 0.0893 Val Loss: 0.1225 AUC PR: 0.1560 Precision: 0.2547 Recall: 0.2077 F1: 0.2288\n",
     "output_type": "stream"
    },
    {
     "name": "stderr",
     "text": "[Epoch 14/100] Training: 100%|██████████| 118/118 [05:46<00:00,  2.93s/it]\n[Epoch 14/100] Validation: 100%|██████████| 15/15 [00:09<00:00,  1.58it/s]\n",
     "output_type": "stream"
    },
    {
     "name": "stdout",
     "text": "New best model with AUC PR: 0.1562\nEpoch [14/100] Train Loss: 0.0891 Val Loss: 0.1218 AUC PR: 0.1562 Precision: 0.2508 Recall: 0.2323 F1: 0.2412\n",
     "output_type": "stream"
    },
    {
     "name": "stderr",
     "text": "[Epoch 15/100] Training: 100%|██████████| 118/118 [05:45<00:00,  2.93s/it]\n[Epoch 15/100] Validation: 100%|██████████| 15/15 [00:09<00:00,  1.58it/s]\n",
     "output_type": "stream"
    },
    {
     "name": "stdout",
     "text": "New best model with AUC PR: 0.1576\nEpoch [15/100] Train Loss: 0.0884 Val Loss: 0.1218 AUC PR: 0.1576 Precision: 0.2579 Recall: 0.1945 F1: 0.2218\n",
     "output_type": "stream"
    },
    {
     "name": "stderr",
     "text": "[Epoch 16/100] Training: 100%|██████████| 118/118 [05:47<00:00,  2.95s/it]\n[Epoch 16/100] Validation: 100%|██████████| 15/15 [00:09<00:00,  1.58it/s]\n",
     "output_type": "stream"
    },
    {
     "name": "stdout",
     "text": "New best model with AUC PR: 0.1578\nEpoch [16/100] Train Loss: 0.0879 Val Loss: 0.1228 AUC PR: 0.1578 Precision: 0.2582 Recall: 0.1989 F1: 0.2247\n",
     "output_type": "stream"
    },
    {
     "name": "stderr",
     "text": "[Epoch 17/100] Training: 100%|██████████| 118/118 [05:47<00:00,  2.95s/it]\n[Epoch 17/100] Validation: 100%|██████████| 15/15 [00:09<00:00,  1.58it/s]\n",
     "output_type": "stream"
    },
    {
     "name": "stdout",
     "text": "New best model with AUC PR: 0.1588\nEpoch [17/100] Train Loss: 0.0875 Val Loss: 0.1210 AUC PR: 0.1588 Precision: 0.2580 Recall: 0.2012 F1: 0.2261\n",
     "output_type": "stream"
    },
    {
     "name": "stderr",
     "text": "[Epoch 18/100] Training: 100%|██████████| 118/118 [05:42<00:00,  2.90s/it]\n[Epoch 18/100] Validation: 100%|██████████| 15/15 [00:10<00:00,  1.48it/s]\n",
     "output_type": "stream"
    },
    {
     "name": "stdout",
     "text": "Epoch [18/100] Train Loss: 0.0874 Val Loss: 0.1216 AUC PR: 0.1580 Precision: 0.2535 Recall: 0.2210 F1: 0.2361\n",
     "output_type": "stream"
    },
    {
     "name": "stderr",
     "text": "[Epoch 19/100] Training: 100%|██████████| 118/118 [05:44<00:00,  2.92s/it]\n[Epoch 19/100] Validation: 100%|██████████| 15/15 [00:09<00:00,  1.52it/s]\n",
     "output_type": "stream"
    },
    {
     "name": "stdout",
     "text": "Epoch [19/100] Train Loss: 0.0870 Val Loss: 0.1227 AUC PR: 0.1585 Precision: 0.2575 Recall: 0.2084 F1: 0.2304\n",
     "output_type": "stream"
    },
    {
     "name": "stderr",
     "text": "[Epoch 20/100] Training: 100%|██████████| 118/118 [05:44<00:00,  2.92s/it]\n[Epoch 20/100] Validation: 100%|██████████| 15/15 [00:09<00:00,  1.60it/s]\n",
     "output_type": "stream"
    },
    {
     "name": "stdout",
     "text": "Epoch [20/100] Train Loss: 0.0871 Val Loss: 0.1203 AUC PR: 0.1588 Precision: 0.2510 Recall: 0.2365 F1: 0.2435\n",
     "output_type": "stream"
    },
    {
     "name": "stderr",
     "text": "[Epoch 21/100] Training: 100%|██████████| 118/118 [05:45<00:00,  2.92s/it]\n[Epoch 21/100] Validation: 100%|██████████| 15/15 [00:09<00:00,  1.55it/s]\n",
     "output_type": "stream"
    },
    {
     "name": "stdout",
     "text": "New best model with AUC PR: 0.1594\nEpoch [21/100] Train Loss: 0.0866 Val Loss: 0.1195 AUC PR: 0.1594 Precision: 0.2524 Recall: 0.2337 F1: 0.2427\n",
     "output_type": "stream"
    },
    {
     "name": "stderr",
     "text": "[Epoch 22/100] Training: 100%|██████████| 118/118 [05:46<00:00,  2.93s/it]\n[Epoch 22/100] Validation: 100%|██████████| 15/15 [00:07<00:00,  2.10it/s]\n",
     "output_type": "stream"
    },
    {
     "name": "stdout",
     "text": "New best model with AUC PR: 0.1600\nEpoch [22/100] Train Loss: 0.0863 Val Loss: 0.1201 AUC PR: 0.1600 Precision: 0.2591 Recall: 0.2042 F1: 0.2284\n",
     "output_type": "stream"
    },
    {
     "name": "stderr",
     "text": "[Epoch 23/100] Training: 100%|██████████| 118/118 [05:47<00:00,  2.94s/it]\n[Epoch 23/100] Validation: 100%|██████████| 15/15 [00:09<00:00,  1.54it/s]\n",
     "output_type": "stream"
    },
    {
     "name": "stdout",
     "text": "Epoch [23/100] Train Loss: 0.0863 Val Loss: 0.1200 AUC PR: 0.1597 Precision: 0.2536 Recall: 0.2257 F1: 0.2388\n",
     "output_type": "stream"
    },
    {
     "name": "stderr",
     "text": "[Epoch 24/100] Training: 100%|██████████| 118/118 [05:47<00:00,  2.94s/it]\n[Epoch 24/100] Validation: 100%|██████████| 15/15 [00:10<00:00,  1.39it/s]\n",
     "output_type": "stream"
    },
    {
     "name": "stdout",
     "text": "New best model with AUC PR: 0.1603\nEpoch [24/100] Train Loss: 0.0858 Val Loss: 0.1213 AUC PR: 0.1603 Precision: 0.2565 Recall: 0.2183 F1: 0.2359\n",
     "output_type": "stream"
    },
    {
     "name": "stderr",
     "text": "[Epoch 25/100] Training: 100%|██████████| 118/118 [05:42<00:00,  2.90s/it]\n[Epoch 25/100] Validation: 100%|██████████| 15/15 [00:09<00:00,  1.58it/s]\n",
     "output_type": "stream"
    },
    {
     "name": "stdout",
     "text": "New best model with AUC PR: 0.1612\nEpoch [25/100] Train Loss: 0.0857 Val Loss: 0.1198 AUC PR: 0.1612 Precision: 0.2523 Recall: 0.2416 F1: 0.2469\n",
     "output_type": "stream"
    },
    {
     "name": "stderr",
     "text": "[Epoch 26/100] Training: 100%|██████████| 118/118 [05:46<00:00,  2.93s/it]\n[Epoch 26/100] Validation: 100%|██████████| 15/15 [00:09<00:00,  1.59it/s]\n",
     "output_type": "stream"
    },
    {
     "name": "stdout",
     "text": "New best model with AUC PR: 0.1618\nEpoch [26/100] Train Loss: 0.0855 Val Loss: 0.1192 AUC PR: 0.1618 Precision: 0.2553 Recall: 0.2288 F1: 0.2413\n",
     "output_type": "stream"
    },
    {
     "name": "stderr",
     "text": "[Epoch 27/100] Training: 100%|██████████| 118/118 [05:47<00:00,  2.94s/it]\n[Epoch 27/100] Validation: 100%|██████████| 15/15 [00:09<00:00,  1.61it/s]\n",
     "output_type": "stream"
    },
    {
     "name": "stdout",
     "text": "Epoch [27/100] Train Loss: 0.0859 Val Loss: 0.1198 AUC PR: 0.1605 Precision: 0.2570 Recall: 0.2160 F1: 0.2347\n",
     "output_type": "stream"
    },
    {
     "name": "stderr",
     "text": "[Epoch 28/100] Training: 100%|██████████| 118/118 [05:47<00:00,  2.95s/it]\n[Epoch 28/100] Validation: 100%|██████████| 15/15 [00:09<00:00,  1.59it/s]\n",
     "output_type": "stream"
    },
    {
     "name": "stdout",
     "text": "New best model with AUC PR: 0.1618\nEpoch [28/100] Train Loss: 0.0853 Val Loss: 0.1196 AUC PR: 0.1618 Precision: 0.2535 Recall: 0.2352 F1: 0.2440\n",
     "output_type": "stream"
    },
    {
     "name": "stderr",
     "text": "[Epoch 29/100] Training: 100%|██████████| 118/118 [05:48<00:00,  2.95s/it]\n[Epoch 29/100] Validation: 100%|██████████| 15/15 [00:09<00:00,  1.60it/s]\n",
     "output_type": "stream"
    },
    {
     "name": "stdout",
     "text": "Epoch [29/100] Train Loss: 0.0850 Val Loss: 0.1210 AUC PR: 0.1616 Precision: 0.2545 Recall: 0.2322 F1: 0.2428\n",
     "output_type": "stream"
    },
    {
     "name": "stderr",
     "text": "[Epoch 30/100] Training: 100%|██████████| 118/118 [05:46<00:00,  2.94s/it]\n[Epoch 30/100] Validation: 100%|██████████| 15/15 [00:09<00:00,  1.57it/s]\n",
     "output_type": "stream"
    },
    {
     "name": "stdout",
     "text": "New best model with AUC PR: 0.1626\nEpoch [30/100] Train Loss: 0.0850 Val Loss: 0.1197 AUC PR: 0.1626 Precision: 0.2548 Recall: 0.2293 F1: 0.2414\n",
     "output_type": "stream"
    },
    {
     "name": "stderr",
     "text": "[Epoch 31/100] Training: 100%|██████████| 118/118 [05:37<00:00,  2.86s/it]\n[Epoch 31/100] Validation: 100%|██████████| 15/15 [00:09<00:00,  1.58it/s]\n",
     "output_type": "stream"
    },
    {
     "name": "stdout",
     "text": "Epoch [31/100] Train Loss: 0.0847 Val Loss: 0.1193 AUC PR: 0.1622 Precision: 0.2554 Recall: 0.2281 F1: 0.2410\n",
     "output_type": "stream"
    },
    {
     "name": "stderr",
     "text": "[Epoch 32/100] Training: 100%|██████████| 118/118 [05:54<00:00,  3.01s/it]\n[Epoch 32/100] Validation: 100%|██████████| 15/15 [00:10<00:00,  1.48it/s]\n",
     "output_type": "stream"
    },
    {
     "name": "stdout",
     "text": "New best model with AUC PR: 0.1630\nEpoch [32/100] Train Loss: 0.0848 Val Loss: 0.1195 AUC PR: 0.1630 Precision: 0.2591 Recall: 0.2144 F1: 0.2346\n",
     "output_type": "stream"
    },
    {
     "name": "stderr",
     "text": "[Epoch 33/100] Training: 100%|██████████| 118/118 [05:52<00:00,  2.98s/it]\n[Epoch 33/100] Validation: 100%|██████████| 15/15 [00:10<00:00,  1.47it/s]\n",
     "output_type": "stream"
    },
    {
     "name": "stdout",
     "text": "Epoch [33/100] Train Loss: 0.0844 Val Loss: 0.1199 AUC PR: 0.1629 Precision: 0.2609 Recall: 0.1986 F1: 0.2256\n",
     "output_type": "stream"
    },
    {
     "name": "stderr",
     "text": "[Epoch 34/100] Training: 100%|██████████| 118/118 [05:42<00:00,  2.91s/it]\n[Epoch 34/100] Validation: 100%|██████████| 15/15 [00:09<00:00,  1.58it/s]\n",
     "output_type": "stream"
    },
    {
     "name": "stdout",
     "text": "Epoch [34/100] Train Loss: 0.0844 Val Loss: 0.1193 AUC PR: 0.1625 Precision: 0.2557 Recall: 0.2296 F1: 0.2420\n",
     "output_type": "stream"
    },
    {
     "name": "stderr",
     "text": "[Epoch 35/100] Training: 100%|██████████| 118/118 [05:42<00:00,  2.91s/it]\n[Epoch 35/100] Validation: 100%|██████████| 15/15 [00:09<00:00,  1.59it/s]\n",
     "output_type": "stream"
    },
    {
     "name": "stdout",
     "text": "Epoch [35/100] Train Loss: 0.0840 Val Loss: 0.1197 AUC PR: 0.1629 Precision: 0.2525 Recall: 0.2472 F1: 0.2498\n",
     "output_type": "stream"
    },
    {
     "name": "stderr",
     "text": "[Epoch 36/100] Training: 100%|██████████| 118/118 [05:46<00:00,  2.93s/it]\n[Epoch 36/100] Validation: 100%|██████████| 15/15 [00:09<00:00,  1.59it/s]\n",
     "output_type": "stream"
    },
    {
     "name": "stdout",
     "text": "Epoch [36/100] Train Loss: 0.0842 Val Loss: 0.1190 AUC PR: 0.1630 Precision: 0.2543 Recall: 0.2414 F1: 0.2477\n",
     "output_type": "stream"
    },
    {
     "name": "stderr",
     "text": "[Epoch 37/100] Training: 100%|██████████| 118/118 [05:41<00:00,  2.90s/it]\n[Epoch 37/100] Validation: 100%|██████████| 15/15 [00:09<00:00,  1.56it/s]\n",
     "output_type": "stream"
    },
    {
     "name": "stdout",
     "text": "Epoch [37/100] Train Loss: 0.0840 Val Loss: 0.1203 AUC PR: 0.1629 Precision: 0.2555 Recall: 0.2353 F1: 0.2450\n",
     "output_type": "stream"
    },
    {
     "name": "stderr",
     "text": "[Epoch 38/100] Training: 100%|██████████| 118/118 [05:41<00:00,  2.89s/it]\n[Epoch 38/100] Validation: 100%|██████████| 15/15 [00:09<00:00,  1.58it/s]\n",
     "output_type": "stream"
    },
    {
     "name": "stdout",
     "text": "Epoch [38/100] Train Loss: 0.0843 Val Loss: 0.1200 AUC PR: 0.1613 Precision: 0.2529 Recall: 0.2450 F1: 0.2489\n",
     "output_type": "stream"
    },
    {
     "name": "stderr",
     "text": "[Epoch 39/100] Training: 100%|██████████| 118/118 [05:39<00:00,  2.87s/it]\n[Epoch 39/100] Validation: 100%|██████████| 15/15 [00:09<00:00,  1.50it/s]\n",
     "output_type": "stream"
    },
    {
     "name": "stdout",
     "text": "New best model with AUC PR: 0.1631\nEpoch [39/100] Train Loss: 0.0835 Val Loss: 0.1189 AUC PR: 0.1631 Precision: 0.2562 Recall: 0.2301 F1: 0.2425\n",
     "output_type": "stream"
    },
    {
     "name": "stderr",
     "text": "[Epoch 40/100] Training: 100%|██████████| 118/118 [05:45<00:00,  2.93s/it]\n[Epoch 40/100] Validation: 100%|██████████| 15/15 [00:09<00:00,  1.56it/s]\n",
     "output_type": "stream"
    },
    {
     "name": "stdout",
     "text": "New best model with AUC PR: 0.1638\nEpoch [40/100] Train Loss: 0.0836 Val Loss: 0.1200 AUC PR: 0.1638 Precision: 0.2618 Recall: 0.2049 F1: 0.2299\n",
     "output_type": "stream"
    },
    {
     "name": "stderr",
     "text": "[Epoch 41/100] Training: 100%|██████████| 118/118 [05:54<00:00,  3.00s/it]\n[Epoch 41/100] Validation: 100%|██████████| 15/15 [00:09<00:00,  1.52it/s]\n",
     "output_type": "stream"
    },
    {
     "name": "stdout",
     "text": "New best model with AUC PR: 0.1646\nEpoch [41/100] Train Loss: 0.0832 Val Loss: 0.1188 AUC PR: 0.1646 Precision: 0.2578 Recall: 0.2270 F1: 0.2414\n",
     "output_type": "stream"
    },
    {
     "name": "stderr",
     "text": "[Epoch 42/100] Training: 100%|██████████| 118/118 [05:43<00:00,  2.91s/it]\n[Epoch 42/100] Validation: 100%|██████████| 15/15 [00:09<00:00,  1.59it/s]\n",
     "output_type": "stream"
    },
    {
     "name": "stdout",
     "text": "New best model with AUC PR: 0.1648\nEpoch [42/100] Train Loss: 0.0832 Val Loss: 0.1186 AUC PR: 0.1648 Precision: 0.2533 Recall: 0.2536 F1: 0.2535\n",
     "output_type": "stream"
    },
    {
     "name": "stderr",
     "text": "[Epoch 43/100] Training: 100%|██████████| 118/118 [05:42<00:00,  2.90s/it]\n[Epoch 43/100] Validation: 100%|██████████| 15/15 [00:09<00:00,  1.57it/s]\n",
     "output_type": "stream"
    },
    {
     "name": "stdout",
     "text": "New best model with AUC PR: 0.1650\nEpoch [43/100] Train Loss: 0.0832 Val Loss: 0.1184 AUC PR: 0.1650 Precision: 0.2622 Recall: 0.2113 F1: 0.2340\n",
     "output_type": "stream"
    },
    {
     "name": "stderr",
     "text": "[Epoch 44/100] Training: 100%|██████████| 118/118 [05:55<00:00,  3.01s/it]\n[Epoch 44/100] Validation: 100%|██████████| 15/15 [00:09<00:00,  1.57it/s]\n",
     "output_type": "stream"
    },
    {
     "name": "stdout",
     "text": "New best model with AUC PR: 0.1653\nEpoch [44/100] Train Loss: 0.0833 Val Loss: 0.1177 AUC PR: 0.1653 Precision: 0.2586 Recall: 0.2300 F1: 0.2435\n",
     "output_type": "stream"
    },
    {
     "name": "stderr",
     "text": "[Epoch 45/100] Training: 100%|██████████| 118/118 [05:43<00:00,  2.91s/it]\n[Epoch 45/100] Validation: 100%|██████████| 15/15 [00:09<00:00,  1.57it/s]\n",
     "output_type": "stream"
    },
    {
     "name": "stdout",
     "text": "Epoch [45/100] Train Loss: 0.0831 Val Loss: 0.1180 AUC PR: 0.1651 Precision: 0.2593 Recall: 0.2283 F1: 0.2428\n",
     "output_type": "stream"
    },
    {
     "name": "stderr",
     "text": "[Epoch 46/100] Training: 100%|██████████| 118/118 [05:43<00:00,  2.91s/it]\n[Epoch 46/100] Validation: 100%|██████████| 15/15 [00:10<00:00,  1.49it/s]\n",
     "output_type": "stream"
    },
    {
     "name": "stdout",
     "text": "New best model with AUC PR: 0.1654\nEpoch [46/100] Train Loss: 0.0831 Val Loss: 0.1185 AUC PR: 0.1654 Precision: 0.2585 Recall: 0.2288 F1: 0.2427\n",
     "output_type": "stream"
    },
    {
     "name": "stderr",
     "text": "[Epoch 47/100] Training: 100%|██████████| 118/118 [05:48<00:00,  2.95s/it]\n[Epoch 47/100] Validation: 100%|██████████| 15/15 [00:09<00:00,  1.58it/s]\n",
     "output_type": "stream"
    },
    {
     "name": "stdout",
     "text": "Epoch [47/100] Train Loss: 0.0825 Val Loss: 0.1180 AUC PR: 0.1643 Precision: 0.2551 Recall: 0.2451 F1: 0.2500\n",
     "output_type": "stream"
    },
    {
     "name": "stderr",
     "text": "[Epoch 48/100] Training: 100%|██████████| 118/118 [05:42<00:00,  2.90s/it]\n[Epoch 48/100] Validation: 100%|██████████| 15/15 [00:09<00:00,  1.59it/s]\n",
     "output_type": "stream"
    },
    {
     "name": "stdout",
     "text": "New best model with AUC PR: 0.1663\nEpoch [48/100] Train Loss: 0.0831 Val Loss: 0.1188 AUC PR: 0.1663 Precision: 0.2656 Recall: 0.1962 F1: 0.2257\n",
     "output_type": "stream"
    },
    {
     "name": "stderr",
     "text": "[Epoch 49/100] Training: 100%|██████████| 118/118 [05:36<00:00,  2.85s/it]\n[Epoch 49/100] Validation: 100%|██████████| 15/15 [00:10<00:00,  1.47it/s]\n",
     "output_type": "stream"
    },
    {
     "name": "stdout",
     "text": "Epoch [49/100] Train Loss: 0.0827 Val Loss: 0.1179 AUC PR: 0.1663 Precision: 0.2619 Recall: 0.2197 F1: 0.2390\n",
     "output_type": "stream"
    },
    {
     "name": "stderr",
     "text": "[Epoch 50/100] Training: 100%|██████████| 118/118 [05:44<00:00,  2.92s/it]\n[Epoch 50/100] Validation: 100%|██████████| 15/15 [00:09<00:00,  1.58it/s]\n",
     "output_type": "stream"
    },
    {
     "name": "stdout",
     "text": "Epoch [50/100] Train Loss: 0.0827 Val Loss: 0.1182 AUC PR: 0.1648 Precision: 0.2527 Recall: 0.2599 F1: 0.2562\n",
     "output_type": "stream"
    },
    {
     "name": "stderr",
     "text": "[Epoch 51/100] Training: 100%|██████████| 118/118 [05:41<00:00,  2.90s/it]\n[Epoch 51/100] Validation: 100%|██████████| 15/15 [00:09<00:00,  1.58it/s]\n",
     "output_type": "stream"
    },
    {
     "name": "stdout",
     "text": "Epoch [51/100] Train Loss: 0.0824 Val Loss: 0.1179 AUC PR: 0.1651 Precision: 0.2532 Recall: 0.2576 F1: 0.2554\n",
     "output_type": "stream"
    },
    {
     "name": "stderr",
     "text": "[Epoch 52/100] Training: 100%|██████████| 118/118 [05:51<00:00,  2.98s/it]\n[Epoch 52/100] Validation: 100%|██████████| 15/15 [00:09<00:00,  1.57it/s]\n",
     "output_type": "stream"
    },
    {
     "name": "stdout",
     "text": "Epoch [52/100] Train Loss: 0.0823 Val Loss: 0.1178 AUC PR: 0.1654 Precision: 0.2567 Recall: 0.2425 F1: 0.2494\n",
     "output_type": "stream"
    },
    {
     "name": "stderr",
     "text": "[Epoch 53/100] Training: 100%|██████████| 118/118 [05:48<00:00,  2.95s/it]\n[Epoch 53/100] Validation: 100%|██████████| 15/15 [00:09<00:00,  1.59it/s]\n",
     "output_type": "stream"
    },
    {
     "name": "stdout",
     "text": "New best model with AUC PR: 0.1664\nEpoch [53/100] Train Loss: 0.0819 Val Loss: 0.1179 AUC PR: 0.1664 Precision: 0.2630 Recall: 0.2114 F1: 0.2344\n",
     "output_type": "stream"
    },
    {
     "name": "stderr",
     "text": "[Epoch 54/100] Training: 100%|██████████| 118/118 [05:45<00:00,  2.93s/it]\n[Epoch 54/100] Validation: 100%|██████████| 15/15 [00:10<00:00,  1.48it/s]\n",
     "output_type": "stream"
    },
    {
     "name": "stdout",
     "text": "New best model with AUC PR: 0.1669\nEpoch [54/100] Train Loss: 0.0823 Val Loss: 0.1175 AUC PR: 0.1669 Precision: 0.2606 Recall: 0.2282 F1: 0.2434\n",
     "output_type": "stream"
    },
    {
     "name": "stderr",
     "text": "[Epoch 55/100] Training: 100%|██████████| 118/118 [05:49<00:00,  2.96s/it]\n[Epoch 55/100] Validation: 100%|██████████| 15/15 [00:10<00:00,  1.50it/s]\n",
     "output_type": "stream"
    },
    {
     "name": "stdout",
     "text": "Epoch [55/100] Train Loss: 0.0823 Val Loss: 0.1177 AUC PR: 0.1666 Precision: 0.2617 Recall: 0.2236 F1: 0.2411\n",
     "output_type": "stream"
    },
    {
     "name": "stderr",
     "text": "[Epoch 56/100] Training: 100%|██████████| 118/118 [05:39<00:00,  2.87s/it]\n[Epoch 56/100] Validation: 100%|██████████| 15/15 [00:09<00:00,  1.60it/s]\n",
     "output_type": "stream"
    },
    {
     "name": "stdout",
     "text": "Epoch [56/100] Train Loss: 0.0819 Val Loss: 0.1182 AUC PR: 0.1668 Precision: 0.2619 Recall: 0.2222 F1: 0.2404\n",
     "output_type": "stream"
    },
    {
     "name": "stderr",
     "text": "[Epoch 57/100] Training: 100%|██████████| 118/118 [05:49<00:00,  2.96s/it]\n[Epoch 57/100] Validation: 100%|██████████| 15/15 [00:09<00:00,  1.61it/s]\n",
     "output_type": "stream"
    },
    {
     "name": "stdout",
     "text": "Epoch [57/100] Train Loss: 0.0820 Val Loss: 0.1194 AUC PR: 0.1663 Precision: 0.2604 Recall: 0.2262 F1: 0.2421\n",
     "output_type": "stream"
    },
    {
     "name": "stderr",
     "text": "[Epoch 58/100] Training: 100%|██████████| 118/118 [05:42<00:00,  2.90s/it]\n[Epoch 58/100] Validation: 100%|██████████| 15/15 [00:09<00:00,  1.60it/s]\n",
     "output_type": "stream"
    },
    {
     "name": "stdout",
     "text": "Epoch [58/100] Train Loss: 0.0819 Val Loss: 0.1183 AUC PR: 0.1666 Precision: 0.2578 Recall: 0.2435 F1: 0.2504\n",
     "output_type": "stream"
    },
    {
     "name": "stderr",
     "text": "[Epoch 59/100] Training: 100%|██████████| 118/118 [05:43<00:00,  2.91s/it]\n[Epoch 59/100] Validation: 100%|██████████| 15/15 [00:09<00:00,  1.51it/s]\n",
     "output_type": "stream"
    },
    {
     "name": "stdout",
     "text": "New best model with AUC PR: 0.1671\nEpoch [59/100] Train Loss: 0.0816 Val Loss: 0.1180 AUC PR: 0.1671 Precision: 0.2590 Recall: 0.2405 F1: 0.2494\n",
     "output_type": "stream"
    },
    {
     "name": "stderr",
     "text": "[Epoch 60/100] Training: 100%|██████████| 118/118 [05:45<00:00,  2.93s/it]\n[Epoch 60/100] Validation: 100%|██████████| 15/15 [00:09<00:00,  1.59it/s]\n",
     "output_type": "stream"
    },
    {
     "name": "stdout",
     "text": "New best model with AUC PR: 0.1672\nEpoch [60/100] Train Loss: 0.0816 Val Loss: 0.1174 AUC PR: 0.1672 Precision: 0.2564 Recall: 0.2478 F1: 0.2520\n",
     "output_type": "stream"
    },
    {
     "name": "stderr",
     "text": "[Epoch 61/100] Training: 100%|██████████| 118/118 [05:47<00:00,  2.94s/it]\n[Epoch 61/100] Validation: 100%|██████████| 15/15 [00:09<00:00,  1.59it/s]\n",
     "output_type": "stream"
    },
    {
     "name": "stdout",
     "text": "New best model with AUC PR: 0.1682\nEpoch [61/100] Train Loss: 0.0816 Val Loss: 0.1189 AUC PR: 0.1682 Precision: 0.2647 Recall: 0.2128 F1: 0.2359\n",
     "output_type": "stream"
    },
    {
     "name": "stderr",
     "text": "[Epoch 62/100] Training: 100%|██████████| 118/118 [05:45<00:00,  2.93s/it]\n[Epoch 62/100] Validation: 100%|██████████| 15/15 [00:09<00:00,  1.57it/s]\n",
     "output_type": "stream"
    },
    {
     "name": "stdout",
     "text": "Epoch [62/100] Train Loss: 0.0816 Val Loss: 0.1174 AUC PR: 0.1672 Precision: 0.2613 Recall: 0.2307 F1: 0.2451\n",
     "output_type": "stream"
    },
    {
     "name": "stderr",
     "text": "[Epoch 63/100] Training: 100%|██████████| 118/118 [05:46<00:00,  2.94s/it]\n[Epoch 63/100] Validation: 100%|██████████| 15/15 [00:10<00:00,  1.47it/s]\n",
     "output_type": "stream"
    },
    {
     "name": "stdout",
     "text": "Epoch [63/100] Train Loss: 0.0813 Val Loss: 0.1177 AUC PR: 0.1678 Precision: 0.2600 Recall: 0.2351 F1: 0.2469\n",
     "output_type": "stream"
    },
    {
     "name": "stderr",
     "text": "[Epoch 64/100] Training: 100%|██████████| 118/118 [05:50<00:00,  2.97s/it]\n[Epoch 64/100] Validation: 100%|██████████| 15/15 [00:10<00:00,  1.46it/s]\n",
     "output_type": "stream"
    },
    {
     "name": "stdout",
     "text": "New best model with AUC PR: 0.1694\nEpoch [64/100] Train Loss: 0.0813 Val Loss: 0.1170 AUC PR: 0.1694 Precision: 0.2637 Recall: 0.2277 F1: 0.2444\n",
     "output_type": "stream"
    },
    {
     "name": "stderr",
     "text": "[Epoch 65/100] Training: 100%|██████████| 118/118 [05:51<00:00,  2.98s/it]\n[Epoch 65/100] Validation: 100%|██████████| 15/15 [00:09<00:00,  1.50it/s]\n",
     "output_type": "stream"
    },
    {
     "name": "stdout",
     "text": "Epoch [65/100] Train Loss: 0.0812 Val Loss: 0.1176 AUC PR: 0.1674 Precision: 0.2534 Recall: 0.2670 F1: 0.2601\n",
     "output_type": "stream"
    },
    {
     "name": "stderr",
     "text": "[Epoch 66/100] Training: 100%|██████████| 118/118 [05:47<00:00,  2.94s/it]\n[Epoch 66/100] Validation: 100%|██████████| 15/15 [00:09<00:00,  1.50it/s]\n",
     "output_type": "stream"
    },
    {
     "name": "stdout",
     "text": "Epoch [66/100] Train Loss: 0.0813 Val Loss: 0.1179 AUC PR: 0.1680 Precision: 0.2601 Recall: 0.2376 F1: 0.2483\n",
     "output_type": "stream"
    },
    {
     "name": "stderr",
     "text": "[Epoch 67/100] Training: 100%|██████████| 118/118 [05:48<00:00,  2.95s/it]\n[Epoch 67/100] Validation: 100%|██████████| 15/15 [00:09<00:00,  1.55it/s]\n",
     "output_type": "stream"
    },
    {
     "name": "stdout",
     "text": "Epoch [67/100] Train Loss: 0.0818 Val Loss: 0.1176 AUC PR: 0.1691 Precision: 0.2676 Recall: 0.2061 F1: 0.2329\n",
     "output_type": "stream"
    },
    {
     "name": "stderr",
     "text": "[Epoch 68/100] Training: 100%|██████████| 118/118 [05:48<00:00,  2.95s/it]\n[Epoch 68/100] Validation: 100%|██████████| 15/15 [00:09<00:00,  1.60it/s]\n",
     "output_type": "stream"
    },
    {
     "name": "stdout",
     "text": "Epoch [68/100] Train Loss: 0.0810 Val Loss: 0.1168 AUC PR: 0.1694 Precision: 0.2595 Recall: 0.2430 F1: 0.2510\n",
     "output_type": "stream"
    },
    {
     "name": "stderr",
     "text": "[Epoch 69/100] Training: 100%|██████████| 118/118 [05:41<00:00,  2.89s/it]\n[Epoch 69/100] Validation: 100%|██████████| 15/15 [00:09<00:00,  1.60it/s]\n",
     "output_type": "stream"
    },
    {
     "name": "stdout",
     "text": "Epoch [69/100] Train Loss: 0.0808 Val Loss: 0.1170 AUC PR: 0.1694 Precision: 0.2620 Recall: 0.2335 F1: 0.2469\n",
     "output_type": "stream"
    },
    {
     "name": "stderr",
     "text": "[Epoch 70/100] Training: 100%|██████████| 118/118 [05:43<00:00,  2.91s/it]\n[Epoch 70/100] Validation: 100%|██████████| 15/15 [00:10<00:00,  1.48it/s]\n",
     "output_type": "stream"
    },
    {
     "name": "stdout",
     "text": "New best model with AUC PR: 0.1695\nEpoch [70/100] Train Loss: 0.0812 Val Loss: 0.1163 AUC PR: 0.1695 Precision: 0.2602 Recall: 0.2397 F1: 0.2495\n",
     "output_type": "stream"
    },
    {
     "name": "stderr",
     "text": "[Epoch 71/100] Training: 100%|██████████| 118/118 [05:53<00:00,  2.99s/it]\n[Epoch 71/100] Validation: 100%|██████████| 15/15 [00:10<00:00,  1.47it/s]\n",
     "output_type": "stream"
    },
    {
     "name": "stdout",
     "text": "Epoch [71/100] Train Loss: 0.0809 Val Loss: 0.1172 AUC PR: 0.1691 Precision: 0.2613 Recall: 0.2339 F1: 0.2469\n",
     "output_type": "stream"
    },
    {
     "name": "stderr",
     "text": "[Epoch 72/100] Training: 100%|██████████| 118/118 [05:50<00:00,  2.97s/it]\n[Epoch 72/100] Validation: 100%|██████████| 15/15 [00:09<00:00,  1.56it/s]\n",
     "output_type": "stream"
    },
    {
     "name": "stdout",
     "text": "Epoch [72/100] Train Loss: 0.0808 Val Loss: 0.1175 AUC PR: 0.1687 Precision: 0.2632 Recall: 0.2251 F1: 0.2426\n",
     "output_type": "stream"
    },
    {
     "name": "stderr",
     "text": "[Epoch 73/100] Training: 100%|██████████| 118/118 [05:55<00:00,  3.01s/it]\n[Epoch 73/100] Validation: 100%|██████████| 15/15 [00:10<00:00,  1.49it/s]\n",
     "output_type": "stream"
    },
    {
     "name": "stdout",
     "text": "New best model with AUC PR: 0.1698\nEpoch [73/100] Train Loss: 0.0809 Val Loss: 0.1161 AUC PR: 0.1698 Precision: 0.2605 Recall: 0.2425 F1: 0.2512\n",
     "output_type": "stream"
    },
    {
     "name": "stderr",
     "text": "[Epoch 74/100] Training: 100%|██████████| 118/118 [05:47<00:00,  2.95s/it]\n[Epoch 74/100] Validation: 100%|██████████| 15/15 [00:09<00:00,  1.56it/s]\n",
     "output_type": "stream"
    },
    {
     "name": "stdout",
     "text": "Epoch [74/100] Train Loss: 0.0806 Val Loss: 0.1179 AUC PR: 0.1698 Precision: 0.2605 Recall: 0.2423 F1: 0.2511\n",
     "output_type": "stream"
    },
    {
     "name": "stderr",
     "text": "[Epoch 75/100] Training: 100%|██████████| 118/118 [05:41<00:00,  2.89s/it]\n[Epoch 75/100] Validation: 100%|██████████| 15/15 [00:09<00:00,  1.60it/s]\n",
     "output_type": "stream"
    },
    {
     "name": "stdout",
     "text": "Epoch [75/100] Train Loss: 0.0805 Val Loss: 0.1170 AUC PR: 0.1692 Precision: 0.2618 Recall: 0.2373 F1: 0.2489\n",
     "output_type": "stream"
    },
    {
     "name": "stderr",
     "text": "[Epoch 76/100] Training: 100%|██████████| 118/118 [05:41<00:00,  2.90s/it]\n[Epoch 76/100] Validation: 100%|██████████| 15/15 [00:10<00:00,  1.47it/s]\n",
     "output_type": "stream"
    },
    {
     "name": "stdout",
     "text": "New best model with AUC PR: 0.1707\nEpoch [76/100] Train Loss: 0.0805 Val Loss: 0.1181 AUC PR: 0.1707 Precision: 0.2654 Recall: 0.2259 F1: 0.2441\n",
     "output_type": "stream"
    },
    {
     "name": "stderr",
     "text": "[Epoch 77/100] Training: 100%|██████████| 118/118 [05:41<00:00,  2.89s/it]\n[Epoch 77/100] Validation: 100%|██████████| 15/15 [00:09<00:00,  1.58it/s]\n",
     "output_type": "stream"
    },
    {
     "name": "stdout",
     "text": "Epoch [77/100] Train Loss: 0.0804 Val Loss: 0.1171 AUC PR: 0.1699 Precision: 0.2605 Recall: 0.2414 F1: 0.2506\n",
     "output_type": "stream"
    },
    {
     "name": "stderr",
     "text": "[Epoch 78/100] Training: 100%|██████████| 118/118 [05:47<00:00,  2.95s/it]\n[Epoch 78/100] Validation: 100%|██████████| 15/15 [00:09<00:00,  1.59it/s]\n",
     "output_type": "stream"
    },
    {
     "name": "stdout",
     "text": "Epoch [78/100] Train Loss: 0.0803 Val Loss: 0.1177 AUC PR: 0.1703 Precision: 0.2646 Recall: 0.2283 F1: 0.2451\n",
     "output_type": "stream"
    },
    {
     "name": "stderr",
     "text": "[Epoch 79/100] Training: 100%|██████████| 118/118 [05:49<00:00,  2.96s/it]\n[Epoch 79/100] Validation: 100%|██████████| 15/15 [00:09<00:00,  1.57it/s]\n",
     "output_type": "stream"
    },
    {
     "name": "stdout",
     "text": "Epoch [79/100] Train Loss: 0.0802 Val Loss: 0.1170 AUC PR: 0.1701 Precision: 0.2627 Recall: 0.2321 F1: 0.2464\n",
     "output_type": "stream"
    },
    {
     "name": "stderr",
     "text": "[Epoch 80/100] Training: 100%|██████████| 118/118 [05:47<00:00,  2.94s/it]\n[Epoch 80/100] Validation: 100%|██████████| 15/15 [00:09<00:00,  1.60it/s]\n",
     "output_type": "stream"
    },
    {
     "name": "stdout",
     "text": "Epoch [80/100] Train Loss: 0.0800 Val Loss: 0.1167 AUC PR: 0.1705 Precision: 0.2647 Recall: 0.2264 F1: 0.2441\n",
     "output_type": "stream"
    },
    {
     "name": "stderr",
     "text": "[Epoch 81/100] Training: 100%|██████████| 118/118 [05:40<00:00,  2.89s/it]\n[Epoch 81/100] Validation: 100%|██████████| 15/15 [00:09<00:00,  1.51it/s]\n",
     "output_type": "stream"
    },
    {
     "name": "stdout",
     "text": "Epoch [81/100] Train Loss: 0.0802 Val Loss: 0.1162 AUC PR: 0.1703 Precision: 0.2605 Recall: 0.2416 F1: 0.2507\n",
     "output_type": "stream"
    },
    {
     "name": "stderr",
     "text": "[Epoch 82/100] Training: 100%|██████████| 118/118 [05:39<00:00,  2.88s/it]\n[Epoch 82/100] Validation: 100%|██████████| 15/15 [00:07<00:00,  2.09it/s]\n",
     "output_type": "stream"
    },
    {
     "name": "stdout",
     "text": "New best model with AUC PR: 0.1710\nEpoch [82/100] Train Loss: 0.0801 Val Loss: 0.1176 AUC PR: 0.1710 Precision: 0.2735 Recall: 0.1965 F1: 0.2287\n",
     "output_type": "stream"
    },
    {
     "name": "stderr",
     "text": "[Epoch 83/100] Training: 100%|██████████| 118/118 [05:41<00:00,  2.89s/it]\n[Epoch 83/100] Validation: 100%|██████████| 15/15 [00:09<00:00,  1.50it/s]\n",
     "output_type": "stream"
    },
    {
     "name": "stdout",
     "text": "Epoch [83/100] Train Loss: 0.0800 Val Loss: 0.1173 AUC PR: 0.1703 Precision: 0.2573 Recall: 0.2569 F1: 0.2571\n",
     "output_type": "stream"
    },
    {
     "name": "stderr",
     "text": "[Epoch 84/100] Training: 100%|██████████| 118/118 [05:44<00:00,  2.92s/it]\n[Epoch 84/100] Validation: 100%|██████████| 15/15 [00:09<00:00,  1.55it/s]\n",
     "output_type": "stream"
    },
    {
     "name": "stdout",
     "text": "New best model with AUC PR: 0.1718\nEpoch [84/100] Train Loss: 0.0798 Val Loss: 0.1173 AUC PR: 0.1718 Precision: 0.2649 Recall: 0.2316 F1: 0.2471\n",
     "output_type": "stream"
    },
    {
     "name": "stderr",
     "text": "[Epoch 85/100] Training: 100%|██████████| 118/118 [05:46<00:00,  2.94s/it]\n[Epoch 85/100] Validation: 100%|██████████| 15/15 [00:09<00:00,  1.57it/s]\n",
     "output_type": "stream"
    },
    {
     "name": "stdout",
     "text": "Epoch [85/100] Train Loss: 0.0801 Val Loss: 0.1166 AUC PR: 0.1702 Precision: 0.2564 Recall: 0.2619 F1: 0.2592\n",
     "output_type": "stream"
    },
    {
     "name": "stderr",
     "text": "[Epoch 86/100] Training: 100%|██████████| 118/118 [05:56<00:00,  3.02s/it]\n[Epoch 86/100] Validation: 100%|██████████| 15/15 [00:09<00:00,  1.60it/s]\n",
     "output_type": "stream"
    },
    {
     "name": "stdout",
     "text": "Epoch [86/100] Train Loss: 0.0796 Val Loss: 0.1169 AUC PR: 0.1717 Precision: 0.2633 Recall: 0.2390 F1: 0.2506\n",
     "output_type": "stream"
    },
    {
     "name": "stderr",
     "text": "[Epoch 87/100] Training: 100%|██████████| 118/118 [05:42<00:00,  2.90s/it]\n[Epoch 87/100] Validation: 100%|██████████| 15/15 [00:09<00:00,  1.60it/s]\n",
     "output_type": "stream"
    },
    {
     "name": "stdout",
     "text": "New best model with AUC PR: 0.1722\nEpoch [87/100] Train Loss: 0.0798 Val Loss: 0.1177 AUC PR: 0.1722 Precision: 0.2698 Recall: 0.2131 F1: 0.2381\n",
     "output_type": "stream"
    },
    {
     "name": "stderr",
     "text": "[Epoch 88/100] Training: 100%|██████████| 118/118 [05:42<00:00,  2.90s/it]\n[Epoch 88/100] Validation: 100%|██████████| 15/15 [00:10<00:00,  1.47it/s]\n",
     "output_type": "stream"
    },
    {
     "name": "stdout",
     "text": "New best model with AUC PR: 0.1723\nEpoch [88/100] Train Loss: 0.0796 Val Loss: 0.1185 AUC PR: 0.1723 Precision: 0.2694 Recall: 0.2188 F1: 0.2415\n",
     "output_type": "stream"
    },
    {
     "name": "stderr",
     "text": "[Epoch 89/100] Training: 100%|██████████| 118/118 [05:43<00:00,  2.91s/it]\n[Epoch 89/100] Validation: 100%|██████████| 15/15 [00:09<00:00,  1.60it/s]\n",
     "output_type": "stream"
    },
    {
     "name": "stdout",
     "text": "Epoch [89/100] Train Loss: 0.0795 Val Loss: 0.1169 AUC PR: 0.1719 Precision: 0.2664 Recall: 0.2260 F1: 0.2446\n",
     "output_type": "stream"
    },
    {
     "name": "stderr",
     "text": "[Epoch 90/100] Training: 100%|██████████| 118/118 [05:41<00:00,  2.89s/it]\n[Epoch 90/100] Validation: 100%|██████████| 15/15 [00:09<00:00,  1.60it/s]\n",
     "output_type": "stream"
    },
    {
     "name": "stdout",
     "text": "New best model with AUC PR: 0.1727\nEpoch [90/100] Train Loss: 0.0796 Val Loss: 0.1162 AUC PR: 0.1727 Precision: 0.2644 Recall: 0.2409 F1: 0.2521\n",
     "output_type": "stream"
    },
    {
     "name": "stderr",
     "text": "[Epoch 91/100] Training: 100%|██████████| 118/118 [05:44<00:00,  2.92s/it]\n[Epoch 91/100] Validation: 100%|██████████| 15/15 [00:09<00:00,  1.50it/s]\n",
     "output_type": "stream"
    },
    {
     "name": "stdout",
     "text": "Epoch [91/100] Train Loss: 0.0796 Val Loss: 0.1166 AUC PR: 0.1718 Precision: 0.2628 Recall: 0.2394 F1: 0.2506\n",
     "output_type": "stream"
    },
    {
     "name": "stderr",
     "text": "[Epoch 92/100] Training: 100%|██████████| 118/118 [05:42<00:00,  2.90s/it]\n[Epoch 92/100] Validation: 100%|██████████| 15/15 [00:09<00:00,  1.60it/s]\n",
     "output_type": "stream"
    },
    {
     "name": "stdout",
     "text": "Epoch [92/100] Train Loss: 0.0798 Val Loss: 0.1179 AUC PR: 0.1704 Precision: 0.2604 Recall: 0.2457 F1: 0.2528\n",
     "output_type": "stream"
    },
    {
     "name": "stderr",
     "text": "[Epoch 93/100] Training: 100%|██████████| 118/118 [05:36<00:00,  2.86s/it]\n[Epoch 93/100] Validation: 100%|██████████| 15/15 [00:09<00:00,  1.60it/s]\n",
     "output_type": "stream"
    },
    {
     "name": "stdout",
     "text": "Epoch [93/100] Train Loss: 0.0800 Val Loss: 0.1162 AUC PR: 0.1720 Precision: 0.2668 Recall: 0.2256 F1: 0.2445\n",
     "output_type": "stream"
    },
    {
     "name": "stderr",
     "text": "[Epoch 94/100] Training: 100%|██████████| 118/118 [05:43<00:00,  2.91s/it]\n[Epoch 94/100] Validation: 100%|██████████| 15/15 [00:09<00:00,  1.51it/s]\n",
     "output_type": "stream"
    },
    {
     "name": "stdout",
     "text": "New best model with AUC PR: 0.1731\nEpoch [94/100] Train Loss: 0.0794 Val Loss: 0.1163 AUC PR: 0.1731 Precision: 0.2596 Recall: 0.2572 F1: 0.2584\n",
     "output_type": "stream"
    },
    {
     "name": "stderr",
     "text": "[Epoch 95/100] Training: 100%|██████████| 118/118 [05:36<00:00,  2.85s/it]\n[Epoch 95/100] Validation: 100%|██████████| 15/15 [00:09<00:00,  1.60it/s]\n",
     "output_type": "stream"
    },
    {
     "name": "stdout",
     "text": "New best model with AUC PR: 0.1739\nEpoch [95/100] Train Loss: 0.0793 Val Loss: 0.1165 AUC PR: 0.1739 Precision: 0.2653 Recall: 0.2401 F1: 0.2521\n",
     "output_type": "stream"
    },
    {
     "name": "stderr",
     "text": "[Epoch 96/100] Training: 100%|██████████| 118/118 [05:43<00:00,  2.91s/it]\n[Epoch 96/100] Validation: 100%|██████████| 15/15 [00:09<00:00,  1.60it/s]\n",
     "output_type": "stream"
    },
    {
     "name": "stdout",
     "text": "Epoch [96/100] Train Loss: 0.0791 Val Loss: 0.1160 AUC PR: 0.1733 Precision: 0.2638 Recall: 0.2458 F1: 0.2545\n",
     "output_type": "stream"
    },
    {
     "name": "stderr",
     "text": "[Epoch 97/100] Training: 100%|██████████| 118/118 [05:37<00:00,  2.86s/it]\n[Epoch 97/100] Validation: 100%|██████████| 15/15 [00:09<00:00,  1.61it/s]\n",
     "output_type": "stream"
    },
    {
     "name": "stdout",
     "text": "Epoch [97/100] Train Loss: 0.0797 Val Loss: 0.1179 AUC PR: 0.1734 Precision: 0.2647 Recall: 0.2420 F1: 0.2528\n",
     "output_type": "stream"
    },
    {
     "name": "stderr",
     "text": "[Epoch 98/100] Training: 100%|██████████| 118/118 [05:47<00:00,  2.94s/it]\n[Epoch 98/100] Validation: 100%|██████████| 15/15 [00:09<00:00,  1.60it/s]\n",
     "output_type": "stream"
    },
    {
     "name": "stdout",
     "text": "Epoch [98/100] Train Loss: 0.0802 Val Loss: 0.1173 AUC PR: 0.1716 Precision: 0.2596 Recall: 0.2559 F1: 0.2578\n",
     "output_type": "stream"
    },
    {
     "name": "stderr",
     "text": "[Epoch 99/100] Training: 100%|██████████| 118/118 [05:38<00:00,  2.87s/it]\n[Epoch 99/100] Validation: 100%|██████████| 15/15 [00:10<00:00,  1.50it/s]\n",
     "output_type": "stream"
    },
    {
     "name": "stdout",
     "text": "Epoch [99/100] Train Loss: 0.0793 Val Loss: 0.1165 AUC PR: 0.1732 Precision: 0.2619 Recall: 0.2497 F1: 0.2557\n",
     "output_type": "stream"
    },
    {
     "name": "stderr",
     "text": "[Epoch 100/100] Training: 100%|██████████| 118/118 [05:44<00:00,  2.92s/it]\n[Epoch 100/100] Validation: 100%|██████████| 15/15 [00:09<00:00,  1.51it/s]\n",
     "output_type": "stream"
    },
    {
     "name": "stdout",
     "text": "Epoch [100/100] Train Loss: 0.0791 Val Loss: 0.1164 AUC PR: 0.1729 Precision: 0.2687 Recall: 0.2275 F1: 0.2464\n\nFinal Model Performance:\nAUC PR: 0.1729\nPrecision: 0.2687\nRecall: 0.2275\nF1 Score: 0.2464\n",
     "output_type": "stream"
    }
   ],
   "execution_count": 26
  },
  {
   "cell_type": "code",
   "source": "results_df.to_csv(\"batch_size_128_results.csv\", index=False)",
   "metadata": {
    "trusted": true,
    "execution": {
     "iopub.status.busy": "2025-04-23T02:06:10.446468Z",
     "iopub.execute_input": "2025-04-23T02:06:10.447688Z",
     "iopub.status.idle": "2025-04-23T02:06:10.455142Z",
     "shell.execute_reply.started": "2025-04-23T02:06:10.447641Z",
     "shell.execute_reply": "2025-04-23T02:06:10.454083Z"
    }
   },
   "outputs": [],
   "execution_count": 28
  },
  {
   "cell_type": "code",
   "source": "def plot_training_history(history):\n    epochs = range(1, len(history['train_loss']) + 1)\n\n    # Plot loss\n    plt.figure(figsize=(12, 5))\n\n    plt.subplot(1, 2, 1)\n    plt.plot(epochs, history['train_loss'], label='Train Loss')\n    plt.plot(epochs, history['val_loss'], label='Validation Loss')\n    plt.title('Loss Over Epochs')\n    plt.xlabel('Epoch')\n    plt.ylabel('Loss')\n    plt.legend()\n\n    # Plot metrics\n    plt.subplot(1, 2, 2)\n    plt.plot(epochs, history['val_auc_pr'], label='AUC PR')\n    plt.plot(epochs, history['val_precision'], label='Precision')\n    plt.plot(epochs, history['val_recall'], label='Recall')\n    plt.plot(epochs, history['val_f1_score'], label='F1 Score')\n    plt.title('Validation Metrics Over Epochs')\n    plt.xlabel('Epoch')\n    plt.ylabel('Score')\n    plt.legend()\n\n    plt.tight_layout()\n    plt.show()",
   "metadata": {
    "trusted": true,
    "execution": {
     "iopub.status.busy": "2025-04-23T02:13:35.514093Z",
     "iopub.execute_input": "2025-04-23T02:13:35.514463Z",
     "iopub.status.idle": "2025-04-23T02:13:35.522180Z",
     "shell.execute_reply.started": "2025-04-23T02:13:35.514398Z",
     "shell.execute_reply": "2025-04-23T02:13:35.521169Z"
    }
   },
   "outputs": [],
   "execution_count": 35
  },
  {
   "cell_type": "code",
   "source": "plot_training_history(histories_128[128])",
   "metadata": {
    "trusted": true,
    "execution": {
     "iopub.status.busy": "2025-04-23T02:13:35.854891Z",
     "iopub.execute_input": "2025-04-23T02:13:35.855217Z",
     "iopub.status.idle": "2025-04-23T02:13:36.313305Z",
     "shell.execute_reply.started": "2025-04-23T02:13:35.855193Z",
     "shell.execute_reply": "2025-04-23T02:13:36.312301Z"
    }
   },
   "outputs": [
    {
     "output_type": "display_data",
     "data": {
      "text/plain": "<Figure size 1200x500 with 2 Axes>",
      "image/png": "[encoded data removed]"
     },
     "metadata": {}
    }
   ],
   "execution_count": 36
  },
  {
   "cell_type": "code",
   "source": "import os\nos.makedirs(\"saved_models\", exist_ok=True)",
   "metadata": {
    "trusted": true,
    "execution": {
     "iopub.status.busy": "2025-04-23T02:15:11.271281Z",
     "iopub.execute_input": "2025-04-23T02:15:11.272184Z",
     "iopub.status.idle": "2025-04-23T02:15:11.276588Z",
     "shell.execute_reply.started": "2025-04-23T02:15:11.272153Z",
     "shell.execute_reply": "2025-04-23T02:15:11.275526Z"
    }
   },
   "outputs": [],
   "execution_count": 38
  },
  {
   "cell_type": "code",
   "source": "\nmodel_path = f\"saved_models/autoencoder_bs{batch}.pt\"\ntorch.save(model_trained.state_dict(), model_path)\nprint(f\"✅ Model saved at: {model_path}\")",
   "metadata": {
    "trusted": true,
    "execution": {
     "iopub.status.busy": "2025-04-23T02:15:26.687498Z",
     "iopub.execute_input": "2025-04-23T02:15:26.688355Z",
     "iopub.status.idle": "2025-04-23T02:15:26.705728Z",
     "shell.execute_reply.started": "2025-04-23T02:15:26.688321Z",
     "shell.execute_reply": "2025-04-23T02:15:26.704698Z"
    }
   },
   "outputs": [
    {
     "name": "stdout",
     "text": "✅ Model saved at: saved_models/autoencoder_bs128.pt\n",
     "output_type": "stream"
    }
   ],
   "execution_count": 39
  },
  {
   "cell_type": "code",
   "source": "import json\nhistory_path = f\"saved_models/history_bs{batch}.json\"\nwith open(history_path, 'w') as f:\n    json.dump(history, f)\nprint(f\"✅ History saved at: {history_path}\")",
   "metadata": {
    "trusted": true,
    "execution": {
     "iopub.status.busy": "2025-04-23T02:17:25.431221Z",
     "iopub.execute_input": "2025-04-23T02:17:25.431585Z",
     "iopub.status.idle": "2025-04-23T02:17:25.439546Z",
     "shell.execute_reply.started": "2025-04-23T02:17:25.431559Z",
     "shell.execute_reply": "2025-04-23T02:17:25.438551Z"
    }
   },
   "outputs": [
    {
     "name": "stdout",
     "text": "✅ History saved at: saved_models/history_bs128.json\n",
     "output_type": "stream"
    }
   ],
   "execution_count": 41
  },
  {
   "cell_type": "markdown",
   "source": "### Deriving results for batch size 64",
   "metadata": {}
  },
  {
   "cell_type": "code",
   "source": "log_text = \"\"\"\n🔁 Training with batch size: 64\n[Epoch 1/100] Training: 100%|██████████| 235/235 [02:47<00:00,  1.40it/s]\n[Epoch 1/100] Validation: 100%|██████████| 30/30 [00:06<00:00,  4.88it/s]\nNew best model with AUC PR: 0.0200\nEpoch [1/100] Train Loss: 0.3827 Val Loss: 0.1957 AUC PR: 0.0200 Precision: 0.0000 Recall: 0.0000 F1: 0.0000\n[Epoch 2/100] Training: 100%|██████████| 235/235 [02:43<00:00,  1.44it/s]\n[Epoch 2/100] Validation: 100%|██████████| 30/30 [00:06<00:00,  4.87it/s]\nNew best model with AUC PR: 0.0795\nEpoch [2/100] Train Loss: 0.1554 Val Loss: 0.1501 AUC PR: 0.0795 Precision: 0.0990 Recall: 0.0022 F1: 0.0043\n[Epoch 3/100] Training: 100%|██████████| 235/235 [02:50<00:00,  1.38it/s]\n[Epoch 3/100] Validation: 100%|██████████| 30/30 [00:06<00:00,  4.60it/s]\nNew best model with AUC PR: 0.1418\nEpoch [3/100] Train Loss: 0.1154 Val Loss: 0.1278 AUC PR: 0.1418 Precision: 0.2367 Recall: 0.2453 F1: 0.2410\n[Epoch 4/100] Training: 100%|██████████| 235/235 [02:44<00:00,  1.42it/s]\n[Epoch 4/100] Validation: 100%|██████████| 30/30 [00:06<00:00,  4.85it/s]\nNew best model with AUC PR: 0.1461\nEpoch [4/100] Train Loss: 0.0989 Val Loss: 0.1262 AUC PR: 0.1461 Precision: 0.2454 Recall: 0.2246 F1: 0.2345\n[Epoch 5/100] Training: 100%|██████████| 235/235 [02:46<00:00,  1.41it/s]\n[Epoch 5/100] Validation: 100%|██████████| 30/30 [00:06<00:00,  4.77it/s]\nNew best model with AUC PR: 0.1540\nEpoch [5/100] Train Loss: 0.0945 Val Loss: 0.1255 AUC PR: 0.1540 Precision: 0.2475 Recall: 0.2356 F1: 0.2414\n[Epoch 6/100] Training: 100%|██████████| 235/235 [02:50<00:00,  1.38it/s]\n[Epoch 6/100] Validation: 100%|██████████| 30/30 [00:06<00:00,  4.82it/s]\nEpoch [6/100] Train Loss: 0.0923 Val Loss: 0.1266 AUC PR: 0.1524 Precision: 0.2493 Recall: 0.2272 F1: 0.2377\n[Epoch 7/100] Training: 100%|██████████| 235/235 [02:46<00:00,  1.41it/s]\n[Epoch 7/100] Validation: 100%|██████████| 30/30 [00:06<00:00,  4.86it/s]\nNew best model with AUC PR: 0.1569\nEpoch [7/100] Train Loss: 0.0912 Val Loss: 0.1251 AUC PR: 0.1569 Precision: 0.2574 Recall: 0.1949 F1: 0.2219\n[Epoch 8/100] Training: 100%|██████████| 235/235 [02:45<00:00,  1.42it/s]\n[Epoch 8/100] Validation: 100%|██████████| 30/30 [00:06<00:00,  4.84it/s]\nEpoch [8/100] Train Loss: 0.0898 Val Loss: 0.1255 AUC PR: 0.1567 Precision: 0.2543 Recall: 0.2129 F1: 0.2318\n[Epoch 9/100] Training: 100%|██████████| 235/235 [02:45<00:00,  1.42it/s]\n[Epoch 9/100] Validation: 100%|██████████| 30/30 [00:06<00:00,  4.91it/s]\nEpoch [9/100] Train Loss: 0.0892 Val Loss: 0.1237 AUC PR: 0.1567 Precision: 0.2509 Recall: 0.2317 F1: 0.2409\n[Epoch 10/100] Training: 100%|██████████| 235/235 [02:45<00:00,  1.42it/s]\n[Epoch 10/100] Validation: 100%|██████████| 30/30 [00:06<00:00,  4.39it/s]\nNew best model with AUC PR: 0.1573\nEpoch [10/100] Train Loss: 0.0885 Val Loss: 0.1246 AUC PR: 0.1573 Precision: 0.2552 Recall: 0.2068 F1: 0.2285\n[Epoch 11/100] Training: 100%|██████████| 235/235 [02:49<00:00,  1.39it/s]\n[Epoch 11/100] Validation: 100%|██████████| 30/30 [00:06<00:00,  4.78it/s]\nNew best model with AUC PR: 0.1577\nEpoch [11/100] Train Loss: 0.0882 Val Loss: 0.1222 AUC PR: 0.1577 Precision: 0.2583 Recall: 0.1959 F1: 0.2228\n[Epoch 12/100] Training: 100%|██████████| 235/235 [02:46<00:00,  1.41it/s]\n[Epoch 12/100] Validation: 100%|██████████| 30/30 [00:06<00:00,  4.83it/s]\nNew best model with AUC PR: 0.1592\nEpoch [12/100] Train Loss: 0.0873 Val Loss: 0.1247 AUC PR: 0.1592 Precision: 0.2628 Recall: 0.1601 F1: 0.1990\n[Epoch 13/100] Training: 100%|██████████| 235/235 [02:45<00:00,  1.42it/s]\n[Epoch 13/100] Validation: 100%|██████████| 30/30 [00:06<00:00,  4.84it/s]\nNew best model with AUC PR: 0.1592\nEpoch [13/100] Train Loss: 0.0873 Val Loss: 0.1223 AUC PR: 0.1592 Precision: 0.2561 Recall: 0.2193 F1: 0.2363\n[Epoch 14/100] Training: 100%|██████████| 235/235 [02:44<00:00,  1.43it/s]\n[Epoch 14/100] Validation: 100%|██████████| 30/30 [00:06<00:00,  4.88it/s]\nEpoch [14/100] Train Loss: 0.0869 Val Loss: 0.1234 AUC PR: 0.1585 Precision: 0.2532 Recall: 0.2367 F1: 0.2446\n[Epoch 15/100] Training: 100%|██████████| 235/235 [02:44<00:00,  1.43it/s]\n[Epoch 15/100] Validation: 100%|██████████| 30/30 [00:06<00:00,  4.83it/s]\nEpoch [15/100] Train Loss: 0.0866 Val Loss: 0.1229 AUC PR: 0.1579 Precision: 0.2564 Recall: 0.2215 F1: 0.2377\n[Epoch 16/100] Training: 100%|██████████| 235/235 [02:45<00:00,  1.42it/s]\n[Epoch 16/100] Validation: 100%|██████████| 30/30 [00:06<00:00,  4.89it/s]\nEpoch [16/100] Train Loss: 0.0862 Val Loss: 0.1220 AUC PR: 0.1588 Precision: 0.2586 Recall: 0.2106 F1: 0.2321\n[Epoch 17/100] Training: 100%|██████████| 235/235 [02:45<00:00,  1.42it/s]\n[Epoch 17/100] Validation: 100%|██████████| 30/30 [00:06<00:00,  4.79it/s]\nNew best model with AUC PR: 0.1603\nEpoch [17/100] Train Loss: 0.0859 Val Loss: 0.1211 AUC PR: 0.1603 Precision: 0.2632 Recall: 0.1643 F1: 0.2023\n[Epoch 18/100] Training: 100%|██████████| 235/235 [02:45<00:00,  1.42it/s]\n[Epoch 18/100] Validation: 100%|██████████| 30/30 [00:06<00:00,  4.91it/s]\nEpoch [18/100] Train Loss: 0.0856 Val Loss: 0.1213 AUC PR: 0.1596 Precision: 0.2613 Recall: 0.1906 F1: 0.2204\n[Epoch 19/100] Training: 100%|██████████| 235/235 [02:47<00:00,  1.40it/s]\n[Epoch 19/100] Validation: 100%|██████████| 30/30 [00:06<00:00,  4.40it/s]\nNew best model with AUC PR: 0.1607\nEpoch [19/100] Train Loss: 0.0854 Val Loss: 0.1214 AUC PR: 0.1607 Precision: 0.2613 Recall: 0.1976 F1: 0.2250\n[Epoch 20/100] Training: 100%|██████████| 235/235 [02:49<00:00,  1.39it/s]\n[Epoch 20/100] Validation: 100%|██████████| 30/30 [00:06<00:00,  4.66it/s]\nNew best model with AUC PR: 0.1612\nEpoch [20/100] Train Loss: 0.0852 Val Loss: 0.1211 AUC PR: 0.1612 Precision: 0.2593 Recall: 0.2219 F1: 0.2392\n[Epoch 21/100] Training: 100%|██████████| 235/235 [02:48<00:00,  1.40it/s]\n[Epoch 21/100] Validation: 100%|██████████| 30/30 [00:06<00:00,  4.72it/s]\nNew best model with AUC PR: 0.1623\nEpoch [21/100] Train Loss: 0.0846 Val Loss: 0.1201 AUC PR: 0.1623 Precision: 0.2596 Recall: 0.2239 F1: 0.2404\n[Epoch 22/100] Training: 100%|██████████| 235/235 [02:47<00:00,  1.40it/s]\n[Epoch 22/100] Validation: 100%|██████████| 30/30 [00:06<00:00,  4.74it/s]\nNew best model with AUC PR: 0.1627\nEpoch [22/100] Train Loss: 0.0850 Val Loss: 0.1206 AUC PR: 0.1627 Precision: 0.2584 Recall: 0.2320 F1: 0.2445\n[Epoch 23/100] Training: 100%|██████████| 235/235 [02:47<00:00,  1.40it/s]\n[Epoch 23/100] Validation: 100%|██████████| 30/30 [00:06<00:00,  4.75it/s]\nNew best model with AUC PR: 0.1639\nEpoch [23/100] Train Loss: 0.0848 Val Loss: 0.1203 AUC PR: 0.1639 Precision: 0.2670 Recall: 0.1584 F1: 0.1988\n[Epoch 24/100] Training: 100%|██████████| 235/235 [02:48<00:00,  1.40it/s]\n[Epoch 24/100] Validation: 100%|██████████| 30/30 [00:06<00:00,  4.82it/s]\nEpoch [24/100] Train Loss: 0.0841 Val Loss: 0.1192 AUC PR: 0.1636 Precision: 0.2591 Recall: 0.2286 F1: 0.2429\n[Epoch 25/100] Training: 100%|██████████| 235/235 [02:49<00:00,  1.38it/s]\n[Epoch 25/100] Validation: 100%|██████████| 30/30 [00:06<00:00,  4.36it/s]\nNew best model with AUC PR: 0.1642\nEpoch [25/100] Train Loss: 0.0842 Val Loss: 0.1199 AUC PR: 0.1642 Precision: 0.2577 Recall: 0.2407 F1: 0.2489\n[Epoch 26/100] Training: 100%|██████████| 235/235 [02:48<00:00,  1.39it/s]\n[Epoch 26/100] Validation: 100%|██████████| 30/30 [00:06<00:00,  4.72it/s]\nEpoch [26/100] Train Loss: 0.0837 Val Loss: 0.1208 AUC PR: 0.1636 Precision: 0.2575 Recall: 0.2381 F1: 0.2474\n[Epoch 27/100] Training: 100%|██████████| 235/235 [02:47<00:00,  1.40it/s]\n[Epoch 27/100] Validation: 100%|██████████| 30/30 [00:06<00:00,  4.74it/s]\nNew best model with AUC PR: 0.1662\nEpoch [27/100] Train Loss: 0.0837 Val Loss: 0.1189 AUC PR: 0.1662 Precision: 0.2665 Recall: 0.1926 F1: 0.2236\n[Epoch 28/100] Training: 100%|██████████| 235/235 [02:45<00:00,  1.42it/s]\n[Epoch 28/100] Validation: 100%|██████████| 30/30 [00:06<00:00,  4.78it/s]\nEpoch [28/100] Train Loss: 0.0836 Val Loss: 0.1187 AUC PR: 0.1659 Precision: 0.2575 Recall: 0.2497 F1: 0.2535\n[Epoch 29/100] Training: 100%|██████████| 235/235 [02:50<00:00,  1.38it/s]\n[Epoch 29/100] Validation: 100%|██████████| 30/30 [00:06<00:00,  4.80it/s]\nEpoch [29/100] Train Loss: 0.0833 Val Loss: 0.1191 AUC PR: 0.1660 Precision: 0.2620 Recall: 0.2271 F1: 0.2433\n[Epoch 30/100] Training: 100%|██████████| 235/235 [02:47<00:00,  1.40it/s]\n[Epoch 30/100] Validation: 100%|██████████| 30/30 [00:06<00:00,  4.40it/s]\nNew best model with AUC PR: 0.1673\nEpoch [30/100] Train Loss: 0.0830 Val Loss: 0.1191 AUC PR: 0.1673 Precision: 0.2611 Recall: 0.2312 F1: 0.2452\n[Epoch 31/100] Training: 100%|██████████| 235/235 [02:45<00:00,  1.42it/s]\n[Epoch 31/100] Validation: 100%|██████████| 30/30 [00:06<00:00,  4.55it/s]\nNew best model with AUC PR: 0.1674\nEpoch [31/100] Train Loss: 0.0831 Val Loss: 0.1183 AUC PR: 0.1674 Precision: 0.2635 Recall: 0.2237 F1: 0.2419\n[Epoch 32/100] Training: 100%|██████████| 235/235 [02:48<00:00,  1.40it/s]\n[Epoch 32/100] Validation: 100%|██████████| 30/30 [00:06<00:00,  4.75it/s]\nNew best model with AUC PR: 0.1689\nEpoch [32/100] Train Loss: 0.0828 Val Loss: 0.1178 AUC PR: 0.1689 Precision: 0.2652 Recall: 0.2236 F1: 0.2426\n[Epoch 33/100] Training: 100%|██████████| 235/235 [02:46<00:00,  1.42it/s]\n[Epoch 33/100] Validation: 100%|██████████| 30/30 [00:06<00:00,  4.85it/s]\nEpoch [33/100] Train Loss: 0.0825 Val Loss: 0.1187 AUC PR: 0.1669 Precision: 0.2602 Recall: 0.2364 F1: 0.2478\n[Epoch 34/100] Training: 100%|██████████| 235/235 [02:47<00:00,  1.40it/s]\n[Epoch 34/100] Validation: 100%|██████████| 30/30 [00:06<00:00,  4.79it/s]\nNew best model with AUC PR: 0.1696\nEpoch [34/100] Train Loss: 0.0827 Val Loss: 0.1174 AUC PR: 0.1696 Precision: 0.2641 Recall: 0.2300 F1: 0.2459\n[Epoch 35/100] Training: 100%|██████████| 235/235 [02:46<00:00,  1.41it/s]\n[Epoch 35/100] Validation: 100%|██████████| 30/30 [00:06<00:00,  4.75it/s]\nNew best model with AUC PR: 0.1702\nEpoch [35/100] Train Loss: 0.0824 Val Loss: 0.1182 AUC PR: 0.1702 Precision: 0.2709 Recall: 0.1941 F1: 0.2262\n[Epoch 36/100] Training: 100%|██████████| 235/235 [02:47<00:00,  1.40it/s]\n[Epoch 36/100] Validation: 100%|██████████| 30/30 [00:06<00:00,  4.77it/s]\nEpoch [36/100] Train Loss: 0.0824 Val Loss: 0.1181 AUC PR: 0.1700 Precision: 0.2653 Recall: 0.2315 F1: 0.2472\n[Epoch 37/100] Training: 100%|██████████| 235/235 [02:46<00:00,  1.41it/s]\n[Epoch 37/100] Validation: 100%|██████████| 30/30 [00:06<00:00,  4.47it/s]\nEpoch [37/100] Train Loss: 0.0819 Val Loss: 0.1181 AUC PR: 0.1685 Precision: 0.2602 Recall: 0.2489 F1: 0.2544\n[Epoch 39/100] Training: 100%|██████████| 235/235 [02:44<00:00,  1.42it/s]\n[Epoch 39/100] Validation: 100%|██████████| 30/30 [00:06<00:00,  4.43it/s]\nEpoch [39/100] Train Loss: 0.0818 Val Loss: 0.1166 AUC PR: 0.1714 Precision: 0.2604 Recall: 0.2527 F1: 0.2565\n[Epoch 40/100] Training: 100%|██████████| 235/235 [02:44<00:00,  1.43it/s]\n[Epoch 40/100] Validation: 100%|██████████| 30/30 [00:06<00:00,  4.86it/s]\nEpoch [40/100] Train Loss: 0.0816 Val Loss: 0.1167 AUC PR: 0.1723 Precision: 0.2636 Recall: 0.2430 F1: 0.2529\n[Epoch 41/100] Training: 100%|██████████| 235/235 [02:45<00:00,  1.42it/s]\n[Epoch 41/100] Validation: 100%|██████████| 30/30 [00:06<00:00,  4.87it/s]\nNew best model with AUC PR: 0.1725\nEpoch [41/100] Train Loss: 0.0815 Val Loss: 0.1175 AUC PR: 0.1725 Precision: 0.2654 Recall: 0.2337 F1: 0.2486\n[Epoch 42/100] Training: 100%|██████████| 235/235 [02:44<00:00,  1.43it/s]\n[Epoch 42/100] Validation: 100%|██████████| 30/30 [00:06<00:00,  4.89it/s]\nNew best model with AUC PR: 0.1730\nEpoch [42/100] Train Loss: 0.0815 Val Loss: 0.1157 AUC PR: 0.1730 Precision: 0.2705 Recall: 0.2192 F1: 0.2422\n[Epoch 43/100] Training: 100%|██████████| 235/235 [02:44<00:00,  1.43it/s]\n[Epoch 43/100] Validation: 100%|██████████| 30/30 [00:06<00:00,  4.83it/s]\nNew best model with AUC PR: 0.1736\nEpoch [43/100] Train Loss: 0.0815 Val Loss: 0.1157 AUC PR: 0.1736 Precision: 0.2678 Recall: 0.2271 F1: 0.2458\n[Epoch 44/100] Training: 100%|██████████| 235/235 [02:44<00:00,  1.42it/s]\n[Epoch 44/100] Validation: 100%|██████████| 30/30 [00:06<00:00,  4.83it/s]\nNew best model with AUC PR: 0.1742\nEpoch [44/100] Train Loss: 0.0813 Val Loss: 0.1175 AUC PR: 0.1742 Precision: 0.2766 Recall: 0.2000 F1: 0.2322\n[Epoch 45/100] Training: 100%|██████████| 235/235 [02:43<00:00,  1.44it/s]\n[Epoch 45/100] Validation: 100%|██████████| 30/30 [00:06<00:00,  4.91it/s]\nNew best model with AUC PR: 0.1754\nEpoch [45/100] Train Loss: 0.0810 Val Loss: 0.1161 AUC PR: 0.1754 Precision: 0.2677 Recall: 0.2371 F1: 0.2515\n[Epoch 47/100] Training: 100%|██████████| 235/235 [02:44<00:00,  1.43it/s]\n[Epoch 47/100] Validation: 100%|██████████| 30/30 [00:06<00:00,  4.87it/s]\nEpoch [47/100] Train Loss: 0.0808 Val Loss: 0.1163 AUC PR: 0.1750 Precision: 0.2671 Recall: 0.2433 F1: 0.2547\n[Epoch 48/100] Training: 100%|██████████| 235/235 [02:44<00:00,  1.43it/s]\n[Epoch 48/100] Validation: 100%|██████████| 30/30 [00:06<00:00,  4.88it/s]\nEpoch [48/100] Train Loss: 0.0806 Val Loss: 0.1166 AUC PR: 0.1761 Precision: 0.2660 Recall: 0.2481 F1: 0.2568\n[Epoch 49/100] Training: 100%|██████████| 235/235 [02:43<00:00,  1.44it/s]\n[Epoch 49/100] Validation: 100%|██████████| 30/30 [00:06<00:00,  4.86it/s]\nNew best model with AUC PR: 0.1771\nEpoch [49/100] Train Loss: 0.0805 Val Loss: 0.1161 AUC PR: 0.1771 Precision: 0.2756 Recall: 0.2183 F1: 0.2436\n[Epoch 50/100] Training: 100%|██████████| 235/235 [02:45<00:00,  1.42it/s]\n[Epoch 50/100] Validation: 100%|██████████| 30/30 [00:06<00:00,  4.87it/s]\nNew best model with AUC PR: 0.1771\nEpoch [50/100] Train Loss: 0.0807 Val Loss: 0.1159 AUC PR: 0.1771 Precision: 0.2652 Recall: 0.2530 F1: 0.2590\n[Epoch 51/100] Training: 100%|██████████| 235/235 [02:45<00:00,  1.42it/s]\n[Epoch 51/100] Validation: 100%|██████████| 30/30 [00:06<00:00,  4.88it/s]\nNew best model with AUC PR: 0.1790\nEpoch [51/100] Train Loss: 0.0801 Val Loss: 0.1161 AUC PR: 0.1790 Precision: 0.2752 Recall: 0.2255 F1: 0.2479\n[Epoch 53/100] Training: 100%|██████████| 235/235 [02:44<00:00,  1.43it/s]\n[Epoch 53/100] Validation: 100%|██████████| 30/30 [00:06<00:00,  4.85it/s]\nEpoch [53/100] Train Loss: 0.0802 Val Loss: 0.1163 AUC PR: 0.1776 Precision: 0.2683 Recall: 0.2456 F1: 0.2565\n[Epoch 54/100] Training:  56%|█████▌    | 131/235 [01:32<01:11,  1.46it/s]\nNew best model with AUC PR: 0.1795\nEpoch [54/100] Train Loss: 0.0802 Val Loss: 0.1157 AUC PR: 0.1795 Precision: 0.2705 Recall: 0.2453 F1: 0.2573\n[Epoch 55/100] Training: 100%|██████████| 235/235 [02:45<00:00,  1.42it/s]\n[Epoch 55/100] Validation: 100%|██████████| 30/30 [00:06<00:00,  4.41it/s]\nNew best model with AUC PR: 0.1804\nEpoch [55/100] Train Loss: 0.0799 Val Loss: 0.1153 AUC PR: 0.1804 Precision: 0.2704 Recall: 0.2490 F1: 0.2592\n[Epoch 56/100] Training: 100%|██████████| 235/235 [02:44<00:00,  1.43it/s]\n[Epoch 56/100] Validation: 100%|██████████| 30/30 [00:06<00:00,  4.47it/s]\nEpoch [56/100] Train Loss: 0.0801 Val Loss: 0.1168 AUC PR: 0.1796 Precision: 0.2721 Recall: 0.2390 F1: 0.2545\n[Epoch 57/100] Training: 100%|██████████| 235/235 [02:46<00:00,  1.41it/s]\n[Epoch 57/100] Validation: 100%|██████████| 30/30 [00:06<00:00,  4.78it/s]\nNew best model with AUC PR: 0.1807\nEpoch [57/100] Train Loss: 0.0798 Val Loss: 0.1153 AUC PR: 0.1807 Precision: 0.2653 Recall: 0.2619 F1: 0.2636\n[Epoch 58/100] Training: 100%|██████████| 235/235 [02:45<00:00,  1.42it/s]\n[Epoch 58/100] Validation: 100%|██████████| 30/30 [00:06<00:00,  4.92it/s]\nEpoch [58/100] Train Loss: 0.0797 Val Loss: 0.1147 AUC PR: 0.1804 Precision: 0.2715 Recall: 0.2473 F1: 0.2588\n[Epoch 59/100] Training: 100%|██████████| 235/235 [02:44<00:00,  1.43it/s]\n[Epoch 59/100] Validation: 100%|██████████| 30/30 [00:06<00:00,  4.89it/s]\nEpoch [59/100] Train Loss: 0.0794 Val Loss: 0.1151 AUC PR: 0.1798 Precision: 0.2694 Recall: 0.2522 F1: 0.2605\n[Epoch 61/100] Training: 100%|██████████| 235/235 [02:45<00:00,  1.42it/s]\n[Epoch 61/100] Validation: 100%|██████████| 30/30 [00:06<00:00,  4.91it/s]\nNew best model with AUC PR: 0.1811\nEpoch [61/100] Train Loss: 0.0796 Val Loss: 0.1173 AUC PR: 0.1811 Precision: 0.2723 Recall: 0.2496 F1: 0.2604\n[Epoch 62/100] Training:  52%|█████▏    | 122/235 [01:25<01:17,  1.45it/s]\nNew best model with AUC PR: 0.1812\nEpoch [62/100] Train Loss: 0.0795 Val Loss: 0.1162 AUC PR: 0.1812 Precision: 0.2758 Recall: 0.2380 F1: 0.2555\n[Epoch 63/100] Training: 100%|██████████| 235/235 [02:44<00:00,  1.43it/s]\n[Epoch 63/100] Validation: 100%|██████████| 30/30 [00:06<00:00,  4.86it/s]\nNew best model with AUC PR: 0.1823\nEpoch [63/100] Train Loss: 0.0794 Val Loss: 0.1160 AUC PR: 0.1823 Precision: 0.2814 Recall: 0.2309 F1: 0.2536\n[Epoch 64/100] Training: 100%|██████████| 235/235 [02:44<00:00,  1.43it/s]\n[Epoch 64/100] Validation: 100%|██████████| 30/30 [00:06<00:00,  4.84it/s]\nEpoch [64/100] Train Loss: 0.0792 Val Loss: 0.1141 AUC PR: 0.1821 Precision: 0.2629 Recall: 0.2776 F1: 0.2701\n[Epoch 65/100] Training: 100%|██████████| 235/235 [02:46<00:00,  1.41it/s]\n[Epoch 65/100] Validation: 100%|██████████| 30/30 [00:06<00:00,  4.84it/s]\nNew best model with AUC PR: 0.1826\nEpoch [65/100] Train Loss: 0.0793 Val Loss: 0.1156 AUC PR: 0.1826 Precision: 0.2703 Recall: 0.2604 F1: 0.2653\n[Epoch 66/100] Training: 100%|██████████| 235/235 [02:45<00:00,  1.42it/s]\n[Epoch 66/100] Validation: 100%|██████████| 30/30 [00:06<00:00,  4.83it/s]\nEpoch [66/100] Train Loss: 0.0791 Val Loss: 0.1154 AUC PR: 0.1825 Precision: 0.2710 Recall: 0.2575 F1: 0.2641\n[Epoch 67/100] Training: 100%|██████████| 235/235 [02:44<00:00,  1.43it/s]\n[Epoch 67/100] Validation: 100%|██████████| 30/30 [00:06<00:00,  4.95it/s]\nNew best model with AUC PR: 0.1844\nEpoch [67/100] Train Loss: 0.0790 Val Loss: 0.1157 AUC PR: 0.1844 Precision: 0.2805 Recall: 0.2339 F1: 0.2551\n[Epoch 69/100] Training: 100%|██████████| 235/235 [02:45<00:00,  1.42it/s]\n[Epoch 69/100] Validation: 100%|██████████| 30/30 [00:06<00:00,  4.43it/s]\nEpoch [69/100] Train Loss: 0.0790 Val Loss: 0.1146 AUC PR: 0.1826 Precision: 0.2763 Recall: 0.2451 F1: 0.2598\n[Epoch 70/100] Training: 100%|██████████| 235/235 [02:44<00:00,  1.43it/s]\n[Epoch 70/100] Validation: 100%|██████████| 30/30 [00:06<00:00,  4.46it/s]\nEpoch [70/100] Train Loss: 0.0785 Val Loss: 0.1149 AUC PR: 0.1836 Precision: 0.2720 Recall: 0.2616 F1: 0.2667\n[Epoch 71/100] Training: 100%|██████████| 235/235 [02:43<00:00,  1.44it/s]\n[Epoch 71/100] Validation: 100%|██████████| 30/30 [00:06<00:00,  4.56it/s]\nEpoch [71/100] Train Loss: 0.0786 Val Loss: 0.1151 AUC PR: 0.1834 Precision: 0.2719 Recall: 0.2571 F1: 0.2643\n[Epoch 72/100] Training: 100%|██████████| 235/235 [02:42<00:00,  1.44it/s]\n[Epoch 72/100] Validation: 100%|██████████| 30/30 [00:06<00:00,  4.49it/s]\nNew best model with AUC PR: 0.1856\nEpoch [72/100] Train Loss: 0.0788 Val Loss: 0.1153 AUC PR: 0.1856 Precision: 0.2812 Recall: 0.2411 F1: 0.2596\n[Epoch 73/100] Training: 100%|██████████| 235/235 [02:42<00:00,  1.45it/s]\n[Epoch 73/100] Validation: 100%|██████████| 30/30 [00:06<00:00,  4.47it/s]\nEpoch [73/100] Train Loss: 0.0786 Val Loss: 0.1142 AUC PR: 0.1853 Precision: 0.2722 Recall: 0.2616 F1: 0.2668\n[Epoch 74/100] Training: 100%|██████████| 235/235 [02:43<00:00,  1.44it/s]\n[Epoch 74/100] Validation: 100%|██████████| 30/30 [00:06<00:00,  4.53it/s]\nEpoch [74/100] Train Loss: 0.0784 Val Loss: 0.1165 AUC PR: 0.1839 Precision: 0.2655 Recall: 0.2738 F1: 0.2696\n[Epoch 76/100] Training: 100%|██████████| 235/235 [02:43<00:00,  1.44it/s]\n[Epoch 76/100] Validation: 100%|██████████| 30/30 [00:06<00:00,  4.50it/s]\nNew best model with AUC PR: 0.1872\nEpoch [76/100] Train Loss: 0.0783 Val Loss: 0.1143 AUC PR: 0.1872 Precision: 0.2790 Recall: 0.2512 F1: 0.2644\n[Epoch 77/100] Training:  52%|█████▏    | 122/235 [01:25<01:15,  1.49it/s]\nEpoch [77/100] Train Loss: 0.0780 Val Loss: 0.1145 AUC PR: 0.1860 Precision: 0.2752 Recall: 0.2557 F1: 0.2651\n[Epoch 78/100] Training: 100%|██████████| 235/235 [02:45<00:00,  1.42it/s]\n[Epoch 78/100] Validation: 100%|██████████| 30/30 [00:06<00:00,  4.80it/s]\nEpoch [78/100] Train Loss: 0.0782 Val Loss: 0.1151 AUC PR: 0.1859 Precision: 0.2830 Recall: 0.2354 F1: 0.2570\n[Epoch 79/100] Training: 100%|██████████| 235/235 [02:46<00:00,  1.41it/s]\n[Epoch 79/100] Validation: 100%|██████████| 30/30 [00:06<00:00,  4.85it/s]\nEpoch [79/100] Train Loss: 0.0781 Val Loss: 0.1159 AUC PR: 0.1864 Precision: 0.2709 Recall: 0.2713 F1: 0.2711\n[Epoch 81/100] Training: 100%|██████████| 235/235 [02:44<00:00,  1.43it/s]\n[Epoch 81/100] Validation: 100%|██████████| 30/30 [00:06<00:00,  4.85it/s]\nNew best model with AUC PR: 0.1874\nEpoch [81/100] Train Loss: 0.0782 Val Loss: 0.1156 AUC PR: 0.1874 Precision: 0.2834 Recall: 0.2427 F1: 0.2615\n[Epoch 82/100] Training: 100%|██████████| 235/235 [02:43<00:00,  1.44it/s]\n[Epoch 82/100] Validation: 100%|██████████| 30/30 [00:06<00:00,  4.90it/s]\nEpoch [82/100] Train Loss: 0.0780 Val Loss: 0.1145 AUC PR: 0.1864 Precision: 0.2770 Recall: 0.2544 F1: 0.2652\n[Epoch 83/100] Training: 100%|██████████| 235/235 [02:44<00:00,  1.43it/s]\n[Epoch 83/100] Validation: 100%|██████████| 30/30 [00:06<00:00,  4.83it/s]\nEpoch [83/100] Train Loss: 0.0778 Val Loss: 0.1158 AUC PR: 0.1845 Precision: 0.2674 Recall: 0.2768 F1: 0.2720\n[Epoch 84/100] Training: 100%|██████████| 235/235 [02:43<00:00,  1.44it/s]\n[Epoch 84/100] Validation: 100%|██████████| 30/30 [00:06<00:00,  4.89it/s]\nEpoch [84/100] Train Loss: 0.0777 Val Loss: 0.1153 AUC PR: 0.1865 Precision: 0.2738 Recall: 0.2671 F1: 0.2704\n[Epoch 85/100] Training: 100%|██████████| 235/235 [02:43<00:00,  1.44it/s]\n[Epoch 85/100] Validation: 100%|██████████| 30/30 [00:06<00:00,  4.91it/s]\nEpoch [85/100] Train Loss: 0.0780 Val Loss: 0.1159 AUC PR: 0.1858 Precision: 0.2628 Recall: 0.2884 F1: 0.2750\n[Epoch 86/100] Training: 100%|██████████| 235/235 [02:44<00:00,  1.43it/s]\n[Epoch 87/100] Training: 100%|██████████| 235/235 [02:44<00:00,  1.43it/s]\n[Epoch 87/100] Validation: 100%|██████████| 30/30 [00:06<00:00,  4.90it/s]\nEpoch [87/100] Train Loss: 0.0775 Val Loss: 0.1156 AUC PR: 0.1863 Precision: 0.2694 Recall: 0.2740 F1: 0.2717\n[Epoch 88/100] Training:  58%|█████▊    | 136/235 [01:35<01:08,  1.44it/s]\nEpoch [88/100] Train Loss: 0.0776 Val Loss: 0.1157 AUC PR: 0.1861 Precision: 0.2728 Recall: 0.2649 F1: 0.2688\n[Epoch 89/100] Training: 100%|██████████| 235/235 [02:43<00:00,  1.43it/s]\n[Epoch 89/100] Validation: 100%|██████████| 30/30 [00:06<00:00,  4.92it/s]\nNew best model with AUC PR: 0.1885\nEpoch [89/100] Train Loss: 0.0775 Val Loss: 0.1157 AUC PR: 0.1885 Precision: 0.2791 Recall: 0.2593 F1: 0.2688\n[Epoch 90/100] Training: 100%|██████████| 235/235 [02:43<00:00,  1.44it/s]\n[Epoch 90/100] Validation: 100%|██████████| 30/30 [00:06<00:00,  4.88it/s]\nEpoch [90/100] Train Loss: 0.0777 Val Loss: 0.1160 AUC PR: 0.1863 Precision: 0.2763 Recall: 0.2580 F1: 0.2668\n[Epoch 92/100] Training: 100%|██████████| 235/235 [02:43<00:00,  1.44it/s]\n[Epoch 92/100] Validation: 100%|██████████| 30/30 [00:06<00:00,  4.86it/s]\nEpoch [92/100] Train Loss: 0.0774 Val Loss: 0.1147 AUC PR: 0.1882 Precision: 0.2679 Recall: 0.2835 F1: 0.2755\n[Epoch 93/100] Training: 100%|██████████| 235/235 [02:44<00:00,  1.43it/s]\n[Epoch 93/100] Validation: 100%|██████████| 30/30 [00:06<00:00,  4.90it/s]\nEpoch [93/100] Train Loss: 0.0772 Val Loss: 0.1153 AUC PR: 0.1871 Precision: 0.2714 Recall: 0.2731 F1: 0.2723\n[Epoch 94/100] Training: 100%|██████████| 235/235 [02:44<00:00,  1.43it/s]\n[Epoch 94/100] Validation: 100%|██████████| 30/30 [00:06<00:00,  4.75it/s]\nEpoch [94/100] Train Loss: 0.0774 Val Loss: 0.1148 AUC PR: 0.1858 Precision: 0.2673 Recall: 0.2824 F1: 0.2747\n[Epoch 95/100] Training: 100%|██████████| 235/235 [02:46<00:00,  1.41it/s]\n[Epoch 95/100] Validation: 100%|██████████| 30/30 [00:06<00:00,  4.88it/s]\nEpoch [95/100] Train Loss: 0.0775 Val Loss: 0.1143 AUC PR: 0.1885 Precision: 0.2834 Recall: 0.2458 F1: 0.2632\n[Epoch 96/100] Training: 100%|██████████| 235/235 [02:45<00:00,  1.42it/s]\n[Epoch 96/100] Validation: 100%|██████████| 30/30 [00:06<00:00,  4.52it/s]\nEpoch [96/100] Train Loss: 0.0773 Val Loss: 0.1145 AUC PR: 0.1869 Precision: 0.2737 Recall: 0.2645 F1: 0.2690\n[Epoch 97/100] Training: 100%|██████████| 235/235 [02:44<00:00,  1.43it/s]\n[Epoch 97/100] Validation: 100%|██████████| 30/30 [00:06<00:00,  4.40it/s]\nEpoch [97/100] Train Loss: 0.0770 Val Loss: 0.1143 AUC PR: 0.1866 Precision: 0.2658 Recall: 0.2789 F1: 0.2722\n[Epoch 98/100] Training: 100%|██████████| 235/235 [02:46<00:00,  1.41it/s]\n[Epoch 98/100] Validation: 100%|██████████| 30/30 [00:06<00:00,  4.45it/s]\nEpoch [98/100] Train Loss: 0.0771 Val Loss: 0.1166 AUC PR: 0.1889 Precision: 0.2783 Recall: 0.2587 F1: 0.2681\n[Epoch 99/100] Training: 100%|██████████| 235/235 [02:49<00:00,  1.39it/s]\n[Epoch 99/100] Validation: 100%|██████████| 30/30 [00:06<00:00,  4.76it/s]\nEpoch [99/100] Train Loss: 0.0771 Val Loss: 0.1155 AUC PR: 0.1882 Precision: 0.2794 Recall: 0.2528 F1: 0.2654\n[Epoch 100/100] Training: 100%|██████████| 235/235 [02:44<00:00,  1.43it/s]\n[Epoch 100/100] Validation: 100%|██████████| 30/30 [00:06<00:00,  4.92it/s]\nEpoch [100/100] Train Loss: 0.0769 Val Loss: 0.1151 AUC PR: 0.1887 Precision: 0.2630 Recall: 0.2988 F1: 0.2798\n\nFinal Model Performance:\nAUC PR: 0.1887\nPrecision: 0.2630\nRecall: 0.2988\nF1 Score: 0.2798\n\"\"\"",
   "metadata": {
    "trusted": true,
    "execution": {
     "iopub.status.busy": "2025-04-23T02:27:33.579276Z",
     "iopub.execute_input": "2025-04-23T02:27:33.579654Z",
     "iopub.status.idle": "2025-04-23T02:27:33.599012Z",
     "shell.execute_reply.started": "2025-04-23T02:27:33.579631Z",
     "shell.execute_reply": "2025-04-23T02:27:33.597973Z"
    }
   },
   "outputs": [],
   "execution_count": 42
  },
  {
   "cell_type": "code",
   "source": "import re\n# Pattern to extract training metrics from each epoch\npattern = re.compile(\n    r\"Epoch \\[(\\d+)/100\\] Train Loss: ([\\d.]+) Val Loss: ([\\d.]+) \"\n    r\"AUC PR: ([\\d.]+) Precision: ([\\d.]+) Recall: ([\\d.]+) F1: ([\\d.]+)\"\n)\n\n# Extract matches\nmatches = pattern.findall(log_text)\n\n# Convert to DataFrame\nhistory_df = pd.DataFrame(matches, columns=[\n    \"Epoch\", \"Train Loss\", \"Val Loss\", \"AUC PR\", \"Precision\", \"Recall\", \"F1\"\n])\n\n# Convert numeric columns to proper types\nhistory_df = history_df.astype({\n    \"Epoch\": int,\n    \"Train Loss\": float,\n    \"Val Loss\": float,\n    \"AUC PR\": float,\n    \"Precision\": float,\n    \"Recall\": float,\n    \"F1\": float\n})\n\n# Sort by epoch\nhistory_df = history_df.sort_values(\"Epoch\").reset_index(drop=True)\n\n# Optional: Save to CSV\nhistory_df.to_csv(\"history_batch64.csv\", index=False)\n\n# Display\nhistory_df.head()",
   "metadata": {
    "trusted": true,
    "execution": {
     "iopub.status.busy": "2025-04-23T02:28:32.403880Z",
     "iopub.execute_input": "2025-04-23T02:28:32.404224Z",
     "iopub.status.idle": "2025-04-23T02:28:32.477198Z",
     "shell.execute_reply.started": "2025-04-23T02:28:32.404198Z",
     "shell.execute_reply": "2025-04-23T02:28:32.476337Z"
    }
   },
   "outputs": [
    {
     "execution_count": 43,
     "output_type": "execute_result",
     "data": {
      "text/plain": "   Epoch  Train Loss  Val Loss  AUC PR  Precision  Recall      F1\n0      1      0.3827    0.1957  0.0200     0.0000  0.0000  0.0000\n1      2      0.1554    0.1501  0.0795     0.0990  0.0022  0.0043\n2      3      0.1154    0.1278  0.1418     0.2367  0.2453  0.2410\n3      4      0.0989    0.1262  0.1461     0.2454  0.2246  0.2345\n4      5      0.0945    0.1255  0.1540     0.2475  0.2356  0.2414",
      "text/html": "<div>\n<style scoped>\n    .dataframe tbody tr th:only-of-type {\n        vertical-align: middle;\n    }\n\n    .dataframe tbody tr th {\n        vertical-align: top;\n    }\n\n    .dataframe thead th {\n        text-align: right;\n    }\n</style>\n<table border=\"1\" class=\"dataframe\">\n  <thead>\n    <tr style=\"text-align: right;\">\n      <th></th>\n      <th>Epoch</th>\n      <th>Train Loss</th>\n      <th>Val Loss</th>\n      <th>AUC PR</th>\n      <th>Precision</th>\n      <th>Recall</th>\n      <th>F1</th>\n    </tr>\n  </thead>\n  <tbody>\n    <tr>\n      <th>0</th>\n      <td>1</td>\n      <td>0.3827</td>\n      <td>0.1957</td>\n      <td>0.0200</td>\n      <td>0.0000</td>\n      <td>0.0000</td>\n      <td>0.0000</td>\n    </tr>\n    <tr>\n      <th>1</th>\n      <td>2</td>\n      <td>0.1554</td>\n      <td>0.1501</td>\n      <td>0.0795</td>\n      <td>0.0990</td>\n      <td>0.0022</td>\n      <td>0.0043</td>\n    </tr>\n    <tr>\n      <th>2</th>\n      <td>3</td>\n      <td>0.1154</td>\n      <td>0.1278</td>\n      <td>0.1418</td>\n      <td>0.2367</td>\n      <td>0.2453</td>\n      <td>0.2410</td>\n    </tr>\n    <tr>\n      <th>3</th>\n      <td>4</td>\n      <td>0.0989</td>\n      <td>0.1262</td>\n      <td>0.1461</td>\n      <td>0.2454</td>\n      <td>0.2246</td>\n      <td>0.2345</td>\n    </tr>\n    <tr>\n      <th>4</th>\n      <td>5</td>\n      <td>0.0945</td>\n      <td>0.1255</td>\n      <td>0.1540</td>\n      <td>0.2475</td>\n      <td>0.2356</td>\n      <td>0.2414</td>\n    </tr>\n  </tbody>\n</table>\n</div>"
     },
     "metadata": {}
    }
   ],
   "execution_count": 43
  },
  {
   "cell_type": "code",
   "source": "history_dict_64 = {\n    'train_loss': history_df['Train Loss'].tolist(),\n    'val_loss': history_df['Val Loss'].tolist(),\n    'val_auc_pr': history_df['AUC PR'].tolist(),\n    'val_precision': history_df['Precision'].tolist(),\n    'val_recall': history_df['Recall'].tolist(),\n    'val_f1_score': history_df['F1'].tolist()\n}\nplot_training_history(history_dict_64)",
   "metadata": {
    "trusted": true,
    "execution": {
     "iopub.status.busy": "2025-04-23T02:33:16.596659Z",
     "iopub.execute_input": "2025-04-23T02:33:16.597035Z",
     "iopub.status.idle": "2025-04-23T02:33:18.034023Z",
     "shell.execute_reply.started": "2025-04-23T02:33:16.597010Z",
     "shell.execute_reply": "2025-04-23T02:33:18.033138Z"
    }
   },
   "outputs": [
    {
     "output_type": "display_data",
     "data": {
      "text/plain": "<Figure size 1200x500 with 2 Axes>",
      "image/png": "[encoded data removed]"
     },
     "metadata": {}
    }
   ],
   "execution_count": 46
  },
  {
   "cell_type": "code",
   "source": "",
   "metadata": {
    "trusted": true
   },
   "outputs": [],
   "execution_count": null
  }
 ]
}
